{
 "cells": [
  {
   "cell_type": "code",
   "execution_count": 2,
   "id": "68a3afbe",
   "metadata": {},
   "outputs": [],
   "source": [
    "import pandas as pd\n",
    "import os\n",
    "import wrangle\n",
    "import matplotlib as plt\n",
    "import seaborn as sns\n",
    "import numpy as np\n",
    "from env import host, user, password\n",
    "from wrangle import wrangle_zillow\n",
    "import pandas as pd\n",
    "import env\n",
    "import numpy as np\n",
    "import matplotlib.pyplot as plt\n",
    "import seaborn as sns\n",
    "from sklearn.cluster import KMeans\n",
    "from sklearn.preprocessing import MinMaxScaler, RobustScaler\n",
    "from sklearn.model_selection import train_test_split\n",
    "import warnings\n",
    "warnings.filterwarnings('ignore')"
   ]
  },
  {
   "cell_type": "code",
   "execution_count": null,
   "id": "4b39b837",
   "metadata": {},
   "outputs": [],
   "source": [
    "def get_connection(db, username=user, host=host, password=password):\n",
    "    return f'mysql+pymysql://{username}:{password}@{host}/{db}'"
   ]
  },
  {
   "cell_type": "markdown",
   "id": "348b1d7c",
   "metadata": {},
   "source": [
    "## Aquiring the data"
   ]
  },
  {
   "cell_type": "code",
   "execution_count": null,
   "id": "b43c35a3",
   "metadata": {},
   "outputs": [],
   "source": [
    "sql = \"\"\"\n",
    "        SELECT prop.*,\n",
    "        predictions_2017.logerror,\n",
    "        predictions_2017.transactiondate,\n",
    "        air.airconditioningdesc,\n",
    "        arch.architecturalstyledesc,\n",
    "        build.buildingclassdesc,\n",
    "        heat.heatingorsystemdesc,\n",
    "        land.propertylandusedesc,\n",
    "        story.storydesc,\n",
    "        type.typeconstructiondesc\n",
    "        FROM properties_2017 prop\n",
    "        JOIN (\n",
    "            SELECT parcelid, MAX(transactiondate) AS max_transactiondate\n",
    "            FROM predictions_2017\n",
    "            GROUP BY parcelid\n",
    "            ) pred USING(parcelid)\n",
    "        JOIN predictions_2017 ON pred.parcelid = predictions_2017.parcelid\n",
    "                          AND pred.max_transactiondate = predictions_2017.transactiondate\n",
    "        LEFT JOIN airconditioningtype air USING(airconditioningtypeid)\n",
    "        LEFT JOIN architecturalstyletype arch USING(architecturalstyletypeid)\n",
    "        LEFT JOIN buildingclasstype build USING(buildingclasstypeid)\n",
    "        LEFT JOIN heatingorsystemtype heat USING(heatingorsystemtypeid)\n",
    "        LEFT JOIN propertylandusetype land USING(propertylandusetypeid)\n",
    "        LEFT JOIN storytype story USING(storytypeid)\n",
    "        LEFT JOIN typeconstructiontype type USING(typeconstructiontypeid)\n",
    "        WHERE propertylandusedesc = \"Single Family Residential\"\n",
    "            AND transactiondate <= '2017-12-31'\n",
    "            AND prop.longitude IS NOT NULL\n",
    "            AND prop.latitude IS NOT NULL\n",
    "    \"\"\"\n",
    "\n",
    "df = pd.read_sql(sql, get_connection(\"zillow\"));"
   ]
  },
  {
   "cell_type": "code",
   "execution_count": null,
   "id": "4af2e6b1",
   "metadata": {
    "scrolled": true
   },
   "outputs": [],
   "source": [
    "df.info()"
   ]
  },
  {
   "cell_type": "code",
   "execution_count": null,
   "id": "3580c9ee",
   "metadata": {},
   "outputs": [],
   "source": [
    "df.head()"
   ]
  },
  {
   "cell_type": "code",
   "execution_count": null,
   "id": "13f75c92",
   "metadata": {},
   "outputs": [],
   "source": [
    "pd.set_option('display.max_columns', None)\n",
    "\n",
    "df.head()"
   ]
  },
  {
   "cell_type": "code",
   "execution_count": null,
   "id": "04910286",
   "metadata": {},
   "outputs": [],
   "source": [
    "df.shape"
   ]
  },
  {
   "cell_type": "markdown",
   "id": "a07540e2",
   "metadata": {},
   "source": [
    "## Nulls of rows"
   ]
  },
  {
   "cell_type": "code",
   "execution_count": null,
   "id": "0681524b",
   "metadata": {},
   "outputs": [],
   "source": [
    "\n",
    "nulls_col = pd.DataFrame({'num_rows_missing': df.isnull().sum(), \n",
    "              'percent_rows_missing': (df.isnull().sum() / df.shape[0] * 100)})\n",
    "pd.set_option('display.max_columns', None)\n",
    "nulls_col.sort_values(by='num_rows_missing', ascending=False).head(10)"
   ]
  },
  {
   "cell_type": "code",
   "execution_count": null,
   "id": "8f000298",
   "metadata": {},
   "outputs": [],
   "source": [
    "def nulls_by_col(df):\n",
    "    num_missing = df.isnull().sum()\n",
    "    rows = df.shape[0]\n",
    "    prcnt_miss = num_missing / rows * 100\n",
    "    cols_missing = pd.DataFrame({'num_rows_missing': num_missing, 'percent_rows_missing': prcnt_miss})\n",
    "    return cols_missing.sort_values(by='num_rows_missing', ascending=True)\n"
   ]
  },
  {
   "cell_type": "code",
   "execution_count": null,
   "id": "b0f8155f",
   "metadata": {},
   "outputs": [],
   "source": [
    "Number of "
   ]
  },
  {
   "cell_type": "code",
   "execution_count": null,
   "id": "2932d7df",
   "metadata": {
    "scrolled": false
   },
   "outputs": [],
   "source": [
    "nulls_by_col(df)"
   ]
  },
  {
   "cell_type": "markdown",
   "id": "dc3fdfc4",
   "metadata": {},
   "source": [
    "## Nulls of collums "
   ]
  },
  {
   "cell_type": "code",
   "execution_count": null,
   "id": "fb08ce30",
   "metadata": {},
   "outputs": [],
   "source": [
    "nulls_row = pd.DataFrame({'num_cols_missing': df.isnull().sum(axis=1),\n",
    "              'percent_cols_missing': df.isnull().sum(axis=1)/df.shape[1]*100})\n",
    "\n",
    "nulls_row"
   ]
  },
  {
   "cell_type": "markdown",
   "id": "56c948ed",
   "metadata": {},
   "source": [
    "- honestly there is so much missing in my cluster excercizez imma keep it simple and just do what i did and keep 60% of the data "
   ]
  },
  {
   "cell_type": "code",
   "execution_count": null,
   "id": "eb4c5ffa",
   "metadata": {},
   "outputs": [],
   "source": [
    "def nulls_by_row(df):\n",
    "    num_missing = df.isnull().sum(axis=1)\n",
    "    prcnt_miss = num_missing / df.shape[1] * 100\n",
    "    rows_missing = pd.DataFrame({'num_cols_missing': num_missing, 'percent_cols_missing': prcnt_miss})\n",
    "    rows_missing = df.merge(rows_missing,\n",
    "                        left_index=True,\n",
    "                        right_index=True)[['parcelid', 'num_cols_missing', 'percent_cols_missing']]\n",
    "    return rows_missing.sort_values(by='num_cols_missing', ascending=False)"
   ]
  },
  {
   "cell_type": "code",
   "execution_count": null,
   "id": "1c4749d2",
   "metadata": {},
   "outputs": [],
   "source": [
    "def summarize(df):\n",
    "    '''\n",
    "    summarize will take in a single argument (a pandas dataframe) \n",
    "    and output to console various statistics on said dataframe, including:\n",
    "    # .head()\n",
    "    # .info()\n",
    "    # .describe()\n",
    "    # .value_counts()\n",
    "    # observation of nulls in the dataframe\n",
    "    '''\n",
    "    print('SUMMARY REPORT')\n",
    "    print('=====================================================\\n\\n')\n",
    "    print('Dataframe head: ')\n",
    "    print(df.head(3))\n",
    "    print('=====================================================\\n\\n')\n",
    "    print('Dataframe info: ')\n",
    "    print(df.info())\n",
    "    print('=====================================================\\n\\n')\n",
    "    print('Dataframe Description: ')\n",
    "    print(df.describe())\n",
    "    num_cols = [col for col in df.columns if df[col].dtype != 'O']\n",
    "    cat_cols = [col for col in df.columns if col not in num_cols]\n",
    "    print('=====================================================')\n",
    "    print('DataFrame value counts: ')\n",
    "    for col in df.columns:\n",
    "        if col in cat_cols:\n",
    "            print(df[col].value_counts(), '\\n')\n",
    "        else:\n",
    "            print(df[col].value_counts(bins=10, sort=False), '\\n')\n",
    "    print('=====================================================')\n",
    "    print('nulls in dataframe by column: ')\n",
    "    print(nulls_by_col(df))\n",
    "    print('=====================================================')\n",
    "    print('nulls in dataframe by row: ')\n",
    "    print(nulls_by_row(df))\n",
    "    print('=====================================================')\n"
   ]
  },
  {
   "cell_type": "code",
   "execution_count": null,
   "id": "9e216d5f",
   "metadata": {
    "scrolled": false
   },
   "outputs": [],
   "source": [
    "summarize(df)\n"
   ]
  },
  {
   "cell_type": "markdown",
   "id": "d9145bd4",
   "metadata": {},
   "source": [
    "## now im going to drop collumns and rows"
   ]
  },
  {
   "cell_type": "code",
   "execution_count": null,
   "id": "b80fe6a7",
   "metadata": {},
   "outputs": [],
   "source": [
    "def remove_columns(df, cols_to_remove):\n",
    "    df = df.drop(columns=cols_to_remove)\n",
    "    return df"
   ]
  },
  {
   "cell_type": "code",
   "execution_count": null,
   "id": "37a65c4c",
   "metadata": {},
   "outputs": [],
   "source": [
    "def handle_missing_values(df, prop_required_columns=0.75, prop_required_row=0.75):\n",
    "    threshold = int(round(prop_required_columns * len(df.index), 0))\n",
    "    df = df.dropna(axis=1, thresh=threshold) #1, or ‘columns’ : Drop columns which contain missing value\n",
    "    threshold = int(round(prop_required_row * len(df.columns), 0))\n",
    "    df = df.dropna(axis=0, thresh=threshold) #0, or ‘index’ : Drop rows which contain missing values.\n",
    "    return df"
   ]
  },
  {
   "cell_type": "code",
   "execution_count": null,
   "id": "0b41996c",
   "metadata": {},
   "outputs": [],
   "source": [
    "# def drop_r_nulls(df):\n",
    "#     df = df.dropna()\n",
    "#     return df"
   ]
  },
  {
   "cell_type": "code",
   "execution_count": null,
   "id": "050f4a25",
   "metadata": {},
   "outputs": [],
   "source": [
    "def data_prep(df, cols_to_remove=[], prop_required_column=0.6, prop_required_row=0.75):\n",
    "    df = remove_columns(df, cols_to_remove)\n",
    "    df = handle_missing_values(df, prop_required_column, prop_required_row)\n",
    "    #df = drop_r_nulls(df)\n",
    "    return df"
   ]
  },
  {
   "cell_type": "code",
   "execution_count": null,
   "id": "25b63e12",
   "metadata": {},
   "outputs": [],
   "source": [
    "df = data_prep(df)"
   ]
  },
  {
   "cell_type": "code",
   "execution_count": null,
   "id": "1c0829e4",
   "metadata": {
    "scrolled": false
   },
   "outputs": [],
   "source": [
    "df.info()"
   ]
  },
  {
   "cell_type": "code",
   "execution_count": null,
   "id": "4b509251",
   "metadata": {},
   "outputs": [],
   "source": [
    "#collumns  dont need = buildingqualitytypeid,finishedsquarefeet12, fullbathcnt, heatingorsystemtypeid, propertyzoningdesc, heatingorsystemdesc,   "
   ]
  },
  {
   "cell_type": "code",
   "execution_count": null,
   "id": "f17ef24a",
   "metadata": {
    "scrolled": false
   },
   "outputs": [],
   "source": [
    "df.fips.value_counts()"
   ]
  },
  {
   "cell_type": "code",
   "execution_count": null,
   "id": "8b6f3348",
   "metadata": {},
   "outputs": [],
   "source": [
    "df.buildingqualitytypeid.value_counts()"
   ]
  },
  {
   "cell_type": "code",
   "execution_count": null,
   "id": "dcbb497b",
   "metadata": {},
   "outputs": [],
   "source": [
    "df.yearbuilt.value_counts()"
   ]
  },
  {
   "cell_type": "code",
   "execution_count": null,
   "id": "e07a0e08",
   "metadata": {
    "scrolled": true
   },
   "outputs": [],
   "source": [
    "df.yearbuilt.isna().sum()"
   ]
  },
  {
   "cell_type": "code",
   "execution_count": null,
   "id": "f3d77d0f",
   "metadata": {},
   "outputs": [],
   "source": [
    "df.yearbuilt.mean()"
   ]
  },
  {
   "cell_type": "code",
   "execution_count": null,
   "id": "a72a97e2",
   "metadata": {},
   "outputs": [],
   "source": [
    "df['yearbuilt'] = df.yearbuilt.fillna(value='1963')"
   ]
  },
  {
   "cell_type": "code",
   "execution_count": null,
   "id": "3261c36b",
   "metadata": {},
   "outputs": [],
   "source": [
    "df.yearbuilt.isna().sum()"
   ]
  },
  {
   "cell_type": "code",
   "execution_count": null,
   "id": "e938124f",
   "metadata": {},
   "outputs": [],
   "source": [
    "df.lotsizesquarefeet.value_counts()"
   ]
  },
  {
   "cell_type": "code",
   "execution_count": null,
   "id": "548e472b",
   "metadata": {
    "scrolled": true
   },
   "outputs": [],
   "source": [
    "df.lotsizesquarefeet.mean()"
   ]
  },
  {
   "cell_type": "code",
   "execution_count": null,
   "id": "0b56150e",
   "metadata": {},
   "outputs": [],
   "source": [
    "df['lotsizesquarefeet'] = df.lotsizesquarefeet.fillna(value='11249')"
   ]
  },
  {
   "cell_type": "code",
   "execution_count": null,
   "id": "54eab4ee",
   "metadata": {},
   "outputs": [],
   "source": [
    "df.lotsizesquarefeet.isna().sum()"
   ]
  },
  {
   "cell_type": "code",
   "execution_count": null,
   "id": "2b2ede68",
   "metadata": {},
   "outputs": [],
   "source": [
    "df.info()"
   ]
  },
  {
   "cell_type": "code",
   "execution_count": null,
   "id": "8fdd4fe2",
   "metadata": {},
   "outputs": [],
   "source": [
    "df.taxvaluedollarcnt.isna().sum()"
   ]
  },
  {
   "cell_type": "code",
   "execution_count": null,
   "id": "f4a1e0c8",
   "metadata": {},
   "outputs": [],
   "source": [
    "df.taxvaluedollarcnt.mean()"
   ]
  },
  {
   "cell_type": "code",
   "execution_count": null,
   "id": "4a108534",
   "metadata": {},
   "outputs": [],
   "source": [
    "df['taxvaluedollarcnt'] = df.taxvaluedollarcnt.fillna(value='528313')"
   ]
  },
  {
   "cell_type": "code",
   "execution_count": null,
   "id": "1acb667a",
   "metadata": {},
   "outputs": [],
   "source": [
    "df.taxvaluedollarcnt.isna().sum()"
   ]
  },
  {
   "cell_type": "code",
   "execution_count": null,
   "id": "55b26b03",
   "metadata": {},
   "outputs": [],
   "source": [
    "df.info()"
   ]
  },
  {
   "cell_type": "code",
   "execution_count": null,
   "id": "6f491f0c",
   "metadata": {},
   "outputs": [],
   "source": [
    "df = df.dropna(axis=1)"
   ]
  },
  {
   "cell_type": "code",
   "execution_count": null,
   "id": "e0da5429",
   "metadata": {},
   "outputs": [],
   "source": [
    "df.info()"
   ]
  },
  {
   "cell_type": "code",
   "execution_count": null,
   "id": "3e1ebd80",
   "metadata": {},
   "outputs": [],
   "source": [
    "df.fips.value_counts()"
   ]
  },
  {
   "cell_type": "code",
   "execution_count": null,
   "id": "8657a32d",
   "metadata": {},
   "outputs": [],
   "source": [
    "def handle_missing_values(df):\n",
    "    return df.assign(\n",
    "        embark_town=df.embark_town.fillna('Other'),\n",
    "        embarked=df.embarked.fillna('O'),\n",
    "    )"
   ]
  },
  {
   "cell_type": "code",
   "execution_count": null,
   "id": "f1ef4c24",
   "metadata": {},
   "outputs": [],
   "source": []
  },
  {
   "cell_type": "code",
   "execution_count": null,
   "id": "839f48b7",
   "metadata": {},
   "outputs": [],
   "source": [
    "df.to_csv('zillow1.csv')"
   ]
  },
  {
   "cell_type": "code",
   "execution_count": 3,
   "id": "78dc82fe",
   "metadata": {
    "scrolled": true
   },
   "outputs": [
    {
     "data": {
      "text/html": [
       "<div>\n",
       "<style scoped>\n",
       "    .dataframe tbody tr th:only-of-type {\n",
       "        vertical-align: middle;\n",
       "    }\n",
       "\n",
       "    .dataframe tbody tr th {\n",
       "        vertical-align: top;\n",
       "    }\n",
       "\n",
       "    .dataframe thead th {\n",
       "        text-align: right;\n",
       "    }\n",
       "</style>\n",
       "<table border=\"1\" class=\"dataframe\">\n",
       "  <thead>\n",
       "    <tr style=\"text-align: right;\">\n",
       "      <th></th>\n",
       "      <th>Unnamed: 0</th>\n",
       "      <th>id</th>\n",
       "      <th>parcelid</th>\n",
       "      <th>bathroomcnt</th>\n",
       "      <th>bedroomcnt</th>\n",
       "      <th>fips</th>\n",
       "      <th>latitude</th>\n",
       "      <th>longitude</th>\n",
       "      <th>lotsizesquarefeet</th>\n",
       "      <th>propertycountylandusecode</th>\n",
       "      <th>propertylandusetypeid</th>\n",
       "      <th>rawcensustractandblock</th>\n",
       "      <th>regionidcounty</th>\n",
       "      <th>roomcnt</th>\n",
       "      <th>yearbuilt</th>\n",
       "      <th>taxvaluedollarcnt</th>\n",
       "      <th>assessmentyear</th>\n",
       "      <th>logerror</th>\n",
       "      <th>transactiondate</th>\n",
       "      <th>propertylandusedesc</th>\n",
       "    </tr>\n",
       "  </thead>\n",
       "  <tbody>\n",
       "    <tr>\n",
       "      <th>0</th>\n",
       "      <td>0</td>\n",
       "      <td>1727539</td>\n",
       "      <td>14297519</td>\n",
       "      <td>3.5</td>\n",
       "      <td>4.0</td>\n",
       "      <td>6059.0</td>\n",
       "      <td>33634931.0</td>\n",
       "      <td>-117869207.0</td>\n",
       "      <td>4506.0</td>\n",
       "      <td>122</td>\n",
       "      <td>261.0</td>\n",
       "      <td>6.059063e+07</td>\n",
       "      <td>1286.0</td>\n",
       "      <td>0.0</td>\n",
       "      <td>1998.0</td>\n",
       "      <td>1023282.0</td>\n",
       "      <td>2016.0</td>\n",
       "      <td>0.025595</td>\n",
       "      <td>2017-01-01</td>\n",
       "      <td>Single Family Residential</td>\n",
       "    </tr>\n",
       "    <tr>\n",
       "      <th>1</th>\n",
       "      <td>1</td>\n",
       "      <td>1387261</td>\n",
       "      <td>17052889</td>\n",
       "      <td>1.0</td>\n",
       "      <td>2.0</td>\n",
       "      <td>6111.0</td>\n",
       "      <td>34449266.0</td>\n",
       "      <td>-119281531.0</td>\n",
       "      <td>12647.0</td>\n",
       "      <td>1110</td>\n",
       "      <td>261.0</td>\n",
       "      <td>6.111001e+07</td>\n",
       "      <td>2061.0</td>\n",
       "      <td>5.0</td>\n",
       "      <td>1967.0</td>\n",
       "      <td>464000.0</td>\n",
       "      <td>2016.0</td>\n",
       "      <td>0.055619</td>\n",
       "      <td>2017-01-01</td>\n",
       "      <td>Single Family Residential</td>\n",
       "    </tr>\n",
       "    <tr>\n",
       "      <th>2</th>\n",
       "      <td>2</td>\n",
       "      <td>11677</td>\n",
       "      <td>14186244</td>\n",
       "      <td>2.0</td>\n",
       "      <td>3.0</td>\n",
       "      <td>6059.0</td>\n",
       "      <td>33886168.0</td>\n",
       "      <td>-117823170.0</td>\n",
       "      <td>8432.0</td>\n",
       "      <td>122</td>\n",
       "      <td>261.0</td>\n",
       "      <td>6.059022e+07</td>\n",
       "      <td>1286.0</td>\n",
       "      <td>6.0</td>\n",
       "      <td>1962.0</td>\n",
       "      <td>564778.0</td>\n",
       "      <td>2016.0</td>\n",
       "      <td>0.005383</td>\n",
       "      <td>2017-01-01</td>\n",
       "      <td>Single Family Residential</td>\n",
       "    </tr>\n",
       "    <tr>\n",
       "      <th>3</th>\n",
       "      <td>3</td>\n",
       "      <td>2288172</td>\n",
       "      <td>12177905</td>\n",
       "      <td>3.0</td>\n",
       "      <td>4.0</td>\n",
       "      <td>6037.0</td>\n",
       "      <td>34245180.0</td>\n",
       "      <td>-118240722.0</td>\n",
       "      <td>13038.0</td>\n",
       "      <td>0101</td>\n",
       "      <td>261.0</td>\n",
       "      <td>6.037300e+07</td>\n",
       "      <td>3101.0</td>\n",
       "      <td>0.0</td>\n",
       "      <td>1970.0</td>\n",
       "      <td>145143.0</td>\n",
       "      <td>2016.0</td>\n",
       "      <td>-0.103410</td>\n",
       "      <td>2017-01-01</td>\n",
       "      <td>Single Family Residential</td>\n",
       "    </tr>\n",
       "    <tr>\n",
       "      <th>4</th>\n",
       "      <td>4</td>\n",
       "      <td>781532</td>\n",
       "      <td>12095076</td>\n",
       "      <td>3.0</td>\n",
       "      <td>4.0</td>\n",
       "      <td>6037.0</td>\n",
       "      <td>34145202.0</td>\n",
       "      <td>-118179824.0</td>\n",
       "      <td>63000.0</td>\n",
       "      <td>0101</td>\n",
       "      <td>261.0</td>\n",
       "      <td>6.037461e+07</td>\n",
       "      <td>3101.0</td>\n",
       "      <td>0.0</td>\n",
       "      <td>1950.0</td>\n",
       "      <td>773303.0</td>\n",
       "      <td>2016.0</td>\n",
       "      <td>-0.001011</td>\n",
       "      <td>2017-01-01</td>\n",
       "      <td>Single Family Residential</td>\n",
       "    </tr>\n",
       "  </tbody>\n",
       "</table>\n",
       "</div>"
      ],
      "text/plain": [
       "   Unnamed: 0       id  parcelid  bathroomcnt  bedroomcnt    fips    latitude  \\\n",
       "0           0  1727539  14297519          3.5         4.0  6059.0  33634931.0   \n",
       "1           1  1387261  17052889          1.0         2.0  6111.0  34449266.0   \n",
       "2           2    11677  14186244          2.0         3.0  6059.0  33886168.0   \n",
       "3           3  2288172  12177905          3.0         4.0  6037.0  34245180.0   \n",
       "4           4   781532  12095076          3.0         4.0  6037.0  34145202.0   \n",
       "\n",
       "     longitude  lotsizesquarefeet propertycountylandusecode  \\\n",
       "0 -117869207.0             4506.0                       122   \n",
       "1 -119281531.0            12647.0                      1110   \n",
       "2 -117823170.0             8432.0                       122   \n",
       "3 -118240722.0            13038.0                      0101   \n",
       "4 -118179824.0            63000.0                      0101   \n",
       "\n",
       "   propertylandusetypeid  rawcensustractandblock  regionidcounty  roomcnt  \\\n",
       "0                  261.0            6.059063e+07          1286.0      0.0   \n",
       "1                  261.0            6.111001e+07          2061.0      5.0   \n",
       "2                  261.0            6.059022e+07          1286.0      6.0   \n",
       "3                  261.0            6.037300e+07          3101.0      0.0   \n",
       "4                  261.0            6.037461e+07          3101.0      0.0   \n",
       "\n",
       "   yearbuilt  taxvaluedollarcnt  assessmentyear  logerror transactiondate  \\\n",
       "0     1998.0          1023282.0          2016.0  0.025595      2017-01-01   \n",
       "1     1967.0           464000.0          2016.0  0.055619      2017-01-01   \n",
       "2     1962.0           564778.0          2016.0  0.005383      2017-01-01   \n",
       "3     1970.0           145143.0          2016.0 -0.103410      2017-01-01   \n",
       "4     1950.0           773303.0          2016.0 -0.001011      2017-01-01   \n",
       "\n",
       "         propertylandusedesc  \n",
       "0  Single Family Residential  \n",
       "1  Single Family Residential  \n",
       "2  Single Family Residential  \n",
       "3  Single Family Residential  \n",
       "4  Single Family Residential  "
      ]
     },
     "execution_count": 3,
     "metadata": {},
     "output_type": "execute_result"
    }
   ],
   "source": [
    "df = pd.read_csv('zillow1.csv')\n",
    "df.head()"
   ]
  },
  {
   "cell_type": "code",
   "execution_count": null,
   "id": "c037c352",
   "metadata": {},
   "outputs": [],
   "source": []
  },
  {
   "cell_type": "code",
   "execution_count": null,
   "id": "47a21bb4",
   "metadata": {},
   "outputs": [],
   "source": [
    "df2.shape"
   ]
  },
  {
   "cell_type": "code",
   "execution_count": 6,
   "id": "3957794a",
   "metadata": {},
   "outputs": [
    {
     "name": "stdout",
     "output_type": "stream",
     "text": [
      "<class 'pandas.core.frame.DataFrame'>\n",
      "RangeIndex: 52241 entries, 0 to 52240\n",
      "Data columns (total 20 columns):\n",
      " #   Column                     Non-Null Count  Dtype  \n",
      "---  ------                     --------------  -----  \n",
      " 0   Unnamed: 0                 52241 non-null  int64  \n",
      " 1   id                         52241 non-null  int64  \n",
      " 2   parcelid                   52241 non-null  int64  \n",
      " 3   bathroomcnt                52241 non-null  float64\n",
      " 4   bedroomcnt                 52241 non-null  float64\n",
      " 5   fips                       52241 non-null  float64\n",
      " 6   latitude                   52241 non-null  float64\n",
      " 7   longitude                  52241 non-null  float64\n",
      " 8   lotsizesquarefeet          52241 non-null  float64\n",
      " 9   propertycountylandusecode  52241 non-null  object \n",
      " 10  propertylandusetypeid      52241 non-null  float64\n",
      " 11  rawcensustractandblock     52241 non-null  float64\n",
      " 12  regionidcounty             52241 non-null  float64\n",
      " 13  roomcnt                    52241 non-null  float64\n",
      " 14  yearbuilt                  52241 non-null  float64\n",
      " 15  taxvaluedollarcnt          52241 non-null  float64\n",
      " 16  assessmentyear             52241 non-null  float64\n",
      " 17  logerror                   52241 non-null  float64\n",
      " 18  transactiondate            52241 non-null  object \n",
      " 19  propertylandusedesc        52241 non-null  object \n",
      "dtypes: float64(14), int64(3), object(3)\n",
      "memory usage: 8.0+ MB\n"
     ]
    }
   ],
   "source": [
    "df.info()"
   ]
  },
  {
   "cell_type": "code",
   "execution_count": null,
   "id": "10713ba1",
   "metadata": {},
   "outputs": [],
   "source": [
    "get_zillow_data(df)"
   ]
  },
  {
   "cell_type": "code",
   "execution_count": null,
   "id": "80ad9f9b",
   "metadata": {},
   "outputs": [],
   "source": [
    "df = wrangle_zillow()"
   ]
  },
  {
   "cell_type": "code",
   "execution_count": null,
   "id": "66170b0d",
   "metadata": {
    "scrolled": true
   },
   "outputs": [],
   "source": [
    "df.head()"
   ]
  },
  {
   "cell_type": "code",
   "execution_count": 4,
   "id": "ef54475d",
   "metadata": {},
   "outputs": [],
   "source": [
    "def drop_one(df):\n",
    "    df = df.drop(columns=['Unnamed: 0'])\n",
    "    return df\n",
    "    "
   ]
  },
  {
   "cell_type": "code",
   "execution_count": 8,
   "id": "53ce5ba6",
   "metadata": {},
   "outputs": [],
   "source": [
    " df = drop_one(df)\n"
   ]
  },
  {
   "cell_type": "markdown",
   "id": "ab747cf5",
   "metadata": {},
   "source": [
    " -----------------------"
   ]
  },
  {
   "cell_type": "code",
   "execution_count": null,
   "id": "820d981d",
   "metadata": {},
   "outputs": [],
   "source": [
    "#aquiring the data "
   ]
  },
  {
   "cell_type": "code",
   "execution_count": null,
   "id": "d52b23ee",
   "metadata": {},
   "outputs": [],
   "source": [
    "df = wrangle_zillow()"
   ]
  },
  {
   "cell_type": "code",
   "execution_count": 9,
   "id": "e60148e6",
   "metadata": {
    "scrolled": true
   },
   "outputs": [
    {
     "data": {
      "text/html": [
       "<div>\n",
       "<style scoped>\n",
       "    .dataframe tbody tr th:only-of-type {\n",
       "        vertical-align: middle;\n",
       "    }\n",
       "\n",
       "    .dataframe tbody tr th {\n",
       "        vertical-align: top;\n",
       "    }\n",
       "\n",
       "    .dataframe thead th {\n",
       "        text-align: right;\n",
       "    }\n",
       "</style>\n",
       "<table border=\"1\" class=\"dataframe\">\n",
       "  <thead>\n",
       "    <tr style=\"text-align: right;\">\n",
       "      <th></th>\n",
       "      <th>id</th>\n",
       "      <th>parcelid</th>\n",
       "      <th>bathroomcnt</th>\n",
       "      <th>bedroomcnt</th>\n",
       "      <th>fips</th>\n",
       "      <th>latitude</th>\n",
       "      <th>longitude</th>\n",
       "      <th>lotsizesquarefeet</th>\n",
       "      <th>propertycountylandusecode</th>\n",
       "      <th>propertylandusetypeid</th>\n",
       "      <th>rawcensustractandblock</th>\n",
       "      <th>regionidcounty</th>\n",
       "      <th>roomcnt</th>\n",
       "      <th>yearbuilt</th>\n",
       "      <th>taxvaluedollarcnt</th>\n",
       "      <th>assessmentyear</th>\n",
       "      <th>logerror</th>\n",
       "      <th>transactiondate</th>\n",
       "      <th>propertylandusedesc</th>\n",
       "    </tr>\n",
       "  </thead>\n",
       "  <tbody>\n",
       "    <tr>\n",
       "      <th>0</th>\n",
       "      <td>1727539</td>\n",
       "      <td>14297519</td>\n",
       "      <td>3.5</td>\n",
       "      <td>4.0</td>\n",
       "      <td>6059.0</td>\n",
       "      <td>33634931.0</td>\n",
       "      <td>-117869207.0</td>\n",
       "      <td>4506.0</td>\n",
       "      <td>122</td>\n",
       "      <td>261.0</td>\n",
       "      <td>6.059063e+07</td>\n",
       "      <td>1286.0</td>\n",
       "      <td>0.0</td>\n",
       "      <td>1998.0</td>\n",
       "      <td>1023282.0</td>\n",
       "      <td>2016.0</td>\n",
       "      <td>0.025595</td>\n",
       "      <td>2017-01-01</td>\n",
       "      <td>Single Family Residential</td>\n",
       "    </tr>\n",
       "    <tr>\n",
       "      <th>1</th>\n",
       "      <td>1387261</td>\n",
       "      <td>17052889</td>\n",
       "      <td>1.0</td>\n",
       "      <td>2.0</td>\n",
       "      <td>6111.0</td>\n",
       "      <td>34449266.0</td>\n",
       "      <td>-119281531.0</td>\n",
       "      <td>12647.0</td>\n",
       "      <td>1110</td>\n",
       "      <td>261.0</td>\n",
       "      <td>6.111001e+07</td>\n",
       "      <td>2061.0</td>\n",
       "      <td>5.0</td>\n",
       "      <td>1967.0</td>\n",
       "      <td>464000.0</td>\n",
       "      <td>2016.0</td>\n",
       "      <td>0.055619</td>\n",
       "      <td>2017-01-01</td>\n",
       "      <td>Single Family Residential</td>\n",
       "    </tr>\n",
       "    <tr>\n",
       "      <th>2</th>\n",
       "      <td>11677</td>\n",
       "      <td>14186244</td>\n",
       "      <td>2.0</td>\n",
       "      <td>3.0</td>\n",
       "      <td>6059.0</td>\n",
       "      <td>33886168.0</td>\n",
       "      <td>-117823170.0</td>\n",
       "      <td>8432.0</td>\n",
       "      <td>122</td>\n",
       "      <td>261.0</td>\n",
       "      <td>6.059022e+07</td>\n",
       "      <td>1286.0</td>\n",
       "      <td>6.0</td>\n",
       "      <td>1962.0</td>\n",
       "      <td>564778.0</td>\n",
       "      <td>2016.0</td>\n",
       "      <td>0.005383</td>\n",
       "      <td>2017-01-01</td>\n",
       "      <td>Single Family Residential</td>\n",
       "    </tr>\n",
       "    <tr>\n",
       "      <th>3</th>\n",
       "      <td>2288172</td>\n",
       "      <td>12177905</td>\n",
       "      <td>3.0</td>\n",
       "      <td>4.0</td>\n",
       "      <td>6037.0</td>\n",
       "      <td>34245180.0</td>\n",
       "      <td>-118240722.0</td>\n",
       "      <td>13038.0</td>\n",
       "      <td>0101</td>\n",
       "      <td>261.0</td>\n",
       "      <td>6.037300e+07</td>\n",
       "      <td>3101.0</td>\n",
       "      <td>0.0</td>\n",
       "      <td>1970.0</td>\n",
       "      <td>145143.0</td>\n",
       "      <td>2016.0</td>\n",
       "      <td>-0.103410</td>\n",
       "      <td>2017-01-01</td>\n",
       "      <td>Single Family Residential</td>\n",
       "    </tr>\n",
       "    <tr>\n",
       "      <th>4</th>\n",
       "      <td>781532</td>\n",
       "      <td>12095076</td>\n",
       "      <td>3.0</td>\n",
       "      <td>4.0</td>\n",
       "      <td>6037.0</td>\n",
       "      <td>34145202.0</td>\n",
       "      <td>-118179824.0</td>\n",
       "      <td>63000.0</td>\n",
       "      <td>0101</td>\n",
       "      <td>261.0</td>\n",
       "      <td>6.037461e+07</td>\n",
       "      <td>3101.0</td>\n",
       "      <td>0.0</td>\n",
       "      <td>1950.0</td>\n",
       "      <td>773303.0</td>\n",
       "      <td>2016.0</td>\n",
       "      <td>-0.001011</td>\n",
       "      <td>2017-01-01</td>\n",
       "      <td>Single Family Residential</td>\n",
       "    </tr>\n",
       "  </tbody>\n",
       "</table>\n",
       "</div>"
      ],
      "text/plain": [
       "        id  parcelid  bathroomcnt  bedroomcnt    fips    latitude  \\\n",
       "0  1727539  14297519          3.5         4.0  6059.0  33634931.0   \n",
       "1  1387261  17052889          1.0         2.0  6111.0  34449266.0   \n",
       "2    11677  14186244          2.0         3.0  6059.0  33886168.0   \n",
       "3  2288172  12177905          3.0         4.0  6037.0  34245180.0   \n",
       "4   781532  12095076          3.0         4.0  6037.0  34145202.0   \n",
       "\n",
       "     longitude  lotsizesquarefeet propertycountylandusecode  \\\n",
       "0 -117869207.0             4506.0                       122   \n",
       "1 -119281531.0            12647.0                      1110   \n",
       "2 -117823170.0             8432.0                       122   \n",
       "3 -118240722.0            13038.0                      0101   \n",
       "4 -118179824.0            63000.0                      0101   \n",
       "\n",
       "   propertylandusetypeid  rawcensustractandblock  regionidcounty  roomcnt  \\\n",
       "0                  261.0            6.059063e+07          1286.0      0.0   \n",
       "1                  261.0            6.111001e+07          2061.0      5.0   \n",
       "2                  261.0            6.059022e+07          1286.0      6.0   \n",
       "3                  261.0            6.037300e+07          3101.0      0.0   \n",
       "4                  261.0            6.037461e+07          3101.0      0.0   \n",
       "\n",
       "   yearbuilt  taxvaluedollarcnt  assessmentyear  logerror transactiondate  \\\n",
       "0     1998.0          1023282.0          2016.0  0.025595      2017-01-01   \n",
       "1     1967.0           464000.0          2016.0  0.055619      2017-01-01   \n",
       "2     1962.0           564778.0          2016.0  0.005383      2017-01-01   \n",
       "3     1970.0           145143.0          2016.0 -0.103410      2017-01-01   \n",
       "4     1950.0           773303.0          2016.0 -0.001011      2017-01-01   \n",
       "\n",
       "         propertylandusedesc  \n",
       "0  Single Family Residential  \n",
       "1  Single Family Residential  \n",
       "2  Single Family Residential  \n",
       "3  Single Family Residential  \n",
       "4  Single Family Residential  "
      ]
     },
     "execution_count": 9,
     "metadata": {},
     "output_type": "execute_result"
    }
   ],
   "source": [
    "df.head()"
   ]
  },
  {
   "cell_type": "code",
   "execution_count": 10,
   "id": "b1990743",
   "metadata": {},
   "outputs": [
    {
     "data": {
      "text/plain": [
       "6037.0    33806\n",
       "6059.0    14066\n",
       "6111.0     4369\n",
       "Name: fips, dtype: int64"
      ]
     },
     "execution_count": 10,
     "metadata": {},
     "output_type": "execute_result"
    }
   ],
   "source": [
    "df.fips.value_counts()"
   ]
  },
  {
   "cell_type": "code",
   "execution_count": 11,
   "id": "1576a0e7",
   "metadata": {},
   "outputs": [],
   "source": [
    "def fix_fips(df):\n",
    "    df['County'] = df.fips.map({6037:'Los Angeles County', 6059:'Orange County', 6111:'Ventura County'})\n",
    "    return df"
   ]
  },
  {
   "cell_type": "code",
   "execution_count": 12,
   "id": "d18093c0",
   "metadata": {},
   "outputs": [],
   "source": [
    " df = fix_fips(df)"
   ]
  },
  {
   "cell_type": "code",
   "execution_count": 13,
   "id": "4eefdfe0",
   "metadata": {},
   "outputs": [
    {
     "data": {
      "text/html": [
       "<div>\n",
       "<style scoped>\n",
       "    .dataframe tbody tr th:only-of-type {\n",
       "        vertical-align: middle;\n",
       "    }\n",
       "\n",
       "    .dataframe tbody tr th {\n",
       "        vertical-align: top;\n",
       "    }\n",
       "\n",
       "    .dataframe thead th {\n",
       "        text-align: right;\n",
       "    }\n",
       "</style>\n",
       "<table border=\"1\" class=\"dataframe\">\n",
       "  <thead>\n",
       "    <tr style=\"text-align: right;\">\n",
       "      <th></th>\n",
       "      <th>id</th>\n",
       "      <th>parcelid</th>\n",
       "      <th>bathroomcnt</th>\n",
       "      <th>bedroomcnt</th>\n",
       "      <th>fips</th>\n",
       "      <th>latitude</th>\n",
       "      <th>longitude</th>\n",
       "      <th>lotsizesquarefeet</th>\n",
       "      <th>propertycountylandusecode</th>\n",
       "      <th>propertylandusetypeid</th>\n",
       "      <th>rawcensustractandblock</th>\n",
       "      <th>regionidcounty</th>\n",
       "      <th>roomcnt</th>\n",
       "      <th>yearbuilt</th>\n",
       "      <th>taxvaluedollarcnt</th>\n",
       "      <th>assessmentyear</th>\n",
       "      <th>logerror</th>\n",
       "      <th>transactiondate</th>\n",
       "      <th>propertylandusedesc</th>\n",
       "      <th>County</th>\n",
       "    </tr>\n",
       "  </thead>\n",
       "  <tbody>\n",
       "    <tr>\n",
       "      <th>0</th>\n",
       "      <td>1727539</td>\n",
       "      <td>14297519</td>\n",
       "      <td>3.5</td>\n",
       "      <td>4.0</td>\n",
       "      <td>6059.0</td>\n",
       "      <td>33634931.0</td>\n",
       "      <td>-117869207.0</td>\n",
       "      <td>4506.0</td>\n",
       "      <td>122</td>\n",
       "      <td>261.0</td>\n",
       "      <td>6.059063e+07</td>\n",
       "      <td>1286.0</td>\n",
       "      <td>0.0</td>\n",
       "      <td>1998.0</td>\n",
       "      <td>1023282.0</td>\n",
       "      <td>2016.0</td>\n",
       "      <td>0.025595</td>\n",
       "      <td>2017-01-01</td>\n",
       "      <td>Single Family Residential</td>\n",
       "      <td>Orange County</td>\n",
       "    </tr>\n",
       "    <tr>\n",
       "      <th>1</th>\n",
       "      <td>1387261</td>\n",
       "      <td>17052889</td>\n",
       "      <td>1.0</td>\n",
       "      <td>2.0</td>\n",
       "      <td>6111.0</td>\n",
       "      <td>34449266.0</td>\n",
       "      <td>-119281531.0</td>\n",
       "      <td>12647.0</td>\n",
       "      <td>1110</td>\n",
       "      <td>261.0</td>\n",
       "      <td>6.111001e+07</td>\n",
       "      <td>2061.0</td>\n",
       "      <td>5.0</td>\n",
       "      <td>1967.0</td>\n",
       "      <td>464000.0</td>\n",
       "      <td>2016.0</td>\n",
       "      <td>0.055619</td>\n",
       "      <td>2017-01-01</td>\n",
       "      <td>Single Family Residential</td>\n",
       "      <td>Ventura County</td>\n",
       "    </tr>\n",
       "    <tr>\n",
       "      <th>2</th>\n",
       "      <td>11677</td>\n",
       "      <td>14186244</td>\n",
       "      <td>2.0</td>\n",
       "      <td>3.0</td>\n",
       "      <td>6059.0</td>\n",
       "      <td>33886168.0</td>\n",
       "      <td>-117823170.0</td>\n",
       "      <td>8432.0</td>\n",
       "      <td>122</td>\n",
       "      <td>261.0</td>\n",
       "      <td>6.059022e+07</td>\n",
       "      <td>1286.0</td>\n",
       "      <td>6.0</td>\n",
       "      <td>1962.0</td>\n",
       "      <td>564778.0</td>\n",
       "      <td>2016.0</td>\n",
       "      <td>0.005383</td>\n",
       "      <td>2017-01-01</td>\n",
       "      <td>Single Family Residential</td>\n",
       "      <td>Orange County</td>\n",
       "    </tr>\n",
       "    <tr>\n",
       "      <th>3</th>\n",
       "      <td>2288172</td>\n",
       "      <td>12177905</td>\n",
       "      <td>3.0</td>\n",
       "      <td>4.0</td>\n",
       "      <td>6037.0</td>\n",
       "      <td>34245180.0</td>\n",
       "      <td>-118240722.0</td>\n",
       "      <td>13038.0</td>\n",
       "      <td>0101</td>\n",
       "      <td>261.0</td>\n",
       "      <td>6.037300e+07</td>\n",
       "      <td>3101.0</td>\n",
       "      <td>0.0</td>\n",
       "      <td>1970.0</td>\n",
       "      <td>145143.0</td>\n",
       "      <td>2016.0</td>\n",
       "      <td>-0.103410</td>\n",
       "      <td>2017-01-01</td>\n",
       "      <td>Single Family Residential</td>\n",
       "      <td>Los Angeles County</td>\n",
       "    </tr>\n",
       "    <tr>\n",
       "      <th>4</th>\n",
       "      <td>781532</td>\n",
       "      <td>12095076</td>\n",
       "      <td>3.0</td>\n",
       "      <td>4.0</td>\n",
       "      <td>6037.0</td>\n",
       "      <td>34145202.0</td>\n",
       "      <td>-118179824.0</td>\n",
       "      <td>63000.0</td>\n",
       "      <td>0101</td>\n",
       "      <td>261.0</td>\n",
       "      <td>6.037461e+07</td>\n",
       "      <td>3101.0</td>\n",
       "      <td>0.0</td>\n",
       "      <td>1950.0</td>\n",
       "      <td>773303.0</td>\n",
       "      <td>2016.0</td>\n",
       "      <td>-0.001011</td>\n",
       "      <td>2017-01-01</td>\n",
       "      <td>Single Family Residential</td>\n",
       "      <td>Los Angeles County</td>\n",
       "    </tr>\n",
       "  </tbody>\n",
       "</table>\n",
       "</div>"
      ],
      "text/plain": [
       "        id  parcelid  bathroomcnt  bedroomcnt    fips    latitude  \\\n",
       "0  1727539  14297519          3.5         4.0  6059.0  33634931.0   \n",
       "1  1387261  17052889          1.0         2.0  6111.0  34449266.0   \n",
       "2    11677  14186244          2.0         3.0  6059.0  33886168.0   \n",
       "3  2288172  12177905          3.0         4.0  6037.0  34245180.0   \n",
       "4   781532  12095076          3.0         4.0  6037.0  34145202.0   \n",
       "\n",
       "     longitude  lotsizesquarefeet propertycountylandusecode  \\\n",
       "0 -117869207.0             4506.0                       122   \n",
       "1 -119281531.0            12647.0                      1110   \n",
       "2 -117823170.0             8432.0                       122   \n",
       "3 -118240722.0            13038.0                      0101   \n",
       "4 -118179824.0            63000.0                      0101   \n",
       "\n",
       "   propertylandusetypeid  rawcensustractandblock  regionidcounty  roomcnt  \\\n",
       "0                  261.0            6.059063e+07          1286.0      0.0   \n",
       "1                  261.0            6.111001e+07          2061.0      5.0   \n",
       "2                  261.0            6.059022e+07          1286.0      6.0   \n",
       "3                  261.0            6.037300e+07          3101.0      0.0   \n",
       "4                  261.0            6.037461e+07          3101.0      0.0   \n",
       "\n",
       "   yearbuilt  taxvaluedollarcnt  assessmentyear  logerror transactiondate  \\\n",
       "0     1998.0          1023282.0          2016.0  0.025595      2017-01-01   \n",
       "1     1967.0           464000.0          2016.0  0.055619      2017-01-01   \n",
       "2     1962.0           564778.0          2016.0  0.005383      2017-01-01   \n",
       "3     1970.0           145143.0          2016.0 -0.103410      2017-01-01   \n",
       "4     1950.0           773303.0          2016.0 -0.001011      2017-01-01   \n",
       "\n",
       "         propertylandusedesc              County  \n",
       "0  Single Family Residential       Orange County  \n",
       "1  Single Family Residential      Ventura County  \n",
       "2  Single Family Residential       Orange County  \n",
       "3  Single Family Residential  Los Angeles County  \n",
       "4  Single Family Residential  Los Angeles County  "
      ]
     },
     "execution_count": 13,
     "metadata": {},
     "output_type": "execute_result"
    }
   ],
   "source": [
    "df.head()"
   ]
  },
  {
   "cell_type": "code",
   "execution_count": 14,
   "id": "7f8a1908",
   "metadata": {},
   "outputs": [],
   "source": [
    " df['age'] = 2017 - df.yearbuilt"
   ]
  },
  {
   "cell_type": "code",
   "execution_count": 15,
   "id": "05cb263e",
   "metadata": {},
   "outputs": [
    {
     "data": {
      "text/html": [
       "<div>\n",
       "<style scoped>\n",
       "    .dataframe tbody tr th:only-of-type {\n",
       "        vertical-align: middle;\n",
       "    }\n",
       "\n",
       "    .dataframe tbody tr th {\n",
       "        vertical-align: top;\n",
       "    }\n",
       "\n",
       "    .dataframe thead th {\n",
       "        text-align: right;\n",
       "    }\n",
       "</style>\n",
       "<table border=\"1\" class=\"dataframe\">\n",
       "  <thead>\n",
       "    <tr style=\"text-align: right;\">\n",
       "      <th></th>\n",
       "      <th>id</th>\n",
       "      <th>parcelid</th>\n",
       "      <th>bathroomcnt</th>\n",
       "      <th>bedroomcnt</th>\n",
       "      <th>fips</th>\n",
       "      <th>latitude</th>\n",
       "      <th>longitude</th>\n",
       "      <th>lotsizesquarefeet</th>\n",
       "      <th>propertycountylandusecode</th>\n",
       "      <th>propertylandusetypeid</th>\n",
       "      <th>...</th>\n",
       "      <th>regionidcounty</th>\n",
       "      <th>roomcnt</th>\n",
       "      <th>yearbuilt</th>\n",
       "      <th>taxvaluedollarcnt</th>\n",
       "      <th>assessmentyear</th>\n",
       "      <th>logerror</th>\n",
       "      <th>transactiondate</th>\n",
       "      <th>propertylandusedesc</th>\n",
       "      <th>County</th>\n",
       "      <th>age</th>\n",
       "    </tr>\n",
       "  </thead>\n",
       "  <tbody>\n",
       "    <tr>\n",
       "      <th>0</th>\n",
       "      <td>1727539</td>\n",
       "      <td>14297519</td>\n",
       "      <td>3.5</td>\n",
       "      <td>4.0</td>\n",
       "      <td>6059.0</td>\n",
       "      <td>33634931.0</td>\n",
       "      <td>-117869207.0</td>\n",
       "      <td>4506.0</td>\n",
       "      <td>122</td>\n",
       "      <td>261.0</td>\n",
       "      <td>...</td>\n",
       "      <td>1286.0</td>\n",
       "      <td>0.0</td>\n",
       "      <td>1998.0</td>\n",
       "      <td>1023282.0</td>\n",
       "      <td>2016.0</td>\n",
       "      <td>0.025595</td>\n",
       "      <td>2017-01-01</td>\n",
       "      <td>Single Family Residential</td>\n",
       "      <td>Orange County</td>\n",
       "      <td>19.0</td>\n",
       "    </tr>\n",
       "    <tr>\n",
       "      <th>1</th>\n",
       "      <td>1387261</td>\n",
       "      <td>17052889</td>\n",
       "      <td>1.0</td>\n",
       "      <td>2.0</td>\n",
       "      <td>6111.0</td>\n",
       "      <td>34449266.0</td>\n",
       "      <td>-119281531.0</td>\n",
       "      <td>12647.0</td>\n",
       "      <td>1110</td>\n",
       "      <td>261.0</td>\n",
       "      <td>...</td>\n",
       "      <td>2061.0</td>\n",
       "      <td>5.0</td>\n",
       "      <td>1967.0</td>\n",
       "      <td>464000.0</td>\n",
       "      <td>2016.0</td>\n",
       "      <td>0.055619</td>\n",
       "      <td>2017-01-01</td>\n",
       "      <td>Single Family Residential</td>\n",
       "      <td>Ventura County</td>\n",
       "      <td>50.0</td>\n",
       "    </tr>\n",
       "    <tr>\n",
       "      <th>2</th>\n",
       "      <td>11677</td>\n",
       "      <td>14186244</td>\n",
       "      <td>2.0</td>\n",
       "      <td>3.0</td>\n",
       "      <td>6059.0</td>\n",
       "      <td>33886168.0</td>\n",
       "      <td>-117823170.0</td>\n",
       "      <td>8432.0</td>\n",
       "      <td>122</td>\n",
       "      <td>261.0</td>\n",
       "      <td>...</td>\n",
       "      <td>1286.0</td>\n",
       "      <td>6.0</td>\n",
       "      <td>1962.0</td>\n",
       "      <td>564778.0</td>\n",
       "      <td>2016.0</td>\n",
       "      <td>0.005383</td>\n",
       "      <td>2017-01-01</td>\n",
       "      <td>Single Family Residential</td>\n",
       "      <td>Orange County</td>\n",
       "      <td>55.0</td>\n",
       "    </tr>\n",
       "    <tr>\n",
       "      <th>3</th>\n",
       "      <td>2288172</td>\n",
       "      <td>12177905</td>\n",
       "      <td>3.0</td>\n",
       "      <td>4.0</td>\n",
       "      <td>6037.0</td>\n",
       "      <td>34245180.0</td>\n",
       "      <td>-118240722.0</td>\n",
       "      <td>13038.0</td>\n",
       "      <td>0101</td>\n",
       "      <td>261.0</td>\n",
       "      <td>...</td>\n",
       "      <td>3101.0</td>\n",
       "      <td>0.0</td>\n",
       "      <td>1970.0</td>\n",
       "      <td>145143.0</td>\n",
       "      <td>2016.0</td>\n",
       "      <td>-0.103410</td>\n",
       "      <td>2017-01-01</td>\n",
       "      <td>Single Family Residential</td>\n",
       "      <td>Los Angeles County</td>\n",
       "      <td>47.0</td>\n",
       "    </tr>\n",
       "    <tr>\n",
       "      <th>4</th>\n",
       "      <td>781532</td>\n",
       "      <td>12095076</td>\n",
       "      <td>3.0</td>\n",
       "      <td>4.0</td>\n",
       "      <td>6037.0</td>\n",
       "      <td>34145202.0</td>\n",
       "      <td>-118179824.0</td>\n",
       "      <td>63000.0</td>\n",
       "      <td>0101</td>\n",
       "      <td>261.0</td>\n",
       "      <td>...</td>\n",
       "      <td>3101.0</td>\n",
       "      <td>0.0</td>\n",
       "      <td>1950.0</td>\n",
       "      <td>773303.0</td>\n",
       "      <td>2016.0</td>\n",
       "      <td>-0.001011</td>\n",
       "      <td>2017-01-01</td>\n",
       "      <td>Single Family Residential</td>\n",
       "      <td>Los Angeles County</td>\n",
       "      <td>67.0</td>\n",
       "    </tr>\n",
       "  </tbody>\n",
       "</table>\n",
       "<p>5 rows × 21 columns</p>\n",
       "</div>"
      ],
      "text/plain": [
       "        id  parcelid  bathroomcnt  bedroomcnt    fips    latitude  \\\n",
       "0  1727539  14297519          3.5         4.0  6059.0  33634931.0   \n",
       "1  1387261  17052889          1.0         2.0  6111.0  34449266.0   \n",
       "2    11677  14186244          2.0         3.0  6059.0  33886168.0   \n",
       "3  2288172  12177905          3.0         4.0  6037.0  34245180.0   \n",
       "4   781532  12095076          3.0         4.0  6037.0  34145202.0   \n",
       "\n",
       "     longitude  lotsizesquarefeet propertycountylandusecode  \\\n",
       "0 -117869207.0             4506.0                       122   \n",
       "1 -119281531.0            12647.0                      1110   \n",
       "2 -117823170.0             8432.0                       122   \n",
       "3 -118240722.0            13038.0                      0101   \n",
       "4 -118179824.0            63000.0                      0101   \n",
       "\n",
       "   propertylandusetypeid  ...  regionidcounty  roomcnt  yearbuilt  \\\n",
       "0                  261.0  ...          1286.0      0.0     1998.0   \n",
       "1                  261.0  ...          2061.0      5.0     1967.0   \n",
       "2                  261.0  ...          1286.0      6.0     1962.0   \n",
       "3                  261.0  ...          3101.0      0.0     1970.0   \n",
       "4                  261.0  ...          3101.0      0.0     1950.0   \n",
       "\n",
       "   taxvaluedollarcnt  assessmentyear  logerror  transactiondate  \\\n",
       "0          1023282.0          2016.0  0.025595       2017-01-01   \n",
       "1           464000.0          2016.0  0.055619       2017-01-01   \n",
       "2           564778.0          2016.0  0.005383       2017-01-01   \n",
       "3           145143.0          2016.0 -0.103410       2017-01-01   \n",
       "4           773303.0          2016.0 -0.001011       2017-01-01   \n",
       "\n",
       "         propertylandusedesc              County   age  \n",
       "0  Single Family Residential       Orange County  19.0  \n",
       "1  Single Family Residential      Ventura County  50.0  \n",
       "2  Single Family Residential       Orange County  55.0  \n",
       "3  Single Family Residential  Los Angeles County  47.0  \n",
       "4  Single Family Residential  Los Angeles County  67.0  \n",
       "\n",
       "[5 rows x 21 columns]"
      ]
     },
     "execution_count": 15,
     "metadata": {},
     "output_type": "execute_result"
    }
   ],
   "source": [
    "df.head()"
   ]
  },
  {
   "cell_type": "code",
   "execution_count": 16,
   "id": "75a54e6c",
   "metadata": {},
   "outputs": [],
   "source": [
    "df['age_bin'] = pd.cut(df.age, \n",
    "                           bins = [0, 5, 10, 20, 30, 40, 50, 60, 70, 80, 90, 100, 110, 120, 130, 140],\n",
    "                           labels = [0, .066, .133, .20, .266, .333, .40, .466, .533, \n",
    "                                     .60, .666, .733, .8, .866, .933])\n"
   ]
  },
  {
   "cell_type": "code",
   "execution_count": 17,
   "id": "f29d9ccc",
   "metadata": {},
   "outputs": [
    {
     "data": {
      "text/html": [
       "<div>\n",
       "<style scoped>\n",
       "    .dataframe tbody tr th:only-of-type {\n",
       "        vertical-align: middle;\n",
       "    }\n",
       "\n",
       "    .dataframe tbody tr th {\n",
       "        vertical-align: top;\n",
       "    }\n",
       "\n",
       "    .dataframe thead th {\n",
       "        text-align: right;\n",
       "    }\n",
       "</style>\n",
       "<table border=\"1\" class=\"dataframe\">\n",
       "  <thead>\n",
       "    <tr style=\"text-align: right;\">\n",
       "      <th></th>\n",
       "      <th>id</th>\n",
       "      <th>parcelid</th>\n",
       "      <th>bathroomcnt</th>\n",
       "      <th>bedroomcnt</th>\n",
       "      <th>fips</th>\n",
       "      <th>latitude</th>\n",
       "      <th>longitude</th>\n",
       "      <th>lotsizesquarefeet</th>\n",
       "      <th>propertycountylandusecode</th>\n",
       "      <th>propertylandusetypeid</th>\n",
       "      <th>...</th>\n",
       "      <th>roomcnt</th>\n",
       "      <th>yearbuilt</th>\n",
       "      <th>taxvaluedollarcnt</th>\n",
       "      <th>assessmentyear</th>\n",
       "      <th>logerror</th>\n",
       "      <th>transactiondate</th>\n",
       "      <th>propertylandusedesc</th>\n",
       "      <th>County</th>\n",
       "      <th>age</th>\n",
       "      <th>age_bin</th>\n",
       "    </tr>\n",
       "  </thead>\n",
       "  <tbody>\n",
       "    <tr>\n",
       "      <th>0</th>\n",
       "      <td>1727539</td>\n",
       "      <td>14297519</td>\n",
       "      <td>3.5</td>\n",
       "      <td>4.0</td>\n",
       "      <td>6059.0</td>\n",
       "      <td>33634931.0</td>\n",
       "      <td>-117869207.0</td>\n",
       "      <td>4506.0</td>\n",
       "      <td>122</td>\n",
       "      <td>261.0</td>\n",
       "      <td>...</td>\n",
       "      <td>0.0</td>\n",
       "      <td>1998.0</td>\n",
       "      <td>1023282.0</td>\n",
       "      <td>2016.0</td>\n",
       "      <td>0.025595</td>\n",
       "      <td>2017-01-01</td>\n",
       "      <td>Single Family Residential</td>\n",
       "      <td>Orange County</td>\n",
       "      <td>19.0</td>\n",
       "      <td>0.133</td>\n",
       "    </tr>\n",
       "    <tr>\n",
       "      <th>1</th>\n",
       "      <td>1387261</td>\n",
       "      <td>17052889</td>\n",
       "      <td>1.0</td>\n",
       "      <td>2.0</td>\n",
       "      <td>6111.0</td>\n",
       "      <td>34449266.0</td>\n",
       "      <td>-119281531.0</td>\n",
       "      <td>12647.0</td>\n",
       "      <td>1110</td>\n",
       "      <td>261.0</td>\n",
       "      <td>...</td>\n",
       "      <td>5.0</td>\n",
       "      <td>1967.0</td>\n",
       "      <td>464000.0</td>\n",
       "      <td>2016.0</td>\n",
       "      <td>0.055619</td>\n",
       "      <td>2017-01-01</td>\n",
       "      <td>Single Family Residential</td>\n",
       "      <td>Ventura County</td>\n",
       "      <td>50.0</td>\n",
       "      <td>0.333</td>\n",
       "    </tr>\n",
       "    <tr>\n",
       "      <th>2</th>\n",
       "      <td>11677</td>\n",
       "      <td>14186244</td>\n",
       "      <td>2.0</td>\n",
       "      <td>3.0</td>\n",
       "      <td>6059.0</td>\n",
       "      <td>33886168.0</td>\n",
       "      <td>-117823170.0</td>\n",
       "      <td>8432.0</td>\n",
       "      <td>122</td>\n",
       "      <td>261.0</td>\n",
       "      <td>...</td>\n",
       "      <td>6.0</td>\n",
       "      <td>1962.0</td>\n",
       "      <td>564778.0</td>\n",
       "      <td>2016.0</td>\n",
       "      <td>0.005383</td>\n",
       "      <td>2017-01-01</td>\n",
       "      <td>Single Family Residential</td>\n",
       "      <td>Orange County</td>\n",
       "      <td>55.0</td>\n",
       "      <td>0.400</td>\n",
       "    </tr>\n",
       "    <tr>\n",
       "      <th>3</th>\n",
       "      <td>2288172</td>\n",
       "      <td>12177905</td>\n",
       "      <td>3.0</td>\n",
       "      <td>4.0</td>\n",
       "      <td>6037.0</td>\n",
       "      <td>34245180.0</td>\n",
       "      <td>-118240722.0</td>\n",
       "      <td>13038.0</td>\n",
       "      <td>0101</td>\n",
       "      <td>261.0</td>\n",
       "      <td>...</td>\n",
       "      <td>0.0</td>\n",
       "      <td>1970.0</td>\n",
       "      <td>145143.0</td>\n",
       "      <td>2016.0</td>\n",
       "      <td>-0.103410</td>\n",
       "      <td>2017-01-01</td>\n",
       "      <td>Single Family Residential</td>\n",
       "      <td>Los Angeles County</td>\n",
       "      <td>47.0</td>\n",
       "      <td>0.333</td>\n",
       "    </tr>\n",
       "    <tr>\n",
       "      <th>4</th>\n",
       "      <td>781532</td>\n",
       "      <td>12095076</td>\n",
       "      <td>3.0</td>\n",
       "      <td>4.0</td>\n",
       "      <td>6037.0</td>\n",
       "      <td>34145202.0</td>\n",
       "      <td>-118179824.0</td>\n",
       "      <td>63000.0</td>\n",
       "      <td>0101</td>\n",
       "      <td>261.0</td>\n",
       "      <td>...</td>\n",
       "      <td>0.0</td>\n",
       "      <td>1950.0</td>\n",
       "      <td>773303.0</td>\n",
       "      <td>2016.0</td>\n",
       "      <td>-0.001011</td>\n",
       "      <td>2017-01-01</td>\n",
       "      <td>Single Family Residential</td>\n",
       "      <td>Los Angeles County</td>\n",
       "      <td>67.0</td>\n",
       "      <td>0.466</td>\n",
       "    </tr>\n",
       "  </tbody>\n",
       "</table>\n",
       "<p>5 rows × 22 columns</p>\n",
       "</div>"
      ],
      "text/plain": [
       "        id  parcelid  bathroomcnt  bedroomcnt    fips    latitude  \\\n",
       "0  1727539  14297519          3.5         4.0  6059.0  33634931.0   \n",
       "1  1387261  17052889          1.0         2.0  6111.0  34449266.0   \n",
       "2    11677  14186244          2.0         3.0  6059.0  33886168.0   \n",
       "3  2288172  12177905          3.0         4.0  6037.0  34245180.0   \n",
       "4   781532  12095076          3.0         4.0  6037.0  34145202.0   \n",
       "\n",
       "     longitude  lotsizesquarefeet propertycountylandusecode  \\\n",
       "0 -117869207.0             4506.0                       122   \n",
       "1 -119281531.0            12647.0                      1110   \n",
       "2 -117823170.0             8432.0                       122   \n",
       "3 -118240722.0            13038.0                      0101   \n",
       "4 -118179824.0            63000.0                      0101   \n",
       "\n",
       "   propertylandusetypeid  ...  roomcnt  yearbuilt  taxvaluedollarcnt  \\\n",
       "0                  261.0  ...      0.0     1998.0          1023282.0   \n",
       "1                  261.0  ...      5.0     1967.0           464000.0   \n",
       "2                  261.0  ...      6.0     1962.0           564778.0   \n",
       "3                  261.0  ...      0.0     1970.0           145143.0   \n",
       "4                  261.0  ...      0.0     1950.0           773303.0   \n",
       "\n",
       "   assessmentyear  logerror  transactiondate        propertylandusedesc  \\\n",
       "0          2016.0  0.025595       2017-01-01  Single Family Residential   \n",
       "1          2016.0  0.055619       2017-01-01  Single Family Residential   \n",
       "2          2016.0  0.005383       2017-01-01  Single Family Residential   \n",
       "3          2016.0 -0.103410       2017-01-01  Single Family Residential   \n",
       "4          2016.0 -0.001011       2017-01-01  Single Family Residential   \n",
       "\n",
       "               County   age age_bin  \n",
       "0       Orange County  19.0   0.133  \n",
       "1      Ventura County  50.0   0.333  \n",
       "2       Orange County  55.0   0.400  \n",
       "3  Los Angeles County  47.0   0.333  \n",
       "4  Los Angeles County  67.0   0.466  \n",
       "\n",
       "[5 rows x 22 columns]"
      ]
     },
     "execution_count": 17,
     "metadata": {},
     "output_type": "execute_result"
    }
   ],
   "source": [
    "df.head()"
   ]
  },
  {
   "cell_type": "code",
   "execution_count": 18,
   "id": "84ba8399",
   "metadata": {},
   "outputs": [],
   "source": [
    "df['acres'] = df.lotsizesquarefeet/43560"
   ]
  },
  {
   "cell_type": "code",
   "execution_count": 19,
   "id": "902de445",
   "metadata": {},
   "outputs": [],
   "source": [
    " df['acres_bin'] = pd.cut(df.acres, bins = [0, .10, .15, .25, .5, 1, 5, 10, 20, 50, 200], \n",
    "                       labels = [0, .1, .2, .3, .4, .5, .6, .7, .8, .9])"
   ]
  },
  {
   "cell_type": "code",
   "execution_count": 20,
   "id": "b4c0d857",
   "metadata": {
    "scrolled": true
   },
   "outputs": [
    {
     "data": {
      "text/html": [
       "<div>\n",
       "<style scoped>\n",
       "    .dataframe tbody tr th:only-of-type {\n",
       "        vertical-align: middle;\n",
       "    }\n",
       "\n",
       "    .dataframe tbody tr th {\n",
       "        vertical-align: top;\n",
       "    }\n",
       "\n",
       "    .dataframe thead th {\n",
       "        text-align: right;\n",
       "    }\n",
       "</style>\n",
       "<table border=\"1\" class=\"dataframe\">\n",
       "  <thead>\n",
       "    <tr style=\"text-align: right;\">\n",
       "      <th></th>\n",
       "      <th>id</th>\n",
       "      <th>parcelid</th>\n",
       "      <th>bathroomcnt</th>\n",
       "      <th>bedroomcnt</th>\n",
       "      <th>fips</th>\n",
       "      <th>latitude</th>\n",
       "      <th>longitude</th>\n",
       "      <th>lotsizesquarefeet</th>\n",
       "      <th>propertycountylandusecode</th>\n",
       "      <th>propertylandusetypeid</th>\n",
       "      <th>...</th>\n",
       "      <th>taxvaluedollarcnt</th>\n",
       "      <th>assessmentyear</th>\n",
       "      <th>logerror</th>\n",
       "      <th>transactiondate</th>\n",
       "      <th>propertylandusedesc</th>\n",
       "      <th>County</th>\n",
       "      <th>age</th>\n",
       "      <th>age_bin</th>\n",
       "      <th>acres</th>\n",
       "      <th>acres_bin</th>\n",
       "    </tr>\n",
       "  </thead>\n",
       "  <tbody>\n",
       "    <tr>\n",
       "      <th>0</th>\n",
       "      <td>1727539</td>\n",
       "      <td>14297519</td>\n",
       "      <td>3.5</td>\n",
       "      <td>4.0</td>\n",
       "      <td>6059.0</td>\n",
       "      <td>33634931.0</td>\n",
       "      <td>-117869207.0</td>\n",
       "      <td>4506.0</td>\n",
       "      <td>122</td>\n",
       "      <td>261.0</td>\n",
       "      <td>...</td>\n",
       "      <td>1023282.0</td>\n",
       "      <td>2016.0</td>\n",
       "      <td>0.025595</td>\n",
       "      <td>2017-01-01</td>\n",
       "      <td>Single Family Residential</td>\n",
       "      <td>Orange County</td>\n",
       "      <td>19.0</td>\n",
       "      <td>0.133</td>\n",
       "      <td>0.103444</td>\n",
       "      <td>0.1</td>\n",
       "    </tr>\n",
       "    <tr>\n",
       "      <th>1</th>\n",
       "      <td>1387261</td>\n",
       "      <td>17052889</td>\n",
       "      <td>1.0</td>\n",
       "      <td>2.0</td>\n",
       "      <td>6111.0</td>\n",
       "      <td>34449266.0</td>\n",
       "      <td>-119281531.0</td>\n",
       "      <td>12647.0</td>\n",
       "      <td>1110</td>\n",
       "      <td>261.0</td>\n",
       "      <td>...</td>\n",
       "      <td>464000.0</td>\n",
       "      <td>2016.0</td>\n",
       "      <td>0.055619</td>\n",
       "      <td>2017-01-01</td>\n",
       "      <td>Single Family Residential</td>\n",
       "      <td>Ventura County</td>\n",
       "      <td>50.0</td>\n",
       "      <td>0.333</td>\n",
       "      <td>0.290335</td>\n",
       "      <td>0.3</td>\n",
       "    </tr>\n",
       "    <tr>\n",
       "      <th>2</th>\n",
       "      <td>11677</td>\n",
       "      <td>14186244</td>\n",
       "      <td>2.0</td>\n",
       "      <td>3.0</td>\n",
       "      <td>6059.0</td>\n",
       "      <td>33886168.0</td>\n",
       "      <td>-117823170.0</td>\n",
       "      <td>8432.0</td>\n",
       "      <td>122</td>\n",
       "      <td>261.0</td>\n",
       "      <td>...</td>\n",
       "      <td>564778.0</td>\n",
       "      <td>2016.0</td>\n",
       "      <td>0.005383</td>\n",
       "      <td>2017-01-01</td>\n",
       "      <td>Single Family Residential</td>\n",
       "      <td>Orange County</td>\n",
       "      <td>55.0</td>\n",
       "      <td>0.400</td>\n",
       "      <td>0.193572</td>\n",
       "      <td>0.2</td>\n",
       "    </tr>\n",
       "    <tr>\n",
       "      <th>3</th>\n",
       "      <td>2288172</td>\n",
       "      <td>12177905</td>\n",
       "      <td>3.0</td>\n",
       "      <td>4.0</td>\n",
       "      <td>6037.0</td>\n",
       "      <td>34245180.0</td>\n",
       "      <td>-118240722.0</td>\n",
       "      <td>13038.0</td>\n",
       "      <td>0101</td>\n",
       "      <td>261.0</td>\n",
       "      <td>...</td>\n",
       "      <td>145143.0</td>\n",
       "      <td>2016.0</td>\n",
       "      <td>-0.103410</td>\n",
       "      <td>2017-01-01</td>\n",
       "      <td>Single Family Residential</td>\n",
       "      <td>Los Angeles County</td>\n",
       "      <td>47.0</td>\n",
       "      <td>0.333</td>\n",
       "      <td>0.299311</td>\n",
       "      <td>0.3</td>\n",
       "    </tr>\n",
       "    <tr>\n",
       "      <th>4</th>\n",
       "      <td>781532</td>\n",
       "      <td>12095076</td>\n",
       "      <td>3.0</td>\n",
       "      <td>4.0</td>\n",
       "      <td>6037.0</td>\n",
       "      <td>34145202.0</td>\n",
       "      <td>-118179824.0</td>\n",
       "      <td>63000.0</td>\n",
       "      <td>0101</td>\n",
       "      <td>261.0</td>\n",
       "      <td>...</td>\n",
       "      <td>773303.0</td>\n",
       "      <td>2016.0</td>\n",
       "      <td>-0.001011</td>\n",
       "      <td>2017-01-01</td>\n",
       "      <td>Single Family Residential</td>\n",
       "      <td>Los Angeles County</td>\n",
       "      <td>67.0</td>\n",
       "      <td>0.466</td>\n",
       "      <td>1.446281</td>\n",
       "      <td>0.5</td>\n",
       "    </tr>\n",
       "  </tbody>\n",
       "</table>\n",
       "<p>5 rows × 24 columns</p>\n",
       "</div>"
      ],
      "text/plain": [
       "        id  parcelid  bathroomcnt  bedroomcnt    fips    latitude  \\\n",
       "0  1727539  14297519          3.5         4.0  6059.0  33634931.0   \n",
       "1  1387261  17052889          1.0         2.0  6111.0  34449266.0   \n",
       "2    11677  14186244          2.0         3.0  6059.0  33886168.0   \n",
       "3  2288172  12177905          3.0         4.0  6037.0  34245180.0   \n",
       "4   781532  12095076          3.0         4.0  6037.0  34145202.0   \n",
       "\n",
       "     longitude  lotsizesquarefeet propertycountylandusecode  \\\n",
       "0 -117869207.0             4506.0                       122   \n",
       "1 -119281531.0            12647.0                      1110   \n",
       "2 -117823170.0             8432.0                       122   \n",
       "3 -118240722.0            13038.0                      0101   \n",
       "4 -118179824.0            63000.0                      0101   \n",
       "\n",
       "   propertylandusetypeid  ...  taxvaluedollarcnt  assessmentyear  logerror  \\\n",
       "0                  261.0  ...          1023282.0          2016.0  0.025595   \n",
       "1                  261.0  ...           464000.0          2016.0  0.055619   \n",
       "2                  261.0  ...           564778.0          2016.0  0.005383   \n",
       "3                  261.0  ...           145143.0          2016.0 -0.103410   \n",
       "4                  261.0  ...           773303.0          2016.0 -0.001011   \n",
       "\n",
       "   transactiondate        propertylandusedesc              County   age  \\\n",
       "0       2017-01-01  Single Family Residential       Orange County  19.0   \n",
       "1       2017-01-01  Single Family Residential      Ventura County  50.0   \n",
       "2       2017-01-01  Single Family Residential       Orange County  55.0   \n",
       "3       2017-01-01  Single Family Residential  Los Angeles County  47.0   \n",
       "4       2017-01-01  Single Family Residential  Los Angeles County  67.0   \n",
       "\n",
       "  age_bin     acres acres_bin  \n",
       "0   0.133  0.103444       0.1  \n",
       "1   0.333  0.290335       0.3  \n",
       "2   0.400  0.193572       0.2  \n",
       "3   0.333  0.299311       0.3  \n",
       "4   0.466  1.446281       0.5  \n",
       "\n",
       "[5 rows x 24 columns]"
      ]
     },
     "execution_count": 20,
     "metadata": {},
     "output_type": "execute_result"
    }
   ],
   "source": [
    "df.head()"
   ]
  },
  {
   "cell_type": "code",
   "execution_count": 21,
   "id": "f812a086",
   "metadata": {},
   "outputs": [
    {
     "data": {
      "text/plain": [
       "Los Angeles County    33806\n",
       "Orange County         14066\n",
       "Ventura County         4369\n",
       "Name: County, dtype: int64"
      ]
     },
     "execution_count": 21,
     "metadata": {},
     "output_type": "execute_result"
    }
   ],
   "source": [
    "df.County.value_counts()"
   ]
  },
  {
   "cell_type": "code",
   "execution_count": 22,
   "id": "633c12e8",
   "metadata": {},
   "outputs": [],
   "source": [
    "def get_counties():\n",
    "    '''\n",
    "    This function will create dummy variables out of the original fips column. \n",
    "    And return a dataframe with all of the original columns except regionidcounty.\n",
    "    We will keep fips column for data validation after making changes. \n",
    "    New columns added will be 'LA', 'Orange', and 'Ventura' which are boolean \n",
    "    The fips ids are renamed to be the name of the county each represents. \n",
    "    '''\n",
    "    # create dummy vars of fips id\n",
    "    county_df = pd.get_dummies(df.fips)\n",
    "    # rename columns by actual county name\n",
    "    county_df.columns = ['LA', 'Orange', 'Ventura']\n",
    "    # concatenate the dataframe with the 3 county columns to the original dataframe\n",
    "    df_dummies = pd.concat([df, county_df], axis = 1)\n",
    "    # drop regionidcounty and fips columns\n",
    "    df_dummies = df_dummies.drop(columns = ['regionidcounty'])\n",
    "    return df_dummies\n"
   ]
  },
  {
   "cell_type": "code",
   "execution_count": 23,
   "id": "a5e66eb2",
   "metadata": {},
   "outputs": [
    {
     "data": {
      "text/html": [
       "<div>\n",
       "<style scoped>\n",
       "    .dataframe tbody tr th:only-of-type {\n",
       "        vertical-align: middle;\n",
       "    }\n",
       "\n",
       "    .dataframe tbody tr th {\n",
       "        vertical-align: top;\n",
       "    }\n",
       "\n",
       "    .dataframe thead th {\n",
       "        text-align: right;\n",
       "    }\n",
       "</style>\n",
       "<table border=\"1\" class=\"dataframe\">\n",
       "  <thead>\n",
       "    <tr style=\"text-align: right;\">\n",
       "      <th></th>\n",
       "      <th>id</th>\n",
       "      <th>parcelid</th>\n",
       "      <th>bathroomcnt</th>\n",
       "      <th>bedroomcnt</th>\n",
       "      <th>fips</th>\n",
       "      <th>latitude</th>\n",
       "      <th>longitude</th>\n",
       "      <th>lotsizesquarefeet</th>\n",
       "      <th>propertycountylandusecode</th>\n",
       "      <th>propertylandusetypeid</th>\n",
       "      <th>...</th>\n",
       "      <th>transactiondate</th>\n",
       "      <th>propertylandusedesc</th>\n",
       "      <th>County</th>\n",
       "      <th>age</th>\n",
       "      <th>age_bin</th>\n",
       "      <th>acres</th>\n",
       "      <th>acres_bin</th>\n",
       "      <th>LA</th>\n",
       "      <th>Orange</th>\n",
       "      <th>Ventura</th>\n",
       "    </tr>\n",
       "  </thead>\n",
       "  <tbody>\n",
       "    <tr>\n",
       "      <th>0</th>\n",
       "      <td>1727539</td>\n",
       "      <td>14297519</td>\n",
       "      <td>3.5</td>\n",
       "      <td>4.0</td>\n",
       "      <td>6059.0</td>\n",
       "      <td>33634931.0</td>\n",
       "      <td>-117869207.0</td>\n",
       "      <td>4506.0</td>\n",
       "      <td>122</td>\n",
       "      <td>261.0</td>\n",
       "      <td>...</td>\n",
       "      <td>2017-01-01</td>\n",
       "      <td>Single Family Residential</td>\n",
       "      <td>Orange County</td>\n",
       "      <td>19.0</td>\n",
       "      <td>0.133</td>\n",
       "      <td>0.103444</td>\n",
       "      <td>0.1</td>\n",
       "      <td>0</td>\n",
       "      <td>1</td>\n",
       "      <td>0</td>\n",
       "    </tr>\n",
       "    <tr>\n",
       "      <th>1</th>\n",
       "      <td>1387261</td>\n",
       "      <td>17052889</td>\n",
       "      <td>1.0</td>\n",
       "      <td>2.0</td>\n",
       "      <td>6111.0</td>\n",
       "      <td>34449266.0</td>\n",
       "      <td>-119281531.0</td>\n",
       "      <td>12647.0</td>\n",
       "      <td>1110</td>\n",
       "      <td>261.0</td>\n",
       "      <td>...</td>\n",
       "      <td>2017-01-01</td>\n",
       "      <td>Single Family Residential</td>\n",
       "      <td>Ventura County</td>\n",
       "      <td>50.0</td>\n",
       "      <td>0.333</td>\n",
       "      <td>0.290335</td>\n",
       "      <td>0.3</td>\n",
       "      <td>0</td>\n",
       "      <td>0</td>\n",
       "      <td>1</td>\n",
       "    </tr>\n",
       "    <tr>\n",
       "      <th>2</th>\n",
       "      <td>11677</td>\n",
       "      <td>14186244</td>\n",
       "      <td>2.0</td>\n",
       "      <td>3.0</td>\n",
       "      <td>6059.0</td>\n",
       "      <td>33886168.0</td>\n",
       "      <td>-117823170.0</td>\n",
       "      <td>8432.0</td>\n",
       "      <td>122</td>\n",
       "      <td>261.0</td>\n",
       "      <td>...</td>\n",
       "      <td>2017-01-01</td>\n",
       "      <td>Single Family Residential</td>\n",
       "      <td>Orange County</td>\n",
       "      <td>55.0</td>\n",
       "      <td>0.400</td>\n",
       "      <td>0.193572</td>\n",
       "      <td>0.2</td>\n",
       "      <td>0</td>\n",
       "      <td>1</td>\n",
       "      <td>0</td>\n",
       "    </tr>\n",
       "    <tr>\n",
       "      <th>3</th>\n",
       "      <td>2288172</td>\n",
       "      <td>12177905</td>\n",
       "      <td>3.0</td>\n",
       "      <td>4.0</td>\n",
       "      <td>6037.0</td>\n",
       "      <td>34245180.0</td>\n",
       "      <td>-118240722.0</td>\n",
       "      <td>13038.0</td>\n",
       "      <td>0101</td>\n",
       "      <td>261.0</td>\n",
       "      <td>...</td>\n",
       "      <td>2017-01-01</td>\n",
       "      <td>Single Family Residential</td>\n",
       "      <td>Los Angeles County</td>\n",
       "      <td>47.0</td>\n",
       "      <td>0.333</td>\n",
       "      <td>0.299311</td>\n",
       "      <td>0.3</td>\n",
       "      <td>1</td>\n",
       "      <td>0</td>\n",
       "      <td>0</td>\n",
       "    </tr>\n",
       "    <tr>\n",
       "      <th>4</th>\n",
       "      <td>781532</td>\n",
       "      <td>12095076</td>\n",
       "      <td>3.0</td>\n",
       "      <td>4.0</td>\n",
       "      <td>6037.0</td>\n",
       "      <td>34145202.0</td>\n",
       "      <td>-118179824.0</td>\n",
       "      <td>63000.0</td>\n",
       "      <td>0101</td>\n",
       "      <td>261.0</td>\n",
       "      <td>...</td>\n",
       "      <td>2017-01-01</td>\n",
       "      <td>Single Family Residential</td>\n",
       "      <td>Los Angeles County</td>\n",
       "      <td>67.0</td>\n",
       "      <td>0.466</td>\n",
       "      <td>1.446281</td>\n",
       "      <td>0.5</td>\n",
       "      <td>1</td>\n",
       "      <td>0</td>\n",
       "      <td>0</td>\n",
       "    </tr>\n",
       "  </tbody>\n",
       "</table>\n",
       "<p>5 rows × 26 columns</p>\n",
       "</div>"
      ],
      "text/plain": [
       "        id  parcelid  bathroomcnt  bedroomcnt    fips    latitude  \\\n",
       "0  1727539  14297519          3.5         4.0  6059.0  33634931.0   \n",
       "1  1387261  17052889          1.0         2.0  6111.0  34449266.0   \n",
       "2    11677  14186244          2.0         3.0  6059.0  33886168.0   \n",
       "3  2288172  12177905          3.0         4.0  6037.0  34245180.0   \n",
       "4   781532  12095076          3.0         4.0  6037.0  34145202.0   \n",
       "\n",
       "     longitude  lotsizesquarefeet propertycountylandusecode  \\\n",
       "0 -117869207.0             4506.0                       122   \n",
       "1 -119281531.0            12647.0                      1110   \n",
       "2 -117823170.0             8432.0                       122   \n",
       "3 -118240722.0            13038.0                      0101   \n",
       "4 -118179824.0            63000.0                      0101   \n",
       "\n",
       "   propertylandusetypeid  ...  transactiondate        propertylandusedesc  \\\n",
       "0                  261.0  ...       2017-01-01  Single Family Residential   \n",
       "1                  261.0  ...       2017-01-01  Single Family Residential   \n",
       "2                  261.0  ...       2017-01-01  Single Family Residential   \n",
       "3                  261.0  ...       2017-01-01  Single Family Residential   \n",
       "4                  261.0  ...       2017-01-01  Single Family Residential   \n",
       "\n",
       "               County   age  age_bin     acres acres_bin LA Orange  Ventura  \n",
       "0       Orange County  19.0    0.133  0.103444       0.1  0      1        0  \n",
       "1      Ventura County  50.0    0.333  0.290335       0.3  0      0        1  \n",
       "2       Orange County  55.0    0.400  0.193572       0.2  0      1        0  \n",
       "3  Los Angeles County  47.0    0.333  0.299311       0.3  1      0        0  \n",
       "4  Los Angeles County  67.0    0.466  1.446281       0.5  1      0        0  \n",
       "\n",
       "[5 rows x 26 columns]"
      ]
     },
     "execution_count": 23,
     "metadata": {},
     "output_type": "execute_result"
    }
   ],
   "source": [
    "df = get_counties()\n",
    "df.head()\n"
   ]
  },
  {
   "cell_type": "code",
   "execution_count": 25,
   "id": "4492efda",
   "metadata": {
    "scrolled": false
   },
   "outputs": [
    {
     "name": "stdout",
     "output_type": "stream",
     "text": [
      "<class 'pandas.core.frame.DataFrame'>\n",
      "RangeIndex: 52241 entries, 0 to 52240\n",
      "Data columns (total 26 columns):\n",
      " #   Column                     Non-Null Count  Dtype   \n",
      "---  ------                     --------------  -----   \n",
      " 0   id                         52241 non-null  int64   \n",
      " 1   parcelid                   52241 non-null  int64   \n",
      " 2   bathroomcnt                52241 non-null  float64 \n",
      " 3   bedroomcnt                 52241 non-null  float64 \n",
      " 4   fips                       52241 non-null  float64 \n",
      " 5   latitude                   52241 non-null  float64 \n",
      " 6   longitude                  52241 non-null  float64 \n",
      " 7   lotsizesquarefeet          52241 non-null  float64 \n",
      " 8   propertycountylandusecode  52241 non-null  object  \n",
      " 9   propertylandusetypeid      52241 non-null  float64 \n",
      " 10  rawcensustractandblock     52241 non-null  float64 \n",
      " 11  roomcnt                    52241 non-null  float64 \n",
      " 12  yearbuilt                  52241 non-null  float64 \n",
      " 13  taxvaluedollarcnt          52241 non-null  float64 \n",
      " 14  assessmentyear             52241 non-null  float64 \n",
      " 15  logerror                   52241 non-null  float64 \n",
      " 16  transactiondate            52241 non-null  object  \n",
      " 17  propertylandusedesc        52241 non-null  object  \n",
      " 18  County                     52241 non-null  object  \n",
      " 19  age                        52241 non-null  float64 \n",
      " 20  age_bin                    52241 non-null  category\n",
      " 21  acres                      52241 non-null  float64 \n",
      " 22  acres_bin                  52241 non-null  category\n",
      " 23  LA                         52241 non-null  uint8   \n",
      " 24  Orange                     52241 non-null  uint8   \n",
      " 25  Ventura                    52241 non-null  uint8   \n",
      "dtypes: category(2), float64(15), int64(2), object(4), uint8(3)\n",
      "memory usage: 8.6+ MB\n"
     ]
    }
   ],
   "source": [
    "df.info()\n"
   ]
  },
  {
   "cell_type": "code",
   "execution_count": 28,
   "id": "ba1dde0b",
   "metadata": {
    "scrolled": false
   },
   "outputs": [
    {
     "data": {
      "image/png": "[encoded data removed]",
      "text/plain": [
       "<Figure size 432x288 with 1 Axes>"
      ]
     },
     "metadata": {
      "needs_background": "light"
     },
     "output_type": "display_data"
    },
    {
     "data": {
      "image/png": "[encoded data removed]",
      "text/plain": [
       "<Figure size 432x288 with 1 Axes>"
      ]
     },
     "metadata": {
      "needs_background": "light"
     },
     "output_type": "display_data"
    },
    {
     "data": {
      "image/png": "[encoded data removed]",
      "text/plain": [
       "<Figure size 432x288 with 1 Axes>"
      ]
     },
     "metadata": {
      "needs_background": "light"
     },
     "output_type": "display_data"
    },
    {
     "data": {
      "image/png": "[encoded data removed]",
      "text/plain": [
       "<Figure size 432x288 with 1 Axes>"
      ]
     },
     "metadata": {
      "needs_background": "light"
     },
     "output_type": "display_data"
    },
    {
     "data": {
      "image/png": "[encoded data removed]",
      "text/plain": [
       "<Figure size 432x288 with 1 Axes>"
      ]
     },
     "metadata": {
      "needs_background": "light"
     },
     "output_type": "display_data"
    },
    {
     "data": {
      "image/png": "[encoded data removed]",
      "text/plain": [
       "<Figure size 432x288 with 1 Axes>"
      ]
     },
     "metadata": {
      "needs_background": "light"
     },
     "output_type": "display_data"
    },
    {
     "data": {
      "image/png": "[encoded data removed]",
      "text/plain": [
       "<Figure size 432x288 with 1 Axes>"
      ]
     },
     "metadata": {
      "needs_background": "light"
     },
     "output_type": "display_data"
    },
    {
     "data": {
      "image/png": "[encoded data removed]",
      "text/plain": [
       "<Figure size 432x288 with 1 Axes>"
      ]
     },
     "metadata": {
      "needs_background": "light"
     },
     "output_type": "display_data"
    },
    {
     "data": {
      "image/png": "[encoded data removed]",
      "text/plain": [
       "<Figure size 432x288 with 1 Axes>"
      ]
     },
     "metadata": {
      "needs_background": "light"
     },
     "output_type": "display_data"
    },
    {
     "data": {
      "image/png": "[encoded data removed]",
      "text/plain": [
       "<Figure size 432x288 with 1 Axes>"
      ]
     },
     "metadata": {
      "needs_background": "light"
     },
     "output_type": "display_data"
    },
    {
     "data": {
      "image/png": "[encoded data removed]",
      "text/plain": [
       "<Figure size 432x288 with 1 Axes>"
      ]
     },
     "metadata": {
      "needs_background": "light"
     },
     "output_type": "display_data"
    },
    {
     "data": {
      "image/png": "[encoded data removed]",
      "text/plain": [
       "<Figure size 432x288 with 1 Axes>"
      ]
     },
     "metadata": {
      "needs_background": "light"
     },
     "output_type": "display_data"
    },
    {
     "data": {
      "image/png": "[encoded data removed]",
      "text/plain": [
       "<Figure size 432x288 with 1 Axes>"
      ]
     },
     "metadata": {
      "needs_background": "light"
     },
     "output_type": "display_data"
    },
    {
     "data": {
      "image/png": "[encoded data removed]",
      "text/plain": [
       "<Figure size 432x288 with 1 Axes>"
      ]
     },
     "metadata": {
      "needs_background": "light"
     },
     "output_type": "display_data"
    },
    {
     "data": {
      "image/png": "[encoded data removed]",
      "text/plain": [
       "<Figure size 432x288 with 1 Axes>"
      ]
     },
     "metadata": {
      "needs_background": "light"
     },
     "output_type": "display_data"
    },
    {
     "data": {
      "image/png": "[encoded data removed]",
      "text/plain": [
       "<Figure size 432x288 with 1 Axes>"
      ]
     },
     "metadata": {
      "needs_background": "light"
     },
     "output_type": "display_data"
    },
    {
     "data": {
      "image/png": "[encoded data removed]",
      "text/plain": [
       "<Figure size 432x288 with 1 Axes>"
      ]
     },
     "metadata": {
      "needs_background": "light"
     },
     "output_type": "display_data"
    },
    {
     "data": {
      "image/png": "[encoded data removed]",
      "text/plain": [
       "<Figure size 432x288 with 1 Axes>"
      ]
     },
     "metadata": {
      "needs_background": "light"
     },
     "output_type": "display_data"
    },
    {
     "data": {
      "image/png": "[encoded data removed]",
      "text/plain": [
       "<Figure size 432x288 with 1 Axes>"
      ]
     },
     "metadata": {
      "needs_background": "light"
     },
     "output_type": "display_data"
    },
    {
     "data": {
      "image/png": "[encoded data removed]",
      "text/plain": [
       "<Figure size 432x288 with 1 Axes>"
      ]
     },
     "metadata": {
      "needs_background": "light"
     },
     "output_type": "display_data"
    },
    {
     "data": {
      "image/png": "[encoded data removed]",
      "text/plain": [
       "<Figure size 432x288 with 1 Axes>"
      ]
     },
     "metadata": {
      "needs_background": "light"
     },
     "output_type": "display_data"
    },
    {
     "data": {
      "image/png": "[encoded data removed]",
      "text/plain": [
       "<Figure size 432x288 with 1 Axes>"
      ]
     },
     "metadata": {
      "needs_background": "light"
     },
     "output_type": "display_data"
    },
    {
     "data": {
      "image/png": "[encoded data removed]",
      "text/plain": [
       "<Figure size 432x288 with 1 Axes>"
      ]
     },
     "metadata": {
      "needs_background": "light"
     },
     "output_type": "display_data"
    },
    {
     "data": {
      "image/png": "[encoded data removed]",
      "text/plain": [
       "<Figure size 432x288 with 1 Axes>"
      ]
     },
     "metadata": {
      "needs_background": "light"
     },
     "output_type": "display_data"
    },
    {
     "data": {
      "image/png": "[encoded data removed]",
      "text/plain": [
       "<Figure size 432x288 with 1 Axes>"
      ]
     },
     "metadata": {
      "needs_background": "light"
     },
     "output_type": "display_data"
    },
    {
     "data": {
      "image/png": "[encoded data removed]",
      "text/plain": [
       "<Figure size 432x288 with 1 Axes>"
      ]
     },
     "metadata": {
      "needs_background": "light"
     },
     "output_type": "display_data"
    }
   ],
   "source": [
    "for col in df.columns:\n",
    "    plt.hist(df[col])\n",
    "    plt.title(col)\n",
    "    plt.show()\n"
   ]
  },
  {
   "cell_type": "code",
   "execution_count": 30,
   "id": "96e5089d",
   "metadata": {},
   "outputs": [],
   "source": [
    "def remove_outliers():\n",
    "    '''\n",
    "    remove outliers in bed, bath, zip, square feet, acres & tax rate\n",
    "    '''\n",
    "\n",
    "    return df[((df.bathroomcnt <= 7) & (df.bedroomcnt <= 7) &  \n",
    "               (df.bathroomcnt > 0) & \n",
    "               (df.bedroomcnt > 0) & \n",
    "               (df.acres < 20)\n",
    "              )]\n"
   ]
  },
  {
   "cell_type": "code",
   "execution_count": 31,
   "id": "35e9eb4c",
   "metadata": {},
   "outputs": [],
   "source": [
    "df = remove_outliers()"
   ]
  },
  {
   "cell_type": "code",
   "execution_count": 32,
   "id": "6a124c9a",
   "metadata": {},
   "outputs": [
    {
     "data": {
      "text/html": [
       "<div>\n",
       "<style scoped>\n",
       "    .dataframe tbody tr th:only-of-type {\n",
       "        vertical-align: middle;\n",
       "    }\n",
       "\n",
       "    .dataframe tbody tr th {\n",
       "        vertical-align: top;\n",
       "    }\n",
       "\n",
       "    .dataframe thead th {\n",
       "        text-align: right;\n",
       "    }\n",
       "</style>\n",
       "<table border=\"1\" class=\"dataframe\">\n",
       "  <thead>\n",
       "    <tr style=\"text-align: right;\">\n",
       "      <th></th>\n",
       "      <th>id</th>\n",
       "      <th>parcelid</th>\n",
       "      <th>bathroomcnt</th>\n",
       "      <th>bedroomcnt</th>\n",
       "      <th>fips</th>\n",
       "      <th>latitude</th>\n",
       "      <th>longitude</th>\n",
       "      <th>lotsizesquarefeet</th>\n",
       "      <th>propertycountylandusecode</th>\n",
       "      <th>propertylandusetypeid</th>\n",
       "      <th>...</th>\n",
       "      <th>transactiondate</th>\n",
       "      <th>propertylandusedesc</th>\n",
       "      <th>County</th>\n",
       "      <th>age</th>\n",
       "      <th>age_bin</th>\n",
       "      <th>acres</th>\n",
       "      <th>acres_bin</th>\n",
       "      <th>LA</th>\n",
       "      <th>Orange</th>\n",
       "      <th>Ventura</th>\n",
       "    </tr>\n",
       "  </thead>\n",
       "  <tbody>\n",
       "    <tr>\n",
       "      <th>0</th>\n",
       "      <td>1727539</td>\n",
       "      <td>14297519</td>\n",
       "      <td>3.5</td>\n",
       "      <td>4.0</td>\n",
       "      <td>6059.0</td>\n",
       "      <td>33634931.0</td>\n",
       "      <td>-117869207.0</td>\n",
       "      <td>4506.0</td>\n",
       "      <td>122</td>\n",
       "      <td>261.0</td>\n",
       "      <td>...</td>\n",
       "      <td>2017-01-01</td>\n",
       "      <td>Single Family Residential</td>\n",
       "      <td>Orange County</td>\n",
       "      <td>19.0</td>\n",
       "      <td>0.133</td>\n",
       "      <td>0.103444</td>\n",
       "      <td>0.1</td>\n",
       "      <td>0</td>\n",
       "      <td>1</td>\n",
       "      <td>0</td>\n",
       "    </tr>\n",
       "    <tr>\n",
       "      <th>1</th>\n",
       "      <td>1387261</td>\n",
       "      <td>17052889</td>\n",
       "      <td>1.0</td>\n",
       "      <td>2.0</td>\n",
       "      <td>6111.0</td>\n",
       "      <td>34449266.0</td>\n",
       "      <td>-119281531.0</td>\n",
       "      <td>12647.0</td>\n",
       "      <td>1110</td>\n",
       "      <td>261.0</td>\n",
       "      <td>...</td>\n",
       "      <td>2017-01-01</td>\n",
       "      <td>Single Family Residential</td>\n",
       "      <td>Ventura County</td>\n",
       "      <td>50.0</td>\n",
       "      <td>0.333</td>\n",
       "      <td>0.290335</td>\n",
       "      <td>0.3</td>\n",
       "      <td>0</td>\n",
       "      <td>0</td>\n",
       "      <td>1</td>\n",
       "    </tr>\n",
       "    <tr>\n",
       "      <th>2</th>\n",
       "      <td>11677</td>\n",
       "      <td>14186244</td>\n",
       "      <td>2.0</td>\n",
       "      <td>3.0</td>\n",
       "      <td>6059.0</td>\n",
       "      <td>33886168.0</td>\n",
       "      <td>-117823170.0</td>\n",
       "      <td>8432.0</td>\n",
       "      <td>122</td>\n",
       "      <td>261.0</td>\n",
       "      <td>...</td>\n",
       "      <td>2017-01-01</td>\n",
       "      <td>Single Family Residential</td>\n",
       "      <td>Orange County</td>\n",
       "      <td>55.0</td>\n",
       "      <td>0.400</td>\n",
       "      <td>0.193572</td>\n",
       "      <td>0.2</td>\n",
       "      <td>0</td>\n",
       "      <td>1</td>\n",
       "      <td>0</td>\n",
       "    </tr>\n",
       "    <tr>\n",
       "      <th>3</th>\n",
       "      <td>2288172</td>\n",
       "      <td>12177905</td>\n",
       "      <td>3.0</td>\n",
       "      <td>4.0</td>\n",
       "      <td>6037.0</td>\n",
       "      <td>34245180.0</td>\n",
       "      <td>-118240722.0</td>\n",
       "      <td>13038.0</td>\n",
       "      <td>0101</td>\n",
       "      <td>261.0</td>\n",
       "      <td>...</td>\n",
       "      <td>2017-01-01</td>\n",
       "      <td>Single Family Residential</td>\n",
       "      <td>Los Angeles County</td>\n",
       "      <td>47.0</td>\n",
       "      <td>0.333</td>\n",
       "      <td>0.299311</td>\n",
       "      <td>0.3</td>\n",
       "      <td>1</td>\n",
       "      <td>0</td>\n",
       "      <td>0</td>\n",
       "    </tr>\n",
       "    <tr>\n",
       "      <th>4</th>\n",
       "      <td>781532</td>\n",
       "      <td>12095076</td>\n",
       "      <td>3.0</td>\n",
       "      <td>4.0</td>\n",
       "      <td>6037.0</td>\n",
       "      <td>34145202.0</td>\n",
       "      <td>-118179824.0</td>\n",
       "      <td>63000.0</td>\n",
       "      <td>0101</td>\n",
       "      <td>261.0</td>\n",
       "      <td>...</td>\n",
       "      <td>2017-01-01</td>\n",
       "      <td>Single Family Residential</td>\n",
       "      <td>Los Angeles County</td>\n",
       "      <td>67.0</td>\n",
       "      <td>0.466</td>\n",
       "      <td>1.446281</td>\n",
       "      <td>0.5</td>\n",
       "      <td>1</td>\n",
       "      <td>0</td>\n",
       "      <td>0</td>\n",
       "    </tr>\n",
       "  </tbody>\n",
       "</table>\n",
       "<p>5 rows × 26 columns</p>\n",
       "</div>"
      ],
      "text/plain": [
       "        id  parcelid  bathroomcnt  bedroomcnt    fips    latitude  \\\n",
       "0  1727539  14297519          3.5         4.0  6059.0  33634931.0   \n",
       "1  1387261  17052889          1.0         2.0  6111.0  34449266.0   \n",
       "2    11677  14186244          2.0         3.0  6059.0  33886168.0   \n",
       "3  2288172  12177905          3.0         4.0  6037.0  34245180.0   \n",
       "4   781532  12095076          3.0         4.0  6037.0  34145202.0   \n",
       "\n",
       "     longitude  lotsizesquarefeet propertycountylandusecode  \\\n",
       "0 -117869207.0             4506.0                       122   \n",
       "1 -119281531.0            12647.0                      1110   \n",
       "2 -117823170.0             8432.0                       122   \n",
       "3 -118240722.0            13038.0                      0101   \n",
       "4 -118179824.0            63000.0                      0101   \n",
       "\n",
       "   propertylandusetypeid  ...  transactiondate        propertylandusedesc  \\\n",
       "0                  261.0  ...       2017-01-01  Single Family Residential   \n",
       "1                  261.0  ...       2017-01-01  Single Family Residential   \n",
       "2                  261.0  ...       2017-01-01  Single Family Residential   \n",
       "3                  261.0  ...       2017-01-01  Single Family Residential   \n",
       "4                  261.0  ...       2017-01-01  Single Family Residential   \n",
       "\n",
       "               County   age  age_bin     acres acres_bin LA Orange  Ventura  \n",
       "0       Orange County  19.0    0.133  0.103444       0.1  0      1        0  \n",
       "1      Ventura County  50.0    0.333  0.290335       0.3  0      0        1  \n",
       "2       Orange County  55.0    0.400  0.193572       0.2  0      1        0  \n",
       "3  Los Angeles County  47.0    0.333  0.299311       0.3  1      0        0  \n",
       "4  Los Angeles County  67.0    0.466  1.446281       0.5  1      0        0  \n",
       "\n",
       "[5 rows x 26 columns]"
      ]
     },
     "execution_count": 32,
     "metadata": {},
     "output_type": "execute_result"
    }
   ],
   "source": [
    "df.head()"
   ]
  },
  {
   "cell_type": "code",
   "execution_count": 33,
   "id": "5f56e84b",
   "metadata": {},
   "outputs": [
    {
     "name": "stdout",
     "output_type": "stream",
     "text": [
      "<class 'pandas.core.frame.DataFrame'>\n",
      "Int64Index: 52030 entries, 0 to 52240\n",
      "Data columns (total 26 columns):\n",
      " #   Column                     Non-Null Count  Dtype   \n",
      "---  ------                     --------------  -----   \n",
      " 0   id                         52030 non-null  int64   \n",
      " 1   parcelid                   52030 non-null  int64   \n",
      " 2   bathroomcnt                52030 non-null  float64 \n",
      " 3   bedroomcnt                 52030 non-null  float64 \n",
      " 4   fips                       52030 non-null  float64 \n",
      " 5   latitude                   52030 non-null  float64 \n",
      " 6   longitude                  52030 non-null  float64 \n",
      " 7   lotsizesquarefeet          52030 non-null  float64 \n",
      " 8   propertycountylandusecode  52030 non-null  object  \n",
      " 9   propertylandusetypeid      52030 non-null  float64 \n",
      " 10  rawcensustractandblock     52030 non-null  float64 \n",
      " 11  roomcnt                    52030 non-null  float64 \n",
      " 12  yearbuilt                  52030 non-null  float64 \n",
      " 13  taxvaluedollarcnt          52030 non-null  float64 \n",
      " 14  assessmentyear             52030 non-null  float64 \n",
      " 15  logerror                   52030 non-null  float64 \n",
      " 16  transactiondate            52030 non-null  object  \n",
      " 17  propertylandusedesc        52030 non-null  object  \n",
      " 18  County                     52030 non-null  object  \n",
      " 19  age                        52030 non-null  float64 \n",
      " 20  age_bin                    52030 non-null  category\n",
      " 21  acres                      52030 non-null  float64 \n",
      " 22  acres_bin                  52030 non-null  category\n",
      " 23  LA                         52030 non-null  uint8   \n",
      " 24  Orange                     52030 non-null  uint8   \n",
      " 25  Ventura                    52030 non-null  uint8   \n",
      "dtypes: category(2), float64(15), int64(2), object(4), uint8(3)\n",
      "memory usage: 9.0+ MB\n"
     ]
    }
   ],
   "source": [
    "df.info()"
   ]
  },
  {
   "cell_type": "markdown",
   "id": "28933e3c",
   "metadata": {},
   "source": [
    "##  Data exploration "
   ]
  },
  {
   "cell_type": "code",
   "execution_count": null,
   "id": "372d565f",
   "metadata": {},
   "outputs": [],
   "source": []
  },
  {
   "cell_type": "code",
   "execution_count": null,
   "id": "5cf40c20",
   "metadata": {},
   "outputs": [],
   "source": []
  },
  {
   "cell_type": "code",
   "execution_count": null,
   "id": "a422ab20",
   "metadata": {},
   "outputs": [],
   "source": []
  },
  {
   "cell_type": "code",
   "execution_count": null,
   "id": "edd40b4e",
   "metadata": {},
   "outputs": [],
   "source": []
  },
  {
   "cell_type": "code",
   "execution_count": null,
   "id": "9b7603b8",
   "metadata": {},
   "outputs": [],
   "source": []
  },
  {
   "cell_type": "code",
   "execution_count": null,
   "id": "05ed6078",
   "metadata": {},
   "outputs": [],
   "source": []
  },
  {
   "cell_type": "code",
   "execution_count": null,
   "id": "c909569e",
   "metadata": {},
   "outputs": [],
   "source": []
  },
  {
   "cell_type": "code",
   "execution_count": null,
   "id": "20d8ad13",
   "metadata": {},
   "outputs": [],
   "source": []
  },
  {
   "cell_type": "code",
   "execution_count": null,
   "id": "26835dfc",
   "metadata": {},
   "outputs": [],
   "source": []
  },
  {
   "cell_type": "code",
   "execution_count": null,
   "id": "d8a05046",
   "metadata": {},
   "outputs": [],
   "source": []
  },
  {
   "cell_type": "code",
   "execution_count": null,
   "id": "390975d1",
   "metadata": {},
   "outputs": [],
   "source": []
  },
  {
   "cell_type": "code",
   "execution_count": null,
   "id": "8c11df6e",
   "metadata": {},
   "outputs": [],
   "source": []
  },
  {
   "cell_type": "code",
   "execution_count": null,
   "id": "b546191a",
   "metadata": {},
   "outputs": [],
   "source": []
  },
  {
   "cell_type": "code",
   "execution_count": null,
   "id": "dbb2ca74",
   "metadata": {},
   "outputs": [],
   "source": []
  },
  {
   "cell_type": "code",
   "execution_count": null,
   "id": "d4a47703",
   "metadata": {},
   "outputs": [],
   "source": []
  },
  {
   "cell_type": "code",
   "execution_count": null,
   "id": "0c790df1",
   "metadata": {},
   "outputs": [],
   "source": []
  },
  {
   "cell_type": "code",
   "execution_count": null,
   "id": "5862eb70",
   "metadata": {},
   "outputs": [],
   "source": []
  },
  {
   "cell_type": "code",
   "execution_count": null,
   "id": "0e6235b3",
   "metadata": {},
   "outputs": [],
   "source": []
  },
  {
   "cell_type": "code",
   "execution_count": null,
   "id": "ce621ecb",
   "metadata": {},
   "outputs": [],
   "source": []
  },
  {
   "cell_type": "code",
   "execution_count": null,
   "id": "3404b958",
   "metadata": {},
   "outputs": [],
   "source": []
  }
 ],
 "metadata": {
  "kernelspec": {
   "display_name": "Python 3 (ipykernel)",
   "language": "python",
   "name": "python3"
  },
  "language_info": {
   "codemirror_mode": {
    "name": "ipython",
    "version": 3
   },
   "file_extension": ".py",
   "mimetype": "text/x-python",
   "name": "python",
   "nbconvert_exporter": "python",
   "pygments_lexer": "ipython3",
   "version": "3.9.12"
  }
 },
 "nbformat": 4,
 "nbformat_minor": 5
}
