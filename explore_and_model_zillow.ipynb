{
 "cells": [
  {
   "cell_type": "code",
   "execution_count": 1,
   "id": "7fa98797",
   "metadata": {},
   "outputs": [],
   "source": [
    "import warnings\n",
    "warnings.filterwarnings(\"ignore\")\n",
    "\n",
    "import pandas as pd\n",
    "import numpy as np\n",
    "import seaborn as sns\n",
    "import matplotlib.pyplot as plt\n",
    "from scipy import stats\n",
    "import sklearn.preprocessing\n",
    "from sklearn.model_selection import train_test_split\n",
    "from sklearn.preprocessing import MinMaxScaler\n",
    "from sklearn.cluster import KMeans\n",
    "from wrangle import wrangle_zillow\n",
    "from sklearn.linear_model import LinearRegression, LassoLars, TweedieRegressor\n",
    "from sklearn.preprocessing import PolynomialFeatures"
   ]
  },
  {
   "cell_type": "code",
   "execution_count": 2,
   "id": "6ab4652d",
   "metadata": {},
   "outputs": [],
   "source": [
    "df = wrangle_zillow()"
   ]
  },
  {
   "cell_type": "code",
   "execution_count": 3,
   "id": "0c2ff480",
   "metadata": {},
   "outputs": [
    {
     "data": {
      "text/html": [
       "<div>\n",
       "<style scoped>\n",
       "    .dataframe tbody tr th:only-of-type {\n",
       "        vertical-align: middle;\n",
       "    }\n",
       "\n",
       "    .dataframe tbody tr th {\n",
       "        vertical-align: top;\n",
       "    }\n",
       "\n",
       "    .dataframe thead th {\n",
       "        text-align: right;\n",
       "    }\n",
       "</style>\n",
       "<table border=\"1\" class=\"dataframe\">\n",
       "  <thead>\n",
       "    <tr style=\"text-align: right;\">\n",
       "      <th></th>\n",
       "      <th>id</th>\n",
       "      <th>parcelid</th>\n",
       "      <th>bathroomcnt</th>\n",
       "      <th>bedroomcnt</th>\n",
       "      <th>fips</th>\n",
       "      <th>latitude</th>\n",
       "      <th>longitude</th>\n",
       "      <th>lotsizesquarefeet</th>\n",
       "      <th>propertycountylandusecode</th>\n",
       "      <th>propertylandusetypeid</th>\n",
       "      <th>...</th>\n",
       "      <th>transactiondate</th>\n",
       "      <th>propertylandusedesc</th>\n",
       "      <th>County</th>\n",
       "      <th>age</th>\n",
       "      <th>age_bin</th>\n",
       "      <th>acres</th>\n",
       "      <th>acres_bin</th>\n",
       "      <th>LA</th>\n",
       "      <th>Orange</th>\n",
       "      <th>Ventura</th>\n",
       "    </tr>\n",
       "  </thead>\n",
       "  <tbody>\n",
       "    <tr>\n",
       "      <th>0</th>\n",
       "      <td>1727539</td>\n",
       "      <td>14297519</td>\n",
       "      <td>3.5</td>\n",
       "      <td>4.0</td>\n",
       "      <td>6059.0</td>\n",
       "      <td>33634931.0</td>\n",
       "      <td>-117869207.0</td>\n",
       "      <td>4506.0</td>\n",
       "      <td>122</td>\n",
       "      <td>261.0</td>\n",
       "      <td>...</td>\n",
       "      <td>2017-01-01</td>\n",
       "      <td>Single Family Residential</td>\n",
       "      <td>Orange County</td>\n",
       "      <td>19.0</td>\n",
       "      <td>0.133</td>\n",
       "      <td>0.103444</td>\n",
       "      <td>0.1</td>\n",
       "      <td>0</td>\n",
       "      <td>1</td>\n",
       "      <td>0</td>\n",
       "    </tr>\n",
       "    <tr>\n",
       "      <th>1</th>\n",
       "      <td>1387261</td>\n",
       "      <td>17052889</td>\n",
       "      <td>1.0</td>\n",
       "      <td>2.0</td>\n",
       "      <td>6111.0</td>\n",
       "      <td>34449266.0</td>\n",
       "      <td>-119281531.0</td>\n",
       "      <td>12647.0</td>\n",
       "      <td>1110</td>\n",
       "      <td>261.0</td>\n",
       "      <td>...</td>\n",
       "      <td>2017-01-01</td>\n",
       "      <td>Single Family Residential</td>\n",
       "      <td>Ventura County</td>\n",
       "      <td>50.0</td>\n",
       "      <td>0.333</td>\n",
       "      <td>0.290335</td>\n",
       "      <td>0.3</td>\n",
       "      <td>0</td>\n",
       "      <td>0</td>\n",
       "      <td>1</td>\n",
       "    </tr>\n",
       "    <tr>\n",
       "      <th>2</th>\n",
       "      <td>11677</td>\n",
       "      <td>14186244</td>\n",
       "      <td>2.0</td>\n",
       "      <td>3.0</td>\n",
       "      <td>6059.0</td>\n",
       "      <td>33886168.0</td>\n",
       "      <td>-117823170.0</td>\n",
       "      <td>8432.0</td>\n",
       "      <td>122</td>\n",
       "      <td>261.0</td>\n",
       "      <td>...</td>\n",
       "      <td>2017-01-01</td>\n",
       "      <td>Single Family Residential</td>\n",
       "      <td>Orange County</td>\n",
       "      <td>55.0</td>\n",
       "      <td>0.400</td>\n",
       "      <td>0.193572</td>\n",
       "      <td>0.2</td>\n",
       "      <td>0</td>\n",
       "      <td>1</td>\n",
       "      <td>0</td>\n",
       "    </tr>\n",
       "  </tbody>\n",
       "</table>\n",
       "<p>3 rows × 26 columns</p>\n",
       "</div>"
      ],
      "text/plain": [
       "        id  parcelid  bathroomcnt  bedroomcnt    fips    latitude  \\\n",
       "0  1727539  14297519          3.5         4.0  6059.0  33634931.0   \n",
       "1  1387261  17052889          1.0         2.0  6111.0  34449266.0   \n",
       "2    11677  14186244          2.0         3.0  6059.0  33886168.0   \n",
       "\n",
       "     longitude  lotsizesquarefeet propertycountylandusecode  \\\n",
       "0 -117869207.0             4506.0                       122   \n",
       "1 -119281531.0            12647.0                      1110   \n",
       "2 -117823170.0             8432.0                       122   \n",
       "\n",
       "   propertylandusetypeid  ...  transactiondate        propertylandusedesc  \\\n",
       "0                  261.0  ...       2017-01-01  Single Family Residential   \n",
       "1                  261.0  ...       2017-01-01  Single Family Residential   \n",
       "2                  261.0  ...       2017-01-01  Single Family Residential   \n",
       "\n",
       "           County   age  age_bin     acres acres_bin LA Orange  Ventura  \n",
       "0   Orange County  19.0    0.133  0.103444       0.1  0      1        0  \n",
       "1  Ventura County  50.0    0.333  0.290335       0.3  0      0        1  \n",
       "2   Orange County  55.0    0.400  0.193572       0.2  0      1        0  \n",
       "\n",
       "[3 rows x 26 columns]"
      ]
     },
     "execution_count": 3,
     "metadata": {},
     "output_type": "execute_result"
    }
   ],
   "source": [
    "df.head(3)"
   ]
  },
  {
   "cell_type": "code",
   "execution_count": 4,
   "id": "ae362fb5",
   "metadata": {},
   "outputs": [
    {
     "name": "stdout",
     "output_type": "stream",
     "text": [
      "<class 'pandas.core.frame.DataFrame'>\n",
      "RangeIndex: 52030 entries, 0 to 52029\n",
      "Data columns (total 26 columns):\n",
      " #   Column                     Non-Null Count  Dtype  \n",
      "---  ------                     --------------  -----  \n",
      " 0   id                         52030 non-null  int64  \n",
      " 1   parcelid                   52030 non-null  int64  \n",
      " 2   bathroomcnt                52030 non-null  float64\n",
      " 3   bedroomcnt                 52030 non-null  float64\n",
      " 4   fips                       52030 non-null  float64\n",
      " 5   latitude                   52030 non-null  float64\n",
      " 6   longitude                  52030 non-null  float64\n",
      " 7   lotsizesquarefeet          52030 non-null  float64\n",
      " 8   propertycountylandusecode  52030 non-null  object \n",
      " 9   propertylandusetypeid      52030 non-null  float64\n",
      " 10  rawcensustractandblock     52030 non-null  float64\n",
      " 11  roomcnt                    52030 non-null  float64\n",
      " 12  yearbuilt                  52030 non-null  float64\n",
      " 13  taxvaluedollarcnt          52030 non-null  float64\n",
      " 14  assessmentyear             52030 non-null  float64\n",
      " 15  logerror                   52030 non-null  float64\n",
      " 16  transactiondate            52030 non-null  object \n",
      " 17  propertylandusedesc        52030 non-null  object \n",
      " 18  County                     52030 non-null  object \n",
      " 19  age                        52030 non-null  float64\n",
      " 20  age_bin                    52030 non-null  float64\n",
      " 21  acres                      52030 non-null  float64\n",
      " 22  acres_bin                  52030 non-null  float64\n",
      " 23  LA                         52030 non-null  int64  \n",
      " 24  Orange                     52030 non-null  int64  \n",
      " 25  Ventura                    52030 non-null  int64  \n",
      "dtypes: float64(17), int64(5), object(4)\n",
      "memory usage: 10.3+ MB\n"
     ]
    }
   ],
   "source": [
    "df.info()"
   ]
  },
  {
   "cell_type": "code",
   "execution_count": 5,
   "id": "b2fc005e",
   "metadata": {},
   "outputs": [],
   "source": [
    "\n",
    "def train_validate_test_split(df):\n",
    "    '''\n",
    "    This function performs split on telco data, stratify churn.\n",
    "    Returns train, validate, and test dfs.\n",
    "    '''\n",
    "    train_validate, test = train_test_split(df, test_size=.2, \n",
    "                                        random_state=123, stratify=df.fips)\n",
    "    train, validate = train_test_split(train_validate, test_size=.3, \n",
    "                                   random_state=123,  stratify=train_validate.fips)\n",
    "\n",
    "    return train, validate, test"
   ]
  },
  {
   "cell_type": "code",
   "execution_count": 6,
   "id": "91364d09",
   "metadata": {},
   "outputs": [
    {
     "data": {
      "text/plain": [
       "((29136, 26), (12488, 26), (10406, 26))"
      ]
     },
     "execution_count": 6,
     "metadata": {},
     "output_type": "execute_result"
    }
   ],
   "source": [
    "train, validate, test = train_validate_test_split(df)\n",
    "\n",
    "\n",
    "train.shape, validate.shape, test.shape"
   ]
  },
  {
   "cell_type": "code",
   "execution_count": 7,
   "id": "a446845d",
   "metadata": {
    "scrolled": true
   },
   "outputs": [
    {
     "data": {
      "text/html": [
       "<div>\n",
       "<style scoped>\n",
       "    .dataframe tbody tr th:only-of-type {\n",
       "        vertical-align: middle;\n",
       "    }\n",
       "\n",
       "    .dataframe tbody tr th {\n",
       "        vertical-align: top;\n",
       "    }\n",
       "\n",
       "    .dataframe thead th {\n",
       "        text-align: right;\n",
       "    }\n",
       "</style>\n",
       "<table border=\"1\" class=\"dataframe\">\n",
       "  <thead>\n",
       "    <tr style=\"text-align: right;\">\n",
       "      <th></th>\n",
       "      <th>id</th>\n",
       "      <th>parcelid</th>\n",
       "      <th>bathroomcnt</th>\n",
       "      <th>bedroomcnt</th>\n",
       "      <th>fips</th>\n",
       "      <th>latitude</th>\n",
       "      <th>longitude</th>\n",
       "      <th>lotsizesquarefeet</th>\n",
       "      <th>propertycountylandusecode</th>\n",
       "      <th>propertylandusetypeid</th>\n",
       "      <th>...</th>\n",
       "      <th>transactiondate</th>\n",
       "      <th>propertylandusedesc</th>\n",
       "      <th>County</th>\n",
       "      <th>age</th>\n",
       "      <th>age_bin</th>\n",
       "      <th>acres</th>\n",
       "      <th>acres_bin</th>\n",
       "      <th>LA</th>\n",
       "      <th>Orange</th>\n",
       "      <th>Ventura</th>\n",
       "    </tr>\n",
       "  </thead>\n",
       "  <tbody>\n",
       "    <tr>\n",
       "      <th>34264</th>\n",
       "      <td>2036202</td>\n",
       "      <td>12529787</td>\n",
       "      <td>4.0</td>\n",
       "      <td>4.0</td>\n",
       "      <td>6037.0</td>\n",
       "      <td>33770665.0</td>\n",
       "      <td>-118120850.0</td>\n",
       "      <td>6570.0</td>\n",
       "      <td>0101</td>\n",
       "      <td>261.0</td>\n",
       "      <td>...</td>\n",
       "      <td>2017-06-27</td>\n",
       "      <td>Single Family Residential</td>\n",
       "      <td>Los Angeles County</td>\n",
       "      <td>52.0</td>\n",
       "      <td>0.400</td>\n",
       "      <td>0.150826</td>\n",
       "      <td>0.2</td>\n",
       "      <td>1</td>\n",
       "      <td>0</td>\n",
       "      <td>0</td>\n",
       "    </tr>\n",
       "    <tr>\n",
       "      <th>8237</th>\n",
       "      <td>2883002</td>\n",
       "      <td>11848044</td>\n",
       "      <td>2.0</td>\n",
       "      <td>2.0</td>\n",
       "      <td>6037.0</td>\n",
       "      <td>34047118.0</td>\n",
       "      <td>-118135592.0</td>\n",
       "      <td>11051.0</td>\n",
       "      <td>0101</td>\n",
       "      <td>261.0</td>\n",
       "      <td>...</td>\n",
       "      <td>2017-02-24</td>\n",
       "      <td>Single Family Residential</td>\n",
       "      <td>Los Angeles County</td>\n",
       "      <td>65.0</td>\n",
       "      <td>0.466</td>\n",
       "      <td>0.253696</td>\n",
       "      <td>0.3</td>\n",
       "      <td>1</td>\n",
       "      <td>0</td>\n",
       "      <td>0</td>\n",
       "    </tr>\n",
       "    <tr>\n",
       "      <th>31640</th>\n",
       "      <td>2759592</td>\n",
       "      <td>17271234</td>\n",
       "      <td>2.0</td>\n",
       "      <td>3.0</td>\n",
       "      <td>6111.0</td>\n",
       "      <td>34168614.0</td>\n",
       "      <td>-118954733.0</td>\n",
       "      <td>15259.0</td>\n",
       "      <td>1111</td>\n",
       "      <td>261.0</td>\n",
       "      <td>...</td>\n",
       "      <td>2017-06-16</td>\n",
       "      <td>Single Family Residential</td>\n",
       "      <td>Ventura County</td>\n",
       "      <td>33.0</td>\n",
       "      <td>0.266</td>\n",
       "      <td>0.350298</td>\n",
       "      <td>0.3</td>\n",
       "      <td>0</td>\n",
       "      <td>0</td>\n",
       "      <td>1</td>\n",
       "    </tr>\n",
       "    <tr>\n",
       "      <th>14309</th>\n",
       "      <td>1044874</td>\n",
       "      <td>17266806</td>\n",
       "      <td>2.0</td>\n",
       "      <td>3.0</td>\n",
       "      <td>6111.0</td>\n",
       "      <td>34167209.0</td>\n",
       "      <td>-118938046.0</td>\n",
       "      <td>7422.0</td>\n",
       "      <td>1111</td>\n",
       "      <td>261.0</td>\n",
       "      <td>...</td>\n",
       "      <td>2017-03-30</td>\n",
       "      <td>Single Family Residential</td>\n",
       "      <td>Ventura County</td>\n",
       "      <td>46.0</td>\n",
       "      <td>0.333</td>\n",
       "      <td>0.170386</td>\n",
       "      <td>0.2</td>\n",
       "      <td>0</td>\n",
       "      <td>0</td>\n",
       "      <td>1</td>\n",
       "    </tr>\n",
       "    <tr>\n",
       "      <th>50710</th>\n",
       "      <td>2848400</td>\n",
       "      <td>17068575</td>\n",
       "      <td>4.0</td>\n",
       "      <td>3.0</td>\n",
       "      <td>6111.0</td>\n",
       "      <td>34359245.0</td>\n",
       "      <td>-119312477.0</td>\n",
       "      <td>162914.0</td>\n",
       "      <td>1110</td>\n",
       "      <td>261.0</td>\n",
       "      <td>...</td>\n",
       "      <td>2017-09-12</td>\n",
       "      <td>Single Family Residential</td>\n",
       "      <td>Ventura County</td>\n",
       "      <td>28.0</td>\n",
       "      <td>0.200</td>\n",
       "      <td>3.739991</td>\n",
       "      <td>0.5</td>\n",
       "      <td>0</td>\n",
       "      <td>0</td>\n",
       "      <td>1</td>\n",
       "    </tr>\n",
       "  </tbody>\n",
       "</table>\n",
       "<p>5 rows × 26 columns</p>\n",
       "</div>"
      ],
      "text/plain": [
       "            id  parcelid  bathroomcnt  bedroomcnt    fips    latitude  \\\n",
       "34264  2036202  12529787          4.0         4.0  6037.0  33770665.0   \n",
       "8237   2883002  11848044          2.0         2.0  6037.0  34047118.0   \n",
       "31640  2759592  17271234          2.0         3.0  6111.0  34168614.0   \n",
       "14309  1044874  17266806          2.0         3.0  6111.0  34167209.0   \n",
       "50710  2848400  17068575          4.0         3.0  6111.0  34359245.0   \n",
       "\n",
       "         longitude  lotsizesquarefeet propertycountylandusecode  \\\n",
       "34264 -118120850.0             6570.0                      0101   \n",
       "8237  -118135592.0            11051.0                      0101   \n",
       "31640 -118954733.0            15259.0                      1111   \n",
       "14309 -118938046.0             7422.0                      1111   \n",
       "50710 -119312477.0           162914.0                      1110   \n",
       "\n",
       "       propertylandusetypeid  ...  transactiondate        propertylandusedesc  \\\n",
       "34264                  261.0  ...       2017-06-27  Single Family Residential   \n",
       "8237                   261.0  ...       2017-02-24  Single Family Residential   \n",
       "31640                  261.0  ...       2017-06-16  Single Family Residential   \n",
       "14309                  261.0  ...       2017-03-30  Single Family Residential   \n",
       "50710                  261.0  ...       2017-09-12  Single Family Residential   \n",
       "\n",
       "                   County   age  age_bin     acres acres_bin LA Orange  \\\n",
       "34264  Los Angeles County  52.0    0.400  0.150826       0.2  1      0   \n",
       "8237   Los Angeles County  65.0    0.466  0.253696       0.3  1      0   \n",
       "31640      Ventura County  33.0    0.266  0.350298       0.3  0      0   \n",
       "14309      Ventura County  46.0    0.333  0.170386       0.2  0      0   \n",
       "50710      Ventura County  28.0    0.200  3.739991       0.5  0      0   \n",
       "\n",
       "       Ventura  \n",
       "34264        0  \n",
       "8237         0  \n",
       "31640        1  \n",
       "14309        1  \n",
       "50710        1  \n",
       "\n",
       "[5 rows x 26 columns]"
      ]
     },
     "execution_count": 7,
     "metadata": {},
     "output_type": "execute_result"
    }
   ],
   "source": [
    "train.head()"
   ]
  },
  {
   "cell_type": "code",
   "execution_count": null,
   "id": "015a0874",
   "metadata": {},
   "outputs": [],
   "source": [
    "df.info()"
   ]
  },
  {
   "cell_type": "code",
   "execution_count": 8,
   "id": "a5b43051",
   "metadata": {
    "scrolled": false
   },
   "outputs": [
    {
     "name": "stdout",
     "output_type": "stream",
     "text": [
      "Variance of logerror for Los Angeles County.\n",
      "0.02740415350675282\n",
      "Variance of logerror for Orange County.\n",
      "0.038419850345884216\n",
      "Variance of logerror for Ventura County.\n",
      "0.024150919610820307\n"
     ]
    },
    {
     "data": {
      "image/png": "[encoded data removed]",
      "text/plain": [
       "<Figure size 432x288 with 1 Axes>"
      ]
     },
     "metadata": {
      "needs_background": "light"
     },
     "output_type": "display_data"
    },
    {
     "data": {
      "image/png": "[encoded data removed]",
      "text/plain": [
       "<Figure size 432x288 with 1 Axes>"
      ]
     },
     "metadata": {
      "needs_background": "light"
     },
     "output_type": "display_data"
    },
    {
     "data": {
      "image/png": "[encoded data removed]",
      "text/plain": [
       "<Figure size 432x288 with 1 Axes>"
      ]
     },
     "metadata": {
      "needs_background": "light"
     },
     "output_type": "display_data"
    }
   ],
   "source": [
    "#Loop through my counties and plot the distribution of the target variable\n",
    "county_list = ['Los Angeles County', 'Orange County', 'Ventura County']\n",
    "\n",
    "for County in county_list:\n",
    "    print('Variance of logerror for {}.'.format(County))\n",
    "    print(df[df['County'] == County].logerror.var())\n",
    "    \n",
    "    plt.figure()\n",
    "    plt.title('Distribution of logerror for {}.'.format(County))\n",
    "    plt.hist(df[df['County'] == County].logerror, bins=25)"
   ]
  },
  {
   "cell_type": "code",
   "execution_count": null,
   "id": "7011f9f8",
   "metadata": {},
   "outputs": [],
   "source": []
  },
  {
   "cell_type": "code",
   "execution_count": 9,
   "id": "f65b1f62",
   "metadata": {
    "scrolled": true
   },
   "outputs": [
    {
     "data": {
      "text/plain": [
       "<AxesSubplot:xlabel='County', ylabel='logerror'>"
      ]
     },
     "execution_count": 9,
     "metadata": {},
     "output_type": "execute_result"
    },
    {
     "data": {
      "image/png": "[encoded data removed]",
      "text/plain": [
       "<Figure size 432x288 with 1 Axes>"
      ]
     },
     "metadata": {
      "needs_background": "light"
     },
     "output_type": "display_data"
    }
   ],
   "source": [
    "#Compare the average log error between counties\n",
    "sns.barplot(x='County', y='logerror', data=train, palette= \"bright\")"
   ]
  },
  {
   "cell_type": "markdown",
   "id": "e5d52cef",
   "metadata": {},
   "source": [
    "## Question 1 - Is log error significantly different for properties in the three counties?\n",
    "\n",
    "Null hypothesis: Log error will be the same across all three counties.\n",
    "Alternative hypothesis: Log error will vary based on county."
   ]
  },
  {
   "cell_type": "code",
   "execution_count": 10,
   "id": "8ab2d1e5",
   "metadata": {},
   "outputs": [
    {
     "data": {
      "text/plain": [
       "(22.500550909641934, 1.7074916354433785e-10)"
      ]
     },
     "execution_count": 10,
     "metadata": {},
     "output_type": "execute_result"
    }
   ],
   "source": [
    "#Conduct an ANOVA test between the counties\n",
    "f_county, p_county = stats.f_oneway(df[df['County'] == 'Los Angeles County'].logerror,\n",
    "                                    df[df['County'] == 'Orange County'].logerror,\n",
    "                                    df[df['County'] == 'Ventura County'].logerror)\n",
    "\n",
    "f_county, p_county"
   ]
  },
  {
   "cell_type": "code",
   "execution_count": 11,
   "id": "9288e027",
   "metadata": {},
   "outputs": [
    {
     "name": "stdout",
     "output_type": "stream",
     "text": [
      "We reject the null hypothesis.\n"
     ]
    }
   ],
   "source": [
    "#Compare my p value to alpha\n",
    "alpha = 0.05\n",
    "if p_county < alpha:\n",
    "    print('We reject the null hypothesis.')\n",
    "else:\n",
    "    print('We fail to reject the null hypothesis.')"
   ]
  },
  {
   "cell_type": "code",
   "execution_count": null,
   "id": "cf5a6751",
   "metadata": {},
   "outputs": [],
   "source": []
  },
  {
   "cell_type": "markdown",
   "id": "09e2812f",
   "metadata": {},
   "source": [
    "## Question 2 - Is log error significantly different for properties that have diffrent bathroom counts "
   ]
  },
  {
   "cell_type": "code",
   "execution_count": 12,
   "id": "7a44bfd5",
   "metadata": {
    "scrolled": true
   },
   "outputs": [
    {
     "data": {
      "text/plain": [
       "<AxesSubplot:xlabel='bathroomcnt', ylabel='logerror'>"
      ]
     },
     "execution_count": 12,
     "metadata": {},
     "output_type": "execute_result"
    },
    {
     "data": {
      "image/png": "[encoded data removed]",
      "text/plain": [
       "<Figure size 432x288 with 1 Axes>"
      ]
     },
     "metadata": {
      "needs_background": "light"
     },
     "output_type": "display_data"
    }
   ],
   "source": [
    "sns.barplot(x='bathroomcnt', y='logerror', data=train, palette= \"bright\")"
   ]
  },
  {
   "cell_type": "code",
   "execution_count": null,
   "id": "d30956b0",
   "metadata": {},
   "outputs": [],
   "source": []
  },
  {
   "cell_type": "markdown",
   "id": "1568ac82",
   "metadata": {},
   "source": [
    "## Question 3 - Is log error significantly different for properties that have diffrent bedroom counts"
   ]
  },
  {
   "cell_type": "code",
   "execution_count": 128,
   "id": "5b404f0b",
   "metadata": {},
   "outputs": [
    {
     "data": {
      "text/plain": [
       "<AxesSubplot:xlabel='bedroomcnt', ylabel='logerror'>"
      ]
     },
     "execution_count": 128,
     "metadata": {},
     "output_type": "execute_result"
    },
    {
     "data": {
      "image/png": "[encoded data removed]",
      "text/plain": [
       "<Figure size 432x288 with 1 Axes>"
      ]
     },
     "metadata": {
      "needs_background": "light"
     },
     "output_type": "display_data"
    }
   ],
   "source": [
    "sns.barplot(x='bedroomcnt', y='logerror', data=train, palette= \"bright\")"
   ]
  },
  {
   "cell_type": "code",
   "execution_count": null,
   "id": "d5273bcd",
   "metadata": {},
   "outputs": [],
   "source": []
  },
  {
   "cell_type": "markdown",
   "id": "75155511",
   "metadata": {},
   "source": [
    "## Question 4 -  Is log error significantly different for properties that have diffrent tax values"
   ]
  },
  {
   "cell_type": "code",
   "execution_count": 14,
   "id": "3d10be28",
   "metadata": {
    "scrolled": true
   },
   "outputs": [
    {
     "data": {
      "text/plain": [
       "<AxesSubplot:xlabel='taxvaluedollarcnt', ylabel='logerror'>"
      ]
     },
     "execution_count": 14,
     "metadata": {},
     "output_type": "execute_result"
    },
    {
     "data": {
      "image/png": "[encoded data removed]",
      "text/plain": [
       "<Figure size 432x288 with 1 Axes>"
      ]
     },
     "metadata": {
      "needs_background": "light"
     },
     "output_type": "display_data"
    }
   ],
   "source": [
    "sns.scatterplot(x='taxvaluedollarcnt', y='logerror', data=train, palette= \"bright\")"
   ]
  },
  {
   "cell_type": "markdown",
   "id": "86d8d06c",
   "metadata": {},
   "source": [
    "Null hypothesis: There is no correlation between price and log error.\n",
    "Alternative hypothesis: There is a relationship between price and log error."
   ]
  },
  {
   "cell_type": "code",
   "execution_count": 15,
   "id": "9837be14",
   "metadata": {},
   "outputs": [
    {
     "data": {
      "text/plain": [
       "(-0.006149787116911295, 0.16069102565002474)"
      ]
     },
     "execution_count": 15,
     "metadata": {},
     "output_type": "execute_result"
    }
   ],
   "source": [
    "#Test for correlation between the two\n",
    "corr_value, p_value = stats.pearsonr(df['taxvaluedollarcnt'],\n",
    "                                     df['logerror'])\n",
    "\n",
    "corr_value, p_value"
   ]
  },
  {
   "cell_type": "code",
   "execution_count": 16,
   "id": "b9e73cca",
   "metadata": {},
   "outputs": [
    {
     "name": "stdout",
     "output_type": "stream",
     "text": [
      "We fail to reject the null hypothesis.\n"
     ]
    }
   ],
   "source": [
    "#Test my hypothesis\n",
    "if p_value < alpha:\n",
    "    print('We reject the null hypothesis.')\n",
    "else:\n",
    "    print('We fail to reject the null hypothesis.')"
   ]
  },
  {
   "cell_type": "code",
   "execution_count": null,
   "id": "cdddbbcf",
   "metadata": {},
   "outputs": [],
   "source": []
  },
  {
   "cell_type": "markdown",
   "id": "24c3b296",
   "metadata": {},
   "source": [
    "## Scalign the data"
   ]
  },
  {
   "cell_type": "code",
   "execution_count": 17,
   "id": "3e0023b9",
   "metadata": {},
   "outputs": [
    {
     "data": {
      "text/html": [
       "<div>\n",
       "<style scoped>\n",
       "    .dataframe tbody tr th:only-of-type {\n",
       "        vertical-align: middle;\n",
       "    }\n",
       "\n",
       "    .dataframe tbody tr th {\n",
       "        vertical-align: top;\n",
       "    }\n",
       "\n",
       "    .dataframe thead th {\n",
       "        text-align: right;\n",
       "    }\n",
       "</style>\n",
       "<table border=\"1\" class=\"dataframe\">\n",
       "  <thead>\n",
       "    <tr style=\"text-align: right;\">\n",
       "      <th></th>\n",
       "      <th>id</th>\n",
       "      <th>parcelid</th>\n",
       "      <th>bathroomcnt</th>\n",
       "      <th>bedroomcnt</th>\n",
       "      <th>fips</th>\n",
       "      <th>latitude</th>\n",
       "      <th>longitude</th>\n",
       "      <th>lotsizesquarefeet</th>\n",
       "      <th>propertycountylandusecode</th>\n",
       "      <th>propertylandusetypeid</th>\n",
       "      <th>rawcensustractandblock</th>\n",
       "      <th>roomcnt</th>\n",
       "      <th>yearbuilt</th>\n",
       "      <th>taxvaluedollarcnt</th>\n",
       "      <th>assessmentyear</th>\n",
       "      <th>logerror</th>\n",
       "      <th>transactiondate</th>\n",
       "      <th>propertylandusedesc</th>\n",
       "      <th>County</th>\n",
       "      <th>age</th>\n",
       "      <th>age_bin</th>\n",
       "      <th>acres</th>\n",
       "      <th>acres_bin</th>\n",
       "      <th>LA</th>\n",
       "      <th>Orange</th>\n",
       "      <th>Ventura</th>\n",
       "    </tr>\n",
       "  </thead>\n",
       "  <tbody>\n",
       "    <tr>\n",
       "      <th>34264</th>\n",
       "      <td>2036202</td>\n",
       "      <td>12529787</td>\n",
       "      <td>4.0</td>\n",
       "      <td>4.0</td>\n",
       "      <td>6037.0</td>\n",
       "      <td>33770665.0</td>\n",
       "      <td>-118120850.0</td>\n",
       "      <td>6570.0</td>\n",
       "      <td>0101</td>\n",
       "      <td>261.0</td>\n",
       "      <td>6.037578e+07</td>\n",
       "      <td>0.0</td>\n",
       "      <td>1965.0</td>\n",
       "      <td>963045.0</td>\n",
       "      <td>2016.0</td>\n",
       "      <td>-0.005355</td>\n",
       "      <td>2017-06-27</td>\n",
       "      <td>Single Family Residential</td>\n",
       "      <td>Los Angeles County</td>\n",
       "      <td>52.0</td>\n",
       "      <td>0.400</td>\n",
       "      <td>0.150826</td>\n",
       "      <td>0.2</td>\n",
       "      <td>1</td>\n",
       "      <td>0</td>\n",
       "      <td>0</td>\n",
       "    </tr>\n",
       "    <tr>\n",
       "      <th>8237</th>\n",
       "      <td>2883002</td>\n",
       "      <td>11848044</td>\n",
       "      <td>2.0</td>\n",
       "      <td>2.0</td>\n",
       "      <td>6037.0</td>\n",
       "      <td>34047118.0</td>\n",
       "      <td>-118135592.0</td>\n",
       "      <td>11051.0</td>\n",
       "      <td>0101</td>\n",
       "      <td>261.0</td>\n",
       "      <td>6.037482e+07</td>\n",
       "      <td>0.0</td>\n",
       "      <td>1952.0</td>\n",
       "      <td>299104.0</td>\n",
       "      <td>2016.0</td>\n",
       "      <td>0.041482</td>\n",
       "      <td>2017-02-24</td>\n",
       "      <td>Single Family Residential</td>\n",
       "      <td>Los Angeles County</td>\n",
       "      <td>65.0</td>\n",
       "      <td>0.466</td>\n",
       "      <td>0.253696</td>\n",
       "      <td>0.3</td>\n",
       "      <td>1</td>\n",
       "      <td>0</td>\n",
       "      <td>0</td>\n",
       "    </tr>\n",
       "    <tr>\n",
       "      <th>31640</th>\n",
       "      <td>2759592</td>\n",
       "      <td>17271234</td>\n",
       "      <td>2.0</td>\n",
       "      <td>3.0</td>\n",
       "      <td>6111.0</td>\n",
       "      <td>34168614.0</td>\n",
       "      <td>-118954733.0</td>\n",
       "      <td>15259.0</td>\n",
       "      <td>1111</td>\n",
       "      <td>261.0</td>\n",
       "      <td>6.111006e+07</td>\n",
       "      <td>6.0</td>\n",
       "      <td>1984.0</td>\n",
       "      <td>263015.0</td>\n",
       "      <td>2016.0</td>\n",
       "      <td>0.072371</td>\n",
       "      <td>2017-06-16</td>\n",
       "      <td>Single Family Residential</td>\n",
       "      <td>Ventura County</td>\n",
       "      <td>33.0</td>\n",
       "      <td>0.266</td>\n",
       "      <td>0.350298</td>\n",
       "      <td>0.3</td>\n",
       "      <td>0</td>\n",
       "      <td>0</td>\n",
       "      <td>1</td>\n",
       "    </tr>\n",
       "    <tr>\n",
       "      <th>14309</th>\n",
       "      <td>1044874</td>\n",
       "      <td>17266806</td>\n",
       "      <td>2.0</td>\n",
       "      <td>3.0</td>\n",
       "      <td>6111.0</td>\n",
       "      <td>34167209.0</td>\n",
       "      <td>-118938046.0</td>\n",
       "      <td>7422.0</td>\n",
       "      <td>1111</td>\n",
       "      <td>261.0</td>\n",
       "      <td>6.111006e+07</td>\n",
       "      <td>6.0</td>\n",
       "      <td>1971.0</td>\n",
       "      <td>548830.0</td>\n",
       "      <td>2016.0</td>\n",
       "      <td>-0.019596</td>\n",
       "      <td>2017-03-30</td>\n",
       "      <td>Single Family Residential</td>\n",
       "      <td>Ventura County</td>\n",
       "      <td>46.0</td>\n",
       "      <td>0.333</td>\n",
       "      <td>0.170386</td>\n",
       "      <td>0.2</td>\n",
       "      <td>0</td>\n",
       "      <td>0</td>\n",
       "      <td>1</td>\n",
       "    </tr>\n",
       "    <tr>\n",
       "      <th>50710</th>\n",
       "      <td>2848400</td>\n",
       "      <td>17068575</td>\n",
       "      <td>4.0</td>\n",
       "      <td>3.0</td>\n",
       "      <td>6111.0</td>\n",
       "      <td>34359245.0</td>\n",
       "      <td>-119312477.0</td>\n",
       "      <td>162914.0</td>\n",
       "      <td>1110</td>\n",
       "      <td>261.0</td>\n",
       "      <td>6.111001e+07</td>\n",
       "      <td>7.0</td>\n",
       "      <td>1989.0</td>\n",
       "      <td>877934.0</td>\n",
       "      <td>2016.0</td>\n",
       "      <td>0.056052</td>\n",
       "      <td>2017-09-12</td>\n",
       "      <td>Single Family Residential</td>\n",
       "      <td>Ventura County</td>\n",
       "      <td>28.0</td>\n",
       "      <td>0.200</td>\n",
       "      <td>3.739991</td>\n",
       "      <td>0.5</td>\n",
       "      <td>0</td>\n",
       "      <td>0</td>\n",
       "      <td>1</td>\n",
       "    </tr>\n",
       "  </tbody>\n",
       "</table>\n",
       "</div>"
      ],
      "text/plain": [
       "            id  parcelid  bathroomcnt  bedroomcnt    fips    latitude  \\\n",
       "34264  2036202  12529787          4.0         4.0  6037.0  33770665.0   \n",
       "8237   2883002  11848044          2.0         2.0  6037.0  34047118.0   \n",
       "31640  2759592  17271234          2.0         3.0  6111.0  34168614.0   \n",
       "14309  1044874  17266806          2.0         3.0  6111.0  34167209.0   \n",
       "50710  2848400  17068575          4.0         3.0  6111.0  34359245.0   \n",
       "\n",
       "         longitude  lotsizesquarefeet propertycountylandusecode  \\\n",
       "34264 -118120850.0             6570.0                      0101   \n",
       "8237  -118135592.0            11051.0                      0101   \n",
       "31640 -118954733.0            15259.0                      1111   \n",
       "14309 -118938046.0             7422.0                      1111   \n",
       "50710 -119312477.0           162914.0                      1110   \n",
       "\n",
       "       propertylandusetypeid  rawcensustractandblock  roomcnt  yearbuilt  \\\n",
       "34264                  261.0            6.037578e+07      0.0     1965.0   \n",
       "8237                   261.0            6.037482e+07      0.0     1952.0   \n",
       "31640                  261.0            6.111006e+07      6.0     1984.0   \n",
       "14309                  261.0            6.111006e+07      6.0     1971.0   \n",
       "50710                  261.0            6.111001e+07      7.0     1989.0   \n",
       "\n",
       "       taxvaluedollarcnt  assessmentyear  logerror transactiondate  \\\n",
       "34264           963045.0          2016.0 -0.005355      2017-06-27   \n",
       "8237            299104.0          2016.0  0.041482      2017-02-24   \n",
       "31640           263015.0          2016.0  0.072371      2017-06-16   \n",
       "14309           548830.0          2016.0 -0.019596      2017-03-30   \n",
       "50710           877934.0          2016.0  0.056052      2017-09-12   \n",
       "\n",
       "             propertylandusedesc              County   age  age_bin     acres  \\\n",
       "34264  Single Family Residential  Los Angeles County  52.0    0.400  0.150826   \n",
       "8237   Single Family Residential  Los Angeles County  65.0    0.466  0.253696   \n",
       "31640  Single Family Residential      Ventura County  33.0    0.266  0.350298   \n",
       "14309  Single Family Residential      Ventura County  46.0    0.333  0.170386   \n",
       "50710  Single Family Residential      Ventura County  28.0    0.200  3.739991   \n",
       "\n",
       "       acres_bin  LA  Orange  Ventura  \n",
       "34264        0.2   1       0        0  \n",
       "8237         0.3   1       0        0  \n",
       "31640        0.3   0       0        1  \n",
       "14309        0.2   0       0        1  \n",
       "50710        0.5   0       0        1  "
      ]
     },
     "execution_count": 17,
     "metadata": {},
     "output_type": "execute_result"
    }
   ],
   "source": [
    "pd.set_option('display.max_columns', None)\n",
    "train.head()\n"
   ]
  },
  {
   "cell_type": "markdown",
   "id": "a26ba65d",
   "metadata": {},
   "source": [
    "Scaing for thr fisrt cluster "
   ]
  },
  {
   "cell_type": "code",
   "execution_count": 20,
   "id": "82fd32ce",
   "metadata": {},
   "outputs": [],
   "source": [
    "#Import dependencies\n",
    "from sklearn.preprocessing import MinMaxScaler\n",
    "\n",
    "#Define function to scale all data based on the train subset\n",
    "def scale_data(train, validate, test):\n",
    "    \n",
    "    scale_columns = ['bedroomcnt', 'bathroomcnt', 'lotsizesquarefeet','longitude','latitude' ]\n",
    "    \n",
    "    train_scaled = train.copy()\n",
    "    validate_scaled = validate.copy()\n",
    "    test_scaled = test.copy()\n",
    "    \n",
    "    mms = MinMaxScaler()\n",
    "    \n",
    "    mms.fit(train[scale_columns])\n",
    "    \n",
    "    train_scaled[scale_columns] = mms.transform(train[scale_columns])\n",
    "    validate_scaled[scale_columns] = mms.transform(validate[scale_columns])\n",
    "    test_scaled[scale_columns] = mms.transform(test[scale_columns])\n",
    "    \n",
    "    return train_scaled, validate_scaled, test_scaled"
   ]
  },
  {
   "cell_type": "code",
   "execution_count": 21,
   "id": "8ed8ca14",
   "metadata": {
    "scrolled": true
   },
   "outputs": [
    {
     "data": {
      "text/plain": [
       "(            id  parcelid  bathroomcnt  bedroomcnt    fips  latitude  \\\n",
       " 34264  2036202  12529787     0.500000    0.500000  6037.0  0.290645   \n",
       " 8237   2883002  11848044     0.166667    0.166667  6037.0  0.477749   \n",
       " 31640  2759592  17271234     0.166667    0.333333  6111.0  0.559977   \n",
       " 14309  1044874  17266806     0.166667    0.333333  6111.0  0.559026   \n",
       " 50710  2848400  17068575     0.500000    0.333333  6111.0  0.688996   \n",
       " ...        ...       ...          ...         ...     ...       ...   \n",
       " 36183   495424  11265245     0.000000    0.333333  6037.0  0.889919   \n",
       " 51886  1479618  11203739     0.166667    0.333333  6037.0  0.828910   \n",
       " 31438   823642  11278023     0.166667    0.333333  6037.0  0.920220   \n",
       " 44652  1370884  17237594     0.250000    0.500000  6111.0  0.635558   \n",
       " 26694  1921689  14413762     0.250000    0.333333  6059.0  0.126949   \n",
       " \n",
       "        longitude  lotsizesquarefeet propertycountylandusecode  \\\n",
       " 34264   0.705217           0.008265                      0101   \n",
       " 8237    0.697542           0.014113                      0101   \n",
       " 31640   0.271079           0.019604                      1111   \n",
       " 14309   0.279767           0.009377                      1111   \n",
       " 50710   0.084830           0.212281                      1110   \n",
       " ...          ...                ...                       ...   \n",
       " 36183   0.672585           0.027147                      0100   \n",
       " 51886   0.728206           0.005038                      0100   \n",
       " 31438   0.686976           0.009605                      0100   \n",
       " 44652   0.404858           0.005331                      1111   \n",
       " 26694   0.921337           0.007522                       122   \n",
       " \n",
       "        propertylandusetypeid  rawcensustractandblock  roomcnt  yearbuilt  \\\n",
       " 34264                  261.0            6.037578e+07      0.0     1965.0   \n",
       " 8237                   261.0            6.037482e+07      0.0     1952.0   \n",
       " 31640                  261.0            6.111006e+07      6.0     1984.0   \n",
       " 14309                  261.0            6.111006e+07      6.0     1971.0   \n",
       " 50710                  261.0            6.111001e+07      7.0     1989.0   \n",
       " ...                      ...                     ...      ...        ...   \n",
       " 36183                  261.0            6.037901e+07      0.0     1953.0   \n",
       " 51886                  261.0            6.037911e+07      0.0     1973.0   \n",
       " 31438                  261.0            6.037901e+07      0.0     1954.0   \n",
       " 44652                  261.0            6.111008e+07      9.0     2000.0   \n",
       " 26694                  261.0            6.059042e+07      0.0     1992.0   \n",
       " \n",
       "        taxvaluedollarcnt  assessmentyear  logerror transactiondate  \\\n",
       " 34264           963045.0          2016.0 -0.005355      2017-06-27   \n",
       " 8237            299104.0          2016.0  0.041482      2017-02-24   \n",
       " 31640           263015.0          2016.0  0.072371      2017-06-16   \n",
       " 14309           548830.0          2016.0 -0.019596      2017-03-30   \n",
       " 50710           877934.0          2016.0  0.056052      2017-09-12   \n",
       " ...                  ...             ...       ...             ...   \n",
       " 36183           164000.0          2016.0 -0.186484      2017-07-03   \n",
       " 51886            91805.0          2016.0 -0.093553      2017-09-19   \n",
       " 31438           115576.0          2016.0 -0.014396      2017-06-15   \n",
       " 44652           625000.0          2016.0  0.003573      2017-08-15   \n",
       " 26694           818291.0          2016.0  0.037332      2017-05-25   \n",
       " \n",
       "              propertylandusedesc              County   age  age_bin     acres  \\\n",
       " 34264  Single Family Residential  Los Angeles County  52.0    0.400  0.150826   \n",
       " 8237   Single Family Residential  Los Angeles County  65.0    0.466  0.253696   \n",
       " 31640  Single Family Residential      Ventura County  33.0    0.266  0.350298   \n",
       " 14309  Single Family Residential      Ventura County  46.0    0.333  0.170386   \n",
       " 50710  Single Family Residential      Ventura County  28.0    0.200  3.739991   \n",
       " ...                          ...                 ...   ...      ...       ...   \n",
       " 36183  Single Family Residential  Los Angeles County  64.0    0.466  0.483012   \n",
       " 51886  Single Family Residential  Los Angeles County  44.0    0.333  0.094054   \n",
       " 31438  Single Family Residential  Los Angeles County  63.0    0.466  0.174403   \n",
       " 44652  Single Family Residential      Ventura County  17.0    0.133  0.099197   \n",
       " 26694  Single Family Residential       Orange County  25.0    0.200  0.137741   \n",
       " \n",
       "        acres_bin  LA  Orange  Ventura  \n",
       " 34264        0.2   1       0        0  \n",
       " 8237         0.3   1       0        0  \n",
       " 31640        0.3   0       0        1  \n",
       " 14309        0.2   0       0        1  \n",
       " 50710        0.5   0       0        1  \n",
       " ...          ...  ..     ...      ...  \n",
       " 36183        0.3   1       0        0  \n",
       " 51886        0.0   1       0        0  \n",
       " 31438        0.2   1       0        0  \n",
       " 44652        0.0   0       0        1  \n",
       " 26694        0.1   0       1        0  \n",
       " \n",
       " [29136 rows x 26 columns],\n",
       "             id  parcelid  bathroomcnt  bedroomcnt    fips  latitude  \\\n",
       " 48846  1209096  17294360     0.416667    0.666667  6111.0  0.550806   \n",
       " 11221  2092326  11595826     0.500000    0.500000  6037.0  0.424045   \n",
       " 47589  1757862  14435268     0.583333    0.500000  6059.0  0.081374   \n",
       " 41223  1799882  12969917     0.166667    0.333333  6037.0  0.536212   \n",
       " 50224  1656011  17084375     0.166667    0.333333  6111.0  0.630228   \n",
       " ...        ...       ...          ...         ...     ...       ...   \n",
       " 40682  1153583  11847816     0.166667    0.333333  6037.0  0.481461   \n",
       " 44387   881865  10886204     0.166667    0.333333  6037.0  0.567835   \n",
       " 45164  2065302  12347945     0.166667    0.333333  6037.0  0.380382   \n",
       " 23223  2358029  10886299     0.333333    0.333333  6037.0  0.567944   \n",
       " 23096   256610  11184976     0.166667    0.333333  6037.0  0.870136   \n",
       " \n",
       "        longitude  lotsizesquarefeet propertycountylandusecode  \\\n",
       " 48846   0.331967           0.010666                      1111   \n",
       " 11221   0.531588           0.005948                      0100   \n",
       " 47589   0.951204           0.013989                       122   \n",
       " 41223   0.778703           0.010510                      0100   \n",
       " 50224   0.124344           0.010583                      1111   \n",
       " ...          ...                ...                       ...   \n",
       " 40682   0.699202           0.007060                      0100   \n",
       " 44387   0.547603           0.009082                      0101   \n",
       " 45164   0.706018           0.007399                      0100   \n",
       " 23223   0.544953           0.009792                      0100   \n",
       " 23096   0.647406           0.027115                      0101   \n",
       " \n",
       "        propertylandusetypeid  rawcensustractandblock  roomcnt  yearbuilt  \\\n",
       " 48846                  261.0            6.111006e+07      9.0     1976.0   \n",
       " 11221                  261.0            6.037274e+07      0.0     1987.0   \n",
       " 47589                  261.0            6.059042e+07      0.0     1993.0   \n",
       " 41223                  261.0            6.037430e+07      0.0     1948.0   \n",
       " 50224                  261.0            6.111003e+07      2.0     1961.0   \n",
       " ...                      ...                     ...      ...        ...   \n",
       " 40682                  261.0            6.037482e+07      0.0     1948.0   \n",
       " 44387                  261.0            6.037124e+07      0.0     1953.0   \n",
       " 45164                  261.0            6.037553e+07      0.0     1953.0   \n",
       " 23223                  261.0            6.037124e+07      0.0     1949.0   \n",
       " 23096                  261.0            6.037910e+07      0.0     1998.0   \n",
       " \n",
       "        taxvaluedollarcnt  assessmentyear  logerror transactiondate  \\\n",
       " 48846           500325.0          2016.0  0.068487      2017-08-31   \n",
       " 11221          1747105.0          2016.0  0.056870      2017-03-14   \n",
       " 47589          1125188.0          2016.0 -0.310189      2017-08-28   \n",
       " 41223           405878.0          2016.0  0.015040      2017-07-27   \n",
       " 50224           424905.0          2016.0 -0.058616      2017-09-08   \n",
       " ...                  ...             ...       ...             ...   \n",
       " 40682            69124.0          2016.0 -0.061221      2017-07-26   \n",
       " 44387           688000.0          2016.0  0.009351      2017-08-14   \n",
       " 45164           151529.0          2016.0 -0.024584      2017-08-16   \n",
       " 23223           458367.0          2016.0 -0.127061      2017-05-10   \n",
       " 23096           407746.0          2016.0  0.075193      2017-05-10   \n",
       " \n",
       "              propertylandusedesc              County   age  age_bin     acres  \\\n",
       " 48846  Single Family Residential      Ventura County  41.0    0.333  0.193067   \n",
       " 11221  Single Family Residential  Los Angeles County  30.0    0.200  0.110055   \n",
       " 47589  Single Family Residential       Orange County  24.0    0.200  0.251515   \n",
       " 41223  Single Family Residential  Los Angeles County  69.0    0.466  0.190312   \n",
       " 50224  Single Family Residential      Ventura County  56.0    0.400  0.191598   \n",
       " ...                          ...                 ...   ...      ...       ...   \n",
       " 40682  Single Family Residential  Los Angeles County  69.0    0.466  0.129614   \n",
       " 44387  Single Family Residential  Los Angeles County  64.0    0.466  0.165197   \n",
       " 45164  Single Family Residential  Los Angeles County  64.0    0.466  0.135583   \n",
       " 23223  Single Family Residential  Los Angeles County  68.0    0.466  0.177686   \n",
       " 23096  Single Family Residential  Los Angeles County  19.0    0.133  0.482438   \n",
       " \n",
       "        acres_bin  LA  Orange  Ventura  \n",
       " 48846        0.2   0       0        1  \n",
       " 11221        0.1   1       0        0  \n",
       " 47589        0.3   0       1        0  \n",
       " 41223        0.2   1       0        0  \n",
       " 50224        0.2   0       0        1  \n",
       " ...          ...  ..     ...      ...  \n",
       " 40682        0.1   1       0        0  \n",
       " 44387        0.2   1       0        0  \n",
       " 45164        0.1   1       0        0  \n",
       " 23223        0.2   1       0        0  \n",
       " 23096        0.3   1       0        0  \n",
       " \n",
       " [12488 rows x 26 columns],\n",
       "             id  parcelid  bathroomcnt  bedroomcnt    fips  latitude  \\\n",
       " 21644  2174796  14372507     0.250000    0.333333  6059.0  0.205072   \n",
       " 20212  2949520  14210656     0.166667    0.333333  6059.0  0.339537   \n",
       " 33739   947047  12425579     0.166667    0.333333  6037.0  0.343564   \n",
       " 42794  2461462  17264053     0.250000    0.333333  6111.0  0.625856   \n",
       " 25375   152289  11250529     0.166667    0.333333  6037.0  0.859878   \n",
       " ...        ...       ...          ...         ...     ...       ...   \n",
       " 17464  2378499  12380865     0.166667    0.333333  6037.0  0.440277   \n",
       " 47836  2652179  14501733     0.250000    0.500000  6059.0  0.208576   \n",
       " 12586  2130078  14317458     0.000000    0.166667  6059.0  0.172994   \n",
       " 46342  2059735  10796373     0.500000    0.500000  6037.0  0.562884   \n",
       " 21730  1408423  12171328     0.000000    0.166667  6037.0  0.562047   \n",
       " \n",
       "        longitude  lotsizesquarefeet propertycountylandusecode  \\\n",
       " 21644   0.924038           0.004390                       122   \n",
       " 20212   0.848313           0.008826                       122   \n",
       " 33739   0.733619           0.006218                      0100   \n",
       " 42794   0.425362           0.005614                      1111   \n",
       " 25375   0.855829           0.027960                      0100   \n",
       " ...          ...                ...                       ...   \n",
       " 17464   0.709542           0.006342                      0100   \n",
       " 47836   0.966436           0.006164                       122   \n",
       " 12586   0.836610           0.004013                       122   \n",
       " 46342   0.463799           0.009478                      0100   \n",
       " 21730   0.700764           0.015483                      0100   \n",
       " \n",
       "        propertylandusetypeid  rawcensustractandblock  roomcnt  yearbuilt  \\\n",
       " 21644                  261.0            6.059052e+07      7.0     1972.0   \n",
       " 20212                  261.0            6.059076e+07      7.0     1966.0   \n",
       " 33739                  261.0            6.037555e+07      0.0     1970.0   \n",
       " 42794                  261.0            6.111008e+07      7.0     1996.0   \n",
       " 25375                  261.0            6.037900e+07      0.0     1984.0   \n",
       " ...                      ...                     ...      ...        ...   \n",
       " 17464                  261.0            6.037532e+07      0.0     1955.0   \n",
       " 47836                  261.0            6.059032e+07      0.0     1997.0   \n",
       " 12586                  261.0            6.059063e+07      4.0     1963.0   \n",
       " 46342                  261.0            6.037137e+07      0.0     1959.0   \n",
       " 21730                  261.0            6.037461e+07      0.0     1907.0   \n",
       " \n",
       "        taxvaluedollarcnt  assessmentyear  logerror transactiondate  \\\n",
       " 21644           742429.0          2016.0 -0.001388      2017-05-03   \n",
       " 20212           455491.0          2016.0  0.023128      2017-04-27   \n",
       " 33739            89544.0          2016.0 -0.010319      2017-06-26   \n",
       " 42794           512807.0          2016.0  0.020814      2017-08-04   \n",
       " 25375            57105.0          2016.0  0.274236      2017-05-19   \n",
       " ...                  ...             ...       ...             ...   \n",
       " 17464            53172.0          2016.0 -0.151186      2017-04-14   \n",
       " 47836           730000.0          2016.0  0.030712      2017-08-29   \n",
       " 12586           400778.0          2016.0  0.441856      2017-03-21   \n",
       " 46342           462081.0          2016.0  0.028714      2017-08-22   \n",
       " 21730            46350.0          2016.0  0.044450      2017-05-03   \n",
       " \n",
       "              propertylandusedesc              County    age  age_bin  \\\n",
       " 21644  Single Family Residential       Orange County   45.0    0.333   \n",
       " 20212  Single Family Residential       Orange County   51.0    0.400   \n",
       " 33739  Single Family Residential  Los Angeles County   47.0    0.333   \n",
       " 42794  Single Family Residential      Ventura County   21.0    0.200   \n",
       " 25375  Single Family Residential  Los Angeles County   33.0    0.266   \n",
       " ...                          ...                 ...    ...      ...   \n",
       " 17464  Single Family Residential  Los Angeles County   62.0    0.466   \n",
       " 47836  Single Family Residential       Orange County   20.0    0.133   \n",
       " 12586  Single Family Residential       Orange County   54.0    0.400   \n",
       " 46342  Single Family Residential  Los Angeles County   58.0    0.400   \n",
       " 21730  Single Family Residential  Los Angeles County  110.0    0.733   \n",
       " \n",
       "           acres  acres_bin  LA  Orange  Ventura  \n",
       " 21644  0.082645        0.0   0       1        0  \n",
       " 20212  0.160698        0.2   0       1        0  \n",
       " 33739  0.114807        0.1   1       0        0  \n",
       " 42794  0.104178        0.1   0       0        1  \n",
       " 25375  0.497314        0.3   1       0        0  \n",
       " ...         ...        ...  ..     ...      ...  \n",
       " 17464  0.116988        0.1   1       0        0  \n",
       " 47836  0.113866        0.1   0       1        0  \n",
       " 12586  0.076010        0.0   0       1        0  \n",
       " 46342  0.172153        0.2   1       0        0  \n",
       " 21730  0.277801        0.3   1       0        0  \n",
       " \n",
       " [10406 rows x 26 columns])"
      ]
     },
     "execution_count": 21,
     "metadata": {},
     "output_type": "execute_result"
    }
   ],
   "source": [
    "scale_data(train, validate, test)"
   ]
  },
  {
   "cell_type": "code",
   "execution_count": 22,
   "id": "55f818ae",
   "metadata": {},
   "outputs": [],
   "source": [
    "#Test my function\n",
    "train_s, valid_s, test_s = scale_data(train, validate, test)"
   ]
  },
  {
   "cell_type": "code",
   "execution_count": 23,
   "id": "b24f88be",
   "metadata": {},
   "outputs": [
    {
     "data": {
      "text/html": [
       "<div>\n",
       "<style scoped>\n",
       "    .dataframe tbody tr th:only-of-type {\n",
       "        vertical-align: middle;\n",
       "    }\n",
       "\n",
       "    .dataframe tbody tr th {\n",
       "        vertical-align: top;\n",
       "    }\n",
       "\n",
       "    .dataframe thead th {\n",
       "        text-align: right;\n",
       "    }\n",
       "</style>\n",
       "<table border=\"1\" class=\"dataframe\">\n",
       "  <thead>\n",
       "    <tr style=\"text-align: right;\">\n",
       "      <th></th>\n",
       "      <th>id</th>\n",
       "      <th>parcelid</th>\n",
       "      <th>bathroomcnt</th>\n",
       "      <th>bedroomcnt</th>\n",
       "      <th>fips</th>\n",
       "      <th>latitude</th>\n",
       "      <th>longitude</th>\n",
       "      <th>lotsizesquarefeet</th>\n",
       "      <th>propertycountylandusecode</th>\n",
       "      <th>propertylandusetypeid</th>\n",
       "      <th>rawcensustractandblock</th>\n",
       "      <th>roomcnt</th>\n",
       "      <th>yearbuilt</th>\n",
       "      <th>taxvaluedollarcnt</th>\n",
       "      <th>assessmentyear</th>\n",
       "      <th>logerror</th>\n",
       "      <th>transactiondate</th>\n",
       "      <th>propertylandusedesc</th>\n",
       "      <th>County</th>\n",
       "      <th>age</th>\n",
       "      <th>age_bin</th>\n",
       "      <th>acres</th>\n",
       "      <th>acres_bin</th>\n",
       "      <th>LA</th>\n",
       "      <th>Orange</th>\n",
       "      <th>Ventura</th>\n",
       "    </tr>\n",
       "  </thead>\n",
       "  <tbody>\n",
       "    <tr>\n",
       "      <th>34264</th>\n",
       "      <td>2036202</td>\n",
       "      <td>12529787</td>\n",
       "      <td>0.500000</td>\n",
       "      <td>0.500000</td>\n",
       "      <td>6037.0</td>\n",
       "      <td>0.290645</td>\n",
       "      <td>0.705217</td>\n",
       "      <td>0.008265</td>\n",
       "      <td>0101</td>\n",
       "      <td>261.0</td>\n",
       "      <td>6.037578e+07</td>\n",
       "      <td>0.0</td>\n",
       "      <td>1965.0</td>\n",
       "      <td>963045.0</td>\n",
       "      <td>2016.0</td>\n",
       "      <td>-0.005355</td>\n",
       "      <td>2017-06-27</td>\n",
       "      <td>Single Family Residential</td>\n",
       "      <td>Los Angeles County</td>\n",
       "      <td>52.0</td>\n",
       "      <td>0.400</td>\n",
       "      <td>0.150826</td>\n",
       "      <td>0.2</td>\n",
       "      <td>1</td>\n",
       "      <td>0</td>\n",
       "      <td>0</td>\n",
       "    </tr>\n",
       "    <tr>\n",
       "      <th>8237</th>\n",
       "      <td>2883002</td>\n",
       "      <td>11848044</td>\n",
       "      <td>0.166667</td>\n",
       "      <td>0.166667</td>\n",
       "      <td>6037.0</td>\n",
       "      <td>0.477749</td>\n",
       "      <td>0.697542</td>\n",
       "      <td>0.014113</td>\n",
       "      <td>0101</td>\n",
       "      <td>261.0</td>\n",
       "      <td>6.037482e+07</td>\n",
       "      <td>0.0</td>\n",
       "      <td>1952.0</td>\n",
       "      <td>299104.0</td>\n",
       "      <td>2016.0</td>\n",
       "      <td>0.041482</td>\n",
       "      <td>2017-02-24</td>\n",
       "      <td>Single Family Residential</td>\n",
       "      <td>Los Angeles County</td>\n",
       "      <td>65.0</td>\n",
       "      <td>0.466</td>\n",
       "      <td>0.253696</td>\n",
       "      <td>0.3</td>\n",
       "      <td>1</td>\n",
       "      <td>0</td>\n",
       "      <td>0</td>\n",
       "    </tr>\n",
       "    <tr>\n",
       "      <th>31640</th>\n",
       "      <td>2759592</td>\n",
       "      <td>17271234</td>\n",
       "      <td>0.166667</td>\n",
       "      <td>0.333333</td>\n",
       "      <td>6111.0</td>\n",
       "      <td>0.559977</td>\n",
       "      <td>0.271079</td>\n",
       "      <td>0.019604</td>\n",
       "      <td>1111</td>\n",
       "      <td>261.0</td>\n",
       "      <td>6.111006e+07</td>\n",
       "      <td>6.0</td>\n",
       "      <td>1984.0</td>\n",
       "      <td>263015.0</td>\n",
       "      <td>2016.0</td>\n",
       "      <td>0.072371</td>\n",
       "      <td>2017-06-16</td>\n",
       "      <td>Single Family Residential</td>\n",
       "      <td>Ventura County</td>\n",
       "      <td>33.0</td>\n",
       "      <td>0.266</td>\n",
       "      <td>0.350298</td>\n",
       "      <td>0.3</td>\n",
       "      <td>0</td>\n",
       "      <td>0</td>\n",
       "      <td>1</td>\n",
       "    </tr>\n",
       "    <tr>\n",
       "      <th>14309</th>\n",
       "      <td>1044874</td>\n",
       "      <td>17266806</td>\n",
       "      <td>0.166667</td>\n",
       "      <td>0.333333</td>\n",
       "      <td>6111.0</td>\n",
       "      <td>0.559026</td>\n",
       "      <td>0.279767</td>\n",
       "      <td>0.009377</td>\n",
       "      <td>1111</td>\n",
       "      <td>261.0</td>\n",
       "      <td>6.111006e+07</td>\n",
       "      <td>6.0</td>\n",
       "      <td>1971.0</td>\n",
       "      <td>548830.0</td>\n",
       "      <td>2016.0</td>\n",
       "      <td>-0.019596</td>\n",
       "      <td>2017-03-30</td>\n",
       "      <td>Single Family Residential</td>\n",
       "      <td>Ventura County</td>\n",
       "      <td>46.0</td>\n",
       "      <td>0.333</td>\n",
       "      <td>0.170386</td>\n",
       "      <td>0.2</td>\n",
       "      <td>0</td>\n",
       "      <td>0</td>\n",
       "      <td>1</td>\n",
       "    </tr>\n",
       "    <tr>\n",
       "      <th>50710</th>\n",
       "      <td>2848400</td>\n",
       "      <td>17068575</td>\n",
       "      <td>0.500000</td>\n",
       "      <td>0.333333</td>\n",
       "      <td>6111.0</td>\n",
       "      <td>0.688996</td>\n",
       "      <td>0.084830</td>\n",
       "      <td>0.212281</td>\n",
       "      <td>1110</td>\n",
       "      <td>261.0</td>\n",
       "      <td>6.111001e+07</td>\n",
       "      <td>7.0</td>\n",
       "      <td>1989.0</td>\n",
       "      <td>877934.0</td>\n",
       "      <td>2016.0</td>\n",
       "      <td>0.056052</td>\n",
       "      <td>2017-09-12</td>\n",
       "      <td>Single Family Residential</td>\n",
       "      <td>Ventura County</td>\n",
       "      <td>28.0</td>\n",
       "      <td>0.200</td>\n",
       "      <td>3.739991</td>\n",
       "      <td>0.5</td>\n",
       "      <td>0</td>\n",
       "      <td>0</td>\n",
       "      <td>1</td>\n",
       "    </tr>\n",
       "  </tbody>\n",
       "</table>\n",
       "</div>"
      ],
      "text/plain": [
       "            id  parcelid  bathroomcnt  bedroomcnt    fips  latitude  \\\n",
       "34264  2036202  12529787     0.500000    0.500000  6037.0  0.290645   \n",
       "8237   2883002  11848044     0.166667    0.166667  6037.0  0.477749   \n",
       "31640  2759592  17271234     0.166667    0.333333  6111.0  0.559977   \n",
       "14309  1044874  17266806     0.166667    0.333333  6111.0  0.559026   \n",
       "50710  2848400  17068575     0.500000    0.333333  6111.0  0.688996   \n",
       "\n",
       "       longitude  lotsizesquarefeet propertycountylandusecode  \\\n",
       "34264   0.705217           0.008265                      0101   \n",
       "8237    0.697542           0.014113                      0101   \n",
       "31640   0.271079           0.019604                      1111   \n",
       "14309   0.279767           0.009377                      1111   \n",
       "50710   0.084830           0.212281                      1110   \n",
       "\n",
       "       propertylandusetypeid  rawcensustractandblock  roomcnt  yearbuilt  \\\n",
       "34264                  261.0            6.037578e+07      0.0     1965.0   \n",
       "8237                   261.0            6.037482e+07      0.0     1952.0   \n",
       "31640                  261.0            6.111006e+07      6.0     1984.0   \n",
       "14309                  261.0            6.111006e+07      6.0     1971.0   \n",
       "50710                  261.0            6.111001e+07      7.0     1989.0   \n",
       "\n",
       "       taxvaluedollarcnt  assessmentyear  logerror transactiondate  \\\n",
       "34264           963045.0          2016.0 -0.005355      2017-06-27   \n",
       "8237            299104.0          2016.0  0.041482      2017-02-24   \n",
       "31640           263015.0          2016.0  0.072371      2017-06-16   \n",
       "14309           548830.0          2016.0 -0.019596      2017-03-30   \n",
       "50710           877934.0          2016.0  0.056052      2017-09-12   \n",
       "\n",
       "             propertylandusedesc              County   age  age_bin     acres  \\\n",
       "34264  Single Family Residential  Los Angeles County  52.0    0.400  0.150826   \n",
       "8237   Single Family Residential  Los Angeles County  65.0    0.466  0.253696   \n",
       "31640  Single Family Residential      Ventura County  33.0    0.266  0.350298   \n",
       "14309  Single Family Residential      Ventura County  46.0    0.333  0.170386   \n",
       "50710  Single Family Residential      Ventura County  28.0    0.200  3.739991   \n",
       "\n",
       "       acres_bin  LA  Orange  Ventura  \n",
       "34264        0.2   1       0        0  \n",
       "8237         0.3   1       0        0  \n",
       "31640        0.3   0       0        1  \n",
       "14309        0.2   0       0        1  \n",
       "50710        0.5   0       0        1  "
      ]
     },
     "execution_count": 23,
     "metadata": {},
     "output_type": "execute_result"
    }
   ],
   "source": [
    "#See if the results make sense\n",
    "train_s.head()"
   ]
  },
  {
   "cell_type": "code",
   "execution_count": null,
   "id": "13f0be9a",
   "metadata": {},
   "outputs": [],
   "source": []
  },
  {
   "cell_type": "code",
   "execution_count": null,
   "id": "75d1a251",
   "metadata": {},
   "outputs": [],
   "source": []
  },
  {
   "cell_type": "code",
   "execution_count": null,
   "id": "9f9117cc",
   "metadata": {},
   "outputs": [],
   "source": []
  },
  {
   "cell_type": "code",
   "execution_count": null,
   "id": "85bef638",
   "metadata": {},
   "outputs": [],
   "source": []
  },
  {
   "cell_type": "markdown",
   "id": "efc4b5b8",
   "metadata": {},
   "source": [
    "## Clustering "
   ]
  },
  {
   "cell_type": "markdown",
   "id": "69d31c66",
   "metadata": {},
   "source": [
    "###  first cluster - size= bed bath, sqft "
   ]
  },
  {
   "cell_type": "code",
   "execution_count": 24,
   "id": "9ce5f2d5",
   "metadata": {},
   "outputs": [
    {
     "data": {
      "text/html": [
       "<div>\n",
       "<style scoped>\n",
       "    .dataframe tbody tr th:only-of-type {\n",
       "        vertical-align: middle;\n",
       "    }\n",
       "\n",
       "    .dataframe tbody tr th {\n",
       "        vertical-align: top;\n",
       "    }\n",
       "\n",
       "    .dataframe thead th {\n",
       "        text-align: right;\n",
       "    }\n",
       "</style>\n",
       "<table border=\"1\" class=\"dataframe\">\n",
       "  <thead>\n",
       "    <tr style=\"text-align: right;\">\n",
       "      <th></th>\n",
       "      <th>bathroomcnt</th>\n",
       "      <th>bedroomcnt</th>\n",
       "      <th>lotsizesquarefeet</th>\n",
       "    </tr>\n",
       "  </thead>\n",
       "  <tbody>\n",
       "    <tr>\n",
       "      <th>34264</th>\n",
       "      <td>0.500000</td>\n",
       "      <td>0.500000</td>\n",
       "      <td>0.008265</td>\n",
       "    </tr>\n",
       "    <tr>\n",
       "      <th>8237</th>\n",
       "      <td>0.166667</td>\n",
       "      <td>0.166667</td>\n",
       "      <td>0.014113</td>\n",
       "    </tr>\n",
       "    <tr>\n",
       "      <th>31640</th>\n",
       "      <td>0.166667</td>\n",
       "      <td>0.333333</td>\n",
       "      <td>0.019604</td>\n",
       "    </tr>\n",
       "    <tr>\n",
       "      <th>14309</th>\n",
       "      <td>0.166667</td>\n",
       "      <td>0.333333</td>\n",
       "      <td>0.009377</td>\n",
       "    </tr>\n",
       "    <tr>\n",
       "      <th>50710</th>\n",
       "      <td>0.500000</td>\n",
       "      <td>0.333333</td>\n",
       "      <td>0.212281</td>\n",
       "    </tr>\n",
       "  </tbody>\n",
       "</table>\n",
       "</div>"
      ],
      "text/plain": [
       "       bathroomcnt  bedroomcnt  lotsizesquarefeet\n",
       "34264     0.500000    0.500000           0.008265\n",
       "8237      0.166667    0.166667           0.014113\n",
       "31640     0.166667    0.333333           0.019604\n",
       "14309     0.166667    0.333333           0.009377\n",
       "50710     0.500000    0.333333           0.212281"
      ]
     },
     "execution_count": 24,
     "metadata": {},
     "output_type": "execute_result"
    }
   ],
   "source": [
    "X = train_s[['bathroomcnt', 'bedroomcnt','lotsizesquarefeet']]\n",
    "X.head()"
   ]
  },
  {
   "cell_type": "code",
   "execution_count": 25,
   "id": "38a2cbad",
   "metadata": {},
   "outputs": [
    {
     "data": {
      "text/plain": [
       "array([3, 1, 2, ..., 2, 0, 2], dtype=int32)"
      ]
     },
     "execution_count": 25,
     "metadata": {},
     "output_type": "execute_result"
    }
   ],
   "source": [
    "kmeans1 = KMeans(n_clusters=4)\n",
    "kmeans1.fit(X)\n",
    "\n",
    "clusters = kmeans1.predict(X)\n",
    "clusters"
   ]
  },
  {
   "cell_type": "code",
   "execution_count": 26,
   "id": "22837d27",
   "metadata": {
    "scrolled": false
   },
   "outputs": [
    {
     "data": {
      "text/html": [
       "<div>\n",
       "<style scoped>\n",
       "    .dataframe tbody tr th:only-of-type {\n",
       "        vertical-align: middle;\n",
       "    }\n",
       "\n",
       "    .dataframe tbody tr th {\n",
       "        vertical-align: top;\n",
       "    }\n",
       "\n",
       "    .dataframe thead th {\n",
       "        text-align: right;\n",
       "    }\n",
       "</style>\n",
       "<table border=\"1\" class=\"dataframe\">\n",
       "  <thead>\n",
       "    <tr style=\"text-align: right;\">\n",
       "      <th></th>\n",
       "      <th>id</th>\n",
       "      <th>parcelid</th>\n",
       "      <th>bathroomcnt</th>\n",
       "      <th>bedroomcnt</th>\n",
       "      <th>fips</th>\n",
       "      <th>latitude</th>\n",
       "      <th>longitude</th>\n",
       "      <th>lotsizesquarefeet</th>\n",
       "      <th>propertycountylandusecode</th>\n",
       "      <th>propertylandusetypeid</th>\n",
       "      <th>rawcensustractandblock</th>\n",
       "      <th>roomcnt</th>\n",
       "      <th>yearbuilt</th>\n",
       "      <th>taxvaluedollarcnt</th>\n",
       "      <th>assessmentyear</th>\n",
       "      <th>logerror</th>\n",
       "      <th>transactiondate</th>\n",
       "      <th>propertylandusedesc</th>\n",
       "      <th>County</th>\n",
       "      <th>age</th>\n",
       "      <th>age_bin</th>\n",
       "      <th>acres</th>\n",
       "      <th>acres_bin</th>\n",
       "      <th>LA</th>\n",
       "      <th>Orange</th>\n",
       "      <th>Ventura</th>\n",
       "      <th>size_cluster</th>\n",
       "    </tr>\n",
       "  </thead>\n",
       "  <tbody>\n",
       "    <tr>\n",
       "      <th>34264</th>\n",
       "      <td>2036202</td>\n",
       "      <td>12529787</td>\n",
       "      <td>0.500000</td>\n",
       "      <td>0.500000</td>\n",
       "      <td>6037.0</td>\n",
       "      <td>0.290645</td>\n",
       "      <td>0.705217</td>\n",
       "      <td>0.008265</td>\n",
       "      <td>0101</td>\n",
       "      <td>261.0</td>\n",
       "      <td>6.037578e+07</td>\n",
       "      <td>0.0</td>\n",
       "      <td>1965.0</td>\n",
       "      <td>963045.0</td>\n",
       "      <td>2016.0</td>\n",
       "      <td>-0.005355</td>\n",
       "      <td>2017-06-27</td>\n",
       "      <td>Single Family Residential</td>\n",
       "      <td>Los Angeles County</td>\n",
       "      <td>52.0</td>\n",
       "      <td>0.400</td>\n",
       "      <td>0.150826</td>\n",
       "      <td>0.2</td>\n",
       "      <td>1</td>\n",
       "      <td>0</td>\n",
       "      <td>0</td>\n",
       "      <td>3</td>\n",
       "    </tr>\n",
       "    <tr>\n",
       "      <th>8237</th>\n",
       "      <td>2883002</td>\n",
       "      <td>11848044</td>\n",
       "      <td>0.166667</td>\n",
       "      <td>0.166667</td>\n",
       "      <td>6037.0</td>\n",
       "      <td>0.477749</td>\n",
       "      <td>0.697542</td>\n",
       "      <td>0.014113</td>\n",
       "      <td>0101</td>\n",
       "      <td>261.0</td>\n",
       "      <td>6.037482e+07</td>\n",
       "      <td>0.0</td>\n",
       "      <td>1952.0</td>\n",
       "      <td>299104.0</td>\n",
       "      <td>2016.0</td>\n",
       "      <td>0.041482</td>\n",
       "      <td>2017-02-24</td>\n",
       "      <td>Single Family Residential</td>\n",
       "      <td>Los Angeles County</td>\n",
       "      <td>65.0</td>\n",
       "      <td>0.466</td>\n",
       "      <td>0.253696</td>\n",
       "      <td>0.3</td>\n",
       "      <td>1</td>\n",
       "      <td>0</td>\n",
       "      <td>0</td>\n",
       "      <td>1</td>\n",
       "    </tr>\n",
       "    <tr>\n",
       "      <th>31640</th>\n",
       "      <td>2759592</td>\n",
       "      <td>17271234</td>\n",
       "      <td>0.166667</td>\n",
       "      <td>0.333333</td>\n",
       "      <td>6111.0</td>\n",
       "      <td>0.559977</td>\n",
       "      <td>0.271079</td>\n",
       "      <td>0.019604</td>\n",
       "      <td>1111</td>\n",
       "      <td>261.0</td>\n",
       "      <td>6.111006e+07</td>\n",
       "      <td>6.0</td>\n",
       "      <td>1984.0</td>\n",
       "      <td>263015.0</td>\n",
       "      <td>2016.0</td>\n",
       "      <td>0.072371</td>\n",
       "      <td>2017-06-16</td>\n",
       "      <td>Single Family Residential</td>\n",
       "      <td>Ventura County</td>\n",
       "      <td>33.0</td>\n",
       "      <td>0.266</td>\n",
       "      <td>0.350298</td>\n",
       "      <td>0.3</td>\n",
       "      <td>0</td>\n",
       "      <td>0</td>\n",
       "      <td>1</td>\n",
       "      <td>2</td>\n",
       "    </tr>\n",
       "    <tr>\n",
       "      <th>14309</th>\n",
       "      <td>1044874</td>\n",
       "      <td>17266806</td>\n",
       "      <td>0.166667</td>\n",
       "      <td>0.333333</td>\n",
       "      <td>6111.0</td>\n",
       "      <td>0.559026</td>\n",
       "      <td>0.279767</td>\n",
       "      <td>0.009377</td>\n",
       "      <td>1111</td>\n",
       "      <td>261.0</td>\n",
       "      <td>6.111006e+07</td>\n",
       "      <td>6.0</td>\n",
       "      <td>1971.0</td>\n",
       "      <td>548830.0</td>\n",
       "      <td>2016.0</td>\n",
       "      <td>-0.019596</td>\n",
       "      <td>2017-03-30</td>\n",
       "      <td>Single Family Residential</td>\n",
       "      <td>Ventura County</td>\n",
       "      <td>46.0</td>\n",
       "      <td>0.333</td>\n",
       "      <td>0.170386</td>\n",
       "      <td>0.2</td>\n",
       "      <td>0</td>\n",
       "      <td>0</td>\n",
       "      <td>1</td>\n",
       "      <td>2</td>\n",
       "    </tr>\n",
       "    <tr>\n",
       "      <th>50710</th>\n",
       "      <td>2848400</td>\n",
       "      <td>17068575</td>\n",
       "      <td>0.500000</td>\n",
       "      <td>0.333333</td>\n",
       "      <td>6111.0</td>\n",
       "      <td>0.688996</td>\n",
       "      <td>0.084830</td>\n",
       "      <td>0.212281</td>\n",
       "      <td>1110</td>\n",
       "      <td>261.0</td>\n",
       "      <td>6.111001e+07</td>\n",
       "      <td>7.0</td>\n",
       "      <td>1989.0</td>\n",
       "      <td>877934.0</td>\n",
       "      <td>2016.0</td>\n",
       "      <td>0.056052</td>\n",
       "      <td>2017-09-12</td>\n",
       "      <td>Single Family Residential</td>\n",
       "      <td>Ventura County</td>\n",
       "      <td>28.0</td>\n",
       "      <td>0.200</td>\n",
       "      <td>3.739991</td>\n",
       "      <td>0.5</td>\n",
       "      <td>0</td>\n",
       "      <td>0</td>\n",
       "      <td>1</td>\n",
       "      <td>3</td>\n",
       "    </tr>\n",
       "  </tbody>\n",
       "</table>\n",
       "</div>"
      ],
      "text/plain": [
       "            id  parcelid  bathroomcnt  bedroomcnt    fips  latitude  \\\n",
       "34264  2036202  12529787     0.500000    0.500000  6037.0  0.290645   \n",
       "8237   2883002  11848044     0.166667    0.166667  6037.0  0.477749   \n",
       "31640  2759592  17271234     0.166667    0.333333  6111.0  0.559977   \n",
       "14309  1044874  17266806     0.166667    0.333333  6111.0  0.559026   \n",
       "50710  2848400  17068575     0.500000    0.333333  6111.0  0.688996   \n",
       "\n",
       "       longitude  lotsizesquarefeet propertycountylandusecode  \\\n",
       "34264   0.705217           0.008265                      0101   \n",
       "8237    0.697542           0.014113                      0101   \n",
       "31640   0.271079           0.019604                      1111   \n",
       "14309   0.279767           0.009377                      1111   \n",
       "50710   0.084830           0.212281                      1110   \n",
       "\n",
       "       propertylandusetypeid  rawcensustractandblock  roomcnt  yearbuilt  \\\n",
       "34264                  261.0            6.037578e+07      0.0     1965.0   \n",
       "8237                   261.0            6.037482e+07      0.0     1952.0   \n",
       "31640                  261.0            6.111006e+07      6.0     1984.0   \n",
       "14309                  261.0            6.111006e+07      6.0     1971.0   \n",
       "50710                  261.0            6.111001e+07      7.0     1989.0   \n",
       "\n",
       "       taxvaluedollarcnt  assessmentyear  logerror transactiondate  \\\n",
       "34264           963045.0          2016.0 -0.005355      2017-06-27   \n",
       "8237            299104.0          2016.0  0.041482      2017-02-24   \n",
       "31640           263015.0          2016.0  0.072371      2017-06-16   \n",
       "14309           548830.0          2016.0 -0.019596      2017-03-30   \n",
       "50710           877934.0          2016.0  0.056052      2017-09-12   \n",
       "\n",
       "             propertylandusedesc              County   age  age_bin     acres  \\\n",
       "34264  Single Family Residential  Los Angeles County  52.0    0.400  0.150826   \n",
       "8237   Single Family Residential  Los Angeles County  65.0    0.466  0.253696   \n",
       "31640  Single Family Residential      Ventura County  33.0    0.266  0.350298   \n",
       "14309  Single Family Residential      Ventura County  46.0    0.333  0.170386   \n",
       "50710  Single Family Residential      Ventura County  28.0    0.200  3.739991   \n",
       "\n",
       "       acres_bin  LA  Orange  Ventura  size_cluster  \n",
       "34264        0.2   1       0        0             3  \n",
       "8237         0.3   1       0        0             1  \n",
       "31640        0.3   0       0        1             2  \n",
       "14309        0.2   0       0        1             2  \n",
       "50710        0.5   0       0        1             3  "
      ]
     },
     "execution_count": 26,
     "metadata": {},
     "output_type": "execute_result"
    }
   ],
   "source": [
    "train_s['size_cluster'] = clusters\n",
    "train_s.head()"
   ]
  },
  {
   "cell_type": "code",
   "execution_count": 127,
   "id": "9508803e",
   "metadata": {},
   "outputs": [
    {
     "data": {
      "text/plain": [
       "<seaborn.axisgrid.FacetGrid at 0x14fa79100>"
      ]
     },
     "execution_count": 127,
     "metadata": {},
     "output_type": "execute_result"
    },
    {
     "data": {
      "image/png": "[encoded data removed]",
      "text/plain": [
       "<Figure size 1511.88x360 with 4 Axes>"
      ]
     },
     "metadata": {
      "needs_background": "light"
     },
     "output_type": "display_data"
    }
   ],
   "source": [
    "sns.relplot(data=train_s, x='lotsizesquarefeet', y='bedroomcnt', col = 'size_cluster', hue = 'bathroomcnt' )"
   ]
  },
  {
   "cell_type": "code",
   "execution_count": 27,
   "id": "f3717c42",
   "metadata": {
    "scrolled": true
   },
   "outputs": [
    {
     "data": {
      "image/png": "[encoded data removed]",
      "text/plain": [
       "<Figure size 648x432 with 1 Axes>"
      ]
     },
     "metadata": {},
     "output_type": "display_data"
    }
   ],
   "source": [
    "with plt.style.context('seaborn-whitegrid'):\n",
    "    plt.figure(figsize=(9, 6))\n",
    "    pd.Series({k: KMeans(k).fit(X).inertia_ for k in range(2, 12)}).plot(marker='x')\n",
    "    plt.xticks(range(2, 12))\n",
    "    plt.xlabel('k')\n",
    "    plt.ylabel('inertia')\n",
    "    plt.title('Change in inertia as k increases')"
   ]
  },
  {
   "cell_type": "code",
   "execution_count": null,
   "id": "9692dd85",
   "metadata": {},
   "outputs": [],
   "source": [
    "anova test"
   ]
  },
  {
   "cell_type": "code",
   "execution_count": null,
   "id": "1c249560",
   "metadata": {},
   "outputs": [],
   "source": []
  },
  {
   "cell_type": "markdown",
   "id": "2c5d5d25",
   "metadata": {},
   "source": [
    "### second cluster - locations- log lat "
   ]
  },
  {
   "cell_type": "code",
   "execution_count": 28,
   "id": "6876d7b1",
   "metadata": {},
   "outputs": [
    {
     "data": {
      "text/html": [
       "<div>\n",
       "<style scoped>\n",
       "    .dataframe tbody tr th:only-of-type {\n",
       "        vertical-align: middle;\n",
       "    }\n",
       "\n",
       "    .dataframe tbody tr th {\n",
       "        vertical-align: top;\n",
       "    }\n",
       "\n",
       "    .dataframe thead th {\n",
       "        text-align: right;\n",
       "    }\n",
       "</style>\n",
       "<table border=\"1\" class=\"dataframe\">\n",
       "  <thead>\n",
       "    <tr style=\"text-align: right;\">\n",
       "      <th></th>\n",
       "      <th>latitude</th>\n",
       "      <th>longitude</th>\n",
       "    </tr>\n",
       "  </thead>\n",
       "  <tbody>\n",
       "    <tr>\n",
       "      <th>34264</th>\n",
       "      <td>0.290645</td>\n",
       "      <td>0.705217</td>\n",
       "    </tr>\n",
       "    <tr>\n",
       "      <th>8237</th>\n",
       "      <td>0.477749</td>\n",
       "      <td>0.697542</td>\n",
       "    </tr>\n",
       "    <tr>\n",
       "      <th>31640</th>\n",
       "      <td>0.559977</td>\n",
       "      <td>0.271079</td>\n",
       "    </tr>\n",
       "    <tr>\n",
       "      <th>14309</th>\n",
       "      <td>0.559026</td>\n",
       "      <td>0.279767</td>\n",
       "    </tr>\n",
       "    <tr>\n",
       "      <th>50710</th>\n",
       "      <td>0.688996</td>\n",
       "      <td>0.084830</td>\n",
       "    </tr>\n",
       "  </tbody>\n",
       "</table>\n",
       "</div>"
      ],
      "text/plain": [
       "       latitude  longitude\n",
       "34264  0.290645   0.705217\n",
       "8237   0.477749   0.697542\n",
       "31640  0.559977   0.271079\n",
       "14309  0.559026   0.279767\n",
       "50710  0.688996   0.084830"
      ]
     },
     "execution_count": 28,
     "metadata": {},
     "output_type": "execute_result"
    }
   ],
   "source": [
    "L = train_s[['latitude', 'longitude']]\n",
    "L.head()"
   ]
  },
  {
   "cell_type": "code",
   "execution_count": 31,
   "id": "976d0858",
   "metadata": {},
   "outputs": [
    {
     "data": {
      "text/plain": [
       "array([3, 3, 2, ..., 1, 2, 0], dtype=int32)"
      ]
     },
     "execution_count": 31,
     "metadata": {},
     "output_type": "execute_result"
    }
   ],
   "source": [
    "kmeans = KMeans(n_clusters=4)\n",
    "kmeans.fit(L)\n",
    "\n",
    "clusters = kmeans.predict(L)\n",
    "clusters"
   ]
  },
  {
   "cell_type": "code",
   "execution_count": 32,
   "id": "a93e89f7",
   "metadata": {
    "scrolled": true
   },
   "outputs": [
    {
     "data": {
      "image/png": "[encoded data removed]",
      "text/plain": [
       "<Figure size 648x432 with 1 Axes>"
      ]
     },
     "metadata": {},
     "output_type": "display_data"
    }
   ],
   "source": [
    "with plt.style.context('seaborn-whitegrid'):\n",
    "    plt.figure(figsize=(9, 6))\n",
    "    pd.Series({k: KMeans(k).fit(L).inertia_ for k in range(2, 12)}).plot(marker='x')\n",
    "    plt.xticks(range(2, 12))\n",
    "    plt.xlabel('k')\n",
    "    plt.ylabel('inertia')\n",
    "    plt.title('Change in inertia as k increases')"
   ]
  },
  {
   "cell_type": "code",
   "execution_count": 33,
   "id": "0d018f44",
   "metadata": {},
   "outputs": [
    {
     "data": {
      "text/html": [
       "<div>\n",
       "<style scoped>\n",
       "    .dataframe tbody tr th:only-of-type {\n",
       "        vertical-align: middle;\n",
       "    }\n",
       "\n",
       "    .dataframe tbody tr th {\n",
       "        vertical-align: top;\n",
       "    }\n",
       "\n",
       "    .dataframe thead th {\n",
       "        text-align: right;\n",
       "    }\n",
       "</style>\n",
       "<table border=\"1\" class=\"dataframe\">\n",
       "  <thead>\n",
       "    <tr style=\"text-align: right;\">\n",
       "      <th></th>\n",
       "      <th>id</th>\n",
       "      <th>parcelid</th>\n",
       "      <th>bathroomcnt</th>\n",
       "      <th>bedroomcnt</th>\n",
       "      <th>fips</th>\n",
       "      <th>latitude</th>\n",
       "      <th>longitude</th>\n",
       "      <th>lotsizesquarefeet</th>\n",
       "      <th>propertycountylandusecode</th>\n",
       "      <th>propertylandusetypeid</th>\n",
       "      <th>rawcensustractandblock</th>\n",
       "      <th>roomcnt</th>\n",
       "      <th>yearbuilt</th>\n",
       "      <th>taxvaluedollarcnt</th>\n",
       "      <th>assessmentyear</th>\n",
       "      <th>logerror</th>\n",
       "      <th>transactiondate</th>\n",
       "      <th>propertylandusedesc</th>\n",
       "      <th>County</th>\n",
       "      <th>age</th>\n",
       "      <th>age_bin</th>\n",
       "      <th>acres</th>\n",
       "      <th>acres_bin</th>\n",
       "      <th>LA</th>\n",
       "      <th>Orange</th>\n",
       "      <th>Ventura</th>\n",
       "      <th>size_cluster</th>\n",
       "      <th>location_cluster</th>\n",
       "    </tr>\n",
       "  </thead>\n",
       "  <tbody>\n",
       "    <tr>\n",
       "      <th>34264</th>\n",
       "      <td>2036202</td>\n",
       "      <td>12529787</td>\n",
       "      <td>0.500000</td>\n",
       "      <td>0.500000</td>\n",
       "      <td>6037.0</td>\n",
       "      <td>0.290645</td>\n",
       "      <td>0.705217</td>\n",
       "      <td>0.008265</td>\n",
       "      <td>0101</td>\n",
       "      <td>261.0</td>\n",
       "      <td>6.037578e+07</td>\n",
       "      <td>0.0</td>\n",
       "      <td>1965.0</td>\n",
       "      <td>963045.0</td>\n",
       "      <td>2016.0</td>\n",
       "      <td>-0.005355</td>\n",
       "      <td>2017-06-27</td>\n",
       "      <td>Single Family Residential</td>\n",
       "      <td>Los Angeles County</td>\n",
       "      <td>52.0</td>\n",
       "      <td>0.400</td>\n",
       "      <td>0.150826</td>\n",
       "      <td>0.2</td>\n",
       "      <td>1</td>\n",
       "      <td>0</td>\n",
       "      <td>0</td>\n",
       "      <td>3</td>\n",
       "      <td>3</td>\n",
       "    </tr>\n",
       "    <tr>\n",
       "      <th>8237</th>\n",
       "      <td>2883002</td>\n",
       "      <td>11848044</td>\n",
       "      <td>0.166667</td>\n",
       "      <td>0.166667</td>\n",
       "      <td>6037.0</td>\n",
       "      <td>0.477749</td>\n",
       "      <td>0.697542</td>\n",
       "      <td>0.014113</td>\n",
       "      <td>0101</td>\n",
       "      <td>261.0</td>\n",
       "      <td>6.037482e+07</td>\n",
       "      <td>0.0</td>\n",
       "      <td>1952.0</td>\n",
       "      <td>299104.0</td>\n",
       "      <td>2016.0</td>\n",
       "      <td>0.041482</td>\n",
       "      <td>2017-02-24</td>\n",
       "      <td>Single Family Residential</td>\n",
       "      <td>Los Angeles County</td>\n",
       "      <td>65.0</td>\n",
       "      <td>0.466</td>\n",
       "      <td>0.253696</td>\n",
       "      <td>0.3</td>\n",
       "      <td>1</td>\n",
       "      <td>0</td>\n",
       "      <td>0</td>\n",
       "      <td>1</td>\n",
       "      <td>3</td>\n",
       "    </tr>\n",
       "    <tr>\n",
       "      <th>31640</th>\n",
       "      <td>2759592</td>\n",
       "      <td>17271234</td>\n",
       "      <td>0.166667</td>\n",
       "      <td>0.333333</td>\n",
       "      <td>6111.0</td>\n",
       "      <td>0.559977</td>\n",
       "      <td>0.271079</td>\n",
       "      <td>0.019604</td>\n",
       "      <td>1111</td>\n",
       "      <td>261.0</td>\n",
       "      <td>6.111006e+07</td>\n",
       "      <td>6.0</td>\n",
       "      <td>1984.0</td>\n",
       "      <td>263015.0</td>\n",
       "      <td>2016.0</td>\n",
       "      <td>0.072371</td>\n",
       "      <td>2017-06-16</td>\n",
       "      <td>Single Family Residential</td>\n",
       "      <td>Ventura County</td>\n",
       "      <td>33.0</td>\n",
       "      <td>0.266</td>\n",
       "      <td>0.350298</td>\n",
       "      <td>0.3</td>\n",
       "      <td>0</td>\n",
       "      <td>0</td>\n",
       "      <td>1</td>\n",
       "      <td>2</td>\n",
       "      <td>2</td>\n",
       "    </tr>\n",
       "    <tr>\n",
       "      <th>14309</th>\n",
       "      <td>1044874</td>\n",
       "      <td>17266806</td>\n",
       "      <td>0.166667</td>\n",
       "      <td>0.333333</td>\n",
       "      <td>6111.0</td>\n",
       "      <td>0.559026</td>\n",
       "      <td>0.279767</td>\n",
       "      <td>0.009377</td>\n",
       "      <td>1111</td>\n",
       "      <td>261.0</td>\n",
       "      <td>6.111006e+07</td>\n",
       "      <td>6.0</td>\n",
       "      <td>1971.0</td>\n",
       "      <td>548830.0</td>\n",
       "      <td>2016.0</td>\n",
       "      <td>-0.019596</td>\n",
       "      <td>2017-03-30</td>\n",
       "      <td>Single Family Residential</td>\n",
       "      <td>Ventura County</td>\n",
       "      <td>46.0</td>\n",
       "      <td>0.333</td>\n",
       "      <td>0.170386</td>\n",
       "      <td>0.2</td>\n",
       "      <td>0</td>\n",
       "      <td>0</td>\n",
       "      <td>1</td>\n",
       "      <td>2</td>\n",
       "      <td>2</td>\n",
       "    </tr>\n",
       "    <tr>\n",
       "      <th>50710</th>\n",
       "      <td>2848400</td>\n",
       "      <td>17068575</td>\n",
       "      <td>0.500000</td>\n",
       "      <td>0.333333</td>\n",
       "      <td>6111.0</td>\n",
       "      <td>0.688996</td>\n",
       "      <td>0.084830</td>\n",
       "      <td>0.212281</td>\n",
       "      <td>1110</td>\n",
       "      <td>261.0</td>\n",
       "      <td>6.111001e+07</td>\n",
       "      <td>7.0</td>\n",
       "      <td>1989.0</td>\n",
       "      <td>877934.0</td>\n",
       "      <td>2016.0</td>\n",
       "      <td>0.056052</td>\n",
       "      <td>2017-09-12</td>\n",
       "      <td>Single Family Residential</td>\n",
       "      <td>Ventura County</td>\n",
       "      <td>28.0</td>\n",
       "      <td>0.200</td>\n",
       "      <td>3.739991</td>\n",
       "      <td>0.5</td>\n",
       "      <td>0</td>\n",
       "      <td>0</td>\n",
       "      <td>1</td>\n",
       "      <td>3</td>\n",
       "      <td>2</td>\n",
       "    </tr>\n",
       "  </tbody>\n",
       "</table>\n",
       "</div>"
      ],
      "text/plain": [
       "            id  parcelid  bathroomcnt  bedroomcnt    fips  latitude  \\\n",
       "34264  2036202  12529787     0.500000    0.500000  6037.0  0.290645   \n",
       "8237   2883002  11848044     0.166667    0.166667  6037.0  0.477749   \n",
       "31640  2759592  17271234     0.166667    0.333333  6111.0  0.559977   \n",
       "14309  1044874  17266806     0.166667    0.333333  6111.0  0.559026   \n",
       "50710  2848400  17068575     0.500000    0.333333  6111.0  0.688996   \n",
       "\n",
       "       longitude  lotsizesquarefeet propertycountylandusecode  \\\n",
       "34264   0.705217           0.008265                      0101   \n",
       "8237    0.697542           0.014113                      0101   \n",
       "31640   0.271079           0.019604                      1111   \n",
       "14309   0.279767           0.009377                      1111   \n",
       "50710   0.084830           0.212281                      1110   \n",
       "\n",
       "       propertylandusetypeid  rawcensustractandblock  roomcnt  yearbuilt  \\\n",
       "34264                  261.0            6.037578e+07      0.0     1965.0   \n",
       "8237                   261.0            6.037482e+07      0.0     1952.0   \n",
       "31640                  261.0            6.111006e+07      6.0     1984.0   \n",
       "14309                  261.0            6.111006e+07      6.0     1971.0   \n",
       "50710                  261.0            6.111001e+07      7.0     1989.0   \n",
       "\n",
       "       taxvaluedollarcnt  assessmentyear  logerror transactiondate  \\\n",
       "34264           963045.0          2016.0 -0.005355      2017-06-27   \n",
       "8237            299104.0          2016.0  0.041482      2017-02-24   \n",
       "31640           263015.0          2016.0  0.072371      2017-06-16   \n",
       "14309           548830.0          2016.0 -0.019596      2017-03-30   \n",
       "50710           877934.0          2016.0  0.056052      2017-09-12   \n",
       "\n",
       "             propertylandusedesc              County   age  age_bin     acres  \\\n",
       "34264  Single Family Residential  Los Angeles County  52.0    0.400  0.150826   \n",
       "8237   Single Family Residential  Los Angeles County  65.0    0.466  0.253696   \n",
       "31640  Single Family Residential      Ventura County  33.0    0.266  0.350298   \n",
       "14309  Single Family Residential      Ventura County  46.0    0.333  0.170386   \n",
       "50710  Single Family Residential      Ventura County  28.0    0.200  3.739991   \n",
       "\n",
       "       acres_bin  LA  Orange  Ventura  size_cluster  location_cluster  \n",
       "34264        0.2   1       0        0             3                 3  \n",
       "8237         0.3   1       0        0             1                 3  \n",
       "31640        0.3   0       0        1             2                 2  \n",
       "14309        0.2   0       0        1             2                 2  \n",
       "50710        0.5   0       0        1             3                 2  "
      ]
     },
     "execution_count": 33,
     "metadata": {},
     "output_type": "execute_result"
    }
   ],
   "source": [
    "train_s['location_cluster'] = clusters\n",
    "train_s.head()"
   ]
  },
  {
   "cell_type": "code",
   "execution_count": 34,
   "id": "82c81ebd",
   "metadata": {
    "scrolled": false
   },
   "outputs": [
    {
     "data": {
      "text/plain": [
       "<seaborn.axisgrid.FacetGrid at 0x13e6bebb0>"
      ]
     },
     "execution_count": 34,
     "metadata": {},
     "output_type": "execute_result"
    },
    {
     "data": {
      "image/png": "[encoded data removed]",
      "text/plain": [
       "<Figure size 446.75x360 with 1 Axes>"
      ]
     },
     "metadata": {
      "needs_background": "light"
     },
     "output_type": "display_data"
    }
   ],
   "source": [
    "sns.relplot(data=train_s, x='latitude', y='longitude', hue='location_cluster')"
   ]
  },
  {
   "cell_type": "code",
   "execution_count": 35,
   "id": "2f6be346",
   "metadata": {},
   "outputs": [
    {
     "data": {
      "text/plain": [
       "array([[0.23975942, 0.86525604],\n",
       "       [0.86694153, 0.70033361],\n",
       "       [0.60694037, 0.41559204],\n",
       "       [0.43805039, 0.68967989]])"
      ]
     },
     "execution_count": 35,
     "metadata": {},
     "output_type": "execute_result"
    }
   ],
   "source": [
    "kmeans.cluster_centers_\n"
   ]
  },
  {
   "cell_type": "code",
   "execution_count": 36,
   "id": "eff3ee41",
   "metadata": {},
   "outputs": [
    {
     "data": {
      "text/html": [
       "<div>\n",
       "<style scoped>\n",
       "    .dataframe tbody tr th:only-of-type {\n",
       "        vertical-align: middle;\n",
       "    }\n",
       "\n",
       "    .dataframe tbody tr th {\n",
       "        vertical-align: top;\n",
       "    }\n",
       "\n",
       "    .dataframe thead th {\n",
       "        text-align: right;\n",
       "    }\n",
       "</style>\n",
       "<table border=\"1\" class=\"dataframe\">\n",
       "  <thead>\n",
       "    <tr style=\"text-align: right;\">\n",
       "      <th></th>\n",
       "      <th>latitude</th>\n",
       "      <th>longitude</th>\n",
       "    </tr>\n",
       "  </thead>\n",
       "  <tbody>\n",
       "    <tr>\n",
       "      <th>0</th>\n",
       "      <td>0.239759</td>\n",
       "      <td>0.865256</td>\n",
       "    </tr>\n",
       "    <tr>\n",
       "      <th>1</th>\n",
       "      <td>0.866942</td>\n",
       "      <td>0.700334</td>\n",
       "    </tr>\n",
       "    <tr>\n",
       "      <th>2</th>\n",
       "      <td>0.606940</td>\n",
       "      <td>0.415592</td>\n",
       "    </tr>\n",
       "    <tr>\n",
       "      <th>3</th>\n",
       "      <td>0.438050</td>\n",
       "      <td>0.689680</td>\n",
       "    </tr>\n",
       "  </tbody>\n",
       "</table>\n",
       "</div>"
      ],
      "text/plain": [
       "   latitude  longitude\n",
       "0  0.239759   0.865256\n",
       "1  0.866942   0.700334\n",
       "2  0.606940   0.415592\n",
       "3  0.438050   0.689680"
      ]
     },
     "execution_count": 36,
     "metadata": {},
     "output_type": "execute_result"
    }
   ],
   "source": [
    "centroids = pd.DataFrame(kmeans.cluster_centers_, columns=L.columns)\n",
    "centroids\n"
   ]
  },
  {
   "cell_type": "code",
   "execution_count": 78,
   "id": "72699fa6",
   "metadata": {
    "scrolled": true
   },
   "outputs": [
    {
     "data": {
      "text/plain": [
       "Text(0.5, 1.0, 'Visualizing Cluster Centers')"
      ]
     },
     "execution_count": 78,
     "metadata": {},
     "output_type": "execute_result"
    },
    {
     "data": {
      "image/png": "[encoded data removed]",
      "text/plain": [
       "<Figure size 1008x648 with 1 Axes>"
      ]
     },
     "metadata": {
      "needs_background": "light"
     },
     "output_type": "display_data"
    }
   ],
   "source": [
    "plt.figure(figsize=(14, 9))\n",
    "\n",
    "for cluster, subset in train_s.groupby('location_cluster'):\n",
    "    plt.scatter(subset.latitude, subset.longitude, label='cluster ' + str(cluster), alpha=.6)\n",
    "\n",
    "centroids.plot.scatter(y='longitude', x='latitude', c='black', marker='x', s=1000, ax=plt.gca(), label='centroid')\n",
    "\n",
    "\n",
    "plt.legend()\n",
    "plt.xlabel('sepal_length')\n",
    "plt.ylabel('petal_length')\n",
    "plt.title('Visualizing Cluster Centers')\n",
    "\n"
   ]
  },
  {
   "cell_type": "code",
   "execution_count": null,
   "id": "b529e499",
   "metadata": {},
   "outputs": [],
   "source": [
    "anova"
   ]
  },
  {
   "cell_type": "markdown",
   "id": "6c526ff7",
   "metadata": {},
   "source": [
    "## third custer -size and age cluster -  age  and lotsize "
   ]
  },
  {
   "cell_type": "code",
   "execution_count": 38,
   "id": "fc23799d",
   "metadata": {},
   "outputs": [
    {
     "data": {
      "text/html": [
       "<div>\n",
       "<style scoped>\n",
       "    .dataframe tbody tr th:only-of-type {\n",
       "        vertical-align: middle;\n",
       "    }\n",
       "\n",
       "    .dataframe tbody tr th {\n",
       "        vertical-align: top;\n",
       "    }\n",
       "\n",
       "    .dataframe thead th {\n",
       "        text-align: right;\n",
       "    }\n",
       "</style>\n",
       "<table border=\"1\" class=\"dataframe\">\n",
       "  <thead>\n",
       "    <tr style=\"text-align: right;\">\n",
       "      <th></th>\n",
       "      <th>lotsizesquarefeet</th>\n",
       "      <th>age</th>\n",
       "    </tr>\n",
       "  </thead>\n",
       "  <tbody>\n",
       "    <tr>\n",
       "      <th>34264</th>\n",
       "      <td>0.008265</td>\n",
       "      <td>52.0</td>\n",
       "    </tr>\n",
       "    <tr>\n",
       "      <th>8237</th>\n",
       "      <td>0.014113</td>\n",
       "      <td>65.0</td>\n",
       "    </tr>\n",
       "    <tr>\n",
       "      <th>31640</th>\n",
       "      <td>0.019604</td>\n",
       "      <td>33.0</td>\n",
       "    </tr>\n",
       "    <tr>\n",
       "      <th>14309</th>\n",
       "      <td>0.009377</td>\n",
       "      <td>46.0</td>\n",
       "    </tr>\n",
       "    <tr>\n",
       "      <th>50710</th>\n",
       "      <td>0.212281</td>\n",
       "      <td>28.0</td>\n",
       "    </tr>\n",
       "  </tbody>\n",
       "</table>\n",
       "</div>"
      ],
      "text/plain": [
       "       lotsizesquarefeet   age\n",
       "34264           0.008265  52.0\n",
       "8237            0.014113  65.0\n",
       "31640           0.019604  33.0\n",
       "14309           0.009377  46.0\n",
       "50710           0.212281  28.0"
      ]
     },
     "execution_count": 38,
     "metadata": {},
     "output_type": "execute_result"
    }
   ],
   "source": [
    "A = train_s[['lotsizesquarefeet', 'age']]\n",
    "A.head()"
   ]
  },
  {
   "cell_type": "code",
   "execution_count": 106,
   "id": "2db3bbf4",
   "metadata": {},
   "outputs": [
    {
     "data": {
      "text/plain": [
       "array([2, 1, 0, ..., 1, 0, 0], dtype=int32)"
      ]
     },
     "execution_count": 106,
     "metadata": {},
     "output_type": "execute_result"
    }
   ],
   "source": [
    "kmeans2 = KMeans(n_clusters=4)\n",
    "kmeans2.fit(A)\n",
    "\n",
    "clusters = kmeans2.predict(A)\n",
    "clusters"
   ]
  },
  {
   "cell_type": "code",
   "execution_count": 107,
   "id": "5ff90ac4",
   "metadata": {},
   "outputs": [
    {
     "data": {
      "image/png": "[encoded data removed]",
      "text/plain": [
       "<Figure size 648x432 with 1 Axes>"
      ]
     },
     "metadata": {},
     "output_type": "display_data"
    }
   ],
   "source": [
    "with plt.style.context('seaborn-whitegrid'):\n",
    "    plt.figure(figsize=(9, 6))\n",
    "    pd.Series({k: KMeans(k).fit(A).inertia_ for k in range(2, 12)}).plot(marker='x')\n",
    "    plt.xticks(range(2, 12))\n",
    "    plt.xlabel('k')\n",
    "    plt.ylabel('inertia')\n",
    "    plt.title('Change in inertia as k increases')"
   ]
  },
  {
   "cell_type": "code",
   "execution_count": 41,
   "id": "fefdeb8c",
   "metadata": {},
   "outputs": [
    {
     "data": {
      "text/html": [
       "<div>\n",
       "<style scoped>\n",
       "    .dataframe tbody tr th:only-of-type {\n",
       "        vertical-align: middle;\n",
       "    }\n",
       "\n",
       "    .dataframe tbody tr th {\n",
       "        vertical-align: top;\n",
       "    }\n",
       "\n",
       "    .dataframe thead th {\n",
       "        text-align: right;\n",
       "    }\n",
       "</style>\n",
       "<table border=\"1\" class=\"dataframe\">\n",
       "  <thead>\n",
       "    <tr style=\"text-align: right;\">\n",
       "      <th></th>\n",
       "      <th>id</th>\n",
       "      <th>parcelid</th>\n",
       "      <th>bathroomcnt</th>\n",
       "      <th>bedroomcnt</th>\n",
       "      <th>fips</th>\n",
       "      <th>latitude</th>\n",
       "      <th>longitude</th>\n",
       "      <th>lotsizesquarefeet</th>\n",
       "      <th>propertycountylandusecode</th>\n",
       "      <th>propertylandusetypeid</th>\n",
       "      <th>rawcensustractandblock</th>\n",
       "      <th>roomcnt</th>\n",
       "      <th>yearbuilt</th>\n",
       "      <th>taxvaluedollarcnt</th>\n",
       "      <th>assessmentyear</th>\n",
       "      <th>logerror</th>\n",
       "      <th>transactiondate</th>\n",
       "      <th>propertylandusedesc</th>\n",
       "      <th>County</th>\n",
       "      <th>age</th>\n",
       "      <th>age_bin</th>\n",
       "      <th>acres</th>\n",
       "      <th>acres_bin</th>\n",
       "      <th>LA</th>\n",
       "      <th>Orange</th>\n",
       "      <th>Ventura</th>\n",
       "      <th>size_cluster</th>\n",
       "      <th>location_cluster</th>\n",
       "      <th>age_size</th>\n",
       "    </tr>\n",
       "  </thead>\n",
       "  <tbody>\n",
       "    <tr>\n",
       "      <th>34264</th>\n",
       "      <td>2036202</td>\n",
       "      <td>12529787</td>\n",
       "      <td>0.500000</td>\n",
       "      <td>0.500000</td>\n",
       "      <td>6037.0</td>\n",
       "      <td>0.290645</td>\n",
       "      <td>0.705217</td>\n",
       "      <td>0.008265</td>\n",
       "      <td>0101</td>\n",
       "      <td>261.0</td>\n",
       "      <td>6.037578e+07</td>\n",
       "      <td>0.0</td>\n",
       "      <td>1965.0</td>\n",
       "      <td>963045.0</td>\n",
       "      <td>2016.0</td>\n",
       "      <td>-0.005355</td>\n",
       "      <td>2017-06-27</td>\n",
       "      <td>Single Family Residential</td>\n",
       "      <td>Los Angeles County</td>\n",
       "      <td>52.0</td>\n",
       "      <td>0.400</td>\n",
       "      <td>0.150826</td>\n",
       "      <td>0.2</td>\n",
       "      <td>1</td>\n",
       "      <td>0</td>\n",
       "      <td>0</td>\n",
       "      <td>3</td>\n",
       "      <td>3</td>\n",
       "      <td>2</td>\n",
       "    </tr>\n",
       "    <tr>\n",
       "      <th>8237</th>\n",
       "      <td>2883002</td>\n",
       "      <td>11848044</td>\n",
       "      <td>0.166667</td>\n",
       "      <td>0.166667</td>\n",
       "      <td>6037.0</td>\n",
       "      <td>0.477749</td>\n",
       "      <td>0.697542</td>\n",
       "      <td>0.014113</td>\n",
       "      <td>0101</td>\n",
       "      <td>261.0</td>\n",
       "      <td>6.037482e+07</td>\n",
       "      <td>0.0</td>\n",
       "      <td>1952.0</td>\n",
       "      <td>299104.0</td>\n",
       "      <td>2016.0</td>\n",
       "      <td>0.041482</td>\n",
       "      <td>2017-02-24</td>\n",
       "      <td>Single Family Residential</td>\n",
       "      <td>Los Angeles County</td>\n",
       "      <td>65.0</td>\n",
       "      <td>0.466</td>\n",
       "      <td>0.253696</td>\n",
       "      <td>0.3</td>\n",
       "      <td>1</td>\n",
       "      <td>0</td>\n",
       "      <td>0</td>\n",
       "      <td>1</td>\n",
       "      <td>3</td>\n",
       "      <td>0</td>\n",
       "    </tr>\n",
       "    <tr>\n",
       "      <th>31640</th>\n",
       "      <td>2759592</td>\n",
       "      <td>17271234</td>\n",
       "      <td>0.166667</td>\n",
       "      <td>0.333333</td>\n",
       "      <td>6111.0</td>\n",
       "      <td>0.559977</td>\n",
       "      <td>0.271079</td>\n",
       "      <td>0.019604</td>\n",
       "      <td>1111</td>\n",
       "      <td>261.0</td>\n",
       "      <td>6.111006e+07</td>\n",
       "      <td>6.0</td>\n",
       "      <td>1984.0</td>\n",
       "      <td>263015.0</td>\n",
       "      <td>2016.0</td>\n",
       "      <td>0.072371</td>\n",
       "      <td>2017-06-16</td>\n",
       "      <td>Single Family Residential</td>\n",
       "      <td>Ventura County</td>\n",
       "      <td>33.0</td>\n",
       "      <td>0.266</td>\n",
       "      <td>0.350298</td>\n",
       "      <td>0.3</td>\n",
       "      <td>0</td>\n",
       "      <td>0</td>\n",
       "      <td>1</td>\n",
       "      <td>2</td>\n",
       "      <td>2</td>\n",
       "      <td>1</td>\n",
       "    </tr>\n",
       "    <tr>\n",
       "      <th>14309</th>\n",
       "      <td>1044874</td>\n",
       "      <td>17266806</td>\n",
       "      <td>0.166667</td>\n",
       "      <td>0.333333</td>\n",
       "      <td>6111.0</td>\n",
       "      <td>0.559026</td>\n",
       "      <td>0.279767</td>\n",
       "      <td>0.009377</td>\n",
       "      <td>1111</td>\n",
       "      <td>261.0</td>\n",
       "      <td>6.111006e+07</td>\n",
       "      <td>6.0</td>\n",
       "      <td>1971.0</td>\n",
       "      <td>548830.0</td>\n",
       "      <td>2016.0</td>\n",
       "      <td>-0.019596</td>\n",
       "      <td>2017-03-30</td>\n",
       "      <td>Single Family Residential</td>\n",
       "      <td>Ventura County</td>\n",
       "      <td>46.0</td>\n",
       "      <td>0.333</td>\n",
       "      <td>0.170386</td>\n",
       "      <td>0.2</td>\n",
       "      <td>0</td>\n",
       "      <td>0</td>\n",
       "      <td>1</td>\n",
       "      <td>2</td>\n",
       "      <td>2</td>\n",
       "      <td>2</td>\n",
       "    </tr>\n",
       "    <tr>\n",
       "      <th>50710</th>\n",
       "      <td>2848400</td>\n",
       "      <td>17068575</td>\n",
       "      <td>0.500000</td>\n",
       "      <td>0.333333</td>\n",
       "      <td>6111.0</td>\n",
       "      <td>0.688996</td>\n",
       "      <td>0.084830</td>\n",
       "      <td>0.212281</td>\n",
       "      <td>1110</td>\n",
       "      <td>261.0</td>\n",
       "      <td>6.111001e+07</td>\n",
       "      <td>7.0</td>\n",
       "      <td>1989.0</td>\n",
       "      <td>877934.0</td>\n",
       "      <td>2016.0</td>\n",
       "      <td>0.056052</td>\n",
       "      <td>2017-09-12</td>\n",
       "      <td>Single Family Residential</td>\n",
       "      <td>Ventura County</td>\n",
       "      <td>28.0</td>\n",
       "      <td>0.200</td>\n",
       "      <td>3.739991</td>\n",
       "      <td>0.5</td>\n",
       "      <td>0</td>\n",
       "      <td>0</td>\n",
       "      <td>1</td>\n",
       "      <td>3</td>\n",
       "      <td>2</td>\n",
       "      <td>1</td>\n",
       "    </tr>\n",
       "  </tbody>\n",
       "</table>\n",
       "</div>"
      ],
      "text/plain": [
       "            id  parcelid  bathroomcnt  bedroomcnt    fips  latitude  \\\n",
       "34264  2036202  12529787     0.500000    0.500000  6037.0  0.290645   \n",
       "8237   2883002  11848044     0.166667    0.166667  6037.0  0.477749   \n",
       "31640  2759592  17271234     0.166667    0.333333  6111.0  0.559977   \n",
       "14309  1044874  17266806     0.166667    0.333333  6111.0  0.559026   \n",
       "50710  2848400  17068575     0.500000    0.333333  6111.0  0.688996   \n",
       "\n",
       "       longitude  lotsizesquarefeet propertycountylandusecode  \\\n",
       "34264   0.705217           0.008265                      0101   \n",
       "8237    0.697542           0.014113                      0101   \n",
       "31640   0.271079           0.019604                      1111   \n",
       "14309   0.279767           0.009377                      1111   \n",
       "50710   0.084830           0.212281                      1110   \n",
       "\n",
       "       propertylandusetypeid  rawcensustractandblock  roomcnt  yearbuilt  \\\n",
       "34264                  261.0            6.037578e+07      0.0     1965.0   \n",
       "8237                   261.0            6.037482e+07      0.0     1952.0   \n",
       "31640                  261.0            6.111006e+07      6.0     1984.0   \n",
       "14309                  261.0            6.111006e+07      6.0     1971.0   \n",
       "50710                  261.0            6.111001e+07      7.0     1989.0   \n",
       "\n",
       "       taxvaluedollarcnt  assessmentyear  logerror transactiondate  \\\n",
       "34264           963045.0          2016.0 -0.005355      2017-06-27   \n",
       "8237            299104.0          2016.0  0.041482      2017-02-24   \n",
       "31640           263015.0          2016.0  0.072371      2017-06-16   \n",
       "14309           548830.0          2016.0 -0.019596      2017-03-30   \n",
       "50710           877934.0          2016.0  0.056052      2017-09-12   \n",
       "\n",
       "             propertylandusedesc              County   age  age_bin     acres  \\\n",
       "34264  Single Family Residential  Los Angeles County  52.0    0.400  0.150826   \n",
       "8237   Single Family Residential  Los Angeles County  65.0    0.466  0.253696   \n",
       "31640  Single Family Residential      Ventura County  33.0    0.266  0.350298   \n",
       "14309  Single Family Residential      Ventura County  46.0    0.333  0.170386   \n",
       "50710  Single Family Residential      Ventura County  28.0    0.200  3.739991   \n",
       "\n",
       "       acres_bin  LA  Orange  Ventura  size_cluster  location_cluster  \\\n",
       "34264        0.2   1       0        0             3                 3   \n",
       "8237         0.3   1       0        0             1                 3   \n",
       "31640        0.3   0       0        1             2                 2   \n",
       "14309        0.2   0       0        1             2                 2   \n",
       "50710        0.5   0       0        1             3                 2   \n",
       "\n",
       "       age_size  \n",
       "34264         2  \n",
       "8237          0  \n",
       "31640         1  \n",
       "14309         2  \n",
       "50710         1  "
      ]
     },
     "execution_count": 41,
     "metadata": {},
     "output_type": "execute_result"
    }
   ],
   "source": [
    "train_s['age_size'] = clusters\n",
    "train_s.head()"
   ]
  },
  {
   "cell_type": "code",
   "execution_count": 121,
   "id": "ba54fbcd",
   "metadata": {
    "scrolled": true
   },
   "outputs": [
    {
     "data": {
      "text/plain": [
       "<seaborn.axisgrid.FacetGrid at 0x14f4c00d0>"
      ]
     },
     "execution_count": 121,
     "metadata": {},
     "output_type": "execute_result"
    },
    {
     "data": {
      "image/png": "[encoded data removed]",
      "text/plain": [
       "<Figure size 360x360 with 1 Axes>"
      ]
     },
     "metadata": {
      "needs_background": "light"
     },
     "output_type": "display_data"
    }
   ],
   "source": [
    "sns.relplot(data=train_s, x='age_size', y='logerror')"
   ]
  },
  {
   "cell_type": "code",
   "execution_count": 109,
   "id": "fe11a1cb",
   "metadata": {},
   "outputs": [
    {
     "data": {
      "text/plain": [
       "array([[1.60035188e-02, 2.11845292e+01],\n",
       "       [1.15769239e-02, 6.54851687e+01],\n",
       "       [1.24997980e-02, 4.72437579e+01],\n",
       "       [9.13957851e-03, 9.33958084e+01]])"
      ]
     },
     "execution_count": 109,
     "metadata": {},
     "output_type": "execute_result"
    }
   ],
   "source": [
    "kmeans2.cluster_centers_\n"
   ]
  },
  {
   "cell_type": "code",
   "execution_count": 110,
   "id": "f65d1640",
   "metadata": {},
   "outputs": [
    {
     "data": {
      "text/html": [
       "<div>\n",
       "<style scoped>\n",
       "    .dataframe tbody tr th:only-of-type {\n",
       "        vertical-align: middle;\n",
       "    }\n",
       "\n",
       "    .dataframe tbody tr th {\n",
       "        vertical-align: top;\n",
       "    }\n",
       "\n",
       "    .dataframe thead th {\n",
       "        text-align: right;\n",
       "    }\n",
       "</style>\n",
       "<table border=\"1\" class=\"dataframe\">\n",
       "  <thead>\n",
       "    <tr style=\"text-align: right;\">\n",
       "      <th></th>\n",
       "      <th>lotsizesquarefeet</th>\n",
       "      <th>age</th>\n",
       "    </tr>\n",
       "  </thead>\n",
       "  <tbody>\n",
       "    <tr>\n",
       "      <th>0</th>\n",
       "      <td>0.016004</td>\n",
       "      <td>21.184529</td>\n",
       "    </tr>\n",
       "    <tr>\n",
       "      <th>1</th>\n",
       "      <td>0.011577</td>\n",
       "      <td>65.485169</td>\n",
       "    </tr>\n",
       "    <tr>\n",
       "      <th>2</th>\n",
       "      <td>0.012500</td>\n",
       "      <td>47.243758</td>\n",
       "    </tr>\n",
       "    <tr>\n",
       "      <th>3</th>\n",
       "      <td>0.009140</td>\n",
       "      <td>93.395808</td>\n",
       "    </tr>\n",
       "  </tbody>\n",
       "</table>\n",
       "</div>"
      ],
      "text/plain": [
       "   lotsizesquarefeet        age\n",
       "0           0.016004  21.184529\n",
       "1           0.011577  65.485169\n",
       "2           0.012500  47.243758\n",
       "3           0.009140  93.395808"
      ]
     },
     "execution_count": 110,
     "metadata": {},
     "output_type": "execute_result"
    }
   ],
   "source": [
    "centroids2 = pd.DataFrame(kmeans2.cluster_centers_, columns=A.columns)\n",
    "centroids2"
   ]
  },
  {
   "cell_type": "code",
   "execution_count": 113,
   "id": "75dda780",
   "metadata": {},
   "outputs": [
    {
     "data": {
      "text/plain": [
       "Text(0.5, 1.0, 'Visualizing Cluster Centers')"
      ]
     },
     "execution_count": 113,
     "metadata": {},
     "output_type": "execute_result"
    },
    {
     "data": {
      "image/png": "[encoded data removed]",
      "text/plain": [
       "<Figure size 1008x648 with 1 Axes>"
      ]
     },
     "metadata": {
      "needs_background": "light"
     },
     "output_type": "display_data"
    }
   ],
   "source": [
    "plt.figure(figsize=(14, 9))\n",
    "\n",
    "for cluster, subset in train_s.groupby('age_size'):\n",
    "    plt.scatter(subset.lotsizesquarefeet, subset.age, label='cluster ' + str(cluster), alpha=.6)\n",
    "\n",
    "centroids2.plot.scatter(y='age', x='lotsizesquarefeet', c='black', marker='x', s=1000, ax=plt.gca(), label='centroid')\n",
    "\n",
    "\n",
    "plt.legend()\n",
    "plt.xlabel('sepal_length')\n",
    "plt.ylabel('petal_length')\n",
    "plt.title('Visualizing Cluster Centers')"
   ]
  },
  {
   "cell_type": "code",
   "execution_count": null,
   "id": "829e4815",
   "metadata": {},
   "outputs": [],
   "source": [
    "anova test"
   ]
  },
  {
   "cell_type": "markdown",
   "id": "4969136e",
   "metadata": {},
   "source": [
    "## Using select k best to find the best fetures for modeling "
   ]
  },
  {
   "cell_type": "code",
   "execution_count": 129,
   "id": "c9868a26",
   "metadata": {},
   "outputs": [
    {
     "name": "stdout",
     "output_type": "stream",
     "text": [
      "<class 'pandas.core.frame.DataFrame'>\n",
      "RangeIndex: 52030 entries, 0 to 52029\n",
      "Data columns (total 26 columns):\n",
      " #   Column                     Non-Null Count  Dtype  \n",
      "---  ------                     --------------  -----  \n",
      " 0   id                         52030 non-null  int64  \n",
      " 1   parcelid                   52030 non-null  int64  \n",
      " 2   bathroomcnt                52030 non-null  float64\n",
      " 3   bedroomcnt                 52030 non-null  float64\n",
      " 4   fips                       52030 non-null  float64\n",
      " 5   latitude                   52030 non-null  float64\n",
      " 6   longitude                  52030 non-null  float64\n",
      " 7   lotsizesquarefeet          52030 non-null  float64\n",
      " 8   propertycountylandusecode  52030 non-null  object \n",
      " 9   propertylandusetypeid      52030 non-null  float64\n",
      " 10  rawcensustractandblock     52030 non-null  float64\n",
      " 11  roomcnt                    52030 non-null  float64\n",
      " 12  yearbuilt                  52030 non-null  float64\n",
      " 13  taxvaluedollarcnt          52030 non-null  float64\n",
      " 14  assessmentyear             52030 non-null  float64\n",
      " 15  logerror                   52030 non-null  float64\n",
      " 16  transactiondate            52030 non-null  object \n",
      " 17  propertylandusedesc        52030 non-null  object \n",
      " 18  County                     52030 non-null  object \n",
      " 19  age                        52030 non-null  float64\n",
      " 20  age_bin                    52030 non-null  float64\n",
      " 21  acres                      52030 non-null  float64\n",
      " 22  acres_bin                  52030 non-null  float64\n",
      " 23  LA                         52030 non-null  int64  \n",
      " 24  Orange                     52030 non-null  int64  \n",
      " 25  Ventura                    52030 non-null  int64  \n",
      "dtypes: float64(17), int64(5), object(4)\n",
      "memory usage: 10.3+ MB\n"
     ]
    }
   ],
   "source": [
    "df.info()"
   ]
  },
  {
   "cell_type": "code",
   "execution_count": 84,
   "id": "380d9d1d",
   "metadata": {},
   "outputs": [],
   "source": [
    "from sklearn.feature_selection import SelectKBest, RFE, f_regression, SequentialFeatureSelector"
   ]
  },
  {
   "cell_type": "code",
   "execution_count": 130,
   "id": "029a63ff",
   "metadata": {},
   "outputs": [],
   "source": [
    "X_train = train_s[['bathroomcnt','bedroomcnt','latitude', 'longitude','lotsizesquarefeet', 'age','acres','LA','Orange','Ventura', 'propertylandusetypeid','roomcnt','yearbuilt','taxvaluedollarcnt', 'assessmentyear','age', 'age_bin','acres','acres_bin']]\n",
    "y_train = pd.DataFrame(train[['logerror']])\n",
    "\n",
    "\n",
    "X_validate = valid_s[['bathroomcnt','bedroomcnt','latitude', 'longitude','lotsizesquarefeet', 'age','acres','LA','Orange','Ventura', 'propertylandusetypeid','roomcnt','yearbuilt','taxvaluedollarcnt', 'assessmentyear','age', 'age_bin','acres','acres_bin']]\n",
    "y_validate = pd.DataFrame(validate[['logerror']])\n",
    "\n",
    "\n",
    "X_test = test_s[['bathroomcnt','bedroomcnt','latitude', 'longitude','lotsizesquarefeet', 'age','acres','LA','Orange','Ventura', 'propertylandusetypeid','roomcnt','yearbuilt','taxvaluedollarcnt', 'assessmentyear','age', 'age_bin','acres','acres_bin']]\n",
    "y_test = pd.DataFrame(test[['logerror']])"
   ]
  },
  {
   "cell_type": "code",
   "execution_count": 131,
   "id": "77f752dc",
   "metadata": {},
   "outputs": [
    {
     "data": {
      "text/plain": [
       "SelectKBest(k=6, score_func=<function f_regression at 0x14ca18670>)"
      ]
     },
     "execution_count": 131,
     "metadata": {},
     "output_type": "execute_result"
    }
   ],
   "source": [
    "kbest = SelectKBest(f_regression, k=6)\n",
    "kbest.fit(X_train, y_train)"
   ]
  },
  {
   "cell_type": "code",
   "execution_count": 132,
   "id": "122c15b8",
   "metadata": {},
   "outputs": [
    {
     "data": {
      "text/html": [
       "<div>\n",
       "<style scoped>\n",
       "    .dataframe tbody tr th:only-of-type {\n",
       "        vertical-align: middle;\n",
       "    }\n",
       "\n",
       "    .dataframe tbody tr th {\n",
       "        vertical-align: top;\n",
       "    }\n",
       "\n",
       "    .dataframe thead th {\n",
       "        text-align: right;\n",
       "    }\n",
       "</style>\n",
       "<table border=\"1\" class=\"dataframe\">\n",
       "  <thead>\n",
       "    <tr style=\"text-align: right;\">\n",
       "      <th></th>\n",
       "      <th>p</th>\n",
       "      <th>f</th>\n",
       "    </tr>\n",
       "  </thead>\n",
       "  <tbody>\n",
       "    <tr>\n",
       "      <th>bathroomcnt</th>\n",
       "      <td>5.195997e-09</td>\n",
       "      <td>34.135166</td>\n",
       "    </tr>\n",
       "    <tr>\n",
       "      <th>bedroomcnt</th>\n",
       "      <td>2.730687e-08</td>\n",
       "      <td>30.906959</td>\n",
       "    </tr>\n",
       "    <tr>\n",
       "      <th>latitude</th>\n",
       "      <td>9.085502e-05</td>\n",
       "      <td>15.322118</td>\n",
       "    </tr>\n",
       "    <tr>\n",
       "      <th>longitude</th>\n",
       "      <td>6.072144e-05</td>\n",
       "      <td>16.084730</td>\n",
       "    </tr>\n",
       "    <tr>\n",
       "      <th>lotsizesquarefeet</th>\n",
       "      <td>1.800570e-01</td>\n",
       "      <td>1.797240</td>\n",
       "    </tr>\n",
       "    <tr>\n",
       "      <th>age</th>\n",
       "      <td>1.547987e-03</td>\n",
       "      <td>10.022500</td>\n",
       "    </tr>\n",
       "    <tr>\n",
       "      <th>acres</th>\n",
       "      <td>1.800570e-01</td>\n",
       "      <td>1.797240</td>\n",
       "    </tr>\n",
       "    <tr>\n",
       "      <th>LA</th>\n",
       "      <td>3.367811e-04</td>\n",
       "      <td>12.856932</td>\n",
       "    </tr>\n",
       "    <tr>\n",
       "      <th>Orange</th>\n",
       "      <td>3.788513e-06</td>\n",
       "      <td>21.377186</td>\n",
       "    </tr>\n",
       "    <tr>\n",
       "      <th>Ventura</th>\n",
       "      <td>2.216195e-01</td>\n",
       "      <td>1.493918</td>\n",
       "    </tr>\n",
       "    <tr>\n",
       "      <th>propertylandusetypeid</th>\n",
       "      <td>NaN</td>\n",
       "      <td>NaN</td>\n",
       "    </tr>\n",
       "    <tr>\n",
       "      <th>roomcnt</th>\n",
       "      <td>4.361741e-02</td>\n",
       "      <td>4.071666</td>\n",
       "    </tr>\n",
       "    <tr>\n",
       "      <th>yearbuilt</th>\n",
       "      <td>1.547987e-03</td>\n",
       "      <td>10.022500</td>\n",
       "    </tr>\n",
       "    <tr>\n",
       "      <th>taxvaluedollarcnt</th>\n",
       "      <td>8.135043e-01</td>\n",
       "      <td>0.055653</td>\n",
       "    </tr>\n",
       "    <tr>\n",
       "      <th>assessmentyear</th>\n",
       "      <td>NaN</td>\n",
       "      <td>NaN</td>\n",
       "    </tr>\n",
       "    <tr>\n",
       "      <th>age</th>\n",
       "      <td>1.547987e-03</td>\n",
       "      <td>10.022500</td>\n",
       "    </tr>\n",
       "    <tr>\n",
       "      <th>age_bin</th>\n",
       "      <td>1.258423e-03</td>\n",
       "      <td>10.404573</td>\n",
       "    </tr>\n",
       "    <tr>\n",
       "      <th>acres</th>\n",
       "      <td>1.800570e-01</td>\n",
       "      <td>1.797240</td>\n",
       "    </tr>\n",
       "    <tr>\n",
       "      <th>acres_bin</th>\n",
       "      <td>6.271954e-03</td>\n",
       "      <td>7.471546</td>\n",
       "    </tr>\n",
       "  </tbody>\n",
       "</table>\n",
       "</div>"
      ],
      "text/plain": [
       "                                  p          f\n",
       "bathroomcnt            5.195997e-09  34.135166\n",
       "bedroomcnt             2.730687e-08  30.906959\n",
       "latitude               9.085502e-05  15.322118\n",
       "longitude              6.072144e-05  16.084730\n",
       "lotsizesquarefeet      1.800570e-01   1.797240\n",
       "age                    1.547987e-03  10.022500\n",
       "acres                  1.800570e-01   1.797240\n",
       "LA                     3.367811e-04  12.856932\n",
       "Orange                 3.788513e-06  21.377186\n",
       "Ventura                2.216195e-01   1.493918\n",
       "propertylandusetypeid           NaN        NaN\n",
       "roomcnt                4.361741e-02   4.071666\n",
       "yearbuilt              1.547987e-03  10.022500\n",
       "taxvaluedollarcnt      8.135043e-01   0.055653\n",
       "assessmentyear                  NaN        NaN\n",
       "age                    1.547987e-03  10.022500\n",
       "age_bin                1.258423e-03  10.404573\n",
       "acres                  1.800570e-01   1.797240\n",
       "acres_bin              6.271954e-03   7.471546"
      ]
     },
     "execution_count": 132,
     "metadata": {},
     "output_type": "execute_result"
    }
   ],
   "source": [
    "kbest_results = pd.DataFrame(dict(p=kbest.pvalues_, f=kbest.scores_), index=X_train.columns)\n",
    "kbest_results"
   ]
  },
  {
   "cell_type": "code",
   "execution_count": 133,
   "id": "c02980c8",
   "metadata": {},
   "outputs": [
    {
     "data": {
      "text/plain": [
       "Index(['bathroomcnt', 'bedroomcnt', 'latitude', 'longitude', 'LA', 'Orange'], dtype='object')"
      ]
     },
     "execution_count": 133,
     "metadata": {},
     "output_type": "execute_result"
    }
   ],
   "source": [
    "X_train.columns[kbest.get_support()]"
   ]
  },
  {
   "cell_type": "code",
   "execution_count": 134,
   "id": "00482b95",
   "metadata": {},
   "outputs": [],
   "source": [
    "from sklearn.linear_model import LinearRegression"
   ]
  },
  {
   "cell_type": "code",
   "execution_count": 135,
   "id": "ecccc5ee",
   "metadata": {},
   "outputs": [
    {
     "data": {
      "text/plain": [
       "RFE(estimator=LinearRegression(), n_features_to_select=6)"
      ]
     },
     "execution_count": 135,
     "metadata": {},
     "output_type": "execute_result"
    }
   ],
   "source": [
    "model = LinearRegression()\n",
    "rfe = RFE(model, n_features_to_select=6)\n",
    "rfe.fit(X_train, y_train)"
   ]
  },
  {
   "cell_type": "code",
   "execution_count": 136,
   "id": "14939355",
   "metadata": {},
   "outputs": [
    {
     "data": {
      "text/html": [
       "<div>\n",
       "<style scoped>\n",
       "    .dataframe tbody tr th:only-of-type {\n",
       "        vertical-align: middle;\n",
       "    }\n",
       "\n",
       "    .dataframe tbody tr th {\n",
       "        vertical-align: top;\n",
       "    }\n",
       "\n",
       "    .dataframe thead th {\n",
       "        text-align: right;\n",
       "    }\n",
       "</style>\n",
       "<table border=\"1\" class=\"dataframe\">\n",
       "  <thead>\n",
       "    <tr style=\"text-align: right;\">\n",
       "      <th></th>\n",
       "      <th>rfe_ranking</th>\n",
       "    </tr>\n",
       "  </thead>\n",
       "  <tbody>\n",
       "    <tr>\n",
       "      <th>bathroomcnt</th>\n",
       "      <td>6</td>\n",
       "    </tr>\n",
       "    <tr>\n",
       "      <th>bedroomcnt</th>\n",
       "      <td>8</td>\n",
       "    </tr>\n",
       "    <tr>\n",
       "      <th>latitude</th>\n",
       "      <td>10</td>\n",
       "    </tr>\n",
       "    <tr>\n",
       "      <th>longitude</th>\n",
       "      <td>7</td>\n",
       "    </tr>\n",
       "    <tr>\n",
       "      <th>lotsizesquarefeet</th>\n",
       "      <td>2</td>\n",
       "    </tr>\n",
       "    <tr>\n",
       "      <th>age</th>\n",
       "      <td>1</td>\n",
       "    </tr>\n",
       "    <tr>\n",
       "      <th>acres</th>\n",
       "      <td>4</td>\n",
       "    </tr>\n",
       "    <tr>\n",
       "      <th>LA</th>\n",
       "      <td>1</td>\n",
       "    </tr>\n",
       "    <tr>\n",
       "      <th>Orange</th>\n",
       "      <td>1</td>\n",
       "    </tr>\n",
       "    <tr>\n",
       "      <th>Ventura</th>\n",
       "      <td>1</td>\n",
       "    </tr>\n",
       "    <tr>\n",
       "      <th>propertylandusetypeid</th>\n",
       "      <td>13</td>\n",
       "    </tr>\n",
       "    <tr>\n",
       "      <th>roomcnt</th>\n",
       "      <td>11</td>\n",
       "    </tr>\n",
       "    <tr>\n",
       "      <th>yearbuilt</th>\n",
       "      <td>1</td>\n",
       "    </tr>\n",
       "    <tr>\n",
       "      <th>taxvaluedollarcnt</th>\n",
       "      <td>12</td>\n",
       "    </tr>\n",
       "    <tr>\n",
       "      <th>assessmentyear</th>\n",
       "      <td>14</td>\n",
       "    </tr>\n",
       "    <tr>\n",
       "      <th>age</th>\n",
       "      <td>1</td>\n",
       "    </tr>\n",
       "    <tr>\n",
       "      <th>age_bin</th>\n",
       "      <td>5</td>\n",
       "    </tr>\n",
       "    <tr>\n",
       "      <th>acres</th>\n",
       "      <td>3</td>\n",
       "    </tr>\n",
       "    <tr>\n",
       "      <th>acres_bin</th>\n",
       "      <td>9</td>\n",
       "    </tr>\n",
       "  </tbody>\n",
       "</table>\n",
       "</div>"
      ],
      "text/plain": [
       "                       rfe_ranking\n",
       "bathroomcnt                      6\n",
       "bedroomcnt                       8\n",
       "latitude                        10\n",
       "longitude                        7\n",
       "lotsizesquarefeet                2\n",
       "age                              1\n",
       "acres                            4\n",
       "LA                               1\n",
       "Orange                           1\n",
       "Ventura                          1\n",
       "propertylandusetypeid           13\n",
       "roomcnt                         11\n",
       "yearbuilt                        1\n",
       "taxvaluedollarcnt               12\n",
       "assessmentyear                  14\n",
       "age                              1\n",
       "age_bin                          5\n",
       "acres                            3\n",
       "acres_bin                        9"
      ]
     },
     "execution_count": 136,
     "metadata": {},
     "output_type": "execute_result"
    }
   ],
   "source": [
    "pd.DataFrame({'rfe_ranking': rfe.ranking_}, index=X_train.columns)"
   ]
  },
  {
   "cell_type": "code",
   "execution_count": 138,
   "id": "4e24467a",
   "metadata": {},
   "outputs": [
    {
     "data": {
      "text/plain": [
       "Index(['age', 'LA', 'Orange', 'Ventura', 'yearbuilt', 'age'], dtype='object')"
      ]
     },
     "execution_count": 138,
     "metadata": {},
     "output_type": "execute_result"
    }
   ],
   "source": [
    "X_train.columns[rfe.get_support()]"
   ]
  },
  {
   "cell_type": "code",
   "execution_count": null,
   "id": "038b0bb7",
   "metadata": {},
   "outputs": [],
   "source": []
  },
  {
   "cell_type": "code",
   "execution_count": null,
   "id": "08ea86e1",
   "metadata": {},
   "outputs": [],
   "source": []
  },
  {
   "cell_type": "code",
   "execution_count": null,
   "id": "4e95f0da",
   "metadata": {},
   "outputs": [],
   "source": []
  },
  {
   "cell_type": "markdown",
   "id": "7b2c6ff3",
   "metadata": {},
   "source": [
    "## MODELING"
   ]
  },
  {
   "cell_type": "code",
   "execution_count": 139,
   "id": "3aefaa8c",
   "metadata": {},
   "outputs": [],
   "source": [
    "X_train = train_s[['bathroomcnt','bedroomcnt','latitude', 'longitude']]\n",
    "y_train = pd.DataFrame(train[['logerror']])\n",
    "\n",
    "\n",
    "X_validate = valid_s[['bathroomcnt','bedroomcnt','latitude', 'longitude']]\n",
    "y_validate = pd.DataFrame(validate[['logerror']])\n",
    "\n",
    "\n",
    "X_test = test_s[['bathroomcnt','bedroomcnt','latitude', 'longitude']]\n",
    "y_test = pd.DataFrame(test[['logerror']])"
   ]
  },
  {
   "cell_type": "code",
   "execution_count": 149,
   "id": "76bf1906",
   "metadata": {
    "scrolled": true
   },
   "outputs": [
    {
     "name": "stdout",
     "output_type": "stream",
     "text": [
      "Train baseline RMSE: 0.17902282261997393.\n",
      "Validation baseline RMSE: 0.16293244362415202.\n"
     ]
    }
   ],
   "source": [
    "from math import sqrt\n",
    "from sklearn.metrics import mean_squared_error\n",
    "#Establish baselines for the train and validation subsets\n",
    "baseline = train.logerror.mean()\n",
    "\n",
    "train['baseline'] = baseline\n",
    "validate['baseline'] = baseline\n",
    "\n",
    "train_rmse = sqrt(mean_squared_error(train.logerror, train.baseline))\n",
    "valid_rmse = sqrt(mean_squared_error(validate.logerror, validate.baseline))\n",
    "\n",
    "print('Train baseline RMSE: {}.'.format(train_rmse))\n",
    "print('Validation baseline RMSE: {}.'.format(valid_rmse))"
   ]
  },
  {
   "cell_type": "markdown",
   "id": "f9ef6780",
   "metadata": {},
   "source": [
    "OLS"
   ]
  },
  {
   "cell_type": "code",
   "execution_count": 141,
   "id": "6b7ab8c4",
   "metadata": {},
   "outputs": [
    {
     "data": {
      "text/html": [
       "<div>\n",
       "<style scoped>\n",
       "    .dataframe tbody tr th:only-of-type {\n",
       "        vertical-align: middle;\n",
       "    }\n",
       "\n",
       "    .dataframe tbody tr th {\n",
       "        vertical-align: top;\n",
       "    }\n",
       "\n",
       "    .dataframe thead th {\n",
       "        text-align: right;\n",
       "    }\n",
       "</style>\n",
       "<table border=\"1\" class=\"dataframe\">\n",
       "  <thead>\n",
       "    <tr style=\"text-align: right;\">\n",
       "      <th></th>\n",
       "      <th>logerror</th>\n",
       "    </tr>\n",
       "  </thead>\n",
       "  <tbody>\n",
       "    <tr>\n",
       "      <th>34264</th>\n",
       "      <td>-0.005355</td>\n",
       "    </tr>\n",
       "    <tr>\n",
       "      <th>8237</th>\n",
       "      <td>0.041482</td>\n",
       "    </tr>\n",
       "    <tr>\n",
       "      <th>31640</th>\n",
       "      <td>0.072371</td>\n",
       "    </tr>\n",
       "    <tr>\n",
       "      <th>14309</th>\n",
       "      <td>-0.019596</td>\n",
       "    </tr>\n",
       "    <tr>\n",
       "      <th>50710</th>\n",
       "      <td>0.056052</td>\n",
       "    </tr>\n",
       "  </tbody>\n",
       "</table>\n",
       "</div>"
      ],
      "text/plain": [
       "       logerror\n",
       "34264 -0.005355\n",
       "8237   0.041482\n",
       "31640  0.072371\n",
       "14309 -0.019596\n",
       "50710  0.056052"
      ]
     },
     "execution_count": 141,
     "metadata": {},
     "output_type": "execute_result"
    }
   ],
   "source": [
    "y_train.head()"
   ]
  },
  {
   "cell_type": "code",
   "execution_count": 142,
   "id": "a70e53e6",
   "metadata": {},
   "outputs": [
    {
     "name": "stdout",
     "output_type": "stream",
     "text": [
      "<class 'pandas.core.frame.DataFrame'>\n",
      "Int64Index: 12488 entries, 48846 to 23096\n",
      "Data columns (total 4 columns):\n",
      " #   Column       Non-Null Count  Dtype  \n",
      "---  ------       --------------  -----  \n",
      " 0   bathroomcnt  12488 non-null  float64\n",
      " 1   bedroomcnt   12488 non-null  float64\n",
      " 2   latitude     12488 non-null  float64\n",
      " 3   longitude    12488 non-null  float64\n",
      "dtypes: float64(4)\n",
      "memory usage: 487.8 KB\n"
     ]
    }
   ],
   "source": [
    "X_validate.info()"
   ]
  },
  {
   "cell_type": "code",
   "execution_count": 143,
   "id": "c2777ff4",
   "metadata": {},
   "outputs": [
    {
     "name": "stdout",
     "output_type": "stream",
     "text": [
      "RMSE for OLS using LinearRegression\n",
      "Training/In-Sample:  0.1788394195711862 \n",
      "Validation/Out-of-Sample:  0.162695056693868\n"
     ]
    }
   ],
   "source": [
    "# create the model object\n",
    "lm = LinearRegression(normalize=True)\n",
    "\n",
    "# fit the model to our training data. We must specify the column in y_train, \n",
    "# since we have converted it to a dataframe from a series! \n",
    "lm.fit(X_train, y_train['logerror'])\n",
    "\n",
    "# predict train\n",
    "y_train['logerror_pred_lm'] = lm.predict(X_train)\n",
    "\n",
    "# evaluate: rmse\n",
    "rmse_train = mean_squared_error(y_train['logerror'], y_train.logerror_pred_lm)**(1/2)\n",
    "\n",
    "# predict validate\n",
    "y_validate['logerror_pred_lm'] = lm.predict(X_validate)\n",
    "\n",
    "# evaluate: rmse\n",
    "rmse_validate = mean_squared_error(y_validate['logerror'], y_validate.logerror_pred_lm)**(1/2)\n",
    "\n",
    "print(\"RMSE for OLS using LinearRegression\\nTraining/In-Sample: \", rmse_train, \n",
    "      \"\\nValidation/Out-of-Sample: \", rmse_validate)"
   ]
  },
  {
   "cell_type": "code",
   "execution_count": null,
   "id": "1adc057e",
   "metadata": {},
   "outputs": [],
   "source": []
  },
  {
   "cell_type": "markdown",
   "id": "7eb9ca01",
   "metadata": {},
   "source": [
    "Lasso Lars"
   ]
  },
  {
   "cell_type": "code",
   "execution_count": 144,
   "id": "fed199ba",
   "metadata": {},
   "outputs": [
    {
     "name": "stdout",
     "output_type": "stream",
     "text": [
      "RMSE for Lasso + Lars\n",
      "Training/In-Sample:  0.17902282261997393 \n",
      "Validation/Out-of-Sample:  0.16293244362415202\n"
     ]
    }
   ],
   "source": [
    "# create the model object\n",
    "lars = LassoLars(alpha=1.0)\n",
    "\n",
    "# fit the model to our training data. We must specify the column in y_train, \n",
    "# since we have converted it to a dataframe from a series! \n",
    "lars.fit(X_train, y_train['logerror'])\n",
    "\n",
    "# predict train\n",
    "y_train['logerror_pred_lars'] = lars.predict(X_train)\n",
    "\n",
    "# evaluate: rmse\n",
    "rmse_train = mean_squared_error(y_train['logerror'], y_train.logerror_pred_lars)**(1/2)\n",
    "\n",
    "# predict validate\n",
    "y_validate['logerror_pred_lars'] = lars.predict(X_validate)\n",
    "\n",
    "# evaluate: rmse\n",
    "rmse_validate = mean_squared_error(y_validate['logerror'], y_validate.logerror_pred_lars)**(1/2)\n",
    "\n",
    "print(\"RMSE for Lasso + Lars\\nTraining/In-Sample: \", rmse_train, \n",
    "      \"\\nValidation/Out-of-Sample: \", rmse_validate)"
   ]
  },
  {
   "cell_type": "markdown",
   "id": "612db929",
   "metadata": {},
   "source": [
    "GLM"
   ]
  },
  {
   "cell_type": "code",
   "execution_count": 79,
   "id": "5de6921a",
   "metadata": {},
   "outputs": [],
   "source": [
    "# # create the model object\n",
    "# glm = TweedieRegressor(power=1, alpha=0)\n",
    "\n",
    "# # fit the model to our training data. We must specify the column in y_train, \n",
    "# # since we have converted it to a dataframe from a series! \n",
    "# glm.fit(X_train, y_train['logerror'])\n",
    "\n",
    "# # predict train\n",
    "# y_train['logerror_pred_glm'] = glm.predict(X_train)\n",
    "\n",
    "# # evaluate: rmse\n",
    "# rmse_train = mean_squared_error(y_train['logerror'], y_train.logerror_pred_glm)**(1/2)\n",
    "\n",
    "# # predict validate\n",
    "# y_validate['logerror_pred_glm'] = glm.predict(X_validate)\n",
    "\n",
    "# # evaluate: rmse\n",
    "# rmse_validate = mean_squared_error(y_validate['logerror'], y_validate.logerror_pred_glm)**(1/2)\n",
    "\n",
    "# print(\"RMSE for GLM using Tweedie, power=1 & alpha=0\\nTraining/In-Sample: \", rmse_train, \n",
    "#       \"\\nValidation/Out-of-Sample: \", rmse_validate)"
   ]
  },
  {
   "cell_type": "code",
   "execution_count": null,
   "id": "0644abf6",
   "metadata": {},
   "outputs": [],
   "source": [
    "PLoy"
   ]
  },
  {
   "cell_type": "code",
   "execution_count": 146,
   "id": "0b9a74cf",
   "metadata": {},
   "outputs": [],
   "source": [
    "# make the polynomial features to get a new set of features\n",
    "pf = PolynomialFeatures(degree=2)\n",
    "\n",
    "# fit and transform X_train_scaled\n",
    "X_train_degree2 = pf.fit_transform(X_train)\n",
    "\n",
    "# transform X_validate_scaled & X_test_scaled\n",
    "X_validate_degree2 = pf.transform(X_validate)\n",
    "X_test_degree2 = pf.transform(X_test)"
   ]
  },
  {
   "cell_type": "code",
   "execution_count": 147,
   "id": "1b40e69b",
   "metadata": {},
   "outputs": [
    {
     "name": "stdout",
     "output_type": "stream",
     "text": [
      "RMSE for Polynomial Model, degrees=2\n",
      "Training/In-Sample:  0.17878117616995837 \n",
      "Validation/Out-of-Sample:  0.16267885857439796\n"
     ]
    }
   ],
   "source": [
    "# create the model object\n",
    "lm2 = LinearRegression(normalize=True)\n",
    "\n",
    "# fit the model to our training data. We must specify the column in y_train, \n",
    "# since we have converted it to a dataframe from a series! \n",
    "lm2.fit(X_train_degree2, y_train['logerror'])\n",
    "\n",
    "# predict train\n",
    "y_train['logerror_pred_lm2'] = lm2.predict(X_train_degree2)\n",
    "\n",
    "# evaluate: rmse\n",
    "rmse_train = mean_squared_error(y_train['logerror'], y_train.logerror_pred_lm2)**(1/2)\n",
    "\n",
    "# predict validate\n",
    "y_validate['logerror_pred_lm2'] = lm2.predict(X_validate_degree2)\n",
    "\n",
    "# evaluate: rmse\n",
    "rmse_validate = mean_squared_error(y_validate['logerror'], y_validate.logerror_pred_lm2)**(1/2)\n",
    "\n",
    "print(\"RMSE for Polynomial Model, degrees=2\\nTraining/In-Sample: \", rmse_train, \n",
    "      \"\\nValidation/Out-of-Sample: \", rmse_validate)"
   ]
  },
  {
   "cell_type": "code",
   "execution_count": null,
   "id": "647d30f0",
   "metadata": {},
   "outputs": [],
   "source": []
  },
  {
   "cell_type": "code",
   "execution_count": 150,
   "id": "86b2875b",
   "metadata": {},
   "outputs": [
    {
     "data": {
      "image/png": "[encoded data removed]",
      "text/plain": [
       "<Figure size 1152x720 with 1 Axes>"
      ]
     },
     "metadata": {
      "needs_background": "light"
     },
     "output_type": "display_data"
    }
   ],
   "source": [
    "# plot to visualize actual vs predicted. \n",
    "plt.figure(figsize=(16,10))\n",
    "plt.hist(y_validate.logerror, color='blue', alpha=.5, label=\"Actual taxvaluedollarcnt\")\n",
    "plt.hist(y_validate.logerror_pred_lm, color='black', alpha=.5, label=\"Model: LinearRegression\")\n",
    "#plt.hist(y_validate.tax_pred_glm, color='yellow', alpha=.5, label=\"Model: TweedieRegressor\")\n",
    "plt.hist(y_validate.logerror_pred_lm2, color='green', alpha=.5, label=\"Model 2nd degree Polynomial\")\n",
    "plt.hist(y_validate.logerror_pred_lars, color='orange', alpha=.5, label=\"lassoLars\")\n",
    "plt.xlabel(\"Final Grade (G3)\")\n",
    "plt.ylabel(\"Number of Students\")\n",
    "plt.title(\"Comparing the Distribution of Actual Grades to Distributions of Predicted Grades for the Top Models\")\n",
    "plt.legend()\n",
    "plt.show()"
   ]
  },
  {
   "cell_type": "code",
   "execution_count": null,
   "id": "39d72b50",
   "metadata": {},
   "outputs": [],
   "source": [
    "# y_validate.head()\n",
    "plt.figure(figsize=(16,8))\n",
    "plt.xlim(-.25, .25)\n",
    "plt.ylim(-.25, .25)\n",
    "plt.plot(y_validate.logerror, y_validate.logerror_pred_median, alpha=.5, color=\"gray\", label='_nolegend_')\n",
    "plt.annotate(\"Baseline: Predict Using Mean\", (0.012, 0.012 ))\n",
    "plt.plot(y_validate.logerror, y_validate.logerror, alpha=.5, color=\"blue\", label='_nolegend_')\n",
    "plt.annotate(\"The Ideal Line: Predicted = Actual\", (.15, .15), rotation=15.5)\n",
    "\n",
    "\n",
    "plt.scatter(y_validate4.logerror, y_validate4.logerror_pred_lm2, \n",
    "            alpha=.5, color=\"green\", s=100, label=\"Model 2nd degree Polynomial\")\n",
    "plt.scatter(y_validate1.logerror, y_validate1.logerror_pred_lm, \n",
    "            alpha=.5, color=\"red\", s=100, label=\"Model: LinearRegression\")\n",
    "plt.scatter(y_validate3.logerror, y_validate3.logerror_pred_glm, \n",
    "            alpha=.5, color=\"yellow\", s=100, label=\"Model: TweedieRegressor\")\n",
    "\n",
    "\n",
    "\n",
    "plt.legend()\n",
    "plt.xlabel(\"Actual Margin of Error\")\n",
    "plt.ylabel(\"Predicted Margin of Error\")\n",
    "plt.title(\"Where are predictions more extreme? More modest?\")\n",
    "# plt.annotate(\"The polynomial model appears to overreact to noise\", (2.0, -10))\n",
    "# plt.annotate(\"The OLS model (LinearRegression)\\n appears to be most consistent\", (15.5, 3))\n",
    "plt.show()"
   ]
  },
  {
   "cell_type": "code",
   "execution_count": null,
   "id": "77a000e3",
   "metadata": {},
   "outputs": [],
   "source": []
  },
  {
   "cell_type": "code",
   "execution_count": null,
   "id": "69453104",
   "metadata": {},
   "outputs": [],
   "source": []
  }
 ],
 "metadata": {
  "kernelspec": {
   "display_name": "Python 3 (ipykernel)",
   "language": "python",
   "name": "python3"
  },
  "language_info": {
   "codemirror_mode": {
    "name": "ipython",
    "version": 3
   },
   "file_extension": ".py",
   "mimetype": "text/x-python",
   "name": "python",
   "nbconvert_exporter": "python",
   "pygments_lexer": "ipython3",
   "version": "3.9.12"
  }
 },
 "nbformat": 4,
 "nbformat_minor": 5
}
