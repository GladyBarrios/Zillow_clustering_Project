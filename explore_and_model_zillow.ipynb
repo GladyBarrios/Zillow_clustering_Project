{
 "cells": [
  {
   "cell_type": "code",
   "execution_count": 20,
   "id": "905a953e",
   "metadata": {},
   "outputs": [],
   "source": [
    "import warnings\n",
    "warnings.filterwarnings(\"ignore\")\n",
    "\n",
    "import pandas as pd\n",
    "import numpy as np\n",
    "import seaborn as sns\n",
    "import matplotlib.pyplot as plt\n",
    "from scipy import stats\n",
    "import sklearn.preprocessing\n",
    "from sklearn.model_selection import train_test_split\n",
    "from sklearn.preprocessing import MinMaxScaler\n",
    "\n",
    "from wrangle import wrangle_zillow"
   ]
  },
  {
   "cell_type": "code",
   "execution_count": 3,
   "id": "78be253a",
   "metadata": {},
   "outputs": [],
   "source": [
    "df = wrangle_zillow()"
   ]
  },
  {
   "cell_type": "code",
   "execution_count": 6,
   "id": "8f47f683",
   "metadata": {},
   "outputs": [
    {
     "data": {
      "text/html": [
       "<div>\n",
       "<style scoped>\n",
       "    .dataframe tbody tr th:only-of-type {\n",
       "        vertical-align: middle;\n",
       "    }\n",
       "\n",
       "    .dataframe tbody tr th {\n",
       "        vertical-align: top;\n",
       "    }\n",
       "\n",
       "    .dataframe thead th {\n",
       "        text-align: right;\n",
       "    }\n",
       "</style>\n",
       "<table border=\"1\" class=\"dataframe\">\n",
       "  <thead>\n",
       "    <tr style=\"text-align: right;\">\n",
       "      <th></th>\n",
       "      <th>id</th>\n",
       "      <th>parcelid</th>\n",
       "      <th>bathroomcnt</th>\n",
       "      <th>bedroomcnt</th>\n",
       "      <th>fips</th>\n",
       "      <th>latitude</th>\n",
       "      <th>longitude</th>\n",
       "      <th>lotsizesquarefeet</th>\n",
       "      <th>propertycountylandusecode</th>\n",
       "      <th>propertylandusetypeid</th>\n",
       "      <th>...</th>\n",
       "      <th>transactiondate</th>\n",
       "      <th>propertylandusedesc</th>\n",
       "      <th>County</th>\n",
       "      <th>age</th>\n",
       "      <th>age_bin</th>\n",
       "      <th>acres</th>\n",
       "      <th>acres_bin</th>\n",
       "      <th>LA</th>\n",
       "      <th>Orange</th>\n",
       "      <th>Ventura</th>\n",
       "    </tr>\n",
       "  </thead>\n",
       "  <tbody>\n",
       "    <tr>\n",
       "      <th>0</th>\n",
       "      <td>1727539</td>\n",
       "      <td>14297519</td>\n",
       "      <td>3.5</td>\n",
       "      <td>4.0</td>\n",
       "      <td>6059.0</td>\n",
       "      <td>33634931.0</td>\n",
       "      <td>-117869207.0</td>\n",
       "      <td>4506.0</td>\n",
       "      <td>122</td>\n",
       "      <td>261.0</td>\n",
       "      <td>...</td>\n",
       "      <td>2017-01-01</td>\n",
       "      <td>Single Family Residential</td>\n",
       "      <td>Orange County</td>\n",
       "      <td>19.0</td>\n",
       "      <td>0.133</td>\n",
       "      <td>0.103444</td>\n",
       "      <td>0.1</td>\n",
       "      <td>0</td>\n",
       "      <td>1</td>\n",
       "      <td>0</td>\n",
       "    </tr>\n",
       "    <tr>\n",
       "      <th>1</th>\n",
       "      <td>1387261</td>\n",
       "      <td>17052889</td>\n",
       "      <td>1.0</td>\n",
       "      <td>2.0</td>\n",
       "      <td>6111.0</td>\n",
       "      <td>34449266.0</td>\n",
       "      <td>-119281531.0</td>\n",
       "      <td>12647.0</td>\n",
       "      <td>1110</td>\n",
       "      <td>261.0</td>\n",
       "      <td>...</td>\n",
       "      <td>2017-01-01</td>\n",
       "      <td>Single Family Residential</td>\n",
       "      <td>Ventura County</td>\n",
       "      <td>50.0</td>\n",
       "      <td>0.333</td>\n",
       "      <td>0.290335</td>\n",
       "      <td>0.3</td>\n",
       "      <td>0</td>\n",
       "      <td>0</td>\n",
       "      <td>1</td>\n",
       "    </tr>\n",
       "    <tr>\n",
       "      <th>2</th>\n",
       "      <td>11677</td>\n",
       "      <td>14186244</td>\n",
       "      <td>2.0</td>\n",
       "      <td>3.0</td>\n",
       "      <td>6059.0</td>\n",
       "      <td>33886168.0</td>\n",
       "      <td>-117823170.0</td>\n",
       "      <td>8432.0</td>\n",
       "      <td>122</td>\n",
       "      <td>261.0</td>\n",
       "      <td>...</td>\n",
       "      <td>2017-01-01</td>\n",
       "      <td>Single Family Residential</td>\n",
       "      <td>Orange County</td>\n",
       "      <td>55.0</td>\n",
       "      <td>0.400</td>\n",
       "      <td>0.193572</td>\n",
       "      <td>0.2</td>\n",
       "      <td>0</td>\n",
       "      <td>1</td>\n",
       "      <td>0</td>\n",
       "    </tr>\n",
       "  </tbody>\n",
       "</table>\n",
       "<p>3 rows × 26 columns</p>\n",
       "</div>"
      ],
      "text/plain": [
       "        id  parcelid  bathroomcnt  bedroomcnt    fips    latitude  \\\n",
       "0  1727539  14297519          3.5         4.0  6059.0  33634931.0   \n",
       "1  1387261  17052889          1.0         2.0  6111.0  34449266.0   \n",
       "2    11677  14186244          2.0         3.0  6059.0  33886168.0   \n",
       "\n",
       "     longitude  lotsizesquarefeet propertycountylandusecode  \\\n",
       "0 -117869207.0             4506.0                       122   \n",
       "1 -119281531.0            12647.0                      1110   \n",
       "2 -117823170.0             8432.0                       122   \n",
       "\n",
       "   propertylandusetypeid  ...  transactiondate        propertylandusedesc  \\\n",
       "0                  261.0  ...       2017-01-01  Single Family Residential   \n",
       "1                  261.0  ...       2017-01-01  Single Family Residential   \n",
       "2                  261.0  ...       2017-01-01  Single Family Residential   \n",
       "\n",
       "           County   age  age_bin     acres acres_bin LA Orange  Ventura  \n",
       "0   Orange County  19.0    0.133  0.103444       0.1  0      1        0  \n",
       "1  Ventura County  50.0    0.333  0.290335       0.3  0      0        1  \n",
       "2   Orange County  55.0    0.400  0.193572       0.2  0      1        0  \n",
       "\n",
       "[3 rows x 26 columns]"
      ]
     },
     "execution_count": 6,
     "metadata": {},
     "output_type": "execute_result"
    }
   ],
   "source": [
    "df.head(3)"
   ]
  },
  {
   "cell_type": "code",
   "execution_count": 5,
   "id": "e0353b64",
   "metadata": {},
   "outputs": [
    {
     "name": "stdout",
     "output_type": "stream",
     "text": [
      "<class 'pandas.core.frame.DataFrame'>\n",
      "RangeIndex: 52030 entries, 0 to 52029\n",
      "Data columns (total 26 columns):\n",
      " #   Column                     Non-Null Count  Dtype  \n",
      "---  ------                     --------------  -----  \n",
      " 0   id                         52030 non-null  int64  \n",
      " 1   parcelid                   52030 non-null  int64  \n",
      " 2   bathroomcnt                52030 non-null  float64\n",
      " 3   bedroomcnt                 52030 non-null  float64\n",
      " 4   fips                       52030 non-null  float64\n",
      " 5   latitude                   52030 non-null  float64\n",
      " 6   longitude                  52030 non-null  float64\n",
      " 7   lotsizesquarefeet          52030 non-null  float64\n",
      " 8   propertycountylandusecode  52030 non-null  object \n",
      " 9   propertylandusetypeid      52030 non-null  float64\n",
      " 10  rawcensustractandblock     52030 non-null  float64\n",
      " 11  roomcnt                    52030 non-null  float64\n",
      " 12  yearbuilt                  52030 non-null  float64\n",
      " 13  taxvaluedollarcnt          52030 non-null  float64\n",
      " 14  assessmentyear             52030 non-null  float64\n",
      " 15  logerror                   52030 non-null  float64\n",
      " 16  transactiondate            52030 non-null  object \n",
      " 17  propertylandusedesc        52030 non-null  object \n",
      " 18  County                     52030 non-null  object \n",
      " 19  age                        52030 non-null  float64\n",
      " 20  age_bin                    52030 non-null  float64\n",
      " 21  acres                      52030 non-null  float64\n",
      " 22  acres_bin                  52030 non-null  float64\n",
      " 23  LA                         52030 non-null  int64  \n",
      " 24  Orange                     52030 non-null  int64  \n",
      " 25  Ventura                    52030 non-null  int64  \n",
      "dtypes: float64(17), int64(5), object(4)\n",
      "memory usage: 10.3+ MB\n"
     ]
    }
   ],
   "source": [
    "df.info()"
   ]
  },
  {
   "cell_type": "code",
   "execution_count": 7,
   "id": "e87778c5",
   "metadata": {},
   "outputs": [],
   "source": [
    "\n",
    "def train_validate_test_split(df):\n",
    "    '''\n",
    "    This function performs split on telco data, stratify churn.\n",
    "    Returns train, validate, and test dfs.\n",
    "    '''\n",
    "    train_validate, test = train_test_split(df, test_size=.2, \n",
    "                                        random_state=123, stratify=df.fips)\n",
    "    train, validate = train_test_split(train_validate, test_size=.3, \n",
    "                                   random_state=123,  stratify=train_validate.fips)\n",
    "\n",
    "    return train, validate, test"
   ]
  },
  {
   "cell_type": "code",
   "execution_count": 8,
   "id": "42f6c22c",
   "metadata": {},
   "outputs": [
    {
     "data": {
      "text/plain": [
       "((29136, 26), (12488, 26), (10406, 26))"
      ]
     },
     "execution_count": 8,
     "metadata": {},
     "output_type": "execute_result"
    }
   ],
   "source": [
    "train, validate, test = train_validate_test_split(df)\n",
    "\n",
    "\n",
    "train.shape, validate.shape, test.shape"
   ]
  },
  {
   "cell_type": "code",
   "execution_count": 9,
   "id": "a0ae6a5c",
   "metadata": {
    "scrolled": true
   },
   "outputs": [
    {
     "data": {
      "text/html": [
       "<div>\n",
       "<style scoped>\n",
       "    .dataframe tbody tr th:only-of-type {\n",
       "        vertical-align: middle;\n",
       "    }\n",
       "\n",
       "    .dataframe tbody tr th {\n",
       "        vertical-align: top;\n",
       "    }\n",
       "\n",
       "    .dataframe thead th {\n",
       "        text-align: right;\n",
       "    }\n",
       "</style>\n",
       "<table border=\"1\" class=\"dataframe\">\n",
       "  <thead>\n",
       "    <tr style=\"text-align: right;\">\n",
       "      <th></th>\n",
       "      <th>id</th>\n",
       "      <th>parcelid</th>\n",
       "      <th>bathroomcnt</th>\n",
       "      <th>bedroomcnt</th>\n",
       "      <th>fips</th>\n",
       "      <th>latitude</th>\n",
       "      <th>longitude</th>\n",
       "      <th>lotsizesquarefeet</th>\n",
       "      <th>propertycountylandusecode</th>\n",
       "      <th>propertylandusetypeid</th>\n",
       "      <th>...</th>\n",
       "      <th>transactiondate</th>\n",
       "      <th>propertylandusedesc</th>\n",
       "      <th>County</th>\n",
       "      <th>age</th>\n",
       "      <th>age_bin</th>\n",
       "      <th>acres</th>\n",
       "      <th>acres_bin</th>\n",
       "      <th>LA</th>\n",
       "      <th>Orange</th>\n",
       "      <th>Ventura</th>\n",
       "    </tr>\n",
       "  </thead>\n",
       "  <tbody>\n",
       "    <tr>\n",
       "      <th>34264</th>\n",
       "      <td>2036202</td>\n",
       "      <td>12529787</td>\n",
       "      <td>4.0</td>\n",
       "      <td>4.0</td>\n",
       "      <td>6037.0</td>\n",
       "      <td>33770665.0</td>\n",
       "      <td>-118120850.0</td>\n",
       "      <td>6570.0</td>\n",
       "      <td>0101</td>\n",
       "      <td>261.0</td>\n",
       "      <td>...</td>\n",
       "      <td>2017-06-27</td>\n",
       "      <td>Single Family Residential</td>\n",
       "      <td>Los Angeles County</td>\n",
       "      <td>52.0</td>\n",
       "      <td>0.400</td>\n",
       "      <td>0.150826</td>\n",
       "      <td>0.2</td>\n",
       "      <td>1</td>\n",
       "      <td>0</td>\n",
       "      <td>0</td>\n",
       "    </tr>\n",
       "    <tr>\n",
       "      <th>8237</th>\n",
       "      <td>2883002</td>\n",
       "      <td>11848044</td>\n",
       "      <td>2.0</td>\n",
       "      <td>2.0</td>\n",
       "      <td>6037.0</td>\n",
       "      <td>34047118.0</td>\n",
       "      <td>-118135592.0</td>\n",
       "      <td>11051.0</td>\n",
       "      <td>0101</td>\n",
       "      <td>261.0</td>\n",
       "      <td>...</td>\n",
       "      <td>2017-02-24</td>\n",
       "      <td>Single Family Residential</td>\n",
       "      <td>Los Angeles County</td>\n",
       "      <td>65.0</td>\n",
       "      <td>0.466</td>\n",
       "      <td>0.253696</td>\n",
       "      <td>0.3</td>\n",
       "      <td>1</td>\n",
       "      <td>0</td>\n",
       "      <td>0</td>\n",
       "    </tr>\n",
       "    <tr>\n",
       "      <th>31640</th>\n",
       "      <td>2759592</td>\n",
       "      <td>17271234</td>\n",
       "      <td>2.0</td>\n",
       "      <td>3.0</td>\n",
       "      <td>6111.0</td>\n",
       "      <td>34168614.0</td>\n",
       "      <td>-118954733.0</td>\n",
       "      <td>15259.0</td>\n",
       "      <td>1111</td>\n",
       "      <td>261.0</td>\n",
       "      <td>...</td>\n",
       "      <td>2017-06-16</td>\n",
       "      <td>Single Family Residential</td>\n",
       "      <td>Ventura County</td>\n",
       "      <td>33.0</td>\n",
       "      <td>0.266</td>\n",
       "      <td>0.350298</td>\n",
       "      <td>0.3</td>\n",
       "      <td>0</td>\n",
       "      <td>0</td>\n",
       "      <td>1</td>\n",
       "    </tr>\n",
       "    <tr>\n",
       "      <th>14309</th>\n",
       "      <td>1044874</td>\n",
       "      <td>17266806</td>\n",
       "      <td>2.0</td>\n",
       "      <td>3.0</td>\n",
       "      <td>6111.0</td>\n",
       "      <td>34167209.0</td>\n",
       "      <td>-118938046.0</td>\n",
       "      <td>7422.0</td>\n",
       "      <td>1111</td>\n",
       "      <td>261.0</td>\n",
       "      <td>...</td>\n",
       "      <td>2017-03-30</td>\n",
       "      <td>Single Family Residential</td>\n",
       "      <td>Ventura County</td>\n",
       "      <td>46.0</td>\n",
       "      <td>0.333</td>\n",
       "      <td>0.170386</td>\n",
       "      <td>0.2</td>\n",
       "      <td>0</td>\n",
       "      <td>0</td>\n",
       "      <td>1</td>\n",
       "    </tr>\n",
       "    <tr>\n",
       "      <th>50710</th>\n",
       "      <td>2848400</td>\n",
       "      <td>17068575</td>\n",
       "      <td>4.0</td>\n",
       "      <td>3.0</td>\n",
       "      <td>6111.0</td>\n",
       "      <td>34359245.0</td>\n",
       "      <td>-119312477.0</td>\n",
       "      <td>162914.0</td>\n",
       "      <td>1110</td>\n",
       "      <td>261.0</td>\n",
       "      <td>...</td>\n",
       "      <td>2017-09-12</td>\n",
       "      <td>Single Family Residential</td>\n",
       "      <td>Ventura County</td>\n",
       "      <td>28.0</td>\n",
       "      <td>0.200</td>\n",
       "      <td>3.739991</td>\n",
       "      <td>0.5</td>\n",
       "      <td>0</td>\n",
       "      <td>0</td>\n",
       "      <td>1</td>\n",
       "    </tr>\n",
       "  </tbody>\n",
       "</table>\n",
       "<p>5 rows × 26 columns</p>\n",
       "</div>"
      ],
      "text/plain": [
       "            id  parcelid  bathroomcnt  bedroomcnt    fips    latitude  \\\n",
       "34264  2036202  12529787          4.0         4.0  6037.0  33770665.0   \n",
       "8237   2883002  11848044          2.0         2.0  6037.0  34047118.0   \n",
       "31640  2759592  17271234          2.0         3.0  6111.0  34168614.0   \n",
       "14309  1044874  17266806          2.0         3.0  6111.0  34167209.0   \n",
       "50710  2848400  17068575          4.0         3.0  6111.0  34359245.0   \n",
       "\n",
       "         longitude  lotsizesquarefeet propertycountylandusecode  \\\n",
       "34264 -118120850.0             6570.0                      0101   \n",
       "8237  -118135592.0            11051.0                      0101   \n",
       "31640 -118954733.0            15259.0                      1111   \n",
       "14309 -118938046.0             7422.0                      1111   \n",
       "50710 -119312477.0           162914.0                      1110   \n",
       "\n",
       "       propertylandusetypeid  ...  transactiondate        propertylandusedesc  \\\n",
       "34264                  261.0  ...       2017-06-27  Single Family Residential   \n",
       "8237                   261.0  ...       2017-02-24  Single Family Residential   \n",
       "31640                  261.0  ...       2017-06-16  Single Family Residential   \n",
       "14309                  261.0  ...       2017-03-30  Single Family Residential   \n",
       "50710                  261.0  ...       2017-09-12  Single Family Residential   \n",
       "\n",
       "                   County   age  age_bin     acres acres_bin LA Orange  \\\n",
       "34264  Los Angeles County  52.0    0.400  0.150826       0.2  1      0   \n",
       "8237   Los Angeles County  65.0    0.466  0.253696       0.3  1      0   \n",
       "31640      Ventura County  33.0    0.266  0.350298       0.3  0      0   \n",
       "14309      Ventura County  46.0    0.333  0.170386       0.2  0      0   \n",
       "50710      Ventura County  28.0    0.200  3.739991       0.5  0      0   \n",
       "\n",
       "       Ventura  \n",
       "34264        0  \n",
       "8237         0  \n",
       "31640        1  \n",
       "14309        1  \n",
       "50710        1  \n",
       "\n",
       "[5 rows x 26 columns]"
      ]
     },
     "execution_count": 9,
     "metadata": {},
     "output_type": "execute_result"
    }
   ],
   "source": [
    "train.head()"
   ]
  },
  {
   "cell_type": "code",
   "execution_count": 18,
   "id": "84710ad7",
   "metadata": {},
   "outputs": [
    {
     "name": "stdout",
     "output_type": "stream",
     "text": [
      "<class 'pandas.core.frame.DataFrame'>\n",
      "RangeIndex: 52030 entries, 0 to 52029\n",
      "Data columns (total 26 columns):\n",
      " #   Column                     Non-Null Count  Dtype  \n",
      "---  ------                     --------------  -----  \n",
      " 0   id                         52030 non-null  int64  \n",
      " 1   parcelid                   52030 non-null  int64  \n",
      " 2   bathroomcnt                52030 non-null  float64\n",
      " 3   bedroomcnt                 52030 non-null  float64\n",
      " 4   fips                       52030 non-null  float64\n",
      " 5   latitude                   52030 non-null  float64\n",
      " 6   longitude                  52030 non-null  float64\n",
      " 7   lotsizesquarefeet          52030 non-null  float64\n",
      " 8   propertycountylandusecode  52030 non-null  object \n",
      " 9   propertylandusetypeid      52030 non-null  float64\n",
      " 10  rawcensustractandblock     52030 non-null  float64\n",
      " 11  roomcnt                    52030 non-null  float64\n",
      " 12  yearbuilt                  52030 non-null  float64\n",
      " 13  taxvaluedollarcnt          52030 non-null  float64\n",
      " 14  assessmentyear             52030 non-null  float64\n",
      " 15  logerror                   52030 non-null  float64\n",
      " 16  transactiondate            52030 non-null  object \n",
      " 17  propertylandusedesc        52030 non-null  object \n",
      " 18  County                     52030 non-null  object \n",
      " 19  age                        52030 non-null  float64\n",
      " 20  age_bin                    52030 non-null  float64\n",
      " 21  acres                      52030 non-null  float64\n",
      " 22  acres_bin                  52030 non-null  float64\n",
      " 23  LA                         52030 non-null  int64  \n",
      " 24  Orange                     52030 non-null  int64  \n",
      " 25  Ventura                    52030 non-null  int64  \n",
      "dtypes: float64(17), int64(5), object(4)\n",
      "memory usage: 10.3+ MB\n"
     ]
    }
   ],
   "source": [
    "df.info()"
   ]
  },
  {
   "cell_type": "code",
   "execution_count": 14,
   "id": "92e18d5d",
   "metadata": {
    "scrolled": false
   },
   "outputs": [
    {
     "name": "stdout",
     "output_type": "stream",
     "text": [
      "Variance of logerror for Los Angeles County.\n",
      "0.02740415350675282\n",
      "Variance of logerror for Orange County.\n",
      "0.038419850345884216\n",
      "Variance of logerror for Ventura County.\n",
      "0.024150919610820307\n"
     ]
    },
    {
     "data": {
      "image/png": "[encoded data removed]",
      "text/plain": [
       "<Figure size 432x288 with 1 Axes>"
      ]
     },
     "metadata": {
      "needs_background": "light"
     },
     "output_type": "display_data"
    },
    {
     "data": {
      "image/png": "[encoded data removed]",
      "text/plain": [
       "<Figure size 432x288 with 1 Axes>"
      ]
     },
     "metadata": {
      "needs_background": "light"
     },
     "output_type": "display_data"
    },
    {
     "data": {
      "image/png": "[encoded data removed]",
      "text/plain": [
       "<Figure size 432x288 with 1 Axes>"
      ]
     },
     "metadata": {
      "needs_background": "light"
     },
     "output_type": "display_data"
    }
   ],
   "source": [
    "#Loop through my counties and plot the distribution of the target variable\n",
    "county_list = ['Los Angeles County', 'Orange County', 'Ventura County']\n",
    "\n",
    "for County in county_list:\n",
    "    print('Variance of logerror for {}.'.format(County))\n",
    "    print(df[df['County'] == County].logerror.var())\n",
    "    \n",
    "    plt.figure()\n",
    "    plt.title('Distribution of logerror for {}.'.format(County))\n",
    "    plt.hist(df[df['County'] == County].logerror, bins=25)"
   ]
  },
  {
   "cell_type": "code",
   "execution_count": null,
   "id": "466e08b5",
   "metadata": {},
   "outputs": [],
   "source": []
  },
  {
   "cell_type": "code",
   "execution_count": 41,
   "id": "6d122ad6",
   "metadata": {
    "scrolled": true
   },
   "outputs": [
    {
     "data": {
      "text/plain": [
       "<AxesSubplot:xlabel='County', ylabel='logerror'>"
      ]
     },
     "execution_count": 41,
     "metadata": {},
     "output_type": "execute_result"
    },
    {
     "data": {
      "image/png": "[encoded data removed]",
      "text/plain": [
       "<Figure size 432x288 with 1 Axes>"
      ]
     },
     "metadata": {
      "needs_background": "light"
     },
     "output_type": "display_data"
    }
   ],
   "source": [
    "#Compare the average log error between counties\n",
    "sns.barplot(x='County', y='logerror', data=train, palette= \"bright\")"
   ]
  },
  {
   "cell_type": "markdown",
   "id": "7d25abf4",
   "metadata": {},
   "source": [
    "## Question 1 - Is log error significantly different for properties in the three counties?\n",
    "\n",
    "Null hypothesis: Log error will be the same across all three counties.\n",
    "Alternative hypothesis: Log error will vary based on county."
   ]
  },
  {
   "cell_type": "code",
   "execution_count": 23,
   "id": "a1548a1c",
   "metadata": {},
   "outputs": [
    {
     "data": {
      "text/plain": [
       "(22.500550909641934, 1.7074916354433785e-10)"
      ]
     },
     "execution_count": 23,
     "metadata": {},
     "output_type": "execute_result"
    }
   ],
   "source": [
    "#Conduct an ANOVA test between the counties\n",
    "f_county, p_county = stats.f_oneway(df[df['County'] == 'Los Angeles County'].logerror,\n",
    "                                    df[df['County'] == 'Orange County'].logerror,\n",
    "                                    df[df['County'] == 'Ventura County'].logerror)\n",
    "\n",
    "f_county, p_county"
   ]
  },
  {
   "cell_type": "code",
   "execution_count": 25,
   "id": "c6ffb432",
   "metadata": {},
   "outputs": [
    {
     "name": "stdout",
     "output_type": "stream",
     "text": [
      "We reject the null hypothesis.\n"
     ]
    }
   ],
   "source": [
    "#Compare my p value to alpha\n",
    "alpha = 0.05\n",
    "if p_county < alpha:\n",
    "    print('We reject the null hypothesis.')\n",
    "else:\n",
    "    print('We fail to reject the null hypothesis.')"
   ]
  },
  {
   "cell_type": "markdown",
   "id": "a1bca6a0",
   "metadata": {},
   "source": [
    "## Question 2 - Is log error significantly different for properties that have diffrent bathroom counts "
   ]
  },
  {
   "cell_type": "code",
   "execution_count": 43,
   "id": "b997f7dd",
   "metadata": {},
   "outputs": [
    {
     "data": {
      "text/plain": [
       "<AxesSubplot:xlabel='bathroomcnt', ylabel='logerror'>"
      ]
     },
     "execution_count": 43,
     "metadata": {},
     "output_type": "execute_result"
    },
    {
     "data": {
      "image/png": "[encoded data removed]",
      "text/plain": [
       "<Figure size 432x288 with 1 Axes>"
      ]
     },
     "metadata": {
      "needs_background": "light"
     },
     "output_type": "display_data"
    }
   ],
   "source": [
    "sns.barplot(x='bathroomcnt', y='logerror', data=train, palette= \"bright\")"
   ]
  },
  {
   "cell_type": "markdown",
   "id": "73ac6a25",
   "metadata": {},
   "source": [
    "## Question 3 - Is log error significantly different for properties that have diffrent bedroom counts"
   ]
  },
  {
   "cell_type": "code",
   "execution_count": 45,
   "id": "1ad5d8cd",
   "metadata": {},
   "outputs": [
    {
     "data": {
      "text/plain": [
       "<AxesSubplot:xlabel='bedroomcnt', ylabel='logerror'>"
      ]
     },
     "execution_count": 45,
     "metadata": {},
     "output_type": "execute_result"
    },
    {
     "data": {
      "image/png": "[encoded data removed]",
      "text/plain": [
       "<Figure size 432x288 with 1 Axes>"
      ]
     },
     "metadata": {
      "needs_background": "light"
     },
     "output_type": "display_data"
    }
   ],
   "source": [
    "sns.barplot(x='bedroomcnt', y='logerror', data=train, palette= \"bright\")"
   ]
  },
  {
   "cell_type": "code",
   "execution_count": null,
   "id": "d9649b09",
   "metadata": {},
   "outputs": [],
   "source": []
  },
  {
   "cell_type": "markdown",
   "id": "eaddd955",
   "metadata": {},
   "source": [
    "## Question 4 -  Is log error significantly different for properties that have diffrent tax values"
   ]
  },
  {
   "cell_type": "code",
   "execution_count": 52,
   "id": "de50c2dc",
   "metadata": {
    "scrolled": true
   },
   "outputs": [
    {
     "data": {
      "text/plain": [
       "<AxesSubplot:xlabel='taxvaluedollarcnt', ylabel='logerror'>"
      ]
     },
     "execution_count": 52,
     "metadata": {},
     "output_type": "execute_result"
    },
    {
     "data": {
      "image/png": "[encoded data removed]",
      "text/plain": [
       "<Figure size 432x288 with 1 Axes>"
      ]
     },
     "metadata": {
      "needs_background": "light"
     },
     "output_type": "display_data"
    }
   ],
   "source": [
    "sns.scatterplot(x='taxvaluedollarcnt', y='logerror', data=train, palette= \"bright\")"
   ]
  },
  {
   "cell_type": "markdown",
   "id": "48bc23bf",
   "metadata": {},
   "source": [
    "Null hypothesis: There is no correlation between price and log error.\n",
    "Alternative hypothesis: There is a relationship between price and log error."
   ]
  },
  {
   "cell_type": "code",
   "execution_count": 53,
   "id": "2ed64d08",
   "metadata": {},
   "outputs": [
    {
     "data": {
      "text/plain": [
       "(-0.006149787116911295, 0.16069102565002474)"
      ]
     },
     "execution_count": 53,
     "metadata": {},
     "output_type": "execute_result"
    }
   ],
   "source": [
    "#Test for correlation between the two\n",
    "corr_value, p_value = stats.pearsonr(df['taxvaluedollarcnt'],\n",
    "                                     df['logerror'])\n",
    "\n",
    "corr_value, p_value"
   ]
  },
  {
   "cell_type": "code",
   "execution_count": 54,
   "id": "07cf2481",
   "metadata": {},
   "outputs": [
    {
     "name": "stdout",
     "output_type": "stream",
     "text": [
      "We fail to reject the null hypothesis.\n"
     ]
    }
   ],
   "source": [
    "#Test my hypothesis\n",
    "if p_value < alpha:\n",
    "    print('We reject the null hypothesis.')\n",
    "else:\n",
    "    print('We fail to reject the null hypothesis.')"
   ]
  },
  {
   "cell_type": "markdown",
   "id": "42d3a3e5",
   "metadata": {},
   "source": [
    "## Scalign the data"
   ]
  },
  {
   "cell_type": "code",
   "execution_count": 56,
   "id": "d2db97d8",
   "metadata": {},
   "outputs": [
    {
     "data": {
      "text/html": [
       "<div>\n",
       "<style scoped>\n",
       "    .dataframe tbody tr th:only-of-type {\n",
       "        vertical-align: middle;\n",
       "    }\n",
       "\n",
       "    .dataframe tbody tr th {\n",
       "        vertical-align: top;\n",
       "    }\n",
       "\n",
       "    .dataframe thead th {\n",
       "        text-align: right;\n",
       "    }\n",
       "</style>\n",
       "<table border=\"1\" class=\"dataframe\">\n",
       "  <thead>\n",
       "    <tr style=\"text-align: right;\">\n",
       "      <th></th>\n",
       "      <th>id</th>\n",
       "      <th>parcelid</th>\n",
       "      <th>bathroomcnt</th>\n",
       "      <th>bedroomcnt</th>\n",
       "      <th>fips</th>\n",
       "      <th>latitude</th>\n",
       "      <th>longitude</th>\n",
       "      <th>lotsizesquarefeet</th>\n",
       "      <th>propertycountylandusecode</th>\n",
       "      <th>propertylandusetypeid</th>\n",
       "      <th>rawcensustractandblock</th>\n",
       "      <th>roomcnt</th>\n",
       "      <th>yearbuilt</th>\n",
       "      <th>taxvaluedollarcnt</th>\n",
       "      <th>assessmentyear</th>\n",
       "      <th>logerror</th>\n",
       "      <th>transactiondate</th>\n",
       "      <th>propertylandusedesc</th>\n",
       "      <th>County</th>\n",
       "      <th>age</th>\n",
       "      <th>age_bin</th>\n",
       "      <th>acres</th>\n",
       "      <th>acres_bin</th>\n",
       "      <th>LA</th>\n",
       "      <th>Orange</th>\n",
       "      <th>Ventura</th>\n",
       "    </tr>\n",
       "  </thead>\n",
       "  <tbody>\n",
       "    <tr>\n",
       "      <th>34264</th>\n",
       "      <td>2036202</td>\n",
       "      <td>12529787</td>\n",
       "      <td>4.0</td>\n",
       "      <td>4.0</td>\n",
       "      <td>6037.0</td>\n",
       "      <td>33770665.0</td>\n",
       "      <td>-118120850.0</td>\n",
       "      <td>6570.0</td>\n",
       "      <td>0101</td>\n",
       "      <td>261.0</td>\n",
       "      <td>6.037578e+07</td>\n",
       "      <td>0.0</td>\n",
       "      <td>1965.0</td>\n",
       "      <td>963045.0</td>\n",
       "      <td>2016.0</td>\n",
       "      <td>-0.005355</td>\n",
       "      <td>2017-06-27</td>\n",
       "      <td>Single Family Residential</td>\n",
       "      <td>Los Angeles County</td>\n",
       "      <td>52.0</td>\n",
       "      <td>0.400</td>\n",
       "      <td>0.150826</td>\n",
       "      <td>0.2</td>\n",
       "      <td>1</td>\n",
       "      <td>0</td>\n",
       "      <td>0</td>\n",
       "    </tr>\n",
       "    <tr>\n",
       "      <th>8237</th>\n",
       "      <td>2883002</td>\n",
       "      <td>11848044</td>\n",
       "      <td>2.0</td>\n",
       "      <td>2.0</td>\n",
       "      <td>6037.0</td>\n",
       "      <td>34047118.0</td>\n",
       "      <td>-118135592.0</td>\n",
       "      <td>11051.0</td>\n",
       "      <td>0101</td>\n",
       "      <td>261.0</td>\n",
       "      <td>6.037482e+07</td>\n",
       "      <td>0.0</td>\n",
       "      <td>1952.0</td>\n",
       "      <td>299104.0</td>\n",
       "      <td>2016.0</td>\n",
       "      <td>0.041482</td>\n",
       "      <td>2017-02-24</td>\n",
       "      <td>Single Family Residential</td>\n",
       "      <td>Los Angeles County</td>\n",
       "      <td>65.0</td>\n",
       "      <td>0.466</td>\n",
       "      <td>0.253696</td>\n",
       "      <td>0.3</td>\n",
       "      <td>1</td>\n",
       "      <td>0</td>\n",
       "      <td>0</td>\n",
       "    </tr>\n",
       "    <tr>\n",
       "      <th>31640</th>\n",
       "      <td>2759592</td>\n",
       "      <td>17271234</td>\n",
       "      <td>2.0</td>\n",
       "      <td>3.0</td>\n",
       "      <td>6111.0</td>\n",
       "      <td>34168614.0</td>\n",
       "      <td>-118954733.0</td>\n",
       "      <td>15259.0</td>\n",
       "      <td>1111</td>\n",
       "      <td>261.0</td>\n",
       "      <td>6.111006e+07</td>\n",
       "      <td>6.0</td>\n",
       "      <td>1984.0</td>\n",
       "      <td>263015.0</td>\n",
       "      <td>2016.0</td>\n",
       "      <td>0.072371</td>\n",
       "      <td>2017-06-16</td>\n",
       "      <td>Single Family Residential</td>\n",
       "      <td>Ventura County</td>\n",
       "      <td>33.0</td>\n",
       "      <td>0.266</td>\n",
       "      <td>0.350298</td>\n",
       "      <td>0.3</td>\n",
       "      <td>0</td>\n",
       "      <td>0</td>\n",
       "      <td>1</td>\n",
       "    </tr>\n",
       "    <tr>\n",
       "      <th>14309</th>\n",
       "      <td>1044874</td>\n",
       "      <td>17266806</td>\n",
       "      <td>2.0</td>\n",
       "      <td>3.0</td>\n",
       "      <td>6111.0</td>\n",
       "      <td>34167209.0</td>\n",
       "      <td>-118938046.0</td>\n",
       "      <td>7422.0</td>\n",
       "      <td>1111</td>\n",
       "      <td>261.0</td>\n",
       "      <td>6.111006e+07</td>\n",
       "      <td>6.0</td>\n",
       "      <td>1971.0</td>\n",
       "      <td>548830.0</td>\n",
       "      <td>2016.0</td>\n",
       "      <td>-0.019596</td>\n",
       "      <td>2017-03-30</td>\n",
       "      <td>Single Family Residential</td>\n",
       "      <td>Ventura County</td>\n",
       "      <td>46.0</td>\n",
       "      <td>0.333</td>\n",
       "      <td>0.170386</td>\n",
       "      <td>0.2</td>\n",
       "      <td>0</td>\n",
       "      <td>0</td>\n",
       "      <td>1</td>\n",
       "    </tr>\n",
       "    <tr>\n",
       "      <th>50710</th>\n",
       "      <td>2848400</td>\n",
       "      <td>17068575</td>\n",
       "      <td>4.0</td>\n",
       "      <td>3.0</td>\n",
       "      <td>6111.0</td>\n",
       "      <td>34359245.0</td>\n",
       "      <td>-119312477.0</td>\n",
       "      <td>162914.0</td>\n",
       "      <td>1110</td>\n",
       "      <td>261.0</td>\n",
       "      <td>6.111001e+07</td>\n",
       "      <td>7.0</td>\n",
       "      <td>1989.0</td>\n",
       "      <td>877934.0</td>\n",
       "      <td>2016.0</td>\n",
       "      <td>0.056052</td>\n",
       "      <td>2017-09-12</td>\n",
       "      <td>Single Family Residential</td>\n",
       "      <td>Ventura County</td>\n",
       "      <td>28.0</td>\n",
       "      <td>0.200</td>\n",
       "      <td>3.739991</td>\n",
       "      <td>0.5</td>\n",
       "      <td>0</td>\n",
       "      <td>0</td>\n",
       "      <td>1</td>\n",
       "    </tr>\n",
       "  </tbody>\n",
       "</table>\n",
       "</div>"
      ],
      "text/plain": [
       "            id  parcelid  bathroomcnt  bedroomcnt    fips    latitude  \\\n",
       "34264  2036202  12529787          4.0         4.0  6037.0  33770665.0   \n",
       "8237   2883002  11848044          2.0         2.0  6037.0  34047118.0   \n",
       "31640  2759592  17271234          2.0         3.0  6111.0  34168614.0   \n",
       "14309  1044874  17266806          2.0         3.0  6111.0  34167209.0   \n",
       "50710  2848400  17068575          4.0         3.0  6111.0  34359245.0   \n",
       "\n",
       "         longitude  lotsizesquarefeet propertycountylandusecode  \\\n",
       "34264 -118120850.0             6570.0                      0101   \n",
       "8237  -118135592.0            11051.0                      0101   \n",
       "31640 -118954733.0            15259.0                      1111   \n",
       "14309 -118938046.0             7422.0                      1111   \n",
       "50710 -119312477.0           162914.0                      1110   \n",
       "\n",
       "       propertylandusetypeid  rawcensustractandblock  roomcnt  yearbuilt  \\\n",
       "34264                  261.0            6.037578e+07      0.0     1965.0   \n",
       "8237                   261.0            6.037482e+07      0.0     1952.0   \n",
       "31640                  261.0            6.111006e+07      6.0     1984.0   \n",
       "14309                  261.0            6.111006e+07      6.0     1971.0   \n",
       "50710                  261.0            6.111001e+07      7.0     1989.0   \n",
       "\n",
       "       taxvaluedollarcnt  assessmentyear  logerror transactiondate  \\\n",
       "34264           963045.0          2016.0 -0.005355      2017-06-27   \n",
       "8237            299104.0          2016.0  0.041482      2017-02-24   \n",
       "31640           263015.0          2016.0  0.072371      2017-06-16   \n",
       "14309           548830.0          2016.0 -0.019596      2017-03-30   \n",
       "50710           877934.0          2016.0  0.056052      2017-09-12   \n",
       "\n",
       "             propertylandusedesc              County   age  age_bin     acres  \\\n",
       "34264  Single Family Residential  Los Angeles County  52.0    0.400  0.150826   \n",
       "8237   Single Family Residential  Los Angeles County  65.0    0.466  0.253696   \n",
       "31640  Single Family Residential      Ventura County  33.0    0.266  0.350298   \n",
       "14309  Single Family Residential      Ventura County  46.0    0.333  0.170386   \n",
       "50710  Single Family Residential      Ventura County  28.0    0.200  3.739991   \n",
       "\n",
       "       acres_bin  LA  Orange  Ventura  \n",
       "34264        0.2   1       0        0  \n",
       "8237         0.3   1       0        0  \n",
       "31640        0.3   0       0        1  \n",
       "14309        0.2   0       0        1  \n",
       "50710        0.5   0       0        1  "
      ]
     },
     "execution_count": 56,
     "metadata": {},
     "output_type": "execute_result"
    }
   ],
   "source": [
    "pd.set_option('display.max_columns', None)\n",
    "train.head()\n"
   ]
  },
  {
   "cell_type": "code",
   "execution_count": null,
   "id": "7bf4e0b4",
   "metadata": {},
   "outputs": [],
   "source": []
  },
  {
   "cell_type": "code",
   "execution_count": null,
   "id": "57132d83",
   "metadata": {},
   "outputs": [],
   "source": []
  },
  {
   "cell_type": "code",
   "execution_count": null,
   "id": "d2b4696b",
   "metadata": {},
   "outputs": [],
   "source": []
  },
  {
   "cell_type": "markdown",
   "id": "577dacc9",
   "metadata": {},
   "source": [
    "## Clustering "
   ]
  },
  {
   "cell_type": "code",
   "execution_count": null,
   "id": "362acb39",
   "metadata": {},
   "outputs": [],
   "source": [
    "first cluster - size= bed bath, sqft "
   ]
  },
  {
   "cell_type": "code",
   "execution_count": null,
   "id": "f11932d6",
   "metadata": {},
   "outputs": [],
   "source": [
    "second cluster - locations- log lat "
   ]
  },
  {
   "cell_type": "code",
   "execution_count": null,
   "id": "cea3704d",
   "metadata": {},
   "outputs": [],
   "source": [
    "third custer - year built and sqft "
   ]
  },
  {
   "cell_type": "code",
   "execution_count": null,
   "id": "95d79cb3",
   "metadata": {},
   "outputs": [],
   "source": []
  },
  {
   "cell_type": "code",
   "execution_count": null,
   "id": "8f9fe732",
   "metadata": {},
   "outputs": [],
   "source": []
  },
  {
   "cell_type": "code",
   "execution_count": null,
   "id": "f9290757",
   "metadata": {},
   "outputs": [],
   "source": []
  },
  {
   "cell_type": "code",
   "execution_count": null,
   "id": "207668c9",
   "metadata": {},
   "outputs": [],
   "source": []
  },
  {
   "cell_type": "code",
   "execution_count": null,
   "id": "1d106c73",
   "metadata": {},
   "outputs": [],
   "source": []
  },
  {
   "cell_type": "code",
   "execution_count": null,
   "id": "be24d885",
   "metadata": {},
   "outputs": [],
   "source": []
  },
  {
   "cell_type": "code",
   "execution_count": null,
   "id": "704cabab",
   "metadata": {},
   "outputs": [],
   "source": []
  },
  {
   "cell_type": "code",
   "execution_count": null,
   "id": "0d2bc40d",
   "metadata": {},
   "outputs": [],
   "source": []
  },
  {
   "cell_type": "code",
   "execution_count": null,
   "id": "93d87753",
   "metadata": {},
   "outputs": [],
   "source": []
  },
  {
   "cell_type": "code",
   "execution_count": null,
   "id": "25013ce0",
   "metadata": {},
   "outputs": [],
   "source": []
  }
 ],
 "metadata": {
  "kernelspec": {
   "display_name": "Python 3 (ipykernel)",
   "language": "python",
   "name": "python3"
  },
  "language_info": {
   "codemirror_mode": {
    "name": "ipython",
    "version": 3
   },
   "file_extension": ".py",
   "mimetype": "text/x-python",
   "name": "python",
   "nbconvert_exporter": "python",
   "pygments_lexer": "ipython3",
   "version": "3.9.12"
  }
 },
 "nbformat": 4,
 "nbformat_minor": 5
}
