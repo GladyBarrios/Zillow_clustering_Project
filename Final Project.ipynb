{
 "cells": [
  {
   "cell_type": "markdown",
   "id": "341646f5",
   "metadata": {},
   "source": [
    "# Zillow_clustering_Project: Understanding and Improving Zestimate"
   ]
  },
  {
   "cell_type": "markdown",
   "id": "d8170a71",
   "metadata": {},
   "source": [
    "Glady Barrios\n",
    "\n",
    "AUG, 9, 2022\n",
    "\n",
    "Kalpana Cohort"
   ]
  },
  {
   "cell_type": "markdown",
   "id": "2abef712",
   "metadata": {},
   "source": [
    "## Project Goal"
   ]
  },
  {
   "cell_type": "markdown",
   "id": "6dafc46f",
   "metadata": {},
   "source": [
    "- Use clustering algorithms to determine driving errors in the current Zestimate.\n",
    "- Trying to find and use the differnt drivers of logerror to improve the Zestimate Model."
   ]
  },
  {
   "cell_type": "markdown",
   "id": "068eb2fe",
   "metadata": {},
   "source": [
    "## Project Description"
   ]
  },
  {
   "cell_type": "markdown",
   "id": "04810771",
   "metadata": {},
   "source": [
    "The goal of this project is to find the driving errors in the Zestimate and find ways to better improve Zillows current models. Improving our models will help zillow customers get more accurate home prices. We want our customers to have the most accurate information when looking for a home. In order to accomplish this we will go through the data science pipeling of aquiring,preparing,exploring and modeling the data and using our ML models to accomplish this \n",
    "\n"
   ]
  },
  {
   "cell_type": "markdown",
   "id": "3bc1261b",
   "metadata": {},
   "source": [
    "### Log Error = log(Zestimate) - log(Sale Price)"
   ]
  },
  {
   "cell_type": "code",
   "execution_count": 1,
   "id": "fac66f2f",
   "metadata": {},
   "outputs": [],
   "source": [
    "#important libraries needed for this report\n",
    "import warnings\n",
    "warnings.filterwarnings(\"ignore\")\n",
    "\n",
    "import pandas as pd\n",
    "import numpy as np\n",
    "import seaborn as sns\n",
    "import matplotlib.pyplot as plt\n",
    "import sklearn.preprocessing\n",
    "\n",
    "\n",
    "from wrangle import wrangle_zillow\n",
    "from prepare import train_validate_test_split, scale_data\n",
    "\n",
    "from scipy import stats\n",
    "from math import sqrt\n",
    "\n",
    "from sklearn.cluster import KMeans\n",
    "from sklearn.model_selection import train_test_split\n",
    "from sklearn.linear_model import LinearRegression, LassoLars, TweedieRegressor\n",
    "from sklearn.feature_selection import SelectKBest, RFE, f_regression, SequentialFeatureSelector\n",
    "from sklearn.preprocessing import MinMaxScaler\n",
    "from sklearn.preprocessing import PolynomialFeatures\n",
    "from sklearn.metrics import mean_squared_error"
   ]
  },
  {
   "cell_type": "markdown",
   "id": "979e063c",
   "metadata": {},
   "source": [
    "# Wrangle the data"
   ]
  },
  {
   "cell_type": "markdown",
   "id": "33c1be22",
   "metadata": {},
   "source": [
    "_Data Acquisition_\n",
    "- I aquired the data from Codeup SQL Database\n",
    "- More information on my [Wrangle Page](https://github.com/GladyBarrios/Zillow_clustering_Project/blob/main/explore_and_model_zillow.ipynb)\n",
    "- I only aquired data from `2017 properties` and `single families homes`, filtered by `single family recidential` "
   ]
  },
  {
   "cell_type": "markdown",
   "id": "738a0dd3",
   "metadata": {},
   "source": [
    "### How I Wrangled the Data \n",
    "- Kept the collums that have 60% of their data (since there was many nulls)\n",
    "    - removed columns that have 30% of data missing \n",
    "- Kept the rows that have 75% of their data\n",
    "    - removed rows that have 15% of data missing\n",
    "- For some collumns I decided to fill some of the nulls with the mean of the column such as `lotsizesquarefeet`, `taxvaluedollarcount`, `yearbuilt` \n",
    "\n",
    "Columns I added:\n",
    "\n",
    "- 'County'- displaying the names of the three difrent counties \n",
    "- 'age' calculated by 2017 -the year it was built\n",
    "- 'acres' was calculated by lotsizesquarefeet divided by 43560 \n",
    "- Added dummy variables for counties \n",
    "\n",
    "Removing outliers:\n",
    "- More than 7 bathrroms and bedrooms\n",
    "- Removed 0 bed and bath \n",
    "- Any acres greater than 20 \n",
    "\n",
    "\n",
    "For more information plase visit my Git Hub Repo or [Click Here](https://github.com/GladyBarrios/Zillow_clustering_Project/blob/main/wrangle.py)"
   ]
  },
  {
   "cell_type": "code",
   "execution_count": 2,
   "id": "64ececa2",
   "metadata": {
    "scrolled": true
   },
   "outputs": [
    {
     "data": {
      "text/html": [
       "<div>\n",
       "<style scoped>\n",
       "    .dataframe tbody tr th:only-of-type {\n",
       "        vertical-align: middle;\n",
       "    }\n",
       "\n",
       "    .dataframe tbody tr th {\n",
       "        vertical-align: top;\n",
       "    }\n",
       "\n",
       "    .dataframe thead th {\n",
       "        text-align: right;\n",
       "    }\n",
       "</style>\n",
       "<table border=\"1\" class=\"dataframe\">\n",
       "  <thead>\n",
       "    <tr style=\"text-align: right;\">\n",
       "      <th></th>\n",
       "      <th>id</th>\n",
       "      <th>parcelid</th>\n",
       "      <th>bathroomcnt</th>\n",
       "      <th>bedroomcnt</th>\n",
       "      <th>fips</th>\n",
       "      <th>latitude</th>\n",
       "      <th>longitude</th>\n",
       "      <th>lotsizesquarefeet</th>\n",
       "      <th>propertycountylandusecode</th>\n",
       "      <th>propertylandusetypeid</th>\n",
       "      <th>...</th>\n",
       "      <th>transactiondate</th>\n",
       "      <th>propertylandusedesc</th>\n",
       "      <th>County</th>\n",
       "      <th>age</th>\n",
       "      <th>age_bin</th>\n",
       "      <th>acres</th>\n",
       "      <th>acres_bin</th>\n",
       "      <th>LA</th>\n",
       "      <th>Orange</th>\n",
       "      <th>Ventura</th>\n",
       "    </tr>\n",
       "  </thead>\n",
       "  <tbody>\n",
       "    <tr>\n",
       "      <th>0</th>\n",
       "      <td>1727539</td>\n",
       "      <td>14297519</td>\n",
       "      <td>3.5</td>\n",
       "      <td>4.0</td>\n",
       "      <td>6059.0</td>\n",
       "      <td>33634931.0</td>\n",
       "      <td>-117869207.0</td>\n",
       "      <td>4506.0</td>\n",
       "      <td>122</td>\n",
       "      <td>261.0</td>\n",
       "      <td>...</td>\n",
       "      <td>2017-01-01</td>\n",
       "      <td>Single Family Residential</td>\n",
       "      <td>Orange County</td>\n",
       "      <td>19.0</td>\n",
       "      <td>0.133</td>\n",
       "      <td>0.103444</td>\n",
       "      <td>0.1</td>\n",
       "      <td>0</td>\n",
       "      <td>1</td>\n",
       "      <td>0</td>\n",
       "    </tr>\n",
       "    <tr>\n",
       "      <th>1</th>\n",
       "      <td>1387261</td>\n",
       "      <td>17052889</td>\n",
       "      <td>1.0</td>\n",
       "      <td>2.0</td>\n",
       "      <td>6111.0</td>\n",
       "      <td>34449266.0</td>\n",
       "      <td>-119281531.0</td>\n",
       "      <td>12647.0</td>\n",
       "      <td>1110</td>\n",
       "      <td>261.0</td>\n",
       "      <td>...</td>\n",
       "      <td>2017-01-01</td>\n",
       "      <td>Single Family Residential</td>\n",
       "      <td>Ventura County</td>\n",
       "      <td>50.0</td>\n",
       "      <td>0.333</td>\n",
       "      <td>0.290335</td>\n",
       "      <td>0.3</td>\n",
       "      <td>0</td>\n",
       "      <td>0</td>\n",
       "      <td>1</td>\n",
       "    </tr>\n",
       "    <tr>\n",
       "      <th>2</th>\n",
       "      <td>11677</td>\n",
       "      <td>14186244</td>\n",
       "      <td>2.0</td>\n",
       "      <td>3.0</td>\n",
       "      <td>6059.0</td>\n",
       "      <td>33886168.0</td>\n",
       "      <td>-117823170.0</td>\n",
       "      <td>8432.0</td>\n",
       "      <td>122</td>\n",
       "      <td>261.0</td>\n",
       "      <td>...</td>\n",
       "      <td>2017-01-01</td>\n",
       "      <td>Single Family Residential</td>\n",
       "      <td>Orange County</td>\n",
       "      <td>55.0</td>\n",
       "      <td>0.400</td>\n",
       "      <td>0.193572</td>\n",
       "      <td>0.2</td>\n",
       "      <td>0</td>\n",
       "      <td>1</td>\n",
       "      <td>0</td>\n",
       "    </tr>\n",
       "  </tbody>\n",
       "</table>\n",
       "<p>3 rows × 26 columns</p>\n",
       "</div>"
      ],
      "text/plain": [
       "        id  parcelid  bathroomcnt  bedroomcnt    fips    latitude  \\\n",
       "0  1727539  14297519          3.5         4.0  6059.0  33634931.0   \n",
       "1  1387261  17052889          1.0         2.0  6111.0  34449266.0   \n",
       "2    11677  14186244          2.0         3.0  6059.0  33886168.0   \n",
       "\n",
       "     longitude  lotsizesquarefeet propertycountylandusecode  \\\n",
       "0 -117869207.0             4506.0                       122   \n",
       "1 -119281531.0            12647.0                      1110   \n",
       "2 -117823170.0             8432.0                       122   \n",
       "\n",
       "   propertylandusetypeid  ...  transactiondate        propertylandusedesc  \\\n",
       "0                  261.0  ...       2017-01-01  Single Family Residential   \n",
       "1                  261.0  ...       2017-01-01  Single Family Residential   \n",
       "2                  261.0  ...       2017-01-01  Single Family Residential   \n",
       "\n",
       "           County   age  age_bin     acres acres_bin LA Orange  Ventura  \n",
       "0   Orange County  19.0    0.133  0.103444       0.1  0      1        0  \n",
       "1  Ventura County  50.0    0.333  0.290335       0.3  0      0        1  \n",
       "2   Orange County  55.0    0.400  0.193572       0.2  0      1        0  \n",
       "\n",
       "[3 rows x 26 columns]"
      ]
     },
     "execution_count": 2,
     "metadata": {},
     "output_type": "execute_result"
    }
   ],
   "source": [
    "df = wrangle_zillow()\n",
    "df.head(3)"
   ]
  },
  {
   "cell_type": "markdown",
   "id": "c7548670",
   "metadata": {},
   "source": [
    "### Splitting the data "
   ]
  },
  {
   "cell_type": "code",
   "execution_count": 3,
   "id": "0db9b1fa",
   "metadata": {},
   "outputs": [
    {
     "data": {
      "text/plain": [
       "((29136, 26), (12488, 26), (10406, 26))"
      ]
     },
     "execution_count": 3,
     "metadata": {},
     "output_type": "execute_result"
    }
   ],
   "source": [
    "train, validate, test = train_validate_test_split(df)\n",
    "train.shape, validate.shape, test.shape"
   ]
  },
  {
   "cell_type": "markdown",
   "id": "69162dc6",
   "metadata": {},
   "source": [
    "### Scaling the data "
   ]
  },
  {
   "cell_type": "code",
   "execution_count": 4,
   "id": "4db0ac18",
   "metadata": {},
   "outputs": [],
   "source": [
    "train_s, valid_s, test_s = scale_data(train, validate, test)\n"
   ]
  },
  {
   "cell_type": "code",
   "execution_count": 5,
   "id": "22c2f315",
   "metadata": {
    "scrolled": true
   },
   "outputs": [
    {
     "data": {
      "text/html": [
       "<div>\n",
       "<style scoped>\n",
       "    .dataframe tbody tr th:only-of-type {\n",
       "        vertical-align: middle;\n",
       "    }\n",
       "\n",
       "    .dataframe tbody tr th {\n",
       "        vertical-align: top;\n",
       "    }\n",
       "\n",
       "    .dataframe thead th {\n",
       "        text-align: right;\n",
       "    }\n",
       "</style>\n",
       "<table border=\"1\" class=\"dataframe\">\n",
       "  <thead>\n",
       "    <tr style=\"text-align: right;\">\n",
       "      <th></th>\n",
       "      <th>id</th>\n",
       "      <th>parcelid</th>\n",
       "      <th>bathroomcnt</th>\n",
       "      <th>bedroomcnt</th>\n",
       "      <th>fips</th>\n",
       "      <th>latitude</th>\n",
       "      <th>longitude</th>\n",
       "      <th>lotsizesquarefeet</th>\n",
       "      <th>propertycountylandusecode</th>\n",
       "      <th>propertylandusetypeid</th>\n",
       "      <th>...</th>\n",
       "      <th>transactiondate</th>\n",
       "      <th>propertylandusedesc</th>\n",
       "      <th>County</th>\n",
       "      <th>age</th>\n",
       "      <th>age_bin</th>\n",
       "      <th>acres</th>\n",
       "      <th>acres_bin</th>\n",
       "      <th>LA</th>\n",
       "      <th>Orange</th>\n",
       "      <th>Ventura</th>\n",
       "    </tr>\n",
       "  </thead>\n",
       "  <tbody>\n",
       "    <tr>\n",
       "      <th>34264</th>\n",
       "      <td>2036202</td>\n",
       "      <td>12529787</td>\n",
       "      <td>0.5</td>\n",
       "      <td>0.5</td>\n",
       "      <td>6037.0</td>\n",
       "      <td>0.290645</td>\n",
       "      <td>0.705217</td>\n",
       "      <td>0.008265</td>\n",
       "      <td>0101</td>\n",
       "      <td>261.0</td>\n",
       "      <td>...</td>\n",
       "      <td>2017-06-27</td>\n",
       "      <td>Single Family Residential</td>\n",
       "      <td>Los Angeles County</td>\n",
       "      <td>52.0</td>\n",
       "      <td>0.4</td>\n",
       "      <td>0.150826</td>\n",
       "      <td>0.2</td>\n",
       "      <td>1</td>\n",
       "      <td>0</td>\n",
       "      <td>0</td>\n",
       "    </tr>\n",
       "  </tbody>\n",
       "</table>\n",
       "<p>1 rows × 26 columns</p>\n",
       "</div>"
      ],
      "text/plain": [
       "            id  parcelid  bathroomcnt  bedroomcnt    fips  latitude  \\\n",
       "34264  2036202  12529787          0.5         0.5  6037.0  0.290645   \n",
       "\n",
       "       longitude  lotsizesquarefeet propertycountylandusecode  \\\n",
       "34264   0.705217           0.008265                      0101   \n",
       "\n",
       "       propertylandusetypeid  ...  transactiondate        propertylandusedesc  \\\n",
       "34264                  261.0  ...       2017-06-27  Single Family Residential   \n",
       "\n",
       "                   County   age  age_bin     acres acres_bin LA Orange  \\\n",
       "34264  Los Angeles County  52.0      0.4  0.150826       0.2  1      0   \n",
       "\n",
       "       Ventura  \n",
       "34264        0  \n",
       "\n",
       "[1 rows x 26 columns]"
      ]
     },
     "execution_count": 5,
     "metadata": {},
     "output_type": "execute_result"
    }
   ],
   "source": [
    "train_s.head(1)"
   ]
  },
  {
   "cell_type": "markdown",
   "id": "72aedc6e",
   "metadata": {},
   "source": [
    "<hr style=\"border:2px solid green\">"
   ]
  },
  {
   "cell_type": "markdown",
   "id": "00234c33",
   "metadata": {},
   "source": [
    "# Exploring the data "
   ]
  },
  {
   "cell_type": "markdown",
   "id": "c98dc84d",
   "metadata": {},
   "source": [
    "Exploration Questions asked \n",
    "- Question 1 - Is log error significantly different for properties in the three counties?\n",
    "- Question 2 - Is log error significantly different for properties that have diffrent bathroom counts?\n",
    "- Question 3 - Is log error significantly different for properties that have diffrent bedroom counts?\n",
    "- Question 4 - Is log error significantly different for properties that have diffrent proprty values?"
   ]
  },
  {
   "cell_type": "markdown",
   "id": "4e555edd",
   "metadata": {},
   "source": [
    "## Question 1 - Is log error significantly different for properties in the three counties?"
   ]
  },
  {
   "cell_type": "markdown",
   "id": "aa68c624",
   "metadata": {},
   "source": [
    "$H_0$: Log error will be the same across all three counties\n",
    "\n",
    "$H_a$: Log error will vary based on county"
   ]
  },
  {
   "cell_type": "code",
   "execution_count": 6,
   "id": "6f6a52d8",
   "metadata": {},
   "outputs": [
    {
     "data": {
      "text/plain": [
       "<AxesSubplot:xlabel='County', ylabel='logerror'>"
      ]
     },
     "execution_count": 6,
     "metadata": {},
     "output_type": "execute_result"
    },
    {
     "data": {
      "image/png": "[encoded data removed]",
      "text/plain": [
       "<Figure size 432x288 with 1 Axes>"
      ]
     },
     "metadata": {
      "needs_background": "light"
     },
     "output_type": "display_data"
    }
   ],
   "source": [
    "#Compare the average log error between counties\n",
    "sns.barplot(x='County', y='logerror', data=train, palette= \"bright\")"
   ]
  },
  {
   "cell_type": "code",
   "execution_count": 7,
   "id": "feb9de15",
   "metadata": {},
   "outputs": [
    {
     "data": {
      "text/plain": [
       "(22.500550909641934, 1.7074916354433785e-10)"
      ]
     },
     "execution_count": 7,
     "metadata": {},
     "output_type": "execute_result"
    }
   ],
   "source": [
    "#Conduct an ANOVA test between the counties\n",
    "f_county, p_county = stats.f_oneway(df[df['County'] == 'Los Angeles County'].logerror,\n",
    "                                    df[df['County'] == 'Orange County'].logerror,\n",
    "                                    df[df['County'] == 'Ventura County'].logerror)\n",
    "\n",
    "f_county, p_county"
   ]
  },
  {
   "cell_type": "code",
   "execution_count": 8,
   "id": "36c932a0",
   "metadata": {},
   "outputs": [
    {
     "name": "stdout",
     "output_type": "stream",
     "text": [
      "We reject the null hypothesis.\n"
     ]
    }
   ],
   "source": [
    "#Compare my p value to alpha\n",
    "alpha = 0.05\n",
    "if p_county < alpha:\n",
    "    print('We reject the null hypothesis.')\n",
    "else:\n",
    "    print('We fail to reject the null hypothesis.')"
   ]
  },
  {
   "cell_type": "markdown",
   "id": "db469aad",
   "metadata": {},
   "source": [
    "Takeaways\n",
    "\n",
    "- looks like log error is varied by the county based on the visualization and statistical anova test "
   ]
  },
  {
   "cell_type": "markdown",
   "id": "4d03016c",
   "metadata": {},
   "source": [
    "<hr style=\"border:2px solid gray\">"
   ]
  },
  {
   "cell_type": "markdown",
   "id": "6019d84c",
   "metadata": {},
   "source": [
    "## Question 2 - Is log error significantly different for properties that have diffrent bathroom counts "
   ]
  },
  {
   "cell_type": "code",
   "execution_count": 9,
   "id": "68a437f1",
   "metadata": {
    "scrolled": false
   },
   "outputs": [
    {
     "data": {
      "text/plain": [
       "<AxesSubplot:xlabel='bathroomcnt', ylabel='logerror'>"
      ]
     },
     "execution_count": 9,
     "metadata": {},
     "output_type": "execute_result"
    },
    {
     "data": {
      "image/png": "[encoded data removed]",
      "text/plain": [
       "<Figure size 432x288 with 1 Axes>"
      ]
     },
     "metadata": {
      "needs_background": "light"
     },
     "output_type": "display_data"
    }
   ],
   "source": [
    "sns.barplot(x='bathroomcnt', y='logerror', data=train, palette= \"bright\")"
   ]
  },
  {
   "cell_type": "markdown",
   "id": "a132f27a",
   "metadata": {},
   "source": [
    "Takeaways \n",
    "- As the bathroom count increases we can see that logerror increases "
   ]
  },
  {
   "cell_type": "markdown",
   "id": "480a2eb9",
   "metadata": {},
   "source": [
    "<hr style=\"border:2px solid gray\">"
   ]
  },
  {
   "cell_type": "markdown",
   "id": "6a1550dc",
   "metadata": {},
   "source": [
    "## Question 3 - Is log error significantly different for properties that have diffrent bedroom counts"
   ]
  },
  {
   "cell_type": "code",
   "execution_count": 11,
   "id": "5d5d3d86",
   "metadata": {},
   "outputs": [
    {
     "data": {
      "text/plain": [
       "<AxesSubplot:xlabel='bedroomcnt', ylabel='logerror'>"
      ]
     },
     "execution_count": 11,
     "metadata": {},
     "output_type": "execute_result"
    },
    {
     "data": {
      "image/png": "[encoded data removed]",
      "text/plain": [
       "<Figure size 432x288 with 1 Axes>"
      ]
     },
     "metadata": {
      "needs_background": "light"
     },
     "output_type": "display_data"
    }
   ],
   "source": [
    "sns.barplot(x='bedroomcnt', y='logerror', data=train, palette= \"bright\")"
   ]
  },
  {
   "cell_type": "markdown",
   "id": "27114e41",
   "metadata": {},
   "source": [
    "Takeaways \n",
    "- As the bedroom count increases we can see that logerror increases "
   ]
  },
  {
   "cell_type": "markdown",
   "id": "ff9fbcd0",
   "metadata": {},
   "source": [
    "<hr style=\"border:2px solid gray\">"
   ]
  },
  {
   "cell_type": "markdown",
   "id": "afd238fd",
   "metadata": {},
   "source": [
    "## Question 4 -  Is log error significantly different for properties that have diffrent property values"
   ]
  },
  {
   "cell_type": "code",
   "execution_count": 12,
   "id": "dcbe0823",
   "metadata": {},
   "outputs": [
    {
     "data": {
      "text/plain": [
       "<AxesSubplot:xlabel='taxvaluedollarcnt', ylabel='logerror'>"
      ]
     },
     "execution_count": 12,
     "metadata": {},
     "output_type": "execute_result"
    },
    {
     "data": {
      "image/png": "[encoded data removed]",
      "text/plain": [
       "<Figure size 432x288 with 1 Axes>"
      ]
     },
     "metadata": {
      "needs_background": "light"
     },
     "output_type": "display_data"
    }
   ],
   "source": [
    "sns.scatterplot(x='taxvaluedollarcnt', y='logerror', data=train, palette= \"bright\")"
   ]
  },
  {
   "cell_type": "markdown",
   "id": "a0c9ea46",
   "metadata": {},
   "source": [
    "Null hypothesis: There is no correlation between price and log error.\n",
    "    \n",
    "Alternative hypothesis: There is a relationship between price and log error."
   ]
  },
  {
   "cell_type": "code",
   "execution_count": 13,
   "id": "5431d791",
   "metadata": {},
   "outputs": [
    {
     "data": {
      "text/plain": [
       "(-0.006149787116911295, 0.16069102565002474)"
      ]
     },
     "execution_count": 13,
     "metadata": {},
     "output_type": "execute_result"
    }
   ],
   "source": [
    "#Test for correlation between the two\n",
    "corr_value, p_value = stats.pearsonr(df['taxvaluedollarcnt'],\n",
    "                                     df['logerror'])\n",
    "\n",
    "corr_value, p_value"
   ]
  },
  {
   "cell_type": "code",
   "execution_count": 14,
   "id": "2c2cd8c0",
   "metadata": {},
   "outputs": [
    {
     "name": "stdout",
     "output_type": "stream",
     "text": [
      "We fail to reject the null hypothesis.\n"
     ]
    }
   ],
   "source": [
    "#Test my hypothesis\n",
    "if p_value < alpha:\n",
    "    print('We reject the null hypothesis.')\n",
    "else:\n",
    "    print('We fail to reject the null hypothesis.')"
   ]
  },
  {
   "cell_type": "markdown",
   "id": "d1989548",
   "metadata": {},
   "source": [
    "Takeaways\n",
    "\n",
    "- There is no correlation between price and log error "
   ]
  },
  {
   "cell_type": "markdown",
   "id": "4b92b4c8",
   "metadata": {},
   "source": [
    "--------------"
   ]
  },
  {
   "cell_type": "markdown",
   "id": "1b4cab5a",
   "metadata": {},
   "source": [
    "### Exploration Takeaways\n",
    " - there is a diffrence in logerror between the diffrent counties \n",
    " - There is no correlation between price and logerror \n",
    " - As the bathroom count increases we can see that logerror increases \n",
    " - As the bedroom count increases we can see that logerror increases "
   ]
  },
  {
   "cell_type": "markdown",
   "id": "77fa6821",
   "metadata": {},
   "source": [
    "<hr style=\"border:2px solid green\">"
   ]
  },
  {
   "cell_type": "markdown",
   "id": "505f1a31",
   "metadata": {},
   "source": [
    "# Clustering"
   ]
  },
  {
   "cell_type": "markdown",
   "id": "fea51b1d",
   "metadata": {},
   "source": [
    "- Used K-means Clustering Method \n",
    "- Choose K using the elbow method (using innertia)\n",
    "- To look at the elbow method visualiation please look at my GitHub repo or  [Click Here](https://github.com/GladyBarrios/Zillow_clustering_Project/blob/main/wrangle.py)\n"
   ]
  },
  {
   "cell_type": "markdown",
   "id": "42dffd1c",
   "metadata": {},
   "source": [
    "### Clusters\n",
    "- `Size_Cluster` , contains features: `bathroomcnt , bedroomcnt, lotsizesquarefeet`\n",
    "- `Location_Cluster`, contains features: `latitude, longitude`\n",
    "- `Age_size`, contains features: `age, lotsize`"
   ]
  },
  {
   "cell_type": "markdown",
   "id": "e1ae19ee",
   "metadata": {},
   "source": [
    "## First cluster \n",
    "\n",
    "\"Size Cluster\" that contains the features: bathroomcnt , bedroomcnt, lotsizesquarefeet"
   ]
  },
  {
   "cell_type": "code",
   "execution_count": 15,
   "id": "dd82ad7c",
   "metadata": {},
   "outputs": [
    {
     "data": {
      "text/html": [
       "<div>\n",
       "<style scoped>\n",
       "    .dataframe tbody tr th:only-of-type {\n",
       "        vertical-align: middle;\n",
       "    }\n",
       "\n",
       "    .dataframe tbody tr th {\n",
       "        vertical-align: top;\n",
       "    }\n",
       "\n",
       "    .dataframe thead th {\n",
       "        text-align: right;\n",
       "    }\n",
       "</style>\n",
       "<table border=\"1\" class=\"dataframe\">\n",
       "  <thead>\n",
       "    <tr style=\"text-align: right;\">\n",
       "      <th></th>\n",
       "      <th>bathroomcnt</th>\n",
       "      <th>bedroomcnt</th>\n",
       "      <th>lotsizesquarefeet</th>\n",
       "    </tr>\n",
       "  </thead>\n",
       "  <tbody>\n",
       "    <tr>\n",
       "      <th>34264</th>\n",
       "      <td>0.500000</td>\n",
       "      <td>0.500000</td>\n",
       "      <td>0.008265</td>\n",
       "    </tr>\n",
       "    <tr>\n",
       "      <th>8237</th>\n",
       "      <td>0.166667</td>\n",
       "      <td>0.166667</td>\n",
       "      <td>0.014113</td>\n",
       "    </tr>\n",
       "    <tr>\n",
       "      <th>31640</th>\n",
       "      <td>0.166667</td>\n",
       "      <td>0.333333</td>\n",
       "      <td>0.019604</td>\n",
       "    </tr>\n",
       "    <tr>\n",
       "      <th>14309</th>\n",
       "      <td>0.166667</td>\n",
       "      <td>0.333333</td>\n",
       "      <td>0.009377</td>\n",
       "    </tr>\n",
       "    <tr>\n",
       "      <th>50710</th>\n",
       "      <td>0.500000</td>\n",
       "      <td>0.333333</td>\n",
       "      <td>0.212281</td>\n",
       "    </tr>\n",
       "  </tbody>\n",
       "</table>\n",
       "</div>"
      ],
      "text/plain": [
       "       bathroomcnt  bedroomcnt  lotsizesquarefeet\n",
       "34264     0.500000    0.500000           0.008265\n",
       "8237      0.166667    0.166667           0.014113\n",
       "31640     0.166667    0.333333           0.019604\n",
       "14309     0.166667    0.333333           0.009377\n",
       "50710     0.500000    0.333333           0.212281"
      ]
     },
     "execution_count": 15,
     "metadata": {},
     "output_type": "execute_result"
    }
   ],
   "source": [
    "X = train_s[['bathroomcnt', 'bedroomcnt','lotsizesquarefeet']]\n",
    "X.head()"
   ]
  },
  {
   "cell_type": "code",
   "execution_count": 16,
   "id": "ae36b3f7",
   "metadata": {},
   "outputs": [
    {
     "data": {
      "text/plain": [
       "array([0, 2, 1, ..., 1, 3, 1], dtype=int32)"
      ]
     },
     "execution_count": 16,
     "metadata": {},
     "output_type": "execute_result"
    }
   ],
   "source": [
    "kmeans = KMeans(n_clusters=4)\n",
    "kmeans.fit(X)\n",
    "\n",
    "clusters = kmeans.predict(X)\n",
    "clusters"
   ]
  },
  {
   "cell_type": "code",
   "execution_count": 17,
   "id": "4d1e3427",
   "metadata": {},
   "outputs": [],
   "source": [
    "train_s['size_cluster'] = clusters"
   ]
  },
  {
   "cell_type": "code",
   "execution_count": 18,
   "id": "96c6b481",
   "metadata": {},
   "outputs": [
    {
     "data": {
      "text/plain": [
       "array([[0.58584956, 0.59164349, 0.0237971 ],\n",
       "       [0.20636963, 0.32878897, 0.01143319],\n",
       "       [0.03791556, 0.20881142, 0.01000254],\n",
       "       [0.25686106, 0.52542405, 0.01271542]])"
      ]
     },
     "execution_count": 18,
     "metadata": {},
     "output_type": "execute_result"
    }
   ],
   "source": [
    "kmeans.cluster_centers_"
   ]
  },
  {
   "cell_type": "code",
   "execution_count": 19,
   "id": "e5a7dc43",
   "metadata": {},
   "outputs": [],
   "source": [
    "centroids2 = pd.DataFrame(kmeans.cluster_centers_, columns=X.columns)"
   ]
  },
  {
   "cell_type": "code",
   "execution_count": 20,
   "id": "60fe6342",
   "metadata": {},
   "outputs": [
    {
     "data": {
      "text/plain": [
       "Text(0.5, 1.0, 'Visualizing Cluster Centers')"
      ]
     },
     "execution_count": 20,
     "metadata": {},
     "output_type": "execute_result"
    },
    {
     "data": {
      "image/png": "[encoded data removed]",
      "text/plain": [
       "<Figure size 720x504 with 1 Axes>"
      ]
     },
     "metadata": {
      "needs_background": "light"
     },
     "output_type": "display_data"
    }
   ],
   "source": [
    "plt.figure(figsize=(10, 7))\n",
    "\n",
    "for cluster, subset in train_s.groupby('size_cluster'):\n",
    "    plt.scatter(subset.bathroomcnt, subset.bedroomcnt, label='cluster' + str(cluster), alpha=.6, s=22**2)\n",
    "\n",
    "centroids2.plot.scatter(y='bedroomcnt', x='bathroomcnt', c='black', marker='x', s=1000, ax=plt.gca(), label='centroid')\n",
    "\n",
    "\n",
    "plt.legend()\n",
    "plt.xlabel('bathroomcnt')\n",
    "plt.ylabel('bedroomcnt')\n",
    "plt.title('Visualizing Cluster Centers')\n"
   ]
  },
  {
   "cell_type": "markdown",
   "id": "0f696bf4",
   "metadata": {},
   "source": [
    "_Test for size_cluster relate to log error_\n",
    "- Using a correlation test\n",
    " - $H_0$: There is not a linear relationship between size_cluster and logerror\n",
    " - $H_a$: There is a linear relationship between size_cluster and logerror"
   ]
  },
  {
   "cell_type": "code",
   "execution_count": 21,
   "id": "e53c3f91",
   "metadata": {
    "scrolled": true
   },
   "outputs": [
    {
     "name": "stdout",
     "output_type": "stream",
     "text": [
      "r = -0.010315642888190158\n",
      "p = 0.0782762723441327\n",
      "We fail to reject the H0.\n"
     ]
    }
   ],
   "source": [
    "x = train_s.size_cluster\n",
    "y = train_s.logerror\n",
    "α = 0.05\n",
    "r, p = stats.pearsonr(x,y)\n",
    "print('r =', r)\n",
    "print('p =', p)\n",
    "if p < α:\n",
    "    print(\"We reject the H0.\")\n",
    "else:\n",
    "    print(\"We fail to reject the H0.\")"
   ]
  },
  {
   "cell_type": "markdown",
   "id": "e4240274",
   "metadata": {},
   "source": [
    "#### Takeaways\n",
    "\n",
    "\n",
    "- There is no linear correlation between size_cluster and logerror"
   ]
  },
  {
   "cell_type": "markdown",
   "id": "6d894440",
   "metadata": {},
   "source": [
    "<hr style=\"border:2px solid gray\">"
   ]
  },
  {
   "cell_type": "markdown",
   "id": "8812927b",
   "metadata": {},
   "source": [
    "## Second Cluster \n",
    "- \"location_cluster\" contains features: 'latitude','longitude'"
   ]
  },
  {
   "cell_type": "code",
   "execution_count": 22,
   "id": "d00cfe4f",
   "metadata": {},
   "outputs": [
    {
     "data": {
      "text/html": [
       "<div>\n",
       "<style scoped>\n",
       "    .dataframe tbody tr th:only-of-type {\n",
       "        vertical-align: middle;\n",
       "    }\n",
       "\n",
       "    .dataframe tbody tr th {\n",
       "        vertical-align: top;\n",
       "    }\n",
       "\n",
       "    .dataframe thead th {\n",
       "        text-align: right;\n",
       "    }\n",
       "</style>\n",
       "<table border=\"1\" class=\"dataframe\">\n",
       "  <thead>\n",
       "    <tr style=\"text-align: right;\">\n",
       "      <th></th>\n",
       "      <th>latitude</th>\n",
       "      <th>longitude</th>\n",
       "    </tr>\n",
       "  </thead>\n",
       "  <tbody>\n",
       "    <tr>\n",
       "      <th>34264</th>\n",
       "      <td>0.290645</td>\n",
       "      <td>0.705217</td>\n",
       "    </tr>\n",
       "    <tr>\n",
       "      <th>8237</th>\n",
       "      <td>0.477749</td>\n",
       "      <td>0.697542</td>\n",
       "    </tr>\n",
       "    <tr>\n",
       "      <th>31640</th>\n",
       "      <td>0.559977</td>\n",
       "      <td>0.271079</td>\n",
       "    </tr>\n",
       "    <tr>\n",
       "      <th>14309</th>\n",
       "      <td>0.559026</td>\n",
       "      <td>0.279767</td>\n",
       "    </tr>\n",
       "    <tr>\n",
       "      <th>50710</th>\n",
       "      <td>0.688996</td>\n",
       "      <td>0.084830</td>\n",
       "    </tr>\n",
       "  </tbody>\n",
       "</table>\n",
       "</div>"
      ],
      "text/plain": [
       "       latitude  longitude\n",
       "34264  0.290645   0.705217\n",
       "8237   0.477749   0.697542\n",
       "31640  0.559977   0.271079\n",
       "14309  0.559026   0.279767\n",
       "50710  0.688996   0.084830"
      ]
     },
     "execution_count": 22,
     "metadata": {},
     "output_type": "execute_result"
    }
   ],
   "source": [
    "L = train_s[['latitude', 'longitude']]\n",
    "L.head()"
   ]
  },
  {
   "cell_type": "code",
   "execution_count": 23,
   "id": "bd613141",
   "metadata": {},
   "outputs": [
    {
     "data": {
      "text/plain": [
       "array([1, 1, 0, ..., 3, 0, 2], dtype=int32)"
      ]
     },
     "execution_count": 23,
     "metadata": {},
     "output_type": "execute_result"
    }
   ],
   "source": [
    "kmeans1 = KMeans(n_clusters=4)\n",
    "kmeans1.fit(L)\n",
    "\n",
    "clusters = kmeans1.predict(L)\n",
    "clusters"
   ]
  },
  {
   "cell_type": "code",
   "execution_count": 24,
   "id": "82718b8d",
   "metadata": {},
   "outputs": [
    {
     "data": {
      "text/html": [
       "<div>\n",
       "<style scoped>\n",
       "    .dataframe tbody tr th:only-of-type {\n",
       "        vertical-align: middle;\n",
       "    }\n",
       "\n",
       "    .dataframe tbody tr th {\n",
       "        vertical-align: top;\n",
       "    }\n",
       "\n",
       "    .dataframe thead th {\n",
       "        text-align: right;\n",
       "    }\n",
       "</style>\n",
       "<table border=\"1\" class=\"dataframe\">\n",
       "  <thead>\n",
       "    <tr style=\"text-align: right;\">\n",
       "      <th></th>\n",
       "      <th>id</th>\n",
       "      <th>parcelid</th>\n",
       "      <th>bathroomcnt</th>\n",
       "      <th>bedroomcnt</th>\n",
       "      <th>fips</th>\n",
       "      <th>latitude</th>\n",
       "      <th>longitude</th>\n",
       "      <th>lotsizesquarefeet</th>\n",
       "      <th>propertycountylandusecode</th>\n",
       "      <th>propertylandusetypeid</th>\n",
       "      <th>...</th>\n",
       "      <th>County</th>\n",
       "      <th>age</th>\n",
       "      <th>age_bin</th>\n",
       "      <th>acres</th>\n",
       "      <th>acres_bin</th>\n",
       "      <th>LA</th>\n",
       "      <th>Orange</th>\n",
       "      <th>Ventura</th>\n",
       "      <th>size_cluster</th>\n",
       "      <th>location_cluster</th>\n",
       "    </tr>\n",
       "  </thead>\n",
       "  <tbody>\n",
       "    <tr>\n",
       "      <th>34264</th>\n",
       "      <td>2036202</td>\n",
       "      <td>12529787</td>\n",
       "      <td>0.500000</td>\n",
       "      <td>0.500000</td>\n",
       "      <td>6037.0</td>\n",
       "      <td>0.290645</td>\n",
       "      <td>0.705217</td>\n",
       "      <td>0.008265</td>\n",
       "      <td>0101</td>\n",
       "      <td>261.0</td>\n",
       "      <td>...</td>\n",
       "      <td>Los Angeles County</td>\n",
       "      <td>52.0</td>\n",
       "      <td>0.400</td>\n",
       "      <td>0.150826</td>\n",
       "      <td>0.2</td>\n",
       "      <td>1</td>\n",
       "      <td>0</td>\n",
       "      <td>0</td>\n",
       "      <td>0</td>\n",
       "      <td>1</td>\n",
       "    </tr>\n",
       "    <tr>\n",
       "      <th>8237</th>\n",
       "      <td>2883002</td>\n",
       "      <td>11848044</td>\n",
       "      <td>0.166667</td>\n",
       "      <td>0.166667</td>\n",
       "      <td>6037.0</td>\n",
       "      <td>0.477749</td>\n",
       "      <td>0.697542</td>\n",
       "      <td>0.014113</td>\n",
       "      <td>0101</td>\n",
       "      <td>261.0</td>\n",
       "      <td>...</td>\n",
       "      <td>Los Angeles County</td>\n",
       "      <td>65.0</td>\n",
       "      <td>0.466</td>\n",
       "      <td>0.253696</td>\n",
       "      <td>0.3</td>\n",
       "      <td>1</td>\n",
       "      <td>0</td>\n",
       "      <td>0</td>\n",
       "      <td>2</td>\n",
       "      <td>1</td>\n",
       "    </tr>\n",
       "    <tr>\n",
       "      <th>31640</th>\n",
       "      <td>2759592</td>\n",
       "      <td>17271234</td>\n",
       "      <td>0.166667</td>\n",
       "      <td>0.333333</td>\n",
       "      <td>6111.0</td>\n",
       "      <td>0.559977</td>\n",
       "      <td>0.271079</td>\n",
       "      <td>0.019604</td>\n",
       "      <td>1111</td>\n",
       "      <td>261.0</td>\n",
       "      <td>...</td>\n",
       "      <td>Ventura County</td>\n",
       "      <td>33.0</td>\n",
       "      <td>0.266</td>\n",
       "      <td>0.350298</td>\n",
       "      <td>0.3</td>\n",
       "      <td>0</td>\n",
       "      <td>0</td>\n",
       "      <td>1</td>\n",
       "      <td>1</td>\n",
       "      <td>0</td>\n",
       "    </tr>\n",
       "    <tr>\n",
       "      <th>14309</th>\n",
       "      <td>1044874</td>\n",
       "      <td>17266806</td>\n",
       "      <td>0.166667</td>\n",
       "      <td>0.333333</td>\n",
       "      <td>6111.0</td>\n",
       "      <td>0.559026</td>\n",
       "      <td>0.279767</td>\n",
       "      <td>0.009377</td>\n",
       "      <td>1111</td>\n",
       "      <td>261.0</td>\n",
       "      <td>...</td>\n",
       "      <td>Ventura County</td>\n",
       "      <td>46.0</td>\n",
       "      <td>0.333</td>\n",
       "      <td>0.170386</td>\n",
       "      <td>0.2</td>\n",
       "      <td>0</td>\n",
       "      <td>0</td>\n",
       "      <td>1</td>\n",
       "      <td>1</td>\n",
       "      <td>0</td>\n",
       "    </tr>\n",
       "    <tr>\n",
       "      <th>50710</th>\n",
       "      <td>2848400</td>\n",
       "      <td>17068575</td>\n",
       "      <td>0.500000</td>\n",
       "      <td>0.333333</td>\n",
       "      <td>6111.0</td>\n",
       "      <td>0.688996</td>\n",
       "      <td>0.084830</td>\n",
       "      <td>0.212281</td>\n",
       "      <td>1110</td>\n",
       "      <td>261.0</td>\n",
       "      <td>...</td>\n",
       "      <td>Ventura County</td>\n",
       "      <td>28.0</td>\n",
       "      <td>0.200</td>\n",
       "      <td>3.739991</td>\n",
       "      <td>0.5</td>\n",
       "      <td>0</td>\n",
       "      <td>0</td>\n",
       "      <td>1</td>\n",
       "      <td>0</td>\n",
       "      <td>0</td>\n",
       "    </tr>\n",
       "  </tbody>\n",
       "</table>\n",
       "<p>5 rows × 28 columns</p>\n",
       "</div>"
      ],
      "text/plain": [
       "            id  parcelid  bathroomcnt  bedroomcnt    fips  latitude  \\\n",
       "34264  2036202  12529787     0.500000    0.500000  6037.0  0.290645   \n",
       "8237   2883002  11848044     0.166667    0.166667  6037.0  0.477749   \n",
       "31640  2759592  17271234     0.166667    0.333333  6111.0  0.559977   \n",
       "14309  1044874  17266806     0.166667    0.333333  6111.0  0.559026   \n",
       "50710  2848400  17068575     0.500000    0.333333  6111.0  0.688996   \n",
       "\n",
       "       longitude  lotsizesquarefeet propertycountylandusecode  \\\n",
       "34264   0.705217           0.008265                      0101   \n",
       "8237    0.697542           0.014113                      0101   \n",
       "31640   0.271079           0.019604                      1111   \n",
       "14309   0.279767           0.009377                      1111   \n",
       "50710   0.084830           0.212281                      1110   \n",
       "\n",
       "       propertylandusetypeid  ...              County   age  age_bin  \\\n",
       "34264                  261.0  ...  Los Angeles County  52.0    0.400   \n",
       "8237                   261.0  ...  Los Angeles County  65.0    0.466   \n",
       "31640                  261.0  ...      Ventura County  33.0    0.266   \n",
       "14309                  261.0  ...      Ventura County  46.0    0.333   \n",
       "50710                  261.0  ...      Ventura County  28.0    0.200   \n",
       "\n",
       "          acres  acres_bin  LA Orange Ventura size_cluster  location_cluster  \n",
       "34264  0.150826        0.2   1      0       0            0                 1  \n",
       "8237   0.253696        0.3   1      0       0            2                 1  \n",
       "31640  0.350298        0.3   0      0       1            1                 0  \n",
       "14309  0.170386        0.2   0      0       1            1                 0  \n",
       "50710  3.739991        0.5   0      0       1            0                 0  \n",
       "\n",
       "[5 rows x 28 columns]"
      ]
     },
     "execution_count": 24,
     "metadata": {},
     "output_type": "execute_result"
    }
   ],
   "source": [
    "train_s['location_cluster'] = clusters\n",
    "train_s.head()"
   ]
  },
  {
   "cell_type": "code",
   "execution_count": 25,
   "id": "48cea0cc",
   "metadata": {},
   "outputs": [
    {
     "data": {
      "text/plain": [
       "array([[0.60702889, 0.4152443 ],\n",
       "       [0.43851585, 0.68929205],\n",
       "       [0.24033455, 0.8647349 ],\n",
       "       [0.86700503, 0.7004039 ]])"
      ]
     },
     "execution_count": 25,
     "metadata": {},
     "output_type": "execute_result"
    }
   ],
   "source": [
    "kmeans1.cluster_centers_\n"
   ]
  },
  {
   "cell_type": "code",
   "execution_count": 26,
   "id": "bccf93b7",
   "metadata": {},
   "outputs": [],
   "source": [
    "centroids = pd.DataFrame(kmeans1.cluster_centers_, columns=L.columns)\n"
   ]
  },
  {
   "cell_type": "code",
   "execution_count": 27,
   "id": "bb76be4e",
   "metadata": {},
   "outputs": [
    {
     "data": {
      "text/plain": [
       "Text(0.5, 1.0, 'Visualizing Cluster Centers')"
      ]
     },
     "execution_count": 27,
     "metadata": {},
     "output_type": "execute_result"
    },
    {
     "data": {
      "image/png": "[encoded data removed]",
      "text/plain": [
       "<Figure size 1008x648 with 1 Axes>"
      ]
     },
     "metadata": {
      "needs_background": "light"
     },
     "output_type": "display_data"
    }
   ],
   "source": [
    "plt.figure(figsize=(14, 9))\n",
    "\n",
    "for cluster, subset in train_s.groupby('location_cluster'):\n",
    "    plt.scatter(subset.latitude, subset.longitude, label='cluster ' + str(cluster), alpha=.6)\n",
    "\n",
    "centroids.plot.scatter(y='longitude', x='latitude', c='black', marker='x', s=1000, ax=plt.gca(), label='centroid')\n",
    "\n",
    "\n",
    "plt.legend()\n",
    "plt.xlabel('latitude')\n",
    "plt.ylabel('longitude')\n",
    "plt.title('Visualizing Cluster Centers')\n"
   ]
  },
  {
   "cell_type": "markdown",
   "id": "2434680b",
   "metadata": {},
   "source": [
    "Second Cluster\n",
    "- Using a correlation test\n",
    " - $H_0$: There is not a linear relationship between location_cluster and logerror\n",
    " - $H_a$: There is a linear relationship between location_cluster and logerror\n"
   ]
  },
  {
   "cell_type": "code",
   "execution_count": 28,
   "id": "c9308a15",
   "metadata": {},
   "outputs": [
    {
     "name": "stdout",
     "output_type": "stream",
     "text": [
      "r = 0.00813714389345278\n",
      "p = 0.16485874638608586\n",
      "We fail to reject the H0.\n"
     ]
    }
   ],
   "source": [
    "x = train_s.location_cluster\n",
    "y = train_s.logerror\n",
    "α = 0.05\n",
    "r, p = stats.pearsonr(x,y)\n",
    "print('r =', r)\n",
    "print('p =', p)\n",
    "if p < α:\n",
    "    print(\"We reject the H0.\")\n",
    "else:\n",
    "    print(\"We fail to reject the H0.\")"
   ]
  },
  {
   "cell_type": "markdown",
   "id": "afaf87c0",
   "metadata": {},
   "source": [
    "Takeaways \n",
    "- there is no linear relationship between my location cluster and logerror "
   ]
  },
  {
   "cell_type": "markdown",
   "id": "e7d10600",
   "metadata": {},
   "source": [
    "<hr style=\"border:2px solid gray\">"
   ]
  },
  {
   "cell_type": "markdown",
   "id": "63c6ed2a",
   "metadata": {},
   "source": [
    "## Third cluster \n",
    "- 'Age_size' contains features: 'age' and 'lotsize' "
   ]
  },
  {
   "cell_type": "code",
   "execution_count": 29,
   "id": "ad248368",
   "metadata": {},
   "outputs": [],
   "source": [
    "A = train_s[['lotsizesquarefeet', 'age']]"
   ]
  },
  {
   "cell_type": "code",
   "execution_count": 30,
   "id": "2b9abfa5",
   "metadata": {},
   "outputs": [
    {
     "data": {
      "text/plain": [
       "array([0, 1, 2, ..., 1, 2, 2], dtype=int32)"
      ]
     },
     "execution_count": 30,
     "metadata": {},
     "output_type": "execute_result"
    }
   ],
   "source": [
    "kmeans2 = KMeans(n_clusters=4)\n",
    "kmeans2.fit(A)\n",
    "\n",
    "clusters = kmeans2.predict(A)\n",
    "clusters"
   ]
  },
  {
   "cell_type": "code",
   "execution_count": 31,
   "id": "20f8413d",
   "metadata": {},
   "outputs": [],
   "source": [
    "train_s['age_size'] = clusters"
   ]
  },
  {
   "cell_type": "code",
   "execution_count": 32,
   "id": "82ed4c68",
   "metadata": {},
   "outputs": [
    {
     "data": {
      "text/plain": [
       "array([[1.24997980e-02, 4.72437579e+01],\n",
       "       [1.15769239e-02, 6.54851687e+01],\n",
       "       [1.60035188e-02, 2.11845292e+01],\n",
       "       [9.13957851e-03, 9.33958084e+01]])"
      ]
     },
     "execution_count": 32,
     "metadata": {},
     "output_type": "execute_result"
    }
   ],
   "source": [
    "kmeans2.cluster_centers_"
   ]
  },
  {
   "cell_type": "code",
   "execution_count": 33,
   "id": "ccce068a",
   "metadata": {},
   "outputs": [],
   "source": [
    "centroids2 = pd.DataFrame(kmeans2.cluster_centers_, columns=A.columns)\n"
   ]
  },
  {
   "cell_type": "code",
   "execution_count": 34,
   "id": "9ea39e13",
   "metadata": {
    "scrolled": false
   },
   "outputs": [
    {
     "data": {
      "text/plain": [
       "Text(0.5, 1.0, 'Visualizing Cluster Centers')"
      ]
     },
     "execution_count": 34,
     "metadata": {},
     "output_type": "execute_result"
    },
    {
     "data": {
      "image/png": "[encoded data removed]",
      "text/plain": [
       "<Figure size 1008x648 with 1 Axes>"
      ]
     },
     "metadata": {
      "needs_background": "light"
     },
     "output_type": "display_data"
    }
   ],
   "source": [
    "plt.figure(figsize=(14, 9))\n",
    "\n",
    "for cluster, subset in train_s.groupby('age_size'):\n",
    "    plt.scatter(subset.lotsizesquarefeet, subset.age, label='cluster ' + str(cluster), alpha=.6)\n",
    "\n",
    "centroids2.plot.scatter(y='age', x='lotsizesquarefeet', c='black', marker='x', s=1000, ax=plt.gca(), label='centroid')\n",
    "\n",
    "\n",
    "plt.legend()\n",
    "plt.xlabel('lotsizesquarefeet')\n",
    "plt.ylabel('age')\n",
    "plt.title('Visualizing Cluster Centers')"
   ]
  },
  {
   "cell_type": "markdown",
   "id": "4372ea25",
   "metadata": {},
   "source": [
    "Third Cluster\n",
    "- Using a correlation test\n",
    " - $H_0$: There is not a linear relationship between age_size and logerror\n",
    " - $H_a$: There is a linear relationship between age_size and logerror"
   ]
  },
  {
   "cell_type": "code",
   "execution_count": 35,
   "id": "333bb8ae",
   "metadata": {},
   "outputs": [
    {
     "name": "stdout",
     "output_type": "stream",
     "text": [
      "r = -0.010503729348089106\n",
      "p = 0.07299171078342048\n",
      "We fail to reject the H0.\n"
     ]
    }
   ],
   "source": [
    "x = train_s.age_size\n",
    "y = train_s.logerror\n",
    "α = 0.05\n",
    "r, p = stats.pearsonr(x,y)\n",
    "print('r =', r)\n",
    "print('p =', p)\n",
    "if p < α:\n",
    "    print(\"We reject the H0.\")\n",
    "else:\n",
    "    print(\"We fail to reject the H0.\")"
   ]
  },
  {
   "cell_type": "markdown",
   "id": "8aa27387",
   "metadata": {},
   "source": [
    "Take aways \n",
    "\n",
    "- There is no linear correlation between age_size cluster and logerror "
   ]
  },
  {
   "cell_type": "markdown",
   "id": "87f64298",
   "metadata": {},
   "source": [
    "##  Clustering Takeaways "
   ]
  },
  {
   "cell_type": "markdown",
   "id": "c02003ae",
   "metadata": {},
   "source": [
    "- There was no linear correlation between any of my clusters and log error, unfortuatly"
   ]
  },
  {
   "cell_type": "markdown",
   "id": "4251adb9",
   "metadata": {},
   "source": [
    "<hr style=\"border:2px solid green\">"
   ]
  },
  {
   "cell_type": "markdown",
   "id": "e59642f4",
   "metadata": {},
   "source": [
    "# Modeling"
   ]
  },
  {
   "cell_type": "markdown",
   "id": "60a25422",
   "metadata": {},
   "source": [
    "I decided since my custers was not able to show me a relationship between features and log error I decided to use some `Feature Engineering`\n",
    "- To determine the features that have a relationship with logerror, 4 of the best features where chosen using `Select k best` \n"
   ]
  },
  {
   "cell_type": "markdown",
   "id": "10f48411",
   "metadata": {},
   "source": [
    "Models Used \n",
    "\n",
    "\n",
    "- OLS- (Ordiary Least Squares)\n",
    "\n",
    "- LassoLars\n",
    "\n",
    "- GLM- (Generalized Linear Model)\n",
    "\n",
    "- Polyniomial Model- `This model had the lowest RMSE`"
   ]
  },
  {
   "cell_type": "code",
   "execution_count": 36,
   "id": "bcbe7126",
   "metadata": {},
   "outputs": [],
   "source": [
    "X_train = train_s[['bathroomcnt','bedroomcnt','latitude', 'longitude']]\n",
    "y_train = pd.DataFrame(train[['logerror']])\n",
    "\n",
    "\n",
    "X_validate = valid_s[['bathroomcnt','bedroomcnt','latitude', 'longitude']]\n",
    "y_validate = pd.DataFrame(validate[['logerror']])\n",
    "\n",
    "\n",
    "X_test = test_s[['bathroomcnt','bedroomcnt','latitude', 'longitude']]\n",
    "y_test = pd.DataFrame(test[['logerror']])"
   ]
  },
  {
   "cell_type": "markdown",
   "id": "89919082",
   "metadata": {},
   "source": [
    "### The Baseline "
   ]
  },
  {
   "cell_type": "code",
   "execution_count": 37,
   "id": "3aac67ba",
   "metadata": {},
   "outputs": [
    {
     "name": "stdout",
     "output_type": "stream",
     "text": [
      "Train baseline RMSE: 0.17902282261997393.\n",
      "Validation baseline RMSE: 0.16293244362415202.\n"
     ]
    }
   ],
   "source": [
    "from math import sqrt\n",
    "from sklearn.metrics import mean_squared_error\n",
    "#Establish baselines for the train and validation subsets\n",
    "baseline = train.logerror.mean()\n",
    "\n",
    "train['baseline'] = baseline\n",
    "validate['baseline'] = baseline\n",
    "\n",
    "train_rmse = sqrt(mean_squared_error(train.logerror, train.baseline))\n",
    "valid_rmse = sqrt(mean_squared_error(validate.logerror, validate.baseline))\n",
    "\n",
    "print('Train baseline RMSE: {}.'.format(train_rmse))\n",
    "print('Validation baseline RMSE: {}.'.format(valid_rmse))"
   ]
  },
  {
   "cell_type": "markdown",
   "id": "629cba4d",
   "metadata": {},
   "source": [
    "### Our end goal for modeling is to find a model that has the lowest RMSE (Root Mean Squared Error) and beat that baseline!\n",
    "\n",
    "RMSE is an evaluation metric, that will measure \"how good a model is\" and measure how well a model predicts the target variable, which is the value of a property\n",
    "In our models, RMSE is already in dollar value, perfect for comparison\n"
   ]
  },
  {
   "cell_type": "markdown",
   "id": "9f7401ce",
   "metadata": {},
   "source": [
    "<hr style=\"border:2px solid gray\">"
   ]
  },
  {
   "cell_type": "markdown",
   "id": "1b104cbe",
   "metadata": {},
   "source": [
    "### OLS"
   ]
  },
  {
   "cell_type": "code",
   "execution_count": 38,
   "id": "cee38906",
   "metadata": {
    "scrolled": true
   },
   "outputs": [
    {
     "name": "stdout",
     "output_type": "stream",
     "text": [
      "RMSE for OLS using LinearRegression\n",
      "Training/In-Sample:  0.1788394195711862 \n",
      "Validation/Out-of-Sample:  0.162695056693868\n"
     ]
    }
   ],
   "source": [
    "# create the model object\n",
    "lm = LinearRegression(normalize=True)\n",
    "\n",
    "# fit the model to our training data. We must specify the column in y_train, \n",
    "# since we have converted it to a dataframe from a series! \n",
    "lm.fit(X_train, y_train['logerror'])\n",
    "\n",
    "# predict train\n",
    "y_train['logerror_pred_lm'] = lm.predict(X_train)\n",
    "\n",
    "# evaluate: rmse\n",
    "rmse_train = mean_squared_error(y_train['logerror'], y_train.logerror_pred_lm)**(1/2)\n",
    "\n",
    "# predict validate\n",
    "y_validate['logerror_pred_lm'] = lm.predict(X_validate)\n",
    "\n",
    "# evaluate: rmse\n",
    "rmse_validate = mean_squared_error(y_validate['logerror'], y_validate.logerror_pred_lm)**(1/2)\n",
    "\n",
    "print(\"RMSE for OLS using LinearRegression\\nTraining/In-Sample: \", rmse_train, \n",
    "      \"\\nValidation/Out-of-Sample: \", rmse_validate)"
   ]
  },
  {
   "cell_type": "markdown",
   "id": "b6166007",
   "metadata": {},
   "source": [
    "<hr style=\"border:2px solid gray\">"
   ]
  },
  {
   "cell_type": "markdown",
   "id": "4369b00f",
   "metadata": {},
   "source": [
    "### Lasso lars"
   ]
  },
  {
   "cell_type": "code",
   "execution_count": 39,
   "id": "b898230e",
   "metadata": {},
   "outputs": [
    {
     "name": "stdout",
     "output_type": "stream",
     "text": [
      "RMSE for Lasso + Lars\n",
      "Training/In-Sample:  0.17902282261997393 \n",
      "Validation/Out-of-Sample:  0.16293244362415202\n"
     ]
    }
   ],
   "source": [
    "# create the model object\n",
    "lars = LassoLars(alpha=1.0)\n",
    "\n",
    "# fit the model to our training data. We must specify the column in y_train, \n",
    "# since we have converted it to a dataframe from a series! \n",
    "lars.fit(X_train, y_train['logerror'])\n",
    "\n",
    "# predict train\n",
    "y_train['logerror_pred_lars'] = lars.predict(X_train)\n",
    "\n",
    "# evaluate: rmse\n",
    "rmse_train = mean_squared_error(y_train['logerror'], y_train.logerror_pred_lars)**(1/2)\n",
    "\n",
    "# predict validate\n",
    "y_validate['logerror_pred_lars'] = lars.predict(X_validate)\n",
    "\n",
    "# evaluate: rmse\n",
    "rmse_validate = mean_squared_error(y_validate['logerror'], y_validate.logerror_pred_lars)**(1/2)\n",
    "\n",
    "print(\"RMSE for Lasso + Lars\\nTraining/In-Sample: \", rmse_train, \n",
    "      \"\\nValidation/Out-of-Sample: \", rmse_validate)"
   ]
  },
  {
   "cell_type": "markdown",
   "id": "f0b75c08",
   "metadata": {},
   "source": [
    "<hr style=\"border:2px solid gray\">"
   ]
  },
  {
   "cell_type": "markdown",
   "id": "ffaf9165",
   "metadata": {},
   "source": [
    "### GLM Model  "
   ]
  },
  {
   "cell_type": "code",
   "execution_count": 40,
   "id": "638f1a65",
   "metadata": {},
   "outputs": [
    {
     "name": "stdout",
     "output_type": "stream",
     "text": [
      "RMSE for GLM using Tweedie, power=1 & alpha=0\n",
      "Training/In-Sample:  0.17900766205540333 \n",
      "Validation/Out-of-Sample:  0.1629154148124571\n"
     ]
    }
   ],
   "source": [
    "# create the model object\n",
    "glm = TweedieRegressor(power=0, alpha=1.0)\n",
    "\n",
    "# fit the model to our training data. We must specify the column in y_train, \n",
    "# since we have converted it to a dataframe from a series! \n",
    "glm.fit(X_train, y_train['logerror'])\n",
    "\n",
    "# predict train\n",
    "y_train['logerror_pred_glm'] = glm.predict(X_train)\n",
    "\n",
    "# evaluate: rmse\n",
    "rmse_train = mean_squared_error(y_train['logerror'], y_train.logerror_pred_glm)**(1/2)\n",
    "\n",
    "# predict validate\n",
    "y_validate['logerror_pred_glm'] = glm.predict(X_validate)\n",
    "\n",
    "# evaluate: rmse\n",
    "rmse_validate = mean_squared_error(y_validate['logerror'], y_validate.logerror_pred_glm)**(1/2)\n",
    "\n",
    "print(\"RMSE for GLM using Tweedie, power=1 & alpha=0\\nTraining/In-Sample: \", rmse_train, \n",
    "      \"\\nValidation/Out-of-Sample: \", rmse_validate)\n"
   ]
  },
  {
   "cell_type": "markdown",
   "id": "19427937",
   "metadata": {},
   "source": [
    "<hr style=\"border:2px solid gray\">"
   ]
  },
  {
   "cell_type": "markdown",
   "id": "e34526b6",
   "metadata": {},
   "source": [
    "### Polynomial Model "
   ]
  },
  {
   "cell_type": "code",
   "execution_count": 41,
   "id": "8d3630ba",
   "metadata": {},
   "outputs": [],
   "source": [
    "# make the polynomial features to get a new set of features\n",
    "pf = PolynomialFeatures(degree=2)\n",
    "\n",
    "# fit and transform X_train_scaled\n",
    "X_train_degree2 = pf.fit_transform(X_train)\n",
    "\n",
    "# transform X_validate_scaled & X_test_scaled\n",
    "X_validate_degree2 = pf.transform(X_validate)\n",
    "X_test_degree2 = pf.transform(X_test)"
   ]
  },
  {
   "cell_type": "code",
   "execution_count": 42,
   "id": "be577b30",
   "metadata": {},
   "outputs": [
    {
     "name": "stdout",
     "output_type": "stream",
     "text": [
      "RMSE for Polynomial Model, degrees=2\n",
      "Training/In-Sample:  0.17878117616995837 \n",
      "Validation/Out-of-Sample:  0.16267885857439796\n"
     ]
    }
   ],
   "source": [
    "# create the model object\n",
    "lm2 = LinearRegression(normalize=True)\n",
    "\n",
    "# fit the model to our training data. We must specify the column in y_train, \n",
    "# since we have converted it to a dataframe from a series! \n",
    "lm2.fit(X_train_degree2, y_train['logerror'])\n",
    "\n",
    "# predict train\n",
    "y_train['logerror_pred_lm2'] = lm2.predict(X_train_degree2)\n",
    "\n",
    "# evaluate: rmse\n",
    "rmse_train = mean_squared_error(y_train['logerror'], y_train.logerror_pred_lm2)**(1/2)\n",
    "\n",
    "# predict validate\n",
    "y_validate['logerror_pred_lm2'] = lm2.predict(X_validate_degree2)\n",
    "\n",
    "# evaluate: rmse\n",
    "rmse_validate = mean_squared_error(y_validate['logerror'], y_validate.logerror_pred_lm2)**(1/2)\n",
    "\n",
    "print(\"RMSE for Polynomial Model, degrees=2\\nTraining/In-Sample: \", rmse_train, \n",
    "      \"\\nValidation/Out-of-Sample: \", rmse_validate)"
   ]
  },
  {
   "cell_type": "code",
   "execution_count": null,
   "id": "9c9e0d27",
   "metadata": {},
   "outputs": [],
   "source": []
  },
  {
   "cell_type": "code",
   "execution_count": 45,
   "id": "a589ffa9",
   "metadata": {
    "scrolled": false
   },
   "outputs": [
    {
     "data": {
      "image/png": "[encoded data removed]",
      "text/plain": [
       "<Figure size 1152x720 with 1 Axes>"
      ]
     },
     "metadata": {
      "needs_background": "light"
     },
     "output_type": "display_data"
    }
   ],
   "source": [
    "# plot to visualize actual vs predicted. \n",
    "plt.figure(figsize=(16,10))\n",
    "plt.hist(y_validate.logerror, color='blue', alpha=.5, label=\"Actual logerror\")\n",
    "plt.hist(y_validate.logerror_pred_lm, color='black', alpha=.5, label=\"Model: LinearRegression\")\n",
    "#plt.hist(y_validate.tax_pred_glm, color='yellow', alpha=.5, label=\"Model: TweedieRegressor\")\n",
    "plt.hist(y_validate.logerror_pred_lm2, color='green', alpha=.5, label=\"Model 2nd degree Polynomial\")\n",
    "plt.hist(y_validate.logerror_pred_lars, color='orange', alpha=.5, label=\"lassoLars\")\n",
    "plt.xlabel(\"logerror\")\n",
    "plt.ylabel(\"properties\")\n",
    "plt.title(\"Comparing the Distribution of Actual logerror to Distributions of Predicted logerror for the Top Models\")\n",
    "plt.legend()\n",
    "plt.show()"
   ]
  },
  {
   "cell_type": "markdown",
   "id": "728e9f8f",
   "metadata": {},
   "source": [
    "Testing the Best model `Ploynomial Model 2nd degree` with the test dataset  "
   ]
  },
  {
   "cell_type": "code",
   "execution_count": 44,
   "id": "b02c6957",
   "metadata": {
    "scrolled": true
   },
   "outputs": [
    {
     "name": "stdout",
     "output_type": "stream",
     "text": [
      "RMSE for 2nd Degree Polynomial Model using LinearRegression\n",
      "Out-of-Sample Performance:  0.17032284824557953\n"
     ]
    }
   ],
   "source": [
    "y_test = pd.DataFrame(y_test)\n",
    "\n",
    "# predict on test\n",
    "y_test['logerror_pred_lm2'] = lm2.predict(X_test_degree2)\n",
    "\n",
    "# evaluate: rmse\n",
    "rmse_test = mean_squared_error(y_test.logerror, y_test.logerror_pred_lm2)**(1/2)\n",
    "\n",
    "print(\"RMSE for 2nd Degree Polynomial Model using LinearRegression\\nOut-of-Sample Performance: \", rmse_test)"
   ]
  },
  {
   "cell_type": "markdown",
   "id": "9fb07811",
   "metadata": {},
   "source": [
    "----------------------"
   ]
  },
  {
   "cell_type": "markdown",
   "id": "7721d46a",
   "metadata": {},
   "source": [
    "`RMSE for Baseline` \n",
    "\n",
    "Train baseline RMSE: 0.17902282261997393.\n",
    "\n",
    "Validation baseline RMSE: 0.16293244362415202\n",
    "\n",
    "--------------\n",
    "\n",
    "`RMSE for Polynomial Model, degrees=2`\n",
    "\n",
    "Training/In-Sample:  0.17878117616995837 \n",
    "\n",
    "Validation/Out-of-Sample:  0.16267885857439796\n",
    "\n",
    "Test/Out-of-Sample Performance:  0.17032284824557953"
   ]
  },
  {
   "cell_type": "markdown",
   "id": "4ae34a87",
   "metadata": {},
   "source": [
    "### Takeways\n",
    "#### - The best model for this Zillow dataset is Ploynomial Model 2nd degree\n",
    "- The models are not significantly different from the baseline \n",
    "- Some are better than the baseline, but by a very small amount "
   ]
  },
  {
   "cell_type": "markdown",
   "id": "a740d483",
   "metadata": {},
   "source": [
    "<hr style=\"border:2px solid green\">"
   ]
  },
  {
   "cell_type": "markdown",
   "id": "6ff5927b",
   "metadata": {},
   "source": [
    "# Conclusion"
   ]
  },
  {
   "cell_type": "markdown",
   "id": "9a51ddd2",
   "metadata": {},
   "source": [
    "- From the whole report we can see that some features have a relationsip with log error but those relationsips are to weak to create a great reasonable model."
   ]
  },
  {
   "cell_type": "markdown",
   "id": "09873826",
   "metadata": {},
   "source": [
    "## Recomendations"
   ]
  },
  {
   "cell_type": "markdown",
   "id": "5fe30cd9",
   "metadata": {},
   "source": [
    "- Trying other key drivers of logerror that I was not able to touch on  \n",
    "- Keep improving the baseline model since it is a very good model to work with\n",
    "- There is alot of missing data, if there is a way we could revisit those properties or find more meaninful ways to aquire such data to therefore make better predictions with our models "
   ]
  },
  {
   "cell_type": "markdown",
   "id": "03212013",
   "metadata": {},
   "source": [
    "## Next Steps"
   ]
  },
  {
   "cell_type": "markdown",
   "id": "ff28bf7c",
   "metadata": {},
   "source": [
    "- Making different clusters with different features\n",
    "- Get different approches from my peers \n",
    "- Trying different models such as classification models "
   ]
  },
  {
   "cell_type": "code",
   "execution_count": null,
   "id": "bb6034f8",
   "metadata": {},
   "outputs": [],
   "source": []
  }
 ],
 "metadata": {
  "kernelspec": {
   "display_name": "Python 3 (ipykernel)",
   "language": "python",
   "name": "python3"
  },
  "language_info": {
   "codemirror_mode": {
    "name": "ipython",
    "version": 3
   },
   "file_extension": ".py",
   "mimetype": "text/x-python",
   "name": "python",
   "nbconvert_exporter": "python",
   "pygments_lexer": "ipython3",
   "version": "3.9.12"
  }
 },
 "nbformat": 4,
 "nbformat_minor": 5
}
