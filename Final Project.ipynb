{
 "cells": [
  {
   "cell_type": "markdown",
   "id": "afef8c7a",
   "metadata": {},
   "source": [
    "# Zillow_clustering_Project: Understanding and Improving Zestimate"
   ]
  },
  {
   "cell_type": "markdown",
   "id": "4eea5ae4",
   "metadata": {},
   "source": [
    "Glady Barrios\n",
    "\n",
    "AUG, 9, 2022\n",
    "\n",
    "Kalpana Cohort"
   ]
  },
  {
   "cell_type": "markdown",
   "id": "7b89fdf4",
   "metadata": {},
   "source": [
    "## Project Goal"
   ]
  },
  {
   "cell_type": "markdown",
   "id": "652531f3",
   "metadata": {},
   "source": [
    "- Use clustering to algorythims to determine driving errors in the current Zestimate.\n",
    "- Trying to find and use the differnt drivers of logerror to improve the Zestimate Model.\n",
    "- Mostly we want to improve the Zestimate model using our diffrent modeling methods."
   ]
  },
  {
   "cell_type": "markdown",
   "id": "7d588d80",
   "metadata": {},
   "source": [
    "## Project Description"
   ]
  },
  {
   "cell_type": "markdown",
   "id": "0a319d04",
   "metadata": {},
   "source": [
    "The goal of this project is to find the driving errors in the Zestimate and find ways to better improve Zillows current models. Improving our models will help zillow customers get more accurate home prices. We want our customers to have the most accurate information\n",
    "\n"
   ]
  },
  {
   "cell_type": "code",
   "execution_count": 17,
   "id": "c4eb1cca",
   "metadata": {},
   "outputs": [],
   "source": [
    "import warnings\n",
    "warnings.filterwarnings(\"ignore\")\n",
    "\n",
    "import pandas as pd\n",
    "import numpy as np\n",
    "import seaborn as sns\n",
    "import matplotlib.pyplot as plt\n",
    "import sklearn.preprocessing\n",
    "\n",
    "\n",
    "from wrangle import wrangle_zillow\n",
    "from prepare import train_validate_test_split, scale_data\n",
    "\n",
    "from scipy import stats\n",
    "from math import sqrt\n",
    "\n",
    "from sklearn.cluster import KMeans\n",
    "from sklearn.model_selection import train_test_split\n",
    "from sklearn.linear_model import LinearRegression, LassoLars, TweedieRegressor\n",
    "from sklearn.feature_selection import SelectKBest, RFE, f_regression, SequentialFeatureSelector\n",
    "from sklearn.preprocessing import MinMaxScaler\n",
    "from sklearn.preprocessing import PolynomialFeatures\n",
    "from sklearn.metrics import mean_squared_error"
   ]
  },
  {
   "cell_type": "markdown",
   "id": "0c38ca98",
   "metadata": {},
   "source": [
    "# wrangle the data"
   ]
  },
  {
   "cell_type": "code",
   "execution_count": 2,
   "id": "082786b6",
   "metadata": {},
   "outputs": [
    {
     "data": {
      "text/html": [
       "<div>\n",
       "<style scoped>\n",
       "    .dataframe tbody tr th:only-of-type {\n",
       "        vertical-align: middle;\n",
       "    }\n",
       "\n",
       "    .dataframe tbody tr th {\n",
       "        vertical-align: top;\n",
       "    }\n",
       "\n",
       "    .dataframe thead th {\n",
       "        text-align: right;\n",
       "    }\n",
       "</style>\n",
       "<table border=\"1\" class=\"dataframe\">\n",
       "  <thead>\n",
       "    <tr style=\"text-align: right;\">\n",
       "      <th></th>\n",
       "      <th>id</th>\n",
       "      <th>parcelid</th>\n",
       "      <th>bathroomcnt</th>\n",
       "      <th>bedroomcnt</th>\n",
       "      <th>fips</th>\n",
       "      <th>latitude</th>\n",
       "      <th>longitude</th>\n",
       "      <th>lotsizesquarefeet</th>\n",
       "      <th>propertycountylandusecode</th>\n",
       "      <th>propertylandusetypeid</th>\n",
       "      <th>...</th>\n",
       "      <th>transactiondate</th>\n",
       "      <th>propertylandusedesc</th>\n",
       "      <th>County</th>\n",
       "      <th>age</th>\n",
       "      <th>age_bin</th>\n",
       "      <th>acres</th>\n",
       "      <th>acres_bin</th>\n",
       "      <th>LA</th>\n",
       "      <th>Orange</th>\n",
       "      <th>Ventura</th>\n",
       "    </tr>\n",
       "  </thead>\n",
       "  <tbody>\n",
       "    <tr>\n",
       "      <th>0</th>\n",
       "      <td>1727539</td>\n",
       "      <td>14297519</td>\n",
       "      <td>3.5</td>\n",
       "      <td>4.0</td>\n",
       "      <td>6059.0</td>\n",
       "      <td>33634931.0</td>\n",
       "      <td>-117869207.0</td>\n",
       "      <td>4506.0</td>\n",
       "      <td>122</td>\n",
       "      <td>261.0</td>\n",
       "      <td>...</td>\n",
       "      <td>2017-01-01</td>\n",
       "      <td>Single Family Residential</td>\n",
       "      <td>Orange County</td>\n",
       "      <td>19.0</td>\n",
       "      <td>0.133</td>\n",
       "      <td>0.103444</td>\n",
       "      <td>0.1</td>\n",
       "      <td>0</td>\n",
       "      <td>1</td>\n",
       "      <td>0</td>\n",
       "    </tr>\n",
       "    <tr>\n",
       "      <th>1</th>\n",
       "      <td>1387261</td>\n",
       "      <td>17052889</td>\n",
       "      <td>1.0</td>\n",
       "      <td>2.0</td>\n",
       "      <td>6111.0</td>\n",
       "      <td>34449266.0</td>\n",
       "      <td>-119281531.0</td>\n",
       "      <td>12647.0</td>\n",
       "      <td>1110</td>\n",
       "      <td>261.0</td>\n",
       "      <td>...</td>\n",
       "      <td>2017-01-01</td>\n",
       "      <td>Single Family Residential</td>\n",
       "      <td>Ventura County</td>\n",
       "      <td>50.0</td>\n",
       "      <td>0.333</td>\n",
       "      <td>0.290335</td>\n",
       "      <td>0.3</td>\n",
       "      <td>0</td>\n",
       "      <td>0</td>\n",
       "      <td>1</td>\n",
       "    </tr>\n",
       "    <tr>\n",
       "      <th>2</th>\n",
       "      <td>11677</td>\n",
       "      <td>14186244</td>\n",
       "      <td>2.0</td>\n",
       "      <td>3.0</td>\n",
       "      <td>6059.0</td>\n",
       "      <td>33886168.0</td>\n",
       "      <td>-117823170.0</td>\n",
       "      <td>8432.0</td>\n",
       "      <td>122</td>\n",
       "      <td>261.0</td>\n",
       "      <td>...</td>\n",
       "      <td>2017-01-01</td>\n",
       "      <td>Single Family Residential</td>\n",
       "      <td>Orange County</td>\n",
       "      <td>55.0</td>\n",
       "      <td>0.400</td>\n",
       "      <td>0.193572</td>\n",
       "      <td>0.2</td>\n",
       "      <td>0</td>\n",
       "      <td>1</td>\n",
       "      <td>0</td>\n",
       "    </tr>\n",
       "  </tbody>\n",
       "</table>\n",
       "<p>3 rows × 26 columns</p>\n",
       "</div>"
      ],
      "text/plain": [
       "        id  parcelid  bathroomcnt  bedroomcnt    fips    latitude  \\\n",
       "0  1727539  14297519          3.5         4.0  6059.0  33634931.0   \n",
       "1  1387261  17052889          1.0         2.0  6111.0  34449266.0   \n",
       "2    11677  14186244          2.0         3.0  6059.0  33886168.0   \n",
       "\n",
       "     longitude  lotsizesquarefeet propertycountylandusecode  \\\n",
       "0 -117869207.0             4506.0                       122   \n",
       "1 -119281531.0            12647.0                      1110   \n",
       "2 -117823170.0             8432.0                       122   \n",
       "\n",
       "   propertylandusetypeid  ...  transactiondate        propertylandusedesc  \\\n",
       "0                  261.0  ...       2017-01-01  Single Family Residential   \n",
       "1                  261.0  ...       2017-01-01  Single Family Residential   \n",
       "2                  261.0  ...       2017-01-01  Single Family Residential   \n",
       "\n",
       "           County   age  age_bin     acres acres_bin LA Orange  Ventura  \n",
       "0   Orange County  19.0    0.133  0.103444       0.1  0      1        0  \n",
       "1  Ventura County  50.0    0.333  0.290335       0.3  0      0        1  \n",
       "2   Orange County  55.0    0.400  0.193572       0.2  0      1        0  \n",
       "\n",
       "[3 rows x 26 columns]"
      ]
     },
     "execution_count": 2,
     "metadata": {},
     "output_type": "execute_result"
    }
   ],
   "source": [
    "df = wrangle_zillow()\n",
    "df.head(3)"
   ]
  },
  {
   "cell_type": "code",
   "execution_count": 3,
   "id": "a49aaabd",
   "metadata": {},
   "outputs": [
    {
     "data": {
      "text/plain": [
       "((29136, 26), (12488, 26), (10406, 26))"
      ]
     },
     "execution_count": 3,
     "metadata": {},
     "output_type": "execute_result"
    }
   ],
   "source": [
    "train, validate, test = train_validate_test_split(df)\n",
    "train.shape, validate.shape, test.shape"
   ]
  },
  {
   "cell_type": "code",
   "execution_count": 4,
   "id": "94d07a76",
   "metadata": {},
   "outputs": [],
   "source": [
    "train_s, valid_s, test_s = scale_data(train, validate, test)"
   ]
  },
  {
   "cell_type": "code",
   "execution_count": null,
   "id": "e76c76f8",
   "metadata": {},
   "outputs": [],
   "source": []
  },
  {
   "cell_type": "markdown",
   "id": "8d122ae2",
   "metadata": {},
   "source": [
    "# Exploring the data "
   ]
  },
  {
   "cell_type": "markdown",
   "id": "6339c844",
   "metadata": {},
   "source": [
    "## Question 1 - Is log error significantly different for properties in the three counties?"
   ]
  },
  {
   "cell_type": "markdown",
   "id": "577dd4a0",
   "metadata": {},
   "source": [
    "Null hypothesis: Log error will be the same across all three counties.\n",
    "Alternative hypothesis: Log error will vary based on county"
   ]
  },
  {
   "cell_type": "code",
   "execution_count": 6,
   "id": "bfa57f40",
   "metadata": {},
   "outputs": [
    {
     "data": {
      "text/plain": [
       "<AxesSubplot:xlabel='County', ylabel='logerror'>"
      ]
     },
     "execution_count": 6,
     "metadata": {},
     "output_type": "execute_result"
    },
    {
     "data": {
      "image/png": "[encoded data removed]",
      "text/plain": [
       "<Figure size 432x288 with 1 Axes>"
      ]
     },
     "metadata": {
      "needs_background": "light"
     },
     "output_type": "display_data"
    }
   ],
   "source": [
    "#Compare the average log error between counties\n",
    "sns.barplot(x='County', y='logerror', data=train, palette= \"bright\")"
   ]
  },
  {
   "cell_type": "code",
   "execution_count": 7,
   "id": "dcd9f5eb",
   "metadata": {},
   "outputs": [
    {
     "data": {
      "text/plain": [
       "(22.500550909641934, 1.7074916354433785e-10)"
      ]
     },
     "execution_count": 7,
     "metadata": {},
     "output_type": "execute_result"
    }
   ],
   "source": [
    "#Conduct an ANOVA test between the counties\n",
    "f_county, p_county = stats.f_oneway(df[df['County'] == 'Los Angeles County'].logerror,\n",
    "                                    df[df['County'] == 'Orange County'].logerror,\n",
    "                                    df[df['County'] == 'Ventura County'].logerror)\n",
    "\n",
    "f_county, p_county"
   ]
  },
  {
   "cell_type": "code",
   "execution_count": 8,
   "id": "086c9207",
   "metadata": {},
   "outputs": [
    {
     "name": "stdout",
     "output_type": "stream",
     "text": [
      "We reject the null hypothesis.\n"
     ]
    }
   ],
   "source": [
    "#Compare my p value to alpha\n",
    "alpha = 0.05\n",
    "if p_county < alpha:\n",
    "    print('We reject the null hypothesis.')\n",
    "else:\n",
    "    print('We fail to reject the null hypothesis.')"
   ]
  },
  {
   "cell_type": "markdown",
   "id": "a84e7644",
   "metadata": {},
   "source": [
    "------------------------------------"
   ]
  },
  {
   "cell_type": "markdown",
   "id": "003a5426",
   "metadata": {},
   "source": [
    "## Question 2 - Is log error significantly different for properties that have diffrent bathroom counts "
   ]
  },
  {
   "cell_type": "code",
   "execution_count": 9,
   "id": "6f385bc0",
   "metadata": {},
   "outputs": [
    {
     "data": {
      "text/plain": [
       "<AxesSubplot:xlabel='bathroomcnt', ylabel='logerror'>"
      ]
     },
     "execution_count": 9,
     "metadata": {},
     "output_type": "execute_result"
    },
    {
     "data": {
      "image/png": "[encoded data removed]",
      "text/plain": [
       "<Figure size 432x288 with 1 Axes>"
      ]
     },
     "metadata": {
      "needs_background": "light"
     },
     "output_type": "display_data"
    }
   ],
   "source": [
    "sns.barplot(x='bathroomcnt', y='logerror', data=train, palette= \"bright\")"
   ]
  },
  {
   "cell_type": "code",
   "execution_count": null,
   "id": "f660e3f9",
   "metadata": {},
   "outputs": [],
   "source": []
  },
  {
   "cell_type": "markdown",
   "id": "ea5770b3",
   "metadata": {},
   "source": [
    "---------------------------------"
   ]
  },
  {
   "cell_type": "markdown",
   "id": "b86ae220",
   "metadata": {},
   "source": [
    "## Question 3 - Is log error significantly different for properties that have diffrent bedroom counts"
   ]
  },
  {
   "cell_type": "code",
   "execution_count": 10,
   "id": "4486be2c",
   "metadata": {},
   "outputs": [
    {
     "data": {
      "text/plain": [
       "<AxesSubplot:xlabel='bedroomcnt', ylabel='logerror'>"
      ]
     },
     "execution_count": 10,
     "metadata": {},
     "output_type": "execute_result"
    },
    {
     "data": {
      "image/png": "[encoded data removed]",
      "text/plain": [
       "<Figure size 432x288 with 1 Axes>"
      ]
     },
     "metadata": {
      "needs_background": "light"
     },
     "output_type": "display_data"
    }
   ],
   "source": [
    "sns.barplot(x='bedroomcnt', y='logerror', data=train, palette= \"bright\")"
   ]
  },
  {
   "cell_type": "code",
   "execution_count": null,
   "id": "c9b5c835",
   "metadata": {},
   "outputs": [],
   "source": []
  },
  {
   "cell_type": "markdown",
   "id": "363e21ce",
   "metadata": {},
   "source": [
    "-------------------------------"
   ]
  },
  {
   "cell_type": "markdown",
   "id": "d0045f91",
   "metadata": {},
   "source": [
    "## Question 4 -  Is log error significantly different for properties that have diffrent proprty values"
   ]
  },
  {
   "cell_type": "code",
   "execution_count": 11,
   "id": "9afd50db",
   "metadata": {},
   "outputs": [
    {
     "data": {
      "text/plain": [
       "<AxesSubplot:xlabel='taxvaluedollarcnt', ylabel='logerror'>"
      ]
     },
     "execution_count": 11,
     "metadata": {},
     "output_type": "execute_result"
    },
    {
     "data": {
      "image/png": "[encoded data removed]",
      "text/plain": [
       "<Figure size 432x288 with 1 Axes>"
      ]
     },
     "metadata": {
      "needs_background": "light"
     },
     "output_type": "display_data"
    }
   ],
   "source": [
    "sns.scatterplot(x='taxvaluedollarcnt', y='logerror', data=train, palette= \"bright\")"
   ]
  },
  {
   "cell_type": "markdown",
   "id": "ec532172",
   "metadata": {},
   "source": [
    "Null hypothesis: There is no correlation between price and log error.\n",
    "    \n",
    "Alternative hypothesis: There is a relationship between price and log error."
   ]
  },
  {
   "cell_type": "code",
   "execution_count": 12,
   "id": "0a467129",
   "metadata": {},
   "outputs": [
    {
     "data": {
      "text/plain": [
       "(-0.006149787116911295, 0.16069102565002474)"
      ]
     },
     "execution_count": 12,
     "metadata": {},
     "output_type": "execute_result"
    }
   ],
   "source": [
    "#Test for correlation between the two\n",
    "corr_value, p_value = stats.pearsonr(df['taxvaluedollarcnt'],\n",
    "                                     df['logerror'])\n",
    "\n",
    "corr_value, p_value"
   ]
  },
  {
   "cell_type": "code",
   "execution_count": 13,
   "id": "dd9250c1",
   "metadata": {},
   "outputs": [
    {
     "name": "stdout",
     "output_type": "stream",
     "text": [
      "We fail to reject the null hypothesis.\n"
     ]
    }
   ],
   "source": [
    "#Test my hypothesis\n",
    "if p_value < alpha:\n",
    "    print('We reject the null hypothesis.')\n",
    "else:\n",
    "    print('We fail to reject the null hypothesis.')"
   ]
  },
  {
   "cell_type": "code",
   "execution_count": null,
   "id": "9b632132",
   "metadata": {},
   "outputs": [],
   "source": []
  },
  {
   "cell_type": "markdown",
   "id": "fe825252",
   "metadata": {},
   "source": [
    "## Clustering"
   ]
  },
  {
   "cell_type": "markdown",
   "id": "e258739e",
   "metadata": {},
   "source": [
    "### First cluster - size= bed bath, sqft"
   ]
  },
  {
   "cell_type": "code",
   "execution_count": 14,
   "id": "f39720a1",
   "metadata": {},
   "outputs": [
    {
     "data": {
      "text/html": [
       "<div>\n",
       "<style scoped>\n",
       "    .dataframe tbody tr th:only-of-type {\n",
       "        vertical-align: middle;\n",
       "    }\n",
       "\n",
       "    .dataframe tbody tr th {\n",
       "        vertical-align: top;\n",
       "    }\n",
       "\n",
       "    .dataframe thead th {\n",
       "        text-align: right;\n",
       "    }\n",
       "</style>\n",
       "<table border=\"1\" class=\"dataframe\">\n",
       "  <thead>\n",
       "    <tr style=\"text-align: right;\">\n",
       "      <th></th>\n",
       "      <th>bathroomcnt</th>\n",
       "      <th>bedroomcnt</th>\n",
       "      <th>lotsizesquarefeet</th>\n",
       "    </tr>\n",
       "  </thead>\n",
       "  <tbody>\n",
       "    <tr>\n",
       "      <th>34264</th>\n",
       "      <td>0.500000</td>\n",
       "      <td>0.500000</td>\n",
       "      <td>0.008265</td>\n",
       "    </tr>\n",
       "    <tr>\n",
       "      <th>8237</th>\n",
       "      <td>0.166667</td>\n",
       "      <td>0.166667</td>\n",
       "      <td>0.014113</td>\n",
       "    </tr>\n",
       "    <tr>\n",
       "      <th>31640</th>\n",
       "      <td>0.166667</td>\n",
       "      <td>0.333333</td>\n",
       "      <td>0.019604</td>\n",
       "    </tr>\n",
       "    <tr>\n",
       "      <th>14309</th>\n",
       "      <td>0.166667</td>\n",
       "      <td>0.333333</td>\n",
       "      <td>0.009377</td>\n",
       "    </tr>\n",
       "    <tr>\n",
       "      <th>50710</th>\n",
       "      <td>0.500000</td>\n",
       "      <td>0.333333</td>\n",
       "      <td>0.212281</td>\n",
       "    </tr>\n",
       "  </tbody>\n",
       "</table>\n",
       "</div>"
      ],
      "text/plain": [
       "       bathroomcnt  bedroomcnt  lotsizesquarefeet\n",
       "34264     0.500000    0.500000           0.008265\n",
       "8237      0.166667    0.166667           0.014113\n",
       "31640     0.166667    0.333333           0.019604\n",
       "14309     0.166667    0.333333           0.009377\n",
       "50710     0.500000    0.333333           0.212281"
      ]
     },
     "execution_count": 14,
     "metadata": {},
     "output_type": "execute_result"
    }
   ],
   "source": [
    "X = train_s[['bathroomcnt', 'bedroomcnt','lotsizesquarefeet']]\n",
    "X.head()"
   ]
  },
  {
   "cell_type": "code",
   "execution_count": 69,
   "id": "6dd8faff",
   "metadata": {},
   "outputs": [
    {
     "data": {
      "text/plain": [
       "array([1, 2, 0, ..., 0, 3, 0], dtype=int32)"
      ]
     },
     "execution_count": 69,
     "metadata": {},
     "output_type": "execute_result"
    }
   ],
   "source": [
    "kmeans = KMeans(n_clusters=4)\n",
    "kmeans.fit(X)\n",
    "\n",
    "clusters = kmeans.predict(X)\n",
    "clusters"
   ]
  },
  {
   "cell_type": "code",
   "execution_count": 70,
   "id": "e2092d5b",
   "metadata": {},
   "outputs": [],
   "source": [
    "train_s['size_cluster'] = clusters\n"
   ]
  },
  {
   "cell_type": "code",
   "execution_count": 61,
   "id": "f28a37be",
   "metadata": {
    "scrolled": false
   },
   "outputs": [
    {
     "data": {
      "text/plain": [
       "<AxesSubplot:xlabel='bathroomcnt', ylabel='bedroomcnt'>"
      ]
     },
     "execution_count": 61,
     "metadata": {},
     "output_type": "execute_result"
    },
    {
     "data": {
      "image/png": "[encoded data removed]",
      "text/plain": [
       "<Figure size 720x576 with 1 Axes>"
      ]
     },
     "metadata": {
      "needs_background": "light"
     },
     "output_type": "display_data"
    }
   ],
   "source": [
    "plt.figure(figsize=(10, 8))\n",
    "sns.scatterplot(data=train_s, x='bathroomcnt', y='bedroomcnt', hue = 'size_cluster')\n"
   ]
  },
  {
   "cell_type": "code",
   "execution_count": 71,
   "id": "a1636514",
   "metadata": {},
   "outputs": [
    {
     "data": {
      "text/plain": [
       "array([[0.20636963, 0.32878897, 0.01143319],\n",
       "       [0.58584956, 0.59164349, 0.0237971 ],\n",
       "       [0.03791556, 0.20881142, 0.01000254],\n",
       "       [0.25686106, 0.52542405, 0.01271542]])"
      ]
     },
     "execution_count": 71,
     "metadata": {},
     "output_type": "execute_result"
    }
   ],
   "source": [
    "kmeans.cluster_centers_"
   ]
  },
  {
   "cell_type": "code",
   "execution_count": 72,
   "id": "7eae4c0f",
   "metadata": {},
   "outputs": [],
   "source": [
    "centroids2 = pd.DataFrame(kmeans.cluster_centers_, columns=X.columns)"
   ]
  },
  {
   "cell_type": "code",
   "execution_count": 74,
   "id": "7ae0b48b",
   "metadata": {},
   "outputs": [
    {
     "data": {
      "text/plain": [
       "Text(0.5, 1.0, 'Visualizing Cluster Centers')"
      ]
     },
     "execution_count": 74,
     "metadata": {},
     "output_type": "execute_result"
    },
    {
     "data": {
      "image/png": "[encoded data removed]",
      "text/plain": [
       "<Figure size 720x504 with 1 Axes>"
      ]
     },
     "metadata": {
      "needs_background": "light"
     },
     "output_type": "display_data"
    }
   ],
   "source": [
    "plt.figure(figsize=(10, 7))\n",
    "\n",
    "for cluster, subset in train_s.groupby('size_cluster'):\n",
    "    plt.scatter(subset.bathroomcnt, subset.bedroomcnt, label='cluster' + str(cluster), alpha=.6, s=22**2)\n",
    "\n",
    "centroids2.plot.scatter(y='bedroomcnt', x='bathroomcnt', c='black', marker='x', s=1000, ax=plt.gca(), label='centroid')\n",
    "\n",
    "\n",
    "plt.legend()\n",
    "plt.xlabel('sepal_length')\n",
    "plt.ylabel('petal_length')\n",
    "plt.title('Visualizing Cluster Centers')\n"
   ]
  },
  {
   "cell_type": "code",
   "execution_count": null,
   "id": "3e1b7e52",
   "metadata": {},
   "outputs": [],
   "source": [
    "Anova test"
   ]
  },
  {
   "cell_type": "markdown",
   "id": "50737682",
   "metadata": {},
   "source": [
    "--------------------------------"
   ]
  },
  {
   "cell_type": "markdown",
   "id": "e1ce9faf",
   "metadata": {},
   "source": [
    "### second cluster - locations- log lat "
   ]
  },
  {
   "cell_type": "code",
   "execution_count": 22,
   "id": "d5aa052b",
   "metadata": {},
   "outputs": [
    {
     "data": {
      "text/html": [
       "<div>\n",
       "<style scoped>\n",
       "    .dataframe tbody tr th:only-of-type {\n",
       "        vertical-align: middle;\n",
       "    }\n",
       "\n",
       "    .dataframe tbody tr th {\n",
       "        vertical-align: top;\n",
       "    }\n",
       "\n",
       "    .dataframe thead th {\n",
       "        text-align: right;\n",
       "    }\n",
       "</style>\n",
       "<table border=\"1\" class=\"dataframe\">\n",
       "  <thead>\n",
       "    <tr style=\"text-align: right;\">\n",
       "      <th></th>\n",
       "      <th>latitude</th>\n",
       "      <th>longitude</th>\n",
       "    </tr>\n",
       "  </thead>\n",
       "  <tbody>\n",
       "    <tr>\n",
       "      <th>34264</th>\n",
       "      <td>0.290645</td>\n",
       "      <td>0.705217</td>\n",
       "    </tr>\n",
       "    <tr>\n",
       "      <th>8237</th>\n",
       "      <td>0.477749</td>\n",
       "      <td>0.697542</td>\n",
       "    </tr>\n",
       "    <tr>\n",
       "      <th>31640</th>\n",
       "      <td>0.559977</td>\n",
       "      <td>0.271079</td>\n",
       "    </tr>\n",
       "    <tr>\n",
       "      <th>14309</th>\n",
       "      <td>0.559026</td>\n",
       "      <td>0.279767</td>\n",
       "    </tr>\n",
       "    <tr>\n",
       "      <th>50710</th>\n",
       "      <td>0.688996</td>\n",
       "      <td>0.084830</td>\n",
       "    </tr>\n",
       "  </tbody>\n",
       "</table>\n",
       "</div>"
      ],
      "text/plain": [
       "       latitude  longitude\n",
       "34264  0.290645   0.705217\n",
       "8237   0.477749   0.697542\n",
       "31640  0.559977   0.271079\n",
       "14309  0.559026   0.279767\n",
       "50710  0.688996   0.084830"
      ]
     },
     "execution_count": 22,
     "metadata": {},
     "output_type": "execute_result"
    }
   ],
   "source": [
    "L = train_s[['latitude', 'longitude']]\n",
    "L.head()"
   ]
  },
  {
   "cell_type": "code",
   "execution_count": 23,
   "id": "d8bb6a23",
   "metadata": {},
   "outputs": [
    {
     "data": {
      "text/plain": [
       "array([1, 1, 0, ..., 3, 0, 2], dtype=int32)"
      ]
     },
     "execution_count": 23,
     "metadata": {},
     "output_type": "execute_result"
    }
   ],
   "source": [
    "kmeans1 = KMeans(n_clusters=4)\n",
    "kmeans1.fit(L)\n",
    "\n",
    "clusters = kmeans1.predict(L)\n",
    "clusters"
   ]
  },
  {
   "cell_type": "code",
   "execution_count": 24,
   "id": "dd3e9a3d",
   "metadata": {},
   "outputs": [
    {
     "data": {
      "text/html": [
       "<div>\n",
       "<style scoped>\n",
       "    .dataframe tbody tr th:only-of-type {\n",
       "        vertical-align: middle;\n",
       "    }\n",
       "\n",
       "    .dataframe tbody tr th {\n",
       "        vertical-align: top;\n",
       "    }\n",
       "\n",
       "    .dataframe thead th {\n",
       "        text-align: right;\n",
       "    }\n",
       "</style>\n",
       "<table border=\"1\" class=\"dataframe\">\n",
       "  <thead>\n",
       "    <tr style=\"text-align: right;\">\n",
       "      <th></th>\n",
       "      <th>id</th>\n",
       "      <th>parcelid</th>\n",
       "      <th>bathroomcnt</th>\n",
       "      <th>bedroomcnt</th>\n",
       "      <th>fips</th>\n",
       "      <th>latitude</th>\n",
       "      <th>longitude</th>\n",
       "      <th>lotsizesquarefeet</th>\n",
       "      <th>propertycountylandusecode</th>\n",
       "      <th>propertylandusetypeid</th>\n",
       "      <th>...</th>\n",
       "      <th>County</th>\n",
       "      <th>age</th>\n",
       "      <th>age_bin</th>\n",
       "      <th>acres</th>\n",
       "      <th>acres_bin</th>\n",
       "      <th>LA</th>\n",
       "      <th>Orange</th>\n",
       "      <th>Ventura</th>\n",
       "      <th>size_cluster</th>\n",
       "      <th>location_cluster</th>\n",
       "    </tr>\n",
       "  </thead>\n",
       "  <tbody>\n",
       "    <tr>\n",
       "      <th>34264</th>\n",
       "      <td>2036202</td>\n",
       "      <td>12529787</td>\n",
       "      <td>0.500000</td>\n",
       "      <td>0.500000</td>\n",
       "      <td>6037.0</td>\n",
       "      <td>0.290645</td>\n",
       "      <td>0.705217</td>\n",
       "      <td>0.008265</td>\n",
       "      <td>0101</td>\n",
       "      <td>261.0</td>\n",
       "      <td>...</td>\n",
       "      <td>Los Angeles County</td>\n",
       "      <td>52.0</td>\n",
       "      <td>0.400</td>\n",
       "      <td>0.150826</td>\n",
       "      <td>0.2</td>\n",
       "      <td>1</td>\n",
       "      <td>0</td>\n",
       "      <td>0</td>\n",
       "      <td>3</td>\n",
       "      <td>1</td>\n",
       "    </tr>\n",
       "    <tr>\n",
       "      <th>8237</th>\n",
       "      <td>2883002</td>\n",
       "      <td>11848044</td>\n",
       "      <td>0.166667</td>\n",
       "      <td>0.166667</td>\n",
       "      <td>6037.0</td>\n",
       "      <td>0.477749</td>\n",
       "      <td>0.697542</td>\n",
       "      <td>0.014113</td>\n",
       "      <td>0101</td>\n",
       "      <td>261.0</td>\n",
       "      <td>...</td>\n",
       "      <td>Los Angeles County</td>\n",
       "      <td>65.0</td>\n",
       "      <td>0.466</td>\n",
       "      <td>0.253696</td>\n",
       "      <td>0.3</td>\n",
       "      <td>1</td>\n",
       "      <td>0</td>\n",
       "      <td>0</td>\n",
       "      <td>2</td>\n",
       "      <td>1</td>\n",
       "    </tr>\n",
       "    <tr>\n",
       "      <th>31640</th>\n",
       "      <td>2759592</td>\n",
       "      <td>17271234</td>\n",
       "      <td>0.166667</td>\n",
       "      <td>0.333333</td>\n",
       "      <td>6111.0</td>\n",
       "      <td>0.559977</td>\n",
       "      <td>0.271079</td>\n",
       "      <td>0.019604</td>\n",
       "      <td>1111</td>\n",
       "      <td>261.0</td>\n",
       "      <td>...</td>\n",
       "      <td>Ventura County</td>\n",
       "      <td>33.0</td>\n",
       "      <td>0.266</td>\n",
       "      <td>0.350298</td>\n",
       "      <td>0.3</td>\n",
       "      <td>0</td>\n",
       "      <td>0</td>\n",
       "      <td>1</td>\n",
       "      <td>0</td>\n",
       "      <td>0</td>\n",
       "    </tr>\n",
       "    <tr>\n",
       "      <th>14309</th>\n",
       "      <td>1044874</td>\n",
       "      <td>17266806</td>\n",
       "      <td>0.166667</td>\n",
       "      <td>0.333333</td>\n",
       "      <td>6111.0</td>\n",
       "      <td>0.559026</td>\n",
       "      <td>0.279767</td>\n",
       "      <td>0.009377</td>\n",
       "      <td>1111</td>\n",
       "      <td>261.0</td>\n",
       "      <td>...</td>\n",
       "      <td>Ventura County</td>\n",
       "      <td>46.0</td>\n",
       "      <td>0.333</td>\n",
       "      <td>0.170386</td>\n",
       "      <td>0.2</td>\n",
       "      <td>0</td>\n",
       "      <td>0</td>\n",
       "      <td>1</td>\n",
       "      <td>0</td>\n",
       "      <td>0</td>\n",
       "    </tr>\n",
       "    <tr>\n",
       "      <th>50710</th>\n",
       "      <td>2848400</td>\n",
       "      <td>17068575</td>\n",
       "      <td>0.500000</td>\n",
       "      <td>0.333333</td>\n",
       "      <td>6111.0</td>\n",
       "      <td>0.688996</td>\n",
       "      <td>0.084830</td>\n",
       "      <td>0.212281</td>\n",
       "      <td>1110</td>\n",
       "      <td>261.0</td>\n",
       "      <td>...</td>\n",
       "      <td>Ventura County</td>\n",
       "      <td>28.0</td>\n",
       "      <td>0.200</td>\n",
       "      <td>3.739991</td>\n",
       "      <td>0.5</td>\n",
       "      <td>0</td>\n",
       "      <td>0</td>\n",
       "      <td>1</td>\n",
       "      <td>3</td>\n",
       "      <td>0</td>\n",
       "    </tr>\n",
       "  </tbody>\n",
       "</table>\n",
       "<p>5 rows × 28 columns</p>\n",
       "</div>"
      ],
      "text/plain": [
       "            id  parcelid  bathroomcnt  bedroomcnt    fips  latitude  \\\n",
       "34264  2036202  12529787     0.500000    0.500000  6037.0  0.290645   \n",
       "8237   2883002  11848044     0.166667    0.166667  6037.0  0.477749   \n",
       "31640  2759592  17271234     0.166667    0.333333  6111.0  0.559977   \n",
       "14309  1044874  17266806     0.166667    0.333333  6111.0  0.559026   \n",
       "50710  2848400  17068575     0.500000    0.333333  6111.0  0.688996   \n",
       "\n",
       "       longitude  lotsizesquarefeet propertycountylandusecode  \\\n",
       "34264   0.705217           0.008265                      0101   \n",
       "8237    0.697542           0.014113                      0101   \n",
       "31640   0.271079           0.019604                      1111   \n",
       "14309   0.279767           0.009377                      1111   \n",
       "50710   0.084830           0.212281                      1110   \n",
       "\n",
       "       propertylandusetypeid  ...              County   age  age_bin  \\\n",
       "34264                  261.0  ...  Los Angeles County  52.0    0.400   \n",
       "8237                   261.0  ...  Los Angeles County  65.0    0.466   \n",
       "31640                  261.0  ...      Ventura County  33.0    0.266   \n",
       "14309                  261.0  ...      Ventura County  46.0    0.333   \n",
       "50710                  261.0  ...      Ventura County  28.0    0.200   \n",
       "\n",
       "          acres  acres_bin  LA Orange Ventura size_cluster  location_cluster  \n",
       "34264  0.150826        0.2   1      0       0            3                 1  \n",
       "8237   0.253696        0.3   1      0       0            2                 1  \n",
       "31640  0.350298        0.3   0      0       1            0                 0  \n",
       "14309  0.170386        0.2   0      0       1            0                 0  \n",
       "50710  3.739991        0.5   0      0       1            3                 0  \n",
       "\n",
       "[5 rows x 28 columns]"
      ]
     },
     "execution_count": 24,
     "metadata": {},
     "output_type": "execute_result"
    }
   ],
   "source": [
    "train_s['location_cluster'] = clusters\n",
    "train_s.head()"
   ]
  },
  {
   "cell_type": "code",
   "execution_count": 25,
   "id": "4255702a",
   "metadata": {},
   "outputs": [
    {
     "data": {
      "text/plain": [
       "array([[0.60670378, 0.41710912],\n",
       "       [0.43695788, 0.69066387],\n",
       "       [0.23868241, 0.86602011],\n",
       "       [0.86706856, 0.700474  ]])"
      ]
     },
     "execution_count": 25,
     "metadata": {},
     "output_type": "execute_result"
    }
   ],
   "source": [
    "kmeans1.cluster_centers_\n"
   ]
  },
  {
   "cell_type": "code",
   "execution_count": 26,
   "id": "cd0b1497",
   "metadata": {},
   "outputs": [],
   "source": [
    "centroids = pd.DataFrame(kmeans1.cluster_centers_, columns=L.columns)\n"
   ]
  },
  {
   "cell_type": "code",
   "execution_count": 27,
   "id": "9a638cf7",
   "metadata": {},
   "outputs": [
    {
     "data": {
      "text/plain": [
       "Text(0.5, 1.0, 'Visualizing Cluster Centers')"
      ]
     },
     "execution_count": 27,
     "metadata": {},
     "output_type": "execute_result"
    },
    {
     "data": {
      "image/png": "[encoded data removed]",
      "text/plain": [
       "<Figure size 1008x648 with 1 Axes>"
      ]
     },
     "metadata": {
      "needs_background": "light"
     },
     "output_type": "display_data"
    }
   ],
   "source": [
    "plt.figure(figsize=(14, 9))\n",
    "\n",
    "for cluster, subset in train_s.groupby('location_cluster'):\n",
    "    plt.scatter(subset.latitude, subset.longitude, label='cluster ' + str(cluster), alpha=.6)\n",
    "\n",
    "centroids.plot.scatter(y='longitude', x='latitude', c='black', marker='x', s=1000, ax=plt.gca(), label='centroid')\n",
    "\n",
    "\n",
    "plt.legend()\n",
    "plt.xlabel('sepal_length')\n",
    "plt.ylabel('petal_length')\n",
    "plt.title('Visualizing Cluster Centers')\n"
   ]
  },
  {
   "cell_type": "code",
   "execution_count": null,
   "id": "97b862a8",
   "metadata": {},
   "outputs": [],
   "source": [
    "anova test"
   ]
  },
  {
   "cell_type": "markdown",
   "id": "e5dfcb44",
   "metadata": {},
   "source": [
    "-----------------------"
   ]
  },
  {
   "cell_type": "markdown",
   "id": "3d63405a",
   "metadata": {},
   "source": [
    "## third custer -size and age cluster -  age  and lotsize "
   ]
  },
  {
   "cell_type": "code",
   "execution_count": 34,
   "id": "9ecca3c4",
   "metadata": {},
   "outputs": [],
   "source": [
    "A = train_s[['lotsizesquarefeet', 'age']]\n"
   ]
  },
  {
   "cell_type": "code",
   "execution_count": 29,
   "id": "93cc150e",
   "metadata": {},
   "outputs": [
    {
     "data": {
      "text/plain": [
       "array([0, 3, 2, ..., 3, 2, 2], dtype=int32)"
      ]
     },
     "execution_count": 29,
     "metadata": {},
     "output_type": "execute_result"
    }
   ],
   "source": [
    "kmeans2 = KMeans(n_clusters=4)\n",
    "kmeans2.fit(A)\n",
    "\n",
    "clusters = kmeans2.predict(A)\n",
    "clusters"
   ]
  },
  {
   "cell_type": "code",
   "execution_count": 30,
   "id": "daf124f1",
   "metadata": {},
   "outputs": [],
   "source": [
    "train_s['age_size'] = clusters"
   ]
  },
  {
   "cell_type": "code",
   "execution_count": 31,
   "id": "f9b76ecf",
   "metadata": {},
   "outputs": [
    {
     "data": {
      "text/plain": [
       "array([[1.24997980e-02, 4.72437579e+01],\n",
       "       [9.13957851e-03, 9.33958084e+01],\n",
       "       [1.60035188e-02, 2.11845292e+01],\n",
       "       [1.15769239e-02, 6.54851687e+01]])"
      ]
     },
     "execution_count": 31,
     "metadata": {},
     "output_type": "execute_result"
    }
   ],
   "source": [
    "kmeans2.cluster_centers_"
   ]
  },
  {
   "cell_type": "code",
   "execution_count": 32,
   "id": "d474e316",
   "metadata": {},
   "outputs": [],
   "source": [
    "centroids2 = pd.DataFrame(kmeans2.cluster_centers_, columns=A.columns)\n"
   ]
  },
  {
   "cell_type": "code",
   "execution_count": 33,
   "id": "71bdc0c3",
   "metadata": {},
   "outputs": [
    {
     "data": {
      "text/plain": [
       "Text(0.5, 1.0, 'Visualizing Cluster Centers')"
      ]
     },
     "execution_count": 33,
     "metadata": {},
     "output_type": "execute_result"
    },
    {
     "data": {
      "image/png": "[encoded data removed]",
      "text/plain": [
       "<Figure size 1008x648 with 1 Axes>"
      ]
     },
     "metadata": {
      "needs_background": "light"
     },
     "output_type": "display_data"
    }
   ],
   "source": [
    "plt.figure(figsize=(14, 9))\n",
    "\n",
    "for cluster, subset in train_s.groupby('age_size'):\n",
    "    plt.scatter(subset.lotsizesquarefeet, subset.age, label='cluster ' + str(cluster), alpha=.6)\n",
    "\n",
    "centroids2.plot.scatter(y='age', x='lotsizesquarefeet', c='black', marker='x', s=1000, ax=plt.gca(), label='centroid')\n",
    "\n",
    "\n",
    "plt.legend()\n",
    "plt.xlabel('sepal_length')\n",
    "plt.ylabel('petal_length')\n",
    "plt.title('Visualizing Cluster Centers')"
   ]
  },
  {
   "cell_type": "code",
   "execution_count": null,
   "id": "86a0e31b",
   "metadata": {},
   "outputs": [],
   "source": [
    "Anova test"
   ]
  },
  {
   "cell_type": "markdown",
   "id": "f8921dae",
   "metadata": {},
   "source": [
    "## Feature Engennering Using select k best to find the best fetures for modeling"
   ]
  },
  {
   "cell_type": "code",
   "execution_count": 35,
   "id": "9a2de309",
   "metadata": {},
   "outputs": [],
   "source": [
    "X_train = train_s[['bathroomcnt','bedroomcnt','latitude', 'longitude','lotsizesquarefeet', 'age','acres','LA','Orange','Ventura']]\n",
    "y_train = pd.DataFrame(train[['logerror']])\n",
    "\n",
    "\n",
    "X_validate = valid_s[['bathroomcnt','bedroomcnt','latitude', 'longitude','lotsizesquarefeet', 'age','acres','LA','Orange','Ventura']]\n",
    "y_validate = pd.DataFrame(validate[['logerror']])\n",
    "\n",
    "\n",
    "X_test = test_s[['bathroomcnt','bedroomcnt','latitude', 'longitude','lotsizesquarefeet', 'age','acres','LA','Orange','Ventura']]\n",
    "y_test = pd.DataFrame(test[['logerror']])"
   ]
  },
  {
   "cell_type": "code",
   "execution_count": 36,
   "id": "9fee2335",
   "metadata": {},
   "outputs": [
    {
     "data": {
      "text/plain": [
       "SelectKBest(k=6, score_func=<function f_regression at 0x134bbc4c0>)"
      ]
     },
     "execution_count": 36,
     "metadata": {},
     "output_type": "execute_result"
    }
   ],
   "source": [
    "kbest = SelectKBest(f_regression, k=6)\n",
    "kbest.fit(X_train, y_train)"
   ]
  },
  {
   "cell_type": "code",
   "execution_count": 37,
   "id": "ad25ad56",
   "metadata": {},
   "outputs": [
    {
     "data": {
      "text/html": [
       "<div>\n",
       "<style scoped>\n",
       "    .dataframe tbody tr th:only-of-type {\n",
       "        vertical-align: middle;\n",
       "    }\n",
       "\n",
       "    .dataframe tbody tr th {\n",
       "        vertical-align: top;\n",
       "    }\n",
       "\n",
       "    .dataframe thead th {\n",
       "        text-align: right;\n",
       "    }\n",
       "</style>\n",
       "<table border=\"1\" class=\"dataframe\">\n",
       "  <thead>\n",
       "    <tr style=\"text-align: right;\">\n",
       "      <th></th>\n",
       "      <th>p</th>\n",
       "      <th>f</th>\n",
       "    </tr>\n",
       "  </thead>\n",
       "  <tbody>\n",
       "    <tr>\n",
       "      <th>bathroomcnt</th>\n",
       "      <td>5.195997e-09</td>\n",
       "      <td>34.135166</td>\n",
       "    </tr>\n",
       "    <tr>\n",
       "      <th>bedroomcnt</th>\n",
       "      <td>2.730687e-08</td>\n",
       "      <td>30.906959</td>\n",
       "    </tr>\n",
       "    <tr>\n",
       "      <th>latitude</th>\n",
       "      <td>9.085502e-05</td>\n",
       "      <td>15.322118</td>\n",
       "    </tr>\n",
       "    <tr>\n",
       "      <th>longitude</th>\n",
       "      <td>6.072144e-05</td>\n",
       "      <td>16.084730</td>\n",
       "    </tr>\n",
       "    <tr>\n",
       "      <th>lotsizesquarefeet</th>\n",
       "      <td>1.800570e-01</td>\n",
       "      <td>1.797240</td>\n",
       "    </tr>\n",
       "    <tr>\n",
       "      <th>age</th>\n",
       "      <td>1.547987e-03</td>\n",
       "      <td>10.022500</td>\n",
       "    </tr>\n",
       "    <tr>\n",
       "      <th>acres</th>\n",
       "      <td>1.800570e-01</td>\n",
       "      <td>1.797240</td>\n",
       "    </tr>\n",
       "    <tr>\n",
       "      <th>LA</th>\n",
       "      <td>3.367811e-04</td>\n",
       "      <td>12.856932</td>\n",
       "    </tr>\n",
       "    <tr>\n",
       "      <th>Orange</th>\n",
       "      <td>3.788513e-06</td>\n",
       "      <td>21.377186</td>\n",
       "    </tr>\n",
       "    <tr>\n",
       "      <th>Ventura</th>\n",
       "      <td>2.216195e-01</td>\n",
       "      <td>1.493918</td>\n",
       "    </tr>\n",
       "  </tbody>\n",
       "</table>\n",
       "</div>"
      ],
      "text/plain": [
       "                              p          f\n",
       "bathroomcnt        5.195997e-09  34.135166\n",
       "bedroomcnt         2.730687e-08  30.906959\n",
       "latitude           9.085502e-05  15.322118\n",
       "longitude          6.072144e-05  16.084730\n",
       "lotsizesquarefeet  1.800570e-01   1.797240\n",
       "age                1.547987e-03  10.022500\n",
       "acres              1.800570e-01   1.797240\n",
       "LA                 3.367811e-04  12.856932\n",
       "Orange             3.788513e-06  21.377186\n",
       "Ventura            2.216195e-01   1.493918"
      ]
     },
     "execution_count": 37,
     "metadata": {},
     "output_type": "execute_result"
    }
   ],
   "source": [
    "kbest_results = pd.DataFrame(dict(p=kbest.pvalues_, f=kbest.scores_), index=X_train.columns)\n",
    "kbest_results"
   ]
  },
  {
   "cell_type": "code",
   "execution_count": 38,
   "id": "8e6d75e0",
   "metadata": {},
   "outputs": [
    {
     "data": {
      "text/plain": [
       "Index(['bathroomcnt', 'bedroomcnt', 'latitude', 'longitude', 'LA', 'Orange'], dtype='object')"
      ]
     },
     "execution_count": 38,
     "metadata": {},
     "output_type": "execute_result"
    }
   ],
   "source": [
    "X_train.columns[kbest.get_support()]"
   ]
  },
  {
   "cell_type": "code",
   "execution_count": null,
   "id": "7ef16e5b",
   "metadata": {},
   "outputs": [],
   "source": []
  },
  {
   "cell_type": "code",
   "execution_count": null,
   "id": "8b06dac6",
   "metadata": {},
   "outputs": [],
   "source": []
  },
  {
   "cell_type": "markdown",
   "id": "147679a2",
   "metadata": {},
   "source": [
    "## Modeling"
   ]
  },
  {
   "cell_type": "code",
   "execution_count": 39,
   "id": "354a2227",
   "metadata": {},
   "outputs": [],
   "source": [
    "X_train = train_s[['bathroomcnt','bedroomcnt','latitude', 'longitude']]\n",
    "y_train = pd.DataFrame(train[['logerror']])\n",
    "\n",
    "\n",
    "X_validate = valid_s[['bathroomcnt','bedroomcnt','latitude', 'longitude']]\n",
    "y_validate = pd.DataFrame(validate[['logerror']])\n",
    "\n",
    "\n",
    "X_test = test_s[['bathroomcnt','bedroomcnt','latitude', 'longitude']]\n",
    "y_test = pd.DataFrame(test[['logerror']])"
   ]
  },
  {
   "cell_type": "code",
   "execution_count": 40,
   "id": "7fe056ea",
   "metadata": {},
   "outputs": [
    {
     "name": "stdout",
     "output_type": "stream",
     "text": [
      "Train baseline RMSE: 0.17902282261997393.\n",
      "Validation baseline RMSE: 0.16293244362415202.\n"
     ]
    }
   ],
   "source": [
    "from math import sqrt\n",
    "from sklearn.metrics import mean_squared_error\n",
    "#Establish baselines for the train and validation subsets\n",
    "baseline = train.logerror.mean()\n",
    "\n",
    "train['baseline'] = baseline\n",
    "validate['baseline'] = baseline\n",
    "\n",
    "train_rmse = sqrt(mean_squared_error(train.logerror, train.baseline))\n",
    "valid_rmse = sqrt(mean_squared_error(validate.logerror, validate.baseline))\n",
    "\n",
    "print('Train baseline RMSE: {}.'.format(train_rmse))\n",
    "print('Validation baseline RMSE: {}.'.format(valid_rmse))"
   ]
  },
  {
   "cell_type": "code",
   "execution_count": null,
   "id": "ca1e1604",
   "metadata": {},
   "outputs": [],
   "source": []
  },
  {
   "cell_type": "markdown",
   "id": "0b49b1d1",
   "metadata": {},
   "source": [
    "OLS"
   ]
  },
  {
   "cell_type": "code",
   "execution_count": 41,
   "id": "be664058",
   "metadata": {},
   "outputs": [
    {
     "name": "stdout",
     "output_type": "stream",
     "text": [
      "RMSE for OLS using LinearRegression\n",
      "Training/In-Sample:  0.1788394195711862 \n",
      "Validation/Out-of-Sample:  0.162695056693868\n"
     ]
    }
   ],
   "source": [
    "# create the model object\n",
    "lm = LinearRegression(normalize=True)\n",
    "\n",
    "# fit the model to our training data. We must specify the column in y_train, \n",
    "# since we have converted it to a dataframe from a series! \n",
    "lm.fit(X_train, y_train['logerror'])\n",
    "\n",
    "# predict train\n",
    "y_train['logerror_pred_lm'] = lm.predict(X_train)\n",
    "\n",
    "# evaluate: rmse\n",
    "rmse_train = mean_squared_error(y_train['logerror'], y_train.logerror_pred_lm)**(1/2)\n",
    "\n",
    "# predict validate\n",
    "y_validate['logerror_pred_lm'] = lm.predict(X_validate)\n",
    "\n",
    "# evaluate: rmse\n",
    "rmse_validate = mean_squared_error(y_validate['logerror'], y_validate.logerror_pred_lm)**(1/2)\n",
    "\n",
    "print(\"RMSE for OLS using LinearRegression\\nTraining/In-Sample: \", rmse_train, \n",
    "      \"\\nValidation/Out-of-Sample: \", rmse_validate)"
   ]
  },
  {
   "cell_type": "markdown",
   "id": "670e2949",
   "metadata": {},
   "source": [
    "Lasso lars"
   ]
  },
  {
   "cell_type": "code",
   "execution_count": 42,
   "id": "e1491921",
   "metadata": {},
   "outputs": [
    {
     "name": "stdout",
     "output_type": "stream",
     "text": [
      "RMSE for Lasso + Lars\n",
      "Training/In-Sample:  0.17902282261997393 \n",
      "Validation/Out-of-Sample:  0.16293244362415202\n"
     ]
    }
   ],
   "source": [
    "# create the model object\n",
    "lars = LassoLars(alpha=1.0)\n",
    "\n",
    "# fit the model to our training data. We must specify the column in y_train, \n",
    "# since we have converted it to a dataframe from a series! \n",
    "lars.fit(X_train, y_train['logerror'])\n",
    "\n",
    "# predict train\n",
    "y_train['logerror_pred_lars'] = lars.predict(X_train)\n",
    "\n",
    "# evaluate: rmse\n",
    "rmse_train = mean_squared_error(y_train['logerror'], y_train.logerror_pred_lars)**(1/2)\n",
    "\n",
    "# predict validate\n",
    "y_validate['logerror_pred_lars'] = lars.predict(X_validate)\n",
    "\n",
    "# evaluate: rmse\n",
    "rmse_validate = mean_squared_error(y_validate['logerror'], y_validate.logerror_pred_lars)**(1/2)\n",
    "\n",
    "print(\"RMSE for Lasso + Lars\\nTraining/In-Sample: \", rmse_train, \n",
    "      \"\\nValidation/Out-of-Sample: \", rmse_validate)"
   ]
  },
  {
   "cell_type": "markdown",
   "id": "cad673eb",
   "metadata": {},
   "source": [
    "Polynomial "
   ]
  },
  {
   "cell_type": "code",
   "execution_count": 43,
   "id": "07367c7b",
   "metadata": {},
   "outputs": [],
   "source": [
    "# make the polynomial features to get a new set of features\n",
    "pf = PolynomialFeatures(degree=2)\n",
    "\n",
    "# fit and transform X_train_scaled\n",
    "X_train_degree2 = pf.fit_transform(X_train)\n",
    "\n",
    "# transform X_validate_scaled & X_test_scaled\n",
    "X_validate_degree2 = pf.transform(X_validate)\n",
    "X_test_degree2 = pf.transform(X_test)"
   ]
  },
  {
   "cell_type": "code",
   "execution_count": 44,
   "id": "fef9523d",
   "metadata": {},
   "outputs": [
    {
     "name": "stdout",
     "output_type": "stream",
     "text": [
      "RMSE for Polynomial Model, degrees=2\n",
      "Training/In-Sample:  0.17878117616995837 \n",
      "Validation/Out-of-Sample:  0.16267885857439796\n"
     ]
    }
   ],
   "source": [
    "# create the model object\n",
    "lm2 = LinearRegression(normalize=True)\n",
    "\n",
    "# fit the model to our training data. We must specify the column in y_train, \n",
    "# since we have converted it to a dataframe from a series! \n",
    "lm2.fit(X_train_degree2, y_train['logerror'])\n",
    "\n",
    "# predict train\n",
    "y_train['logerror_pred_lm2'] = lm2.predict(X_train_degree2)\n",
    "\n",
    "# evaluate: rmse\n",
    "rmse_train = mean_squared_error(y_train['logerror'], y_train.logerror_pred_lm2)**(1/2)\n",
    "\n",
    "# predict validate\n",
    "y_validate['logerror_pred_lm2'] = lm2.predict(X_validate_degree2)\n",
    "\n",
    "# evaluate: rmse\n",
    "rmse_validate = mean_squared_error(y_validate['logerror'], y_validate.logerror_pred_lm2)**(1/2)\n",
    "\n",
    "print(\"RMSE for Polynomial Model, degrees=2\\nTraining/In-Sample: \", rmse_train, \n",
    "      \"\\nValidation/Out-of-Sample: \", rmse_validate)"
   ]
  },
  {
   "cell_type": "code",
   "execution_count": null,
   "id": "d19aa42d",
   "metadata": {},
   "outputs": [],
   "source": []
  },
  {
   "cell_type": "code",
   "execution_count": 45,
   "id": "9ecfd7eb",
   "metadata": {},
   "outputs": [
    {
     "data": {
      "image/png": "[encoded data removed]",
      "text/plain": [
       "<Figure size 1152x720 with 1 Axes>"
      ]
     },
     "metadata": {
      "needs_background": "light"
     },
     "output_type": "display_data"
    }
   ],
   "source": [
    "# plot to visualize actual vs predicted. \n",
    "plt.figure(figsize=(16,10))\n",
    "plt.hist(y_validate.logerror, color='blue', alpha=.5, label=\"Actual taxvaluedollarcnt\")\n",
    "plt.hist(y_validate.logerror_pred_lm, color='black', alpha=.5, label=\"Model: LinearRegression\")\n",
    "#plt.hist(y_validate.tax_pred_glm, color='yellow', alpha=.5, label=\"Model: TweedieRegressor\")\n",
    "plt.hist(y_validate.logerror_pred_lm2, color='green', alpha=.5, label=\"Model 2nd degree Polynomial\")\n",
    "plt.hist(y_validate.logerror_pred_lars, color='orange', alpha=.5, label=\"lassoLars\")\n",
    "plt.xlabel(\"Final Grade (G3)\")\n",
    "plt.ylabel(\"Number of Students\")\n",
    "plt.title(\"Comparing the Distribution of Actual Grades to Distributions of Predicted Grades for the Top Models\")\n",
    "plt.legend()\n",
    "plt.show()"
   ]
  },
  {
   "cell_type": "code",
   "execution_count": null,
   "id": "4c295643",
   "metadata": {},
   "outputs": [],
   "source": []
  },
  {
   "cell_type": "code",
   "execution_count": null,
   "id": "98b59f6c",
   "metadata": {},
   "outputs": [],
   "source": []
  },
  {
   "cell_type": "markdown",
   "id": "5f120760",
   "metadata": {},
   "source": [
    "# Conclusion"
   ]
  },
  {
   "cell_type": "code",
   "execution_count": null,
   "id": "4c13b0fb",
   "metadata": {},
   "outputs": [],
   "source": []
  },
  {
   "cell_type": "code",
   "execution_count": null,
   "id": "fecb2973",
   "metadata": {},
   "outputs": [],
   "source": []
  },
  {
   "cell_type": "markdown",
   "id": "001fbb74",
   "metadata": {},
   "source": [
    "## Recomendations"
   ]
  },
  {
   "cell_type": "code",
   "execution_count": null,
   "id": "b619de2b",
   "metadata": {},
   "outputs": [],
   "source": []
  },
  {
   "cell_type": "code",
   "execution_count": null,
   "id": "3ae69743",
   "metadata": {},
   "outputs": [],
   "source": []
  },
  {
   "cell_type": "markdown",
   "id": "8f38254b",
   "metadata": {},
   "source": [
    "## Next Steps"
   ]
  },
  {
   "cell_type": "code",
   "execution_count": null,
   "id": "9799ae29",
   "metadata": {},
   "outputs": [],
   "source": []
  }
 ],
 "metadata": {
  "kernelspec": {
   "display_name": "Python 3 (ipykernel)",
   "language": "python",
   "name": "python3"
  },
  "language_info": {
   "codemirror_mode": {
    "name": "ipython",
    "version": 3
   },
   "file_extension": ".py",
   "mimetype": "text/x-python",
   "name": "python",
   "nbconvert_exporter": "python",
   "pygments_lexer": "ipython3",
   "version": "3.9.12"
  }
 },
 "nbformat": 4,
 "nbformat_minor": 5
}
